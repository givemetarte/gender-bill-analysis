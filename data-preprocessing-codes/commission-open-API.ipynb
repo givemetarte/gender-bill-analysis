{
 "cells": [
  {
   "cell_type": "code",
   "execution_count": 71,
   "metadata": {},
   "outputs": [],
   "source": [
    "import pandas as pd\n",
    "from bs4 import BeautifulSoup\n",
    "import requests\n",
    "from tqdm import tqdm\n",
    "import numpy as np\n",
    "\n",
    "def get_committee(bill_df):\n",
    "    bill_id_list = bill_df['의안 ID'].to_list()\n",
    "    committeelist = []\n",
    "    key = 'X8D3ieWlnaETG%2F8ao7onl%2FJ6safe1VHOT8dnqbiBW%2BrHTqj7uFAtJKpcSJ0XHli3SbGa0clTNkcne8G0xFWXWg%3D%3D'\n",
    "    for bill_id in tqdm(bill_id_list): \n",
    "        open_api = f\"http://apis.data.go.kr/9710000/BillInfoService2/getBillCommissionExaminationInfo?serviceKey={key}&bill_id={bill_id}\"\n",
    "\n",
    "        res = requests.get(open_api)\n",
    "        soup = BeautifulSoup(res.content, 'html.parser')\n",
    "\n",
    "        try: \n",
    "            committeename = soup.find('committeename').get_text()\n",
    "            committeelist.append(committeename)\n",
    "            # print('committeename')\n",
    "        except: \n",
    "            committeelist.append('-')\n",
    "            # print('-')\n",
    "\n",
    "    bill_df['소관위원회'] = committeelist   \n",
    "    return bill_df"
   ]
  },
  {
   "cell_type": "markdown",
   "metadata": {},
   "source": [
    "## 1. 14대 법률안\n",
    "\n",
    "- 13대 법률안에는 소관위원회 데이터가 없음."
   ]
  },
  {
   "cell_type": "code",
   "execution_count": 48,
   "metadata": {},
   "outputs": [
    {
     "name": "stderr",
     "output_type": "stream",
     "text": [
      "100%|██████████| 902/902 [07:58<00:00,  1.89it/s]\n"
     ]
    }
   ],
   "source": [
    "bill_df = pd.read_csv('/Users/harampark/Documents/research/gender-bill-analysis/data/14th-lawbill-list-hanja2hangul.csv', index_col=0, encoding='utf-8')\n",
    "\n",
    "comm_list = get_committee(bill_df)"
   ]
  },
  {
   "cell_type": "code",
   "execution_count": 49,
   "metadata": {},
   "outputs": [],
   "source": [
    "bill_df['소관위원회'] = comm_list"
   ]
  },
  {
   "cell_type": "code",
   "execution_count": 53,
   "metadata": {},
   "outputs": [],
   "source": [
    "bill_df.to_csv('14th-lawbill-list-hanja2hangul.csv', encoding='utf-8-sig')"
   ]
  },
  {
   "cell_type": "code",
   "execution_count": null,
   "metadata": {},
   "outputs": [],
   "source": []
  },
  {
   "cell_type": "markdown",
   "metadata": {},
   "source": [
    "## 3. 17-19대 법률안\n",
    "\n",
    "- 17대부터 제대로 된 bill_id가 존재함"
   ]
  },
  {
   "cell_type": "code",
   "execution_count": null,
   "metadata": {
    "scrolled": true
   },
   "outputs": [
    {
     "name": "stderr",
     "output_type": "stream",
     "text": [
      "<ipython-input-74-bc211420065b>:1: DeprecationWarning: 'U' mode is deprecated\n",
      "  bill_df = pd.read_csv(open('/Users/harampark/Documents/research/gender-bill-analysis/data/18th-lawbill-list.csv', 'rU'), index_col=0, encoding='utf-8')\n",
      "100%|█████████▉| 14030/14063 [2:16:37<00:15,  2.15it/s]  "
     ]
    }
   ],
   "source": [
    "bill_df = pd.read_csv(open('/Users/harampark/Documents/research/gender-bill-analysis/data/18th-lawbill-list.csv', 'rU'), index_col=0, encoding='utf-8')\n",
    "bill_df = get_committee(bill_df)\n",
    "bill_df.to_csv('18th-lawbill-list.csv', encoding='utf-8-sig')\n",
    "\n"
   ]
  },
  {
   "cell_type": "code",
   "execution_count": null,
   "metadata": {},
   "outputs": [],
   "source": []
  }
 ],
 "metadata": {
  "kernelspec": {
   "display_name": "Python 3",
   "language": "python",
   "name": "python3"
  },
  "language_info": {
   "codemirror_mode": {
    "name": "ipython",
    "version": 3
   },
   "file_extension": ".py",
   "mimetype": "text/x-python",
   "name": "python",
   "nbconvert_exporter": "python",
   "pygments_lexer": "ipython3",
   "version": "3.8.5"
  }
 },
 "nbformat": 4,
 "nbformat_minor": 4
}
