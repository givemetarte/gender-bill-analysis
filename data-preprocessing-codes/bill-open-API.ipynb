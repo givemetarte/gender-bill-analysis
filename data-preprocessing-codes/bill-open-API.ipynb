{
 "cells": [
  {
   "cell_type": "code",
   "execution_count": 43,
   "metadata": {},
   "outputs": [],
   "source": [
    "import pandas as pd\n",
    "from bs4 import BeautifulSoup\n",
    "import requests\n",
    "from tqdm import tqdm\n",
    "import numpy as np\n",
    "\n",
    "def get_bill(page_num, start_propose_date, end_propose_date): \n",
    "    billid = []\n",
    "    billname = []\n",
    "    billno = []\n",
    "    generalresult = []\n",
    "    passgubn = []\n",
    "    procdt = []\n",
    "    procstagecd = []\n",
    "    proposedt = []\n",
    "    proposerkind = []\n",
    "    summary = []\n",
    "    \n",
    "    key = 'X8D3ieWlnaETG%2F8ao7onl%2FJ6safe1VHOT8dnqbiBW%2BrHTqj7uFAtJKpcSJ0XHli3SbGa0clTNkcne8G0xFWXWg%3D%3D'\n",
    "    for n in tqdm(range(1, page_num+1), desc='Page No.'): \n",
    "        open_api = \"http://apis.data.go.kr/9710000/BillInfoService2/getBillInfoList?serviceKey=\" + key + \\\n",
    "                   f\"&pageNo={n}\" + f\"&numOfRows=1000&mem_name_check=&mem_name=&hj_nm=&ord=&start_ord=&end_ord=&process_num=-&start_process_num=-&end_process_num=-&propose_num=-&start_propose_num=-&end_propose_num=-&start_propose_date={start_propose_date}&end_propose_date={end_propose_date}&start_committee_dt=&end_committee_dt=&bill_kind_cd=B04&curr_committee=&proposer_kind_cd=&p_proc_result_cd=&b_proc_result_cd=&bill_name=&gbn=&amendmentyn=&budget=&\"\n",
    "\n",
    "        res = requests.get(open_api)\n",
    "        soup = BeautifulSoup(res.content, 'html.parser')\n",
    "        items = soup.find_all('item')\n",
    "        # print('의안 수:', len(items))\n",
    "        for item in tqdm(items):\n",
    "            billid.append(item.find('billid').text)\n",
    "            billname.append(item.find('billname').text)\n",
    "            billno.append(item.find('billno').text)\n",
    "            try: \n",
    "                generalresult.append(item.find('generalresult').text)\n",
    "            except:\n",
    "                generalresult.append('-')\n",
    "            try: \n",
    "                passgubn.append(item.find('passgubn').text)\n",
    "            except: \n",
    "                passgubn.append('-')\n",
    "            try: \n",
    "                procdt.append(item.find('procdt').text)\n",
    "            except: \n",
    "                procdt.append('-')\n",
    "            try: \n",
    "                procstagecd.append(item.find('procstagecd').text)\n",
    "            except: \n",
    "                procstagecd.append('-')\n",
    "            proposedt.append(item.find('proposedt').text)\n",
    "            proposerkind.append(item.find('proposerkind').text)\n",
    "            try: \n",
    "                summary.append(item.find('summary').text)\n",
    "            except: \n",
    "                summary.append('-')\n",
    "           \n",
    "    bill_dict = {'의안 ID': billid, '의안명': billname, '의안번호': billno, \n",
    "                    '처리결과':generalresult, '처리구분': passgubn, '의결일자':procdt,\n",
    "                    '심사진행상태':procstagecd, '제안일자': proposedt, '제안자구분':proposerkind,\n",
    "                    '주요내용':summary}\n",
    "    bill_df = pd.DataFrame(bill_dict)\n",
    "    return bill_df "
   ]
  },
  {
   "cell_type": "markdown",
   "metadata": {},
   "source": [
    "## 1. 13대 법률안"
   ]
  },
  {
   "cell_type": "code",
   "execution_count": 92,
   "metadata": {},
   "outputs": [
    {
     "name": "stderr",
     "output_type": "stream",
     "text": [
      "Page No.:   0%|          | 0/7 [00:00<?, ?it/s]\n",
      "item No.:   0%|          | 0/1000 [00:00<?, ?it/s]\u001b[A\n",
      "item No.:  29%|██▊       | 286/1000 [00:00<00:00, 2853.18it/s]\u001b[A"
     ]
    },
    {
     "name": "stdout",
     "output_type": "stream",
     "text": [
      "의안 수: 1000\n"
     ]
    },
    {
     "name": "stderr",
     "output_type": "stream",
     "text": [
      "\n",
      "item No.:  58%|█████▊    | 577/1000 [00:00<00:00, 2868.26it/s]\u001b[A\n",
      "item No.: 100%|██████████| 1000/1000 [00:00<00:00, 2772.69it/s][A\n",
      "Page No.:  14%|█▍        | 1/7 [00:06<00:40,  6.69s/it]\n",
      "item No.:   0%|          | 0/1000 [00:00<?, ?it/s]\u001b[A\n",
      "item No.:  17%|█▋        | 166/1000 [00:00<00:00, 1582.67it/s]\u001b[A"
     ]
    },
    {
     "name": "stdout",
     "output_type": "stream",
     "text": [
      "의안 수: 1000\n"
     ]
    },
    {
     "name": "stderr",
     "output_type": "stream",
     "text": [
      "\n",
      "item No.:  23%|██▎       | 229/1000 [00:00<00:00, 1087.85it/s]\u001b[A\n",
      "item No.:  29%|██▊       | 287/1000 [00:00<00:00, 835.31it/s] \u001b[A\n",
      "item No.:  37%|███▋      | 368/1000 [00:00<00:00, 827.30it/s]\u001b[A\n",
      "item No.:  48%|████▊     | 484/1000 [00:00<00:00, 904.67it/s]\u001b[A\n",
      "item No.:  61%|██████    | 607/1000 [00:00<00:00, 981.59it/s]\u001b[A\n",
      "item No.:  71%|███████▏  | 714/1000 [00:00<00:00, 1005.89it/s]\u001b[A\n",
      "item No.:  81%|████████  | 810/1000 [00:00<00:00, 810.55it/s] \u001b[A\n",
      "item No.:  89%|████████▉ | 894/1000 [00:01<00:00, 770.57it/s]\u001b[A\n",
      "item No.: 100%|██████████| 1000/1000 [00:01<00:00, 887.85it/s][A\n",
      "Page No.:  29%|██▊       | 2/7 [00:12<00:31,  6.38s/it]\n",
      "item No.:   0%|          | 0/1000 [00:00<?, ?it/s]\u001b[A\n",
      "item No.:  15%|█▌        | 150/1000 [00:00<00:00, 1495.35it/s]\u001b[A"
     ]
    },
    {
     "name": "stdout",
     "output_type": "stream",
     "text": [
      "의안 수: 1000\n"
     ]
    },
    {
     "name": "stderr",
     "output_type": "stream",
     "text": [
      "\n",
      "item No.:  36%|███▌      | 356/1000 [00:00<00:00, 1627.29it/s]\u001b[A\n",
      "item No.:  60%|██████    | 600/1000 [00:00<00:00, 1807.93it/s]\u001b[A\n",
      "item No.: 100%|██████████| 1000/1000 [00:00<00:00, 2173.20it/s][A\n",
      "Page No.:  43%|████▎     | 3/7 [00:18<00:25,  6.27s/it]\n",
      "item No.:   0%|          | 0/1000 [00:00<?, ?it/s]\u001b[A\n",
      "item No.:  28%|██▊       | 276/1000 [00:00<00:00, 2755.51it/s]\u001b[A"
     ]
    },
    {
     "name": "stdout",
     "output_type": "stream",
     "text": [
      "의안 수: 1000\n"
     ]
    },
    {
     "name": "stderr",
     "output_type": "stream",
     "text": [
      "\n",
      "item No.:  53%|█████▎    | 530/1000 [00:00<00:00, 2683.46it/s]\u001b[A\n",
      "item No.: 100%|██████████| 1000/1000 [00:00<00:00, 2671.08it/s][A\n",
      "Page No.:  57%|█████▋    | 4/7 [00:23<00:17,  5.90s/it]\n",
      "item No.:   0%|          | 0/1000 [00:00<?, ?it/s]\u001b[A\n",
      "item No.:  26%|██▌       | 262/1000 [00:00<00:00, 2618.32it/s]\u001b[A"
     ]
    },
    {
     "name": "stdout",
     "output_type": "stream",
     "text": [
      "의안 수: 1000\n"
     ]
    },
    {
     "name": "stderr",
     "output_type": "stream",
     "text": [
      "\n",
      "item No.:  53%|█████▎    | 526/1000 [00:00<00:00, 2624.51it/s]\u001b[A\n",
      "item No.: 100%|██████████| 1000/1000 [00:00<00:00, 2675.70it/s][A\n",
      "Page No.:  71%|███████▏  | 5/7 [00:29<00:11,  5.82s/it]\n",
      "item No.:   0%|          | 0/1000 [00:00<?, ?it/s]\u001b[A\n",
      "item No.:  26%|██▌       | 261/1000 [00:00<00:00, 2604.82it/s]\u001b[A"
     ]
    },
    {
     "name": "stdout",
     "output_type": "stream",
     "text": [
      "의안 수: 1000\n"
     ]
    },
    {
     "name": "stderr",
     "output_type": "stream",
     "text": [
      "\n",
      "item No.:  50%|█████     | 501/1000 [00:00<00:00, 2539.72it/s]\u001b[A\n",
      "item No.:  74%|███████▍  | 744/1000 [00:00<00:00, 2502.04it/s]\u001b[A\n",
      "item No.: 100%|██████████| 1000/1000 [00:00<00:00, 2376.34it/s][A\n",
      "Page No.:  86%|████████▌ | 6/7 [00:33<00:05,  5.30s/it]\n",
      "item No.:   0%|          | 0/633 [00:00<?, ?it/s]\u001b[A\n",
      "item No.:  32%|███▏      | 205/633 [00:00<00:00, 2045.95it/s]\u001b[A"
     ]
    },
    {
     "name": "stdout",
     "output_type": "stream",
     "text": [
      "의안 수: 633\n"
     ]
    },
    {
     "name": "stderr",
     "output_type": "stream",
     "text": [
      "\n",
      "item No.: 100%|██████████| 633/633 [00:00<00:00, 2205.82it/s]\u001b[A\n",
      "Page No.: 100%|██████████| 7/7 [00:36<00:00,  5.24s/it]\n"
     ]
    },
    {
     "data": {
      "text/plain": [
       "6633"
      ]
     },
     "execution_count": 92,
     "metadata": {},
     "output_type": "execute_result"
    }
   ],
   "source": [
    "# 13대 pageNo=7까지 \n",
    "start_propose_date = '1988-05-30'\n",
    "end_propose_date = '1992-05-29'\n",
    "page_num = 7\n",
    "\n",
    "bill_df = get_bill(page_num, start_propose_date, end_propose_date)\n",
    "len(bill_df)"
   ]
  },
  {
   "cell_type": "code",
   "execution_count": 94,
   "metadata": {},
   "outputs": [
    {
     "data": {
      "text/plain": [
       "945"
      ]
     },
     "execution_count": 94,
     "metadata": {},
     "output_type": "execute_result"
    }
   ],
   "source": [
    "bill_df = bill_df.drop_duplicates()\n",
    "len(bill_df)"
   ]
  },
  {
   "cell_type": "code",
   "execution_count": 95,
   "metadata": {},
   "outputs": [],
   "source": [
    "bill_df.to_csv('13th-lawbill-list.csv', encoding='utf-8-sig')"
   ]
  },
  {
   "cell_type": "code",
   "execution_count": null,
   "metadata": {},
   "outputs": [],
   "source": []
  },
  {
   "cell_type": "markdown",
   "metadata": {},
   "source": [
    "## 2. 14대 법률안"
   ]
  },
  {
   "cell_type": "code",
   "execution_count": 9,
   "metadata": {},
   "outputs": [
    {
     "name": "stderr",
     "output_type": "stream",
     "text": [
      "Page No.:   0%|          | 0/9 [00:00<?, ?it/s]\n",
      "item No.:   0%|          | 0/1000 [00:00<?, ?it/s]\u001b[A\n",
      "item No.:  28%|██▊       | 276/1000 [00:00<00:00, 2754.18it/s]\u001b[A"
     ]
    },
    {
     "name": "stdout",
     "output_type": "stream",
     "text": [
      "의안 수: 1000\n"
     ]
    },
    {
     "name": "stderr",
     "output_type": "stream",
     "text": [
      "\n",
      "item No.:  56%|█████▌    | 558/1000 [00:00<00:00, 2772.15it/s]\u001b[A\n",
      "item No.: 100%|██████████| 1000/1000 [00:00<00:00, 2691.58it/s][A\n",
      "Page No.:  11%|█         | 1/9 [00:02<00:23,  2.93s/it]\n",
      "item No.:   0%|          | 0/1000 [00:00<?, ?it/s]\u001b[A\n",
      "item No.:  25%|██▌       | 251/1000 [00:00<00:00, 2503.12it/s]\u001b[A"
     ]
    },
    {
     "name": "stdout",
     "output_type": "stream",
     "text": [
      "의안 수: 1000\n"
     ]
    },
    {
     "name": "stderr",
     "output_type": "stream",
     "text": [
      "\n",
      "item No.:  53%|█████▎    | 532/1000 [00:00<00:00, 2585.81it/s]\u001b[A\n",
      "item No.: 100%|██████████| 1000/1000 [00:00<00:00, 2679.70it/s][A\n",
      "Page No.:  22%|██▏       | 2/9 [00:05<00:20,  2.94s/it]\n",
      "item No.:   0%|          | 0/1000 [00:00<?, ?it/s]\u001b[A\n",
      "item No.:  24%|██▍       | 244/1000 [00:00<00:00, 2436.17it/s]\u001b[A"
     ]
    },
    {
     "name": "stdout",
     "output_type": "stream",
     "text": [
      "의안 수: 1000\n"
     ]
    },
    {
     "name": "stderr",
     "output_type": "stream",
     "text": [
      "\n",
      "item No.:  51%|█████     | 509/1000 [00:00<00:00, 2496.02it/s]\u001b[A\n",
      "item No.: 100%|██████████| 1000/1000 [00:00<00:00, 2518.68it/s][A\n",
      "Page No.:  33%|███▎      | 3/9 [00:08<00:17,  2.92s/it]\n",
      "item No.:   0%|          | 0/1000 [00:00<?, ?it/s]\u001b[A\n",
      "item No.:  28%|██▊       | 285/1000 [00:00<00:00, 2838.42it/s]\u001b[A"
     ]
    },
    {
     "name": "stdout",
     "output_type": "stream",
     "text": [
      "의안 수: 1000\n"
     ]
    },
    {
     "name": "stderr",
     "output_type": "stream",
     "text": [
      "\n",
      "item No.:  53%|█████▎    | 534/1000 [00:00<00:00, 2720.62it/s]\u001b[A\n",
      "item No.: 100%|██████████| 1000/1000 [00:00<00:00, 2623.25it/s][A\n",
      "Page No.:  44%|████▍     | 4/9 [00:13<00:17,  3.59s/it]\n",
      "item No.:   0%|          | 0/1000 [00:00<?, ?it/s]\u001b[A\n",
      "item No.:  29%|██▉       | 291/1000 [00:00<00:00, 2902.40it/s]\u001b[A"
     ]
    },
    {
     "name": "stdout",
     "output_type": "stream",
     "text": [
      "의안 수: 1000\n"
     ]
    },
    {
     "name": "stderr",
     "output_type": "stream",
     "text": [
      "\n",
      "item No.:  57%|█████▋    | 573/1000 [00:00<00:00, 2875.41it/s]\u001b[A\n",
      "item No.: 100%|██████████| 1000/1000 [00:00<00:00, 2773.12it/s][A\n",
      "Page No.:  56%|█████▌    | 5/9 [00:16<00:13,  3.39s/it]\n",
      "item No.:   0%|          | 0/1000 [00:00<?, ?it/s]\u001b[A\n",
      "item No.:  26%|██▋       | 263/1000 [00:00<00:00, 2629.11it/s]\u001b[A"
     ]
    },
    {
     "name": "stdout",
     "output_type": "stream",
     "text": [
      "의안 수: 1000\n"
     ]
    },
    {
     "name": "stderr",
     "output_type": "stream",
     "text": [
      "\n",
      "item No.:  52%|█████▏    | 522/1000 [00:00<00:00, 2616.66it/s]\u001b[A\n",
      "item No.: 100%|██████████| 1000/1000 [00:00<00:00, 2696.89it/s][A\n",
      "Page No.:  67%|██████▋   | 6/9 [00:19<00:09,  3.28s/it]\n",
      "item No.:   0%|          | 0/1000 [00:00<?, ?it/s]\u001b[A\n",
      "item No.:  30%|██▉       | 295/1000 [00:00<00:00, 2945.82it/s]\u001b[A"
     ]
    },
    {
     "name": "stdout",
     "output_type": "stream",
     "text": [
      "의안 수: 1000\n"
     ]
    },
    {
     "name": "stderr",
     "output_type": "stream",
     "text": [
      "\n",
      "item No.:  58%|█████▊    | 583/1000 [00:00<00:00, 2917.93it/s]\u001b[A\n",
      "item No.: 100%|██████████| 1000/1000 [00:00<00:00, 2868.88it/s][A\n",
      "Page No.:  78%|███████▊  | 7/9 [00:23<00:06,  3.26s/it]\n",
      "item No.:   0%|          | 0/1000 [00:00<?, ?it/s]\u001b[A\n",
      "item No.:  28%|██▊       | 284/1000 [00:00<00:00, 2833.71it/s]\u001b[A"
     ]
    },
    {
     "name": "stdout",
     "output_type": "stream",
     "text": [
      "의안 수: 1000\n"
     ]
    },
    {
     "name": "stderr",
     "output_type": "stream",
     "text": [
      "\n",
      "item No.:  57%|█████▋    | 569/1000 [00:00<00:00, 2836.11it/s]\u001b[A\n",
      "item No.: 100%|██████████| 1000/1000 [00:00<00:00, 2675.19it/s][A\n",
      "Page No.:  89%|████████▉ | 8/9 [00:26<00:03,  3.33s/it]\n",
      "item No.:   0%|          | 0/616 [00:00<?, ?it/s]\u001b[A\n",
      "item No.:  38%|███▊      | 236/616 [00:00<00:00, 2349.71it/s]\u001b[A"
     ]
    },
    {
     "name": "stdout",
     "output_type": "stream",
     "text": [
      "의안 수: 616\n"
     ]
    },
    {
     "name": "stderr",
     "output_type": "stream",
     "text": [
      "\n",
      "item No.: 100%|██████████| 616/616 [00:00<00:00, 2378.19it/s]\u001b[A\n",
      "Page No.: 100%|██████████| 9/9 [00:28<00:00,  3.22s/it]\n"
     ]
    },
    {
     "data": {
      "text/plain": [
       "8616"
      ]
     },
     "execution_count": 9,
     "metadata": {},
     "output_type": "execute_result"
    }
   ],
   "source": [
    "# 14대 임기: 1992.5.30 - 1996.5.29\n",
    "start_propose_date = '1992-05-30'\n",
    "end_propose_date = '1996-05-29'\n",
    "page_num = 9\n",
    "\n",
    "bill_df = get_bill(page_num, start_propose_date, end_propose_date)\n",
    "len(bill_df)"
   ]
  },
  {
   "cell_type": "code",
   "execution_count": 10,
   "metadata": {},
   "outputs": [
    {
     "data": {
      "text/plain": [
       "902"
      ]
     },
     "execution_count": 10,
     "metadata": {},
     "output_type": "execute_result"
    }
   ],
   "source": [
    "bill_df = bill_df.drop_duplicates()\n",
    "len(bill_df)"
   ]
  },
  {
   "cell_type": "code",
   "execution_count": 11,
   "metadata": {},
   "outputs": [],
   "source": [
    "bill_df.to_csv('14th-lawbill-list.csv', encoding='utf-8-sig')"
   ]
  },
  {
   "cell_type": "code",
   "execution_count": null,
   "metadata": {},
   "outputs": [],
   "source": []
  },
  {
   "cell_type": "markdown",
   "metadata": {},
   "source": [
    "## 3. 15대 법률안"
   ]
  },
  {
   "cell_type": "code",
   "execution_count": 21,
   "metadata": {},
   "outputs": [
    {
     "name": "stderr",
     "output_type": "stream",
     "text": [
      "Page No.:   0%|          | 0/31 [00:00<?, ?it/s]\n",
      "item No.:   0%|          | 0/1000 [00:00<?, ?it/s]\u001b[A\n",
      "item No.:  28%|██▊       | 281/1000 [00:00<00:00, 2809.92it/s]\u001b[A"
     ]
    },
    {
     "name": "stdout",
     "output_type": "stream",
     "text": [
      "의안 수: 1000\n"
     ]
    },
    {
     "name": "stderr",
     "output_type": "stream",
     "text": [
      "\n",
      "item No.:  55%|█████▌    | 551/1000 [00:00<00:00, 2774.79it/s]\u001b[A\n",
      "item No.:  77%|███████▋  | 768/1000 [00:00<00:00, 2559.71it/s]\u001b[A\n",
      "item No.: 100%|██████████| 1000/1000 [00:00<00:00, 2425.39it/s][A\n",
      "Page No.:   3%|▎         | 1/31 [00:03<01:51,  3.71s/it]\n",
      "item No.:   0%|          | 0/1000 [00:00<?, ?it/s]\u001b[A\n",
      "item No.:  28%|██▊       | 277/1000 [00:00<00:00, 2764.77it/s]\u001b[A"
     ]
    },
    {
     "name": "stdout",
     "output_type": "stream",
     "text": [
      "의안 수: 1000\n"
     ]
    },
    {
     "name": "stderr",
     "output_type": "stream",
     "text": [
      "\n",
      "item No.:  55%|█████▌    | 553/1000 [00:00<00:00, 2761.74it/s]\u001b[A\n",
      "item No.: 100%|██████████| 1000/1000 [00:00<00:00, 2710.03it/s][A\n",
      "Page No.:   6%|▋         | 2/31 [00:06<01:40,  3.47s/it]\n",
      "item No.:   0%|          | 0/1000 [00:00<?, ?it/s]\u001b[A\n",
      "item No.:  24%|██▍       | 239/1000 [00:00<00:00, 2386.11it/s]\u001b[A"
     ]
    },
    {
     "name": "stdout",
     "output_type": "stream",
     "text": [
      "의안 수: 1000\n"
     ]
    },
    {
     "name": "stderr",
     "output_type": "stream",
     "text": [
      "\n",
      "item No.:  49%|████▊     | 487/1000 [00:00<00:00, 2412.79it/s]\u001b[A\n",
      "item No.: 100%|██████████| 1000/1000 [00:00<00:00, 2523.30it/s][A\n",
      "Page No.:  10%|▉         | 3/31 [00:09<01:34,  3.38s/it]\n",
      "item No.:   0%|          | 0/1000 [00:00<?, ?it/s]\u001b[A\n",
      "item No.:  26%|██▌       | 262/1000 [00:00<00:00, 2614.74it/s]\u001b[A"
     ]
    },
    {
     "name": "stdout",
     "output_type": "stream",
     "text": [
      "의안 수: 1000\n"
     ]
    },
    {
     "name": "stderr",
     "output_type": "stream",
     "text": [
      "\n",
      "item No.:  52%|█████▏    | 515/1000 [00:00<00:00, 2588.30it/s]\u001b[A\n",
      "item No.: 100%|██████████| 1000/1000 [00:00<00:00, 2566.45it/s][A\n",
      "Page No.:  13%|█▎        | 4/31 [00:12<01:29,  3.31s/it]\n",
      "item No.:   0%|          | 0/1000 [00:00<?, ?it/s]\u001b[A\n",
      "item No.:  28%|██▊       | 281/1000 [00:00<00:00, 2806.24it/s]\u001b[A"
     ]
    },
    {
     "name": "stdout",
     "output_type": "stream",
     "text": [
      "의안 수: 1000\n"
     ]
    },
    {
     "name": "stderr",
     "output_type": "stream",
     "text": [
      "\n",
      "item No.:  57%|█████▋    | 568/1000 [00:00<00:00, 2823.43it/s]\u001b[A\n",
      "item No.: 100%|██████████| 1000/1000 [00:00<00:00, 2709.48it/s][A\n",
      "Page No.:  16%|█▌        | 5/31 [00:17<01:33,  3.58s/it]\n",
      "item No.:   0%|          | 0/1000 [00:00<?, ?it/s]\u001b[A\n",
      "item No.:  30%|██▉       | 295/1000 [00:00<00:00, 2946.64it/s]\u001b[A"
     ]
    },
    {
     "name": "stdout",
     "output_type": "stream",
     "text": [
      "의안 수: 1000\n"
     ]
    },
    {
     "name": "stderr",
     "output_type": "stream",
     "text": [
      "\n",
      "item No.:  58%|█████▊    | 583/1000 [00:00<00:00, 2926.09it/s]\u001b[A\n",
      "item No.: 100%|██████████| 1000/1000 [00:00<00:00, 2781.80it/s][A\n",
      "Page No.:  19%|█▉        | 6/31 [00:20<01:30,  3.64s/it]\n",
      "item No.:   0%|          | 0/1000 [00:00<?, ?it/s]\u001b[A\n",
      "item No.:  27%|██▋       | 269/1000 [00:00<00:00, 2677.95it/s]\u001b[A"
     ]
    },
    {
     "name": "stdout",
     "output_type": "stream",
     "text": [
      "의안 수: 1000\n"
     ]
    },
    {
     "name": "stderr",
     "output_type": "stream",
     "text": [
      "\n",
      "item No.:  53%|█████▎    | 529/1000 [00:00<00:00, 2651.97it/s]\u001b[A\n",
      "item No.: 100%|██████████| 1000/1000 [00:00<00:00, 2602.23it/s][A\n",
      "Page No.:  23%|██▎       | 7/31 [00:23<01:22,  3.44s/it]\n",
      "item No.:   0%|          | 0/1000 [00:00<?, ?it/s]\u001b[A\n",
      "item No.:  27%|██▋       | 271/1000 [00:00<00:00, 2705.10it/s]\u001b[A"
     ]
    },
    {
     "name": "stdout",
     "output_type": "stream",
     "text": [
      "의안 수: 1000\n"
     ]
    },
    {
     "name": "stderr",
     "output_type": "stream",
     "text": [
      "\n",
      "item No.:  56%|█████▌    | 559/1000 [00:00<00:00, 2753.19it/s]\u001b[A\n",
      "item No.: 100%|██████████| 1000/1000 [00:00<00:00, 2767.28it/s][A\n",
      "Page No.:  26%|██▌       | 8/31 [00:27<01:18,  3.40s/it]\n",
      "item No.:   0%|          | 0/1000 [00:00<?, ?it/s]\u001b[A\n",
      "item No.:  24%|██▎       | 237/1000 [00:00<00:00, 2367.68it/s]\u001b[A"
     ]
    },
    {
     "name": "stdout",
     "output_type": "stream",
     "text": [
      "의안 수: 1000\n"
     ]
    },
    {
     "name": "stderr",
     "output_type": "stream",
     "text": [
      "\n",
      "item No.:  49%|████▊     | 486/1000 [00:00<00:00, 2401.07it/s]\u001b[A\n",
      "item No.: 100%|██████████| 1000/1000 [00:00<00:00, 2516.03it/s][A\n",
      "Page No.:  29%|██▉       | 9/31 [00:30<01:12,  3.28s/it]\n",
      "item No.:   0%|          | 0/1000 [00:00<?, ?it/s]\u001b[A\n",
      "item No.:  25%|██▍       | 246/1000 [00:00<00:00, 2455.33it/s]\u001b[A"
     ]
    },
    {
     "name": "stdout",
     "output_type": "stream",
     "text": [
      "의안 수: 1000\n"
     ]
    },
    {
     "name": "stderr",
     "output_type": "stream",
     "text": [
      "\n",
      "item No.:  50%|█████     | 504/1000 [00:00<00:00, 2488.22it/s]\u001b[A\n",
      "item No.: 100%|██████████| 1000/1000 [00:00<00:00, 2610.48it/s][A\n",
      "Page No.:  32%|███▏      | 10/31 [00:33<01:06,  3.15s/it]\n",
      "item No.:   0%|          | 0/1000 [00:00<?, ?it/s]\u001b[A\n",
      "item No.:  28%|██▊       | 284/1000 [00:00<00:00, 2831.65it/s]\u001b[A"
     ]
    },
    {
     "name": "stdout",
     "output_type": "stream",
     "text": [
      "의안 수: 1000\n"
     ]
    },
    {
     "name": "stderr",
     "output_type": "stream",
     "text": [
      "\n",
      "item No.:  55%|█████▌    | 551/1000 [00:00<00:00, 2773.51it/s]\u001b[A\n",
      "item No.: 100%|██████████| 1000/1000 [00:00<00:00, 2630.47it/s][A\n",
      "Page No.:  35%|███▌      | 11/31 [00:36<01:05,  3.27s/it]\n",
      "item No.:   0%|          | 0/1000 [00:00<?, ?it/s]\u001b[A\n",
      "item No.:  29%|██▊       | 287/1000 [00:00<00:00, 2861.75it/s]\u001b[A"
     ]
    },
    {
     "name": "stdout",
     "output_type": "stream",
     "text": [
      "의안 수: 1000\n"
     ]
    },
    {
     "name": "stderr",
     "output_type": "stream",
     "text": [
      "\n",
      "item No.:  56%|█████▋    | 565/1000 [00:00<00:00, 2834.69it/s]\u001b[A\n",
      "item No.: 100%|██████████| 1000/1000 [00:00<00:00, 2627.75it/s][A\n",
      "Page No.:  39%|███▊      | 12/31 [00:39<01:02,  3.28s/it]\n",
      "item No.:   0%|          | 0/1000 [00:00<?, ?it/s]\u001b[A\n",
      "item No.:  23%|██▎       | 226/1000 [00:00<00:00, 2254.88it/s]\u001b[A"
     ]
    },
    {
     "name": "stdout",
     "output_type": "stream",
     "text": [
      "의안 수: 1000\n"
     ]
    },
    {
     "name": "stderr",
     "output_type": "stream",
     "text": [
      "\n",
      "item No.:  53%|█████▎    | 533/1000 [00:00<00:00, 2449.86it/s]\u001b[A\n",
      "item No.: 100%|██████████| 1000/1000 [00:00<00:00, 2767.22it/s][A\n",
      "Page No.:  42%|████▏     | 13/31 [00:43<01:00,  3.33s/it]\n",
      "item No.:   0%|          | 0/1000 [00:00<?, ?it/s]\u001b[A\n",
      "item No.:  30%|██▉       | 298/1000 [00:00<00:00, 2972.87it/s]\u001b[A"
     ]
    },
    {
     "name": "stdout",
     "output_type": "stream",
     "text": [
      "의안 수: 1000\n"
     ]
    },
    {
     "name": "stderr",
     "output_type": "stream",
     "text": [
      "\n",
      "item No.:  54%|█████▍    | 541/1000 [00:00<00:00, 2785.56it/s]\u001b[A\n",
      "item No.: 100%|██████████| 1000/1000 [00:00<00:00, 2596.83it/s][A\n",
      "Page No.:  45%|████▌     | 14/31 [00:47<00:58,  3.45s/it]\n",
      "item No.:   0%|          | 0/1000 [00:00<?, ?it/s]\u001b[A\n",
      "item No.:  27%|██▋       | 266/1000 [00:00<00:00, 2653.73it/s]\u001b[A"
     ]
    },
    {
     "name": "stdout",
     "output_type": "stream",
     "text": [
      "의안 수: 1000\n"
     ]
    },
    {
     "name": "stderr",
     "output_type": "stream",
     "text": [
      "\n",
      "item No.:  53%|█████▎    | 533/1000 [00:00<00:00, 2657.60it/s]\u001b[A\n",
      "item No.: 100%|██████████| 1000/1000 [00:00<00:00, 2730.45it/s][A\n",
      "Page No.:  48%|████▊     | 15/31 [00:50<00:54,  3.38s/it]\n",
      "item No.:   0%|          | 0/1000 [00:00<?, ?it/s]\u001b[A\n",
      "item No.:  25%|██▍       | 248/1000 [00:00<00:00, 2477.57it/s]\u001b[A"
     ]
    },
    {
     "name": "stdout",
     "output_type": "stream",
     "text": [
      "의안 수: 1000\n"
     ]
    },
    {
     "name": "stderr",
     "output_type": "stream",
     "text": [
      "\n",
      "item No.:  55%|█████▌    | 554/1000 [00:00<00:00, 2626.80it/s]\u001b[A\n",
      "item No.: 100%|██████████| 1000/1000 [00:00<00:00, 2749.43it/s][A\n",
      "Page No.:  52%|█████▏    | 16/31 [00:53<00:49,  3.31s/it]\n",
      "item No.:   0%|          | 0/1000 [00:00<?, ?it/s]\u001b[A\n",
      "item No.:  32%|███▏      | 315/1000 [00:00<00:00, 3145.85it/s]\u001b[A"
     ]
    },
    {
     "name": "stdout",
     "output_type": "stream",
     "text": [
      "의안 수: 1000\n"
     ]
    },
    {
     "name": "stderr",
     "output_type": "stream",
     "text": [
      "\n",
      "item No.:  60%|██████    | 601/1000 [00:00<00:00, 3051.87it/s]\u001b[A\n",
      "item No.: 100%|██████████| 1000/1000 [00:00<00:00, 2825.17it/s][A\n",
      "Page No.:  55%|█████▍    | 17/31 [00:56<00:46,  3.32s/it]\n",
      "item No.:   0%|          | 0/1000 [00:00<?, ?it/s]\u001b[A\n",
      "item No.:  24%|██▎       | 235/1000 [00:00<00:00, 2345.96it/s]\u001b[A"
     ]
    },
    {
     "name": "stdout",
     "output_type": "stream",
     "text": [
      "의안 수: 1000\n"
     ]
    },
    {
     "name": "stderr",
     "output_type": "stream",
     "text": [
      "\n",
      "item No.:  49%|████▉     | 490/1000 [00:00<00:00, 2403.24it/s]\u001b[A\n",
      "item No.: 100%|██████████| 1000/1000 [00:00<00:00, 2609.85it/s][A\n",
      "Page No.:  58%|█████▊    | 18/31 [01:00<00:44,  3.44s/it]\n",
      "item No.:   0%|          | 0/1000 [00:00<?, ?it/s]\u001b[A\n",
      "item No.:  28%|██▊       | 284/1000 [00:00<00:00, 2835.37it/s]\u001b[A"
     ]
    },
    {
     "name": "stdout",
     "output_type": "stream",
     "text": [
      "의안 수: 1000\n"
     ]
    },
    {
     "name": "stderr",
     "output_type": "stream",
     "text": [
      "\n",
      "item No.:  57%|█████▋    | 574/1000 [00:00<00:00, 2852.70it/s]\u001b[A\n",
      "item No.: 100%|██████████| 1000/1000 [00:00<00:00, 2879.03it/s][A\n",
      "Page No.:  61%|██████▏   | 19/31 [01:03<00:40,  3.41s/it]\n",
      "item No.:   0%|          | 0/1000 [00:00<?, ?it/s]\u001b[A\n",
      "item No.:  28%|██▊       | 279/1000 [00:00<00:00, 2784.63it/s]\u001b[A"
     ]
    },
    {
     "name": "stdout",
     "output_type": "stream",
     "text": [
      "의안 수: 1000\n"
     ]
    },
    {
     "name": "stderr",
     "output_type": "stream",
     "text": [
      "\n",
      "item No.:  58%|█████▊    | 581/1000 [00:00<00:00, 2850.30it/s]\u001b[A\n",
      "item No.: 100%|██████████| 1000/1000 [00:00<00:00, 2812.17it/s][A\n",
      "Page No.:  65%|██████▍   | 20/31 [01:07<00:37,  3.42s/it]\n",
      "item No.:   0%|          | 0/1000 [00:00<?, ?it/s]\u001b[A\n",
      "item No.:  26%|██▌       | 255/1000 [00:00<00:00, 2549.49it/s]\u001b[A"
     ]
    },
    {
     "name": "stdout",
     "output_type": "stream",
     "text": [
      "의안 수: 1000\n"
     ]
    },
    {
     "name": "stderr",
     "output_type": "stream",
     "text": [
      "\n",
      "item No.:  52%|█████▏    | 521/1000 [00:00<00:00, 2576.76it/s]\u001b[A\n",
      "item No.: 100%|██████████| 1000/1000 [00:00<00:00, 2649.09it/s][A\n",
      "Page No.:  68%|██████▊   | 21/31 [01:13<00:43,  4.34s/it]\n",
      "item No.:   0%|          | 0/1000 [00:00<?, ?it/s]\u001b[A\n",
      "item No.:  25%|██▍       | 249/1000 [00:00<00:00, 2487.27it/s]\u001b[A"
     ]
    },
    {
     "name": "stdout",
     "output_type": "stream",
     "text": [
      "의안 수: 1000\n"
     ]
    },
    {
     "name": "stderr",
     "output_type": "stream",
     "text": [
      "\n",
      "item No.:  51%|█████     | 506/1000 [00:00<00:00, 2510.69it/s]\u001b[A\n",
      "item No.: 100%|██████████| 1000/1000 [00:00<00:00, 2671.25it/s][A\n",
      "Page No.:  71%|███████   | 22/31 [01:17<00:36,  4.06s/it]\n",
      "item No.:   0%|          | 0/1000 [00:00<?, ?it/s]\u001b[A\n",
      "item No.:  26%|██▌       | 255/1000 [00:00<00:00, 2547.81it/s]\u001b[A"
     ]
    },
    {
     "name": "stdout",
     "output_type": "stream",
     "text": [
      "의안 수: 1000\n"
     ]
    },
    {
     "name": "stderr",
     "output_type": "stream",
     "text": [
      "\n",
      "item No.:  56%|█████▌    | 559/1000 [00:00<00:00, 2677.48it/s]\u001b[A\n",
      "item No.: 100%|██████████| 1000/1000 [00:00<00:00, 2803.35it/s][A\n",
      "Page No.:  74%|███████▍  | 23/31 [01:20<00:31,  3.90s/it]\n",
      "item No.:   0%|          | 0/1000 [00:00<?, ?it/s]\u001b[A\n",
      "item No.:  30%|███       | 302/1000 [00:00<00:00, 3013.41it/s]\u001b[A\n"
     ]
    },
    {
     "name": "stdout",
     "output_type": "stream",
     "text": [
      "의안 수: 1000\n"
     ]
    },
    {
     "name": "stderr",
     "output_type": "stream",
     "text": [
      "item No.:  59%|█████▉    | 589/1000 [00:00<00:00, 2968.67it/s]\u001b[A\n",
      "item No.: 100%|██████████| 1000/1000 [00:00<00:00, 2875.08it/s][A\n",
      "Page No.:  77%|███████▋  | 24/31 [01:24<00:28,  4.01s/it]\n",
      "item No.:   0%|          | 0/1000 [00:00<?, ?it/s]\u001b[A\n",
      "item No.:  28%|██▊       | 281/1000 [00:00<00:00, 2805.29it/s]\u001b[A"
     ]
    },
    {
     "name": "stdout",
     "output_type": "stream",
     "text": [
      "의안 수: 1000\n"
     ]
    },
    {
     "name": "stderr",
     "output_type": "stream",
     "text": [
      "\n",
      "item No.:  57%|█████▋    | 566/1000 [00:00<00:00, 2817.98it/s]\u001b[A\n",
      "item No.: 100%|██████████| 1000/1000 [00:00<00:00, 2717.33it/s][A\n",
      "Page No.:  81%|████████  | 25/31 [01:28<00:23,  3.83s/it]\n",
      "item No.:   0%|          | 0/1000 [00:00<?, ?it/s]\u001b[A\n",
      "item No.:  30%|███       | 302/1000 [00:00<00:00, 3014.03it/s]\u001b[A"
     ]
    },
    {
     "name": "stdout",
     "output_type": "stream",
     "text": [
      "의안 수: 1000\n"
     ]
    },
    {
     "name": "stderr",
     "output_type": "stream",
     "text": [
      "\n",
      "item No.:  61%|██████    | 610/1000 [00:00<00:00, 3031.41it/s]\u001b[A\n",
      "item No.: 100%|██████████| 1000/1000 [00:00<00:00, 2853.97it/s][A\n",
      "Page No.:  84%|████████▍ | 26/31 [01:32<00:18,  3.78s/it]\n",
      "item No.:   0%|          | 0/1000 [00:00<?, ?it/s]\u001b[A\n",
      "item No.:  30%|███       | 302/1000 [00:00<00:00, 3017.34it/s]\u001b[A"
     ]
    },
    {
     "name": "stdout",
     "output_type": "stream",
     "text": [
      "의안 수: 1000\n"
     ]
    },
    {
     "name": "stderr",
     "output_type": "stream",
     "text": [
      "\n",
      "item No.:  61%|██████    | 606/1000 [00:00<00:00, 3023.33it/s]\u001b[A\n",
      "item No.: 100%|██████████| 1000/1000 [00:00<00:00, 2910.24it/s][A\n",
      "Page No.:  87%|████████▋ | 27/31 [01:35<00:14,  3.65s/it]\n",
      "item No.:   0%|          | 0/1000 [00:00<?, ?it/s]\u001b[A\n",
      "item No.:  28%|██▊       | 276/1000 [00:00<00:00, 2758.67it/s]\u001b[A"
     ]
    },
    {
     "name": "stdout",
     "output_type": "stream",
     "text": [
      "의안 수: 1000\n"
     ]
    },
    {
     "name": "stderr",
     "output_type": "stream",
     "text": [
      "\n",
      "item No.:  57%|█████▋    | 569/1000 [00:00<00:00, 2806.08it/s]\u001b[A\n",
      "item No.: 100%|██████████| 1000/1000 [00:00<00:00, 2798.09it/s][A\n",
      "Page No.:  90%|█████████ | 28/31 [01:38<00:10,  3.55s/it]\n",
      "item No.:   0%|          | 0/1000 [00:00<?, ?it/s]\u001b[A\n",
      "item No.:  29%|██▉       | 292/1000 [00:00<00:00, 2909.04it/s]\u001b[A"
     ]
    },
    {
     "name": "stdout",
     "output_type": "stream",
     "text": [
      "의안 수: 1000\n"
     ]
    },
    {
     "name": "stderr",
     "output_type": "stream",
     "text": [
      "\n",
      "item No.:  57%|█████▋    | 569/1000 [00:00<00:00, 2864.99it/s]\u001b[A\n",
      "item No.: 100%|██████████| 1000/1000 [00:00<00:00, 2789.99it/s][A\n",
      "Page No.:  94%|█████████▎| 29/31 [01:42<00:07,  3.64s/it]\n",
      "item No.:   0%|          | 0/1000 [00:00<?, ?it/s]\u001b[A\n",
      "item No.:  29%|██▉       | 289/1000 [00:00<00:00, 2882.17it/s]\u001b[A"
     ]
    },
    {
     "name": "stdout",
     "output_type": "stream",
     "text": [
      "의안 수: 1000\n"
     ]
    },
    {
     "name": "stderr",
     "output_type": "stream",
     "text": [
      "\n",
      "item No.:  58%|█████▊    | 578/1000 [00:00<00:00, 2882.62it/s]\u001b[A\n",
      "item No.: 100%|██████████| 1000/1000 [00:00<00:00, 2807.77it/s][A\n",
      "Page No.:  97%|█████████▋| 30/31 [01:45<00:03,  3.47s/it]\n",
      "item No.:   0%|          | 0/951 [00:00<?, ?it/s]\u001b[A\n",
      "item No.:  33%|███▎      | 312/951 [00:00<00:00, 3117.63it/s]\u001b[A"
     ]
    },
    {
     "name": "stdout",
     "output_type": "stream",
     "text": [
      "의안 수: 951\n"
     ]
    },
    {
     "name": "stderr",
     "output_type": "stream",
     "text": [
      "\n",
      "item No.:  63%|██████▎   | 601/951 [00:00<00:00, 3043.94it/s]\u001b[A\n",
      "item No.: 100%|██████████| 951/951 [00:00<00:00, 2843.30it/s]\u001b[A\n",
      "Page No.: 100%|██████████| 31/31 [01:49<00:00,  3.52s/it]\n"
     ]
    },
    {
     "data": {
      "text/plain": [
       "30951"
      ]
     },
     "execution_count": 21,
     "metadata": {},
     "output_type": "execute_result"
    }
   ],
   "source": [
    "start_propose_date = '1996-05-30'\n",
    "end_propose_date = '2000-05-29'\n",
    "page_num = 31\n",
    "\n",
    "bill_df = get_bill(page_num, start_propose_date, end_propose_date)\n",
    "len(bill_df)"
   ]
  },
  {
   "cell_type": "code",
   "execution_count": 22,
   "metadata": {},
   "outputs": [
    {
     "data": {
      "text/plain": [
       "1953"
      ]
     },
     "execution_count": 22,
     "metadata": {},
     "output_type": "execute_result"
    }
   ],
   "source": [
    "bill_df = bill_df.drop_duplicates()\n",
    "len(bill_df)"
   ]
  },
  {
   "cell_type": "code",
   "execution_count": 23,
   "metadata": {},
   "outputs": [],
   "source": [
    "bill_df.to_csv('15th-lawbill-list.csv', encoding='utf-8-sig')"
   ]
  },
  {
   "cell_type": "code",
   "execution_count": null,
   "metadata": {},
   "outputs": [],
   "source": []
  },
  {
   "cell_type": "markdown",
   "metadata": {},
   "source": [
    "## 4. 16대 법률안"
   ]
  },
  {
   "cell_type": "code",
   "execution_count": 42,
   "metadata": {
    "scrolled": true
   },
   "outputs": [
    {
     "name": "stderr",
     "output_type": "stream",
     "text": [
      "Page No.:   0%|          | 0/121 [00:00<?, ?it/s]\n",
      "item No.:   0%|          | 0/1000 [00:00<?, ?it/s]\u001b[A\n",
      "item No.:  30%|███       | 303/1000 [00:00<00:00, 3029.06it/s]\u001b[A"
     ]
    },
    {
     "name": "stdout",
     "output_type": "stream",
     "text": [
      "의안 수: 1000\n"
     ]
    },
    {
     "name": "stderr",
     "output_type": "stream",
     "text": [
      "\n",
      "item No.:  59%|█████▉    | 588/1000 [00:00<00:00, 2972.93it/s]\u001b[A\n",
      "item No.: 100%|██████████| 1000/1000 [00:00<00:00, 2818.62it/s][A\n",
      "Page No.:   1%|          | 1/121 [00:03<07:30,  3.76s/it]\n",
      "item No.:   0%|          | 0/1000 [00:00<?, ?it/s]\u001b[A\n",
      "item No.:  27%|██▋       | 267/1000 [00:00<00:00, 2668.21it/s]\u001b[A"
     ]
    },
    {
     "name": "stdout",
     "output_type": "stream",
     "text": [
      "의안 수: 1000\n"
     ]
    },
    {
     "name": "stderr",
     "output_type": "stream",
     "text": [
      "\n",
      "item No.:  50%|████▉     | 498/1000 [00:00<00:00, 2547.69it/s]\u001b[A\n",
      "item No.: 100%|██████████| 1000/1000 [00:00<00:00, 2517.81it/s][A\n",
      "Page No.:   2%|▏         | 2/121 [00:08<07:50,  3.96s/it]\n",
      "item No.:   0%|          | 0/1000 [00:00<?, ?it/s]\u001b[A\n",
      "item No.:  24%|██▍       | 239/1000 [00:00<00:00, 2385.51it/s]\u001b[A"
     ]
    },
    {
     "name": "stdout",
     "output_type": "stream",
     "text": [
      "의안 수: 1000\n"
     ]
    },
    {
     "name": "stderr",
     "output_type": "stream",
     "text": [
      "\n",
      "item No.:  52%|█████▏    | 518/1000 [00:00<00:00, 2490.19it/s]\u001b[A\n",
      "item No.: 100%|██████████| 1000/1000 [00:00<00:00, 2658.17it/s][A\n",
      "Page No.:   2%|▏         | 3/121 [00:11<07:41,  3.91s/it]\n",
      "item No.:   0%|          | 0/1000 [00:00<?, ?it/s]\u001b[A\n",
      "item No.:  25%|██▍       | 248/1000 [00:00<00:00, 2476.60it/s]\u001b[A"
     ]
    },
    {
     "name": "stdout",
     "output_type": "stream",
     "text": [
      "의안 수: 1000\n"
     ]
    },
    {
     "name": "stderr",
     "output_type": "stream",
     "text": [
      "\n",
      "item No.:  54%|█████▍    | 540/1000 [00:00<00:00, 2594.41it/s]\u001b[A\n",
      "item No.: 100%|██████████| 1000/1000 [00:00<00:00, 2718.14it/s][A\n",
      "Page No.:   3%|▎         | 4/121 [00:16<07:43,  3.96s/it]\n",
      "item No.:   0%|          | 0/1000 [00:00<?, ?it/s]\u001b[A\n",
      "item No.:  26%|██▌       | 262/1000 [00:00<00:00, 2618.54it/s]\u001b[A\n"
     ]
    },
    {
     "name": "stdout",
     "output_type": "stream",
     "text": [
      "의안 수: 1000\n"
     ]
    },
    {
     "name": "stderr",
     "output_type": "stream",
     "text": [
      "item No.:  54%|█████▍    | 543/1000 [00:00<00:00, 2671.05it/s]\u001b[A\n",
      "item No.: 100%|██████████| 1000/1000 [00:00<00:00, 2681.57it/s][A\n",
      "Page No.:   4%|▍         | 5/121 [00:20<07:51,  4.07s/it]\n",
      "item No.:   0%|          | 0/1000 [00:00<?, ?it/s]\u001b[A\n",
      "item No.:  28%|██▊       | 281/1000 [00:00<00:00, 2808.82it/s]\u001b[A"
     ]
    },
    {
     "name": "stdout",
     "output_type": "stream",
     "text": [
      "의안 수: 1000\n"
     ]
    },
    {
     "name": "stderr",
     "output_type": "stream",
     "text": [
      "\n",
      "item No.:  54%|█████▍    | 544/1000 [00:00<00:00, 2751.69it/s]\u001b[A\n",
      "item No.: 100%|██████████| 1000/1000 [00:00<00:00, 2614.22it/s][A\n",
      "Page No.:   5%|▍         | 6/121 [00:24<07:44,  4.04s/it]\n",
      "item No.:   0%|          | 0/1000 [00:00<?, ?it/s]\u001b[A\n",
      "item No.:  29%|██▉       | 290/1000 [00:00<00:00, 2896.81it/s]\u001b[A"
     ]
    },
    {
     "name": "stdout",
     "output_type": "stream",
     "text": [
      "의안 수: 1000\n"
     ]
    },
    {
     "name": "stderr",
     "output_type": "stream",
     "text": [
      "\n",
      "item No.:  57%|█████▋    | 566/1000 [00:00<00:00, 2853.59it/s]\u001b[A\n",
      "item No.: 100%|██████████| 1000/1000 [00:00<00:00, 2642.48it/s][A\n",
      "Page No.:   6%|▌         | 7/121 [00:28<07:27,  3.93s/it]\n",
      "item No.:   0%|          | 0/1000 [00:00<?, ?it/s]\u001b[A\n",
      "item No.:  31%|███       | 308/1000 [00:00<00:00, 3075.63it/s]\u001b[A"
     ]
    },
    {
     "name": "stdout",
     "output_type": "stream",
     "text": [
      "의안 수: 1000\n"
     ]
    },
    {
     "name": "stderr",
     "output_type": "stream",
     "text": [
      "\n",
      "item No.:  60%|█████▉    | 597/1000 [00:00<00:00, 3015.24it/s]\u001b[A\n",
      "item No.: 100%|██████████| 1000/1000 [00:00<00:00, 2839.39it/s][A\n",
      "Page No.:   7%|▋         | 8/121 [00:32<07:28,  3.97s/it]\n",
      "item No.:   0%|          | 0/1000 [00:00<?, ?it/s]\u001b[A\n",
      "item No.:  28%|██▊       | 279/1000 [00:00<00:00, 2784.71it/s]\u001b[A"
     ]
    },
    {
     "name": "stdout",
     "output_type": "stream",
     "text": [
      "의안 수: 1000\n"
     ]
    },
    {
     "name": "stderr",
     "output_type": "stream",
     "text": [
      "\n",
      "item No.:  55%|█████▌    | 551/1000 [00:00<00:00, 2763.04it/s]\u001b[A\n",
      "item No.: 100%|██████████| 1000/1000 [00:00<00:00, 2716.39it/s][A\n",
      "Page No.:   7%|▋         | 9/121 [00:36<07:48,  4.18s/it]\n",
      "item No.:   0%|          | 0/1000 [00:00<?, ?it/s]\u001b[A\n",
      "item No.:  28%|██▊       | 285/1000 [00:00<00:00, 2842.69it/s]\u001b[A"
     ]
    },
    {
     "name": "stdout",
     "output_type": "stream",
     "text": [
      "의안 수: 1000\n"
     ]
    },
    {
     "name": "stderr",
     "output_type": "stream",
     "text": [
      "\n",
      "item No.:  58%|█████▊    | 578/1000 [00:00<00:00, 2866.62it/s]\u001b[A\n",
      "item No.: 100%|██████████| 1000/1000 [00:00<00:00, 2804.40it/s][A\n",
      "Page No.:   8%|▊         | 10/121 [00:40<07:41,  4.16s/it]\n",
      "item No.:   0%|          | 0/1000 [00:00<?, ?it/s]\u001b[A\n",
      "item No.:  29%|██▊       | 286/1000 [00:00<00:00, 2849.32it/s]\u001b[A"
     ]
    },
    {
     "name": "stdout",
     "output_type": "stream",
     "text": [
      "의안 수: 1000\n"
     ]
    },
    {
     "name": "stderr",
     "output_type": "stream",
     "text": [
      "\n",
      "item No.:  57%|█████▋    | 572/1000 [00:00<00:00, 2850.86it/s]\u001b[A\n",
      "item No.: 100%|██████████| 1000/1000 [00:00<00:00, 2637.72it/s][A\n",
      "Page No.:   9%|▉         | 11/121 [00:44<07:29,  4.09s/it]\n",
      "item No.:   0%|          | 0/1000 [00:00<?, ?it/s]\u001b[A\n",
      "item No.:  27%|██▋       | 273/1000 [00:00<00:00, 2726.78it/s]\u001b[A"
     ]
    },
    {
     "name": "stdout",
     "output_type": "stream",
     "text": [
      "의안 수: 1000\n"
     ]
    },
    {
     "name": "stderr",
     "output_type": "stream",
     "text": [
      "\n",
      "item No.:  54%|█████▎    | 536/1000 [00:00<00:00, 2695.82it/s]\u001b[A\n",
      "item No.: 100%|██████████| 1000/1000 [00:00<00:00, 2767.65it/s][A\n",
      "Page No.:  10%|▉         | 12/121 [00:48<07:21,  4.05s/it]\n",
      "item No.:   0%|          | 0/1000 [00:00<?, ?it/s]\u001b[A\n",
      "item No.:  28%|██▊       | 283/1000 [00:00<00:00, 2826.94it/s]\u001b[A"
     ]
    },
    {
     "name": "stdout",
     "output_type": "stream",
     "text": [
      "의안 수: 1000\n"
     ]
    },
    {
     "name": "stderr",
     "output_type": "stream",
     "text": [
      "\n",
      "item No.:  54%|█████▍    | 541/1000 [00:00<00:00, 2748.01it/s]\u001b[A\n",
      "item No.: 100%|██████████| 1000/1000 [00:00<00:00, 2733.14it/s][A\n",
      "Page No.:  11%|█         | 13/121 [00:52<07:02,  3.91s/it]\n",
      "item No.:   0%|          | 0/1000 [00:00<?, ?it/s]\u001b[A\n",
      "item No.:  25%|██▍       | 248/1000 [00:00<00:00, 2476.78it/s]\u001b[A\n"
     ]
    },
    {
     "name": "stdout",
     "output_type": "stream",
     "text": [
      "의안 수: 1000\n"
     ]
    },
    {
     "name": "stderr",
     "output_type": "stream",
     "text": [
      "item No.:  52%|█████▏    | 523/1000 [00:00<00:00, 2551.13it/s]\u001b[A\n",
      "item No.: 100%|██████████| 1000/1000 [00:00<00:00, 2565.93it/s][A\n",
      "Page No.:  12%|█▏        | 14/121 [00:56<07:02,  3.95s/it]\n",
      "item No.:   0%|          | 0/1000 [00:00<?, ?it/s]\u001b[A\n",
      "item No.:  29%|██▉       | 293/1000 [00:00<00:00, 2923.26it/s]\u001b[A"
     ]
    },
    {
     "name": "stdout",
     "output_type": "stream",
     "text": [
      "의안 수: 1000\n"
     ]
    },
    {
     "name": "stderr",
     "output_type": "stream",
     "text": [
      "\n",
      "item No.:  58%|█████▊    | 584/1000 [00:00<00:00, 2916.55it/s]\u001b[A\n",
      "item No.: 100%|██████████| 1000/1000 [00:00<00:00, 2814.56it/s][A\n",
      "Page No.:  12%|█▏        | 15/121 [01:00<06:51,  3.88s/it]\n",
      "item No.:   0%|          | 0/1000 [00:00<?, ?it/s]\u001b[A\n",
      "item No.:  29%|██▉       | 288/1000 [00:00<00:00, 2878.97it/s]\u001b[A"
     ]
    },
    {
     "name": "stdout",
     "output_type": "stream",
     "text": [
      "의안 수: 1000\n"
     ]
    },
    {
     "name": "stderr",
     "output_type": "stream",
     "text": [
      "\n",
      "item No.:  58%|█████▊    | 580/1000 [00:00<00:00, 2889.78it/s]\u001b[A\n",
      "item No.: 100%|██████████| 1000/1000 [00:00<00:00, 2842.43it/s][A\n",
      "Page No.:  13%|█▎        | 16/121 [01:04<06:57,  3.97s/it]\n",
      "item No.:   0%|          | 0/1000 [00:00<?, ?it/s]\u001b[A\n",
      "item No.:  30%|██▉       | 299/1000 [00:00<00:00, 2986.24it/s]\u001b[A"
     ]
    },
    {
     "name": "stdout",
     "output_type": "stream",
     "text": [
      "의안 수: 1000\n"
     ]
    },
    {
     "name": "stderr",
     "output_type": "stream",
     "text": [
      "\n",
      "item No.:  60%|█████▉    | 598/1000 [00:00<00:00, 2987.30it/s]\u001b[A\n",
      "item No.: 100%|██████████| 1000/1000 [00:00<00:00, 2897.97it/s][A\n",
      "Page No.:  14%|█▍        | 17/121 [01:08<06:57,  4.02s/it]\n",
      "item No.:   0%|          | 0/1000 [00:00<?, ?it/s]\u001b[A\n",
      "item No.:  29%|██▉       | 291/1000 [00:00<00:00, 2905.88it/s]\u001b[A"
     ]
    },
    {
     "name": "stdout",
     "output_type": "stream",
     "text": [
      "의안 수: 1000\n"
     ]
    },
    {
     "name": "stderr",
     "output_type": "stream",
     "text": [
      "\n",
      "item No.:  54%|█████▍    | 542/1000 [00:00<00:00, 2772.46it/s]\u001b[A\n",
      "item No.:  73%|███████▎  | 726/1000 [00:00<00:00, 2404.34it/s]\u001b[A\n",
      "item No.: 100%|██████████| 1000/1000 [00:00<00:00, 2447.53it/s][A\n",
      "Page No.:  15%|█▍        | 18/121 [01:12<06:54,  4.03s/it]\n",
      "item No.:   0%|          | 0/1000 [00:00<?, ?it/s]\u001b[A\n",
      "item No.:  28%|██▊       | 275/1000 [00:00<00:00, 2748.82it/s]\u001b[A"
     ]
    },
    {
     "name": "stdout",
     "output_type": "stream",
     "text": [
      "의안 수: 1000\n"
     ]
    },
    {
     "name": "stderr",
     "output_type": "stream",
     "text": [
      "\n",
      "item No.:  48%|████▊     | 483/1000 [00:00<00:00, 2502.39it/s]\u001b[A\n",
      "item No.:  70%|███████   | 700/1000 [00:00<00:00, 2390.82it/s]\u001b[A\n",
      "item No.: 100%|██████████| 1000/1000 [00:00<00:00, 2258.61it/s][A\n",
      "Page No.:  16%|█▌        | 19/121 [01:16<06:45,  3.97s/it]\n",
      "item No.:   0%|          | 0/1000 [00:00<?, ?it/s]\u001b[A\n",
      "item No.:  32%|███▏      | 315/1000 [00:00<00:00, 3146.96it/s]\u001b[A"
     ]
    },
    {
     "name": "stdout",
     "output_type": "stream",
     "text": [
      "의안 수: 1000\n"
     ]
    },
    {
     "name": "stderr",
     "output_type": "stream",
     "text": [
      "\n",
      "item No.:  62%|██████▏   | 622/1000 [00:00<00:00, 3121.36it/s]\u001b[A\n",
      "item No.: 100%|██████████| 1000/1000 [00:00<00:00, 3074.00it/s][A\n",
      "Page No.:  17%|█▋        | 20/121 [01:20<06:51,  4.07s/it]\n",
      "item No.:   0%|          | 0/1000 [00:00<?, ?it/s]\u001b[A\n",
      "item No.:  31%|███       | 311/1000 [00:00<00:00, 3105.86it/s]\u001b[A"
     ]
    },
    {
     "name": "stdout",
     "output_type": "stream",
     "text": [
      "의안 수: 1000\n"
     ]
    },
    {
     "name": "stderr",
     "output_type": "stream",
     "text": [
      "\n",
      "item No.:  57%|█████▋    | 569/1000 [00:00<00:00, 2925.69it/s]\u001b[A\n",
      "item No.: 100%|██████████| 1000/1000 [00:00<00:00, 2888.80it/s][A\n",
      "Page No.:  17%|█▋        | 21/121 [01:24<06:55,  4.16s/it]\n",
      "item No.:   0%|          | 0/1000 [00:00<?, ?it/s]\u001b[A\n",
      "item No.:  31%|███       | 312/1000 [00:00<00:00, 3111.13it/s]\u001b[A"
     ]
    },
    {
     "name": "stdout",
     "output_type": "stream",
     "text": [
      "의안 수: 1000\n"
     ]
    },
    {
     "name": "stderr",
     "output_type": "stream",
     "text": [
      "\n",
      "item No.:  60%|██████    | 603/1000 [00:00<00:00, 3047.25it/s]\u001b[A\n",
      "item No.: 100%|██████████| 1000/1000 [00:00<00:00, 2886.83it/s][A\n",
      "Page No.:  18%|█▊        | 22/121 [01:28<06:45,  4.10s/it]\n",
      "item No.:   0%|          | 0/1000 [00:00<?, ?it/s]\u001b[A\n",
      "item No.:  29%|██▉       | 293/1000 [00:00<00:00, 2928.03it/s]\u001b[A"
     ]
    },
    {
     "name": "stdout",
     "output_type": "stream",
     "text": [
      "의안 수: 1000\n"
     ]
    },
    {
     "name": "stderr",
     "output_type": "stream",
     "text": [
      "\n",
      "item No.:  58%|█████▊    | 585/1000 [00:00<00:00, 2924.40it/s]\u001b[A\n",
      "item No.: 100%|██████████| 1000/1000 [00:00<00:00, 2691.46it/s][A\n",
      "Page No.:  19%|█▉        | 23/121 [01:33<06:50,  4.19s/it]\n",
      "item No.:   0%|          | 0/1000 [00:00<?, ?it/s]\u001b[A\n",
      "item No.:  29%|██▉       | 289/1000 [00:00<00:00, 2884.60it/s]\u001b[A"
     ]
    },
    {
     "name": "stdout",
     "output_type": "stream",
     "text": [
      "의안 수: 1000\n"
     ]
    },
    {
     "name": "stderr",
     "output_type": "stream",
     "text": [
      "\n",
      "item No.:  57%|█████▊    | 575/1000 [00:00<00:00, 2876.36it/s]\u001b[A\n",
      "item No.: 100%|██████████| 1000/1000 [00:00<00:00, 2864.61it/s][A\n",
      "Page No.:  20%|█▉        | 24/121 [01:37<06:50,  4.23s/it]\n",
      "item No.:   0%|          | 0/1000 [00:00<?, ?it/s]\u001b[A\n",
      "item No.:  28%|██▊       | 282/1000 [00:00<00:00, 2819.61it/s]\u001b[A"
     ]
    },
    {
     "name": "stdout",
     "output_type": "stream",
     "text": [
      "의안 수: 1000\n"
     ]
    },
    {
     "name": "stderr",
     "output_type": "stream",
     "text": [
      "\n",
      "item No.:  55%|█████▍    | 547/1000 [00:00<00:00, 2765.91it/s]\u001b[A\n",
      "item No.: 100%|██████████| 1000/1000 [00:00<00:00, 2748.99it/s][A\n",
      "Page No.:  21%|██        | 25/121 [01:41<06:46,  4.23s/it]\n",
      "item No.:   0%|          | 0/1000 [00:00<?, ?it/s]\u001b[A\n",
      "item No.:  29%|██▉       | 288/1000 [00:00<00:00, 2876.38it/s]\u001b[A"
     ]
    },
    {
     "name": "stdout",
     "output_type": "stream",
     "text": [
      "의안 수: 1000\n"
     ]
    },
    {
     "name": "stderr",
     "output_type": "stream",
     "text": [
      "\n",
      "item No.:  58%|█████▊    | 581/1000 [00:00<00:00, 2890.01it/s]\u001b[A\n",
      "item No.: 100%|██████████| 1000/1000 [00:00<00:00, 2872.52it/s][A\n",
      "Page No.:  21%|██▏       | 26/121 [01:46<06:42,  4.24s/it]\n",
      "item No.:   0%|          | 0/1000 [00:00<?, ?it/s]\u001b[A\n",
      "item No.:  29%|██▉       | 291/1000 [00:00<00:00, 2908.28it/s]\u001b[A"
     ]
    },
    {
     "name": "stdout",
     "output_type": "stream",
     "text": [
      "의안 수: 1000\n"
     ]
    },
    {
     "name": "stderr",
     "output_type": "stream",
     "text": [
      "\n",
      "item No.:  58%|█████▊    | 576/1000 [00:00<00:00, 2889.12it/s]\u001b[A\n",
      "item No.: 100%|██████████| 1000/1000 [00:00<00:00, 2882.04it/s][A\n",
      "Page No.:  22%|██▏       | 27/121 [01:50<06:43,  4.29s/it]\n",
      "item No.:   0%|          | 0/1000 [00:00<?, ?it/s]\u001b[A\n",
      "item No.:  30%|███       | 305/1000 [00:00<00:00, 3047.65it/s]\u001b[A"
     ]
    },
    {
     "name": "stdout",
     "output_type": "stream",
     "text": [
      "의안 수: 1000\n"
     ]
    },
    {
     "name": "stderr",
     "output_type": "stream",
     "text": [
      "\n",
      "item No.:  61%|██████▏   | 614/1000 [00:00<00:00, 3059.15it/s]\u001b[A\n",
      "item No.: 100%|██████████| 1000/1000 [00:00<00:00, 3061.08it/s][A\n",
      "Page No.:  23%|██▎       | 28/121 [01:54<06:29,  4.19s/it]\n",
      "item No.:   0%|          | 0/1000 [00:00<?, ?it/s]\u001b[A\n",
      "item No.:  30%|███       | 301/1000 [00:00<00:00, 3005.70it/s]\u001b[A"
     ]
    },
    {
     "name": "stdout",
     "output_type": "stream",
     "text": [
      "의안 수: 1000\n"
     ]
    },
    {
     "name": "stderr",
     "output_type": "stream",
     "text": [
      "\n",
      "item No.:  58%|█████▊    | 580/1000 [00:00<00:00, 2937.23it/s]\u001b[A\n",
      "item No.: 100%|██████████| 1000/1000 [00:00<00:00, 2909.81it/s][A\n",
      "Page No.:  24%|██▍       | 29/121 [01:58<06:31,  4.26s/it]\n",
      "item No.:   0%|          | 0/1000 [00:00<?, ?it/s]\u001b[A\n",
      "item No.:  31%|███       | 307/1000 [00:00<00:00, 3069.42it/s]\u001b[A"
     ]
    },
    {
     "name": "stdout",
     "output_type": "stream",
     "text": [
      "의안 수: 1000\n"
     ]
    },
    {
     "name": "stderr",
     "output_type": "stream",
     "text": [
      "\n",
      "item No.:  62%|██████▏   | 622/1000 [00:00<00:00, 3091.07it/s]\u001b[A\n",
      "item No.: 100%|██████████| 1000/1000 [00:00<00:00, 3067.83it/s][A\n",
      "Page No.:  25%|██▍       | 30/121 [02:02<06:17,  4.15s/it]\n",
      "item No.:   0%|          | 0/1000 [00:00<?, ?it/s]\u001b[A\n",
      "item No.:  30%|███       | 300/1000 [00:00<00:00, 2992.07it/s]\u001b[A"
     ]
    },
    {
     "name": "stdout",
     "output_type": "stream",
     "text": [
      "의안 수: 1000\n"
     ]
    },
    {
     "name": "stderr",
     "output_type": "stream",
     "text": [
      "\n",
      "item No.:  61%|██████    | 609/1000 [00:00<00:00, 3018.89it/s]\u001b[A\n",
      "item No.: 100%|██████████| 1000/1000 [00:00<00:00, 2857.02it/s][A\n",
      "Page No.:  26%|██▌       | 31/121 [02:06<06:09,  4.11s/it]\n",
      "item No.:   0%|          | 0/1000 [00:00<?, ?it/s]\u001b[A\n",
      "item No.:  31%|███       | 308/1000 [00:00<00:00, 3077.69it/s]\u001b[A"
     ]
    },
    {
     "name": "stdout",
     "output_type": "stream",
     "text": [
      "의안 수: 1000\n"
     ]
    },
    {
     "name": "stderr",
     "output_type": "stream",
     "text": [
      "\n",
      "item No.:  61%|██████    | 611/1000 [00:00<00:00, 3060.81it/s]\u001b[A\n",
      "item No.: 100%|██████████| 1000/1000 [00:00<00:00, 2943.38it/s][A\n",
      "Page No.:  26%|██▋       | 32/121 [02:10<05:51,  3.95s/it]\n",
      "item No.:   0%|          | 0/1000 [00:00<?, ?it/s]\u001b[A\n",
      "item No.:  30%|███       | 303/1000 [00:00<00:00, 3024.26it/s]\u001b[A"
     ]
    },
    {
     "name": "stdout",
     "output_type": "stream",
     "text": [
      "의안 수: 1000\n"
     ]
    },
    {
     "name": "stderr",
     "output_type": "stream",
     "text": [
      "\n",
      "item No.:  60%|█████▉    | 599/1000 [00:00<00:00, 3002.99it/s]\u001b[A\n",
      "item No.: 100%|██████████| 1000/1000 [00:00<00:00, 2946.59it/s][A\n",
      "Page No.:  27%|██▋       | 33/121 [02:14<05:42,  3.89s/it]\n",
      "item No.:   0%|          | 0/1000 [00:00<?, ?it/s]\u001b[A\n",
      "item No.:  30%|███       | 305/1000 [00:00<00:00, 3044.31it/s]\u001b[A"
     ]
    },
    {
     "name": "stdout",
     "output_type": "stream",
     "text": [
      "의안 수: 1000\n"
     ]
    },
    {
     "name": "stderr",
     "output_type": "stream",
     "text": [
      "\n",
      "item No.:  61%|██████    | 611/1000 [00:00<00:00, 3047.07it/s]\u001b[A\n",
      "item No.: 100%|██████████| 1000/1000 [00:00<00:00, 2973.58it/s][A\n",
      "Page No.:  28%|██▊       | 34/121 [02:17<05:33,  3.83s/it]\n",
      "item No.:   0%|          | 0/1000 [00:00<?, ?it/s]\u001b[A\n",
      "item No.:  30%|███       | 304/1000 [00:00<00:00, 3033.81it/s]\u001b[A"
     ]
    },
    {
     "name": "stdout",
     "output_type": "stream",
     "text": [
      "의안 수: 1000\n"
     ]
    },
    {
     "name": "stderr",
     "output_type": "stream",
     "text": [
      "\n",
      "item No.:  61%|██████    | 611/1000 [00:00<00:00, 3043.73it/s]\u001b[A\n",
      "item No.: 100%|██████████| 1000/1000 [00:00<00:00, 2972.20it/s][A\n",
      "Page No.:  29%|██▉       | 35/121 [02:21<05:31,  3.86s/it]\n",
      "item No.:   0%|          | 0/1000 [00:00<?, ?it/s]\u001b[A\n",
      "item No.:  30%|███       | 303/1000 [00:00<00:00, 3029.89it/s]\u001b[A"
     ]
    },
    {
     "name": "stdout",
     "output_type": "stream",
     "text": [
      "의안 수: 1000\n"
     ]
    },
    {
     "name": "stderr",
     "output_type": "stream",
     "text": [
      "\n",
      "item No.:  61%|██████    | 612/1000 [00:00<00:00, 3047.19it/s]\u001b[A\n",
      "item No.: 100%|██████████| 1000/1000 [00:00<00:00, 3003.15it/s][A\n",
      "Page No.:  30%|██▉       | 36/121 [02:26<05:58,  4.22s/it]\n",
      "item No.:   0%|          | 0/1000 [00:00<?, ?it/s]\u001b[A\n",
      "item No.:  31%|███▏      | 313/1000 [00:00<00:00, 3129.69it/s]\u001b[A"
     ]
    },
    {
     "name": "stdout",
     "output_type": "stream",
     "text": [
      "의안 수: 1000\n"
     ]
    },
    {
     "name": "stderr",
     "output_type": "stream",
     "text": [
      "\n",
      "item No.:  62%|██████▏   | 620/1000 [00:00<00:00, 3106.70it/s]\u001b[A\n",
      "item No.: 100%|██████████| 1000/1000 [00:00<00:00, 3019.99it/s][A\n",
      "Page No.:  31%|███       | 37/121 [02:30<05:39,  4.05s/it]\n",
      "item No.:   0%|          | 0/1000 [00:00<?, ?it/s]\u001b[A\n",
      "item No.:  31%|███       | 307/1000 [00:00<00:00, 3063.81it/s]\u001b[A"
     ]
    },
    {
     "name": "stdout",
     "output_type": "stream",
     "text": [
      "의안 수: 1000\n"
     ]
    },
    {
     "name": "stderr",
     "output_type": "stream",
     "text": [
      "\n",
      "item No.:  61%|██████▏   | 613/1000 [00:00<00:00, 3060.67it/s]\u001b[A\n",
      "item No.: 100%|██████████| 1000/1000 [00:00<00:00, 2954.26it/s][A\n",
      "Page No.:  31%|███▏      | 38/121 [02:34<05:32,  4.00s/it]\n",
      "item No.:   0%|          | 0/1000 [00:00<?, ?it/s]\u001b[A\n",
      "item No.:  30%|███       | 302/1000 [00:00<00:00, 3012.62it/s]\u001b[A"
     ]
    },
    {
     "name": "stdout",
     "output_type": "stream",
     "text": [
      "의안 수: 1000\n"
     ]
    },
    {
     "name": "stderr",
     "output_type": "stream",
     "text": [
      "\n",
      "item No.:  60%|██████    | 602/1000 [00:00<00:00, 3007.23it/s]\u001b[A\n",
      "item No.: 100%|██████████| 1000/1000 [00:00<00:00, 2935.45it/s][A\n",
      "Page No.:  32%|███▏      | 39/121 [02:38<05:32,  4.05s/it]\n",
      "item No.:   0%|          | 0/1000 [00:00<?, ?it/s]\u001b[A\n",
      "item No.:  31%|███       | 311/1000 [00:00<00:00, 3106.40it/s]\u001b[A"
     ]
    },
    {
     "name": "stdout",
     "output_type": "stream",
     "text": [
      "의안 수: 1000\n"
     ]
    },
    {
     "name": "stderr",
     "output_type": "stream",
     "text": [
      "\n",
      "item No.:  62%|██████▏   | 618/1000 [00:00<00:00, 3094.25it/s]\u001b[A\n",
      "item No.: 100%|██████████| 1000/1000 [00:00<00:00, 3005.86it/s][A\n",
      "Page No.:  33%|███▎      | 40/121 [02:42<05:19,  3.95s/it]\n",
      "item No.:   0%|          | 0/1000 [00:00<?, ?it/s]\u001b[A\n",
      "item No.:  30%|███       | 305/1000 [00:00<00:00, 3047.87it/s]\u001b[A"
     ]
    },
    {
     "name": "stdout",
     "output_type": "stream",
     "text": [
      "의안 수: 1000\n"
     ]
    },
    {
     "name": "stderr",
     "output_type": "stream",
     "text": [
      "\n",
      "item No.:  61%|██████    | 611/1000 [00:00<00:00, 3051.21it/s]\u001b[A\n",
      "item No.: 100%|██████████| 1000/1000 [00:00<00:00, 2960.65it/s][A\n",
      "Page No.:  34%|███▍      | 41/121 [02:46<05:15,  3.94s/it]\n",
      "item No.:   0%|          | 0/1000 [00:00<?, ?it/s]\u001b[A\n",
      "item No.:  31%|███       | 310/1000 [00:00<00:00, 3097.09it/s]\u001b[A"
     ]
    },
    {
     "name": "stdout",
     "output_type": "stream",
     "text": [
      "의안 수: 1000\n"
     ]
    },
    {
     "name": "stderr",
     "output_type": "stream",
     "text": [
      "\n",
      "item No.:  61%|██████    | 609/1000 [00:00<00:00, 3063.13it/s]\u001b[A\n",
      "item No.: 100%|██████████| 1000/1000 [00:00<00:00, 2989.50it/s][A\n",
      "Page No.:  35%|███▍      | 42/121 [02:50<05:14,  3.98s/it]\n",
      "item No.:   0%|          | 0/1000 [00:00<?, ?it/s]\u001b[A\n",
      "item No.:  30%|███       | 303/1000 [00:00<00:00, 3028.10it/s]\u001b[A"
     ]
    },
    {
     "name": "stdout",
     "output_type": "stream",
     "text": [
      "의안 수: 1000\n"
     ]
    },
    {
     "name": "stderr",
     "output_type": "stream",
     "text": [
      "\n",
      "item No.:  61%|██████▏   | 613/1000 [00:00<00:00, 3047.13it/s]\u001b[A\n",
      "item No.: 100%|██████████| 1000/1000 [00:00<00:00, 2788.31it/s][A\n",
      "Page No.:  36%|███▌      | 43/121 [02:55<05:45,  4.42s/it]\n",
      "item No.:   0%|          | 0/1000 [00:00<?, ?it/s]\u001b[A\n",
      "item No.:  30%|██▉       | 297/1000 [00:00<00:00, 2964.19it/s]\u001b[A"
     ]
    },
    {
     "name": "stdout",
     "output_type": "stream",
     "text": [
      "의안 수: 1000\n"
     ]
    },
    {
     "name": "stderr",
     "output_type": "stream",
     "text": [
      "\n",
      "item No.:  60%|██████    | 601/1000 [00:00<00:00, 2984.66it/s]\u001b[A\n",
      "item No.: 100%|██████████| 1000/1000 [00:00<00:00, 2956.96it/s][A\n",
      "Page No.:  36%|███▋      | 44/121 [02:59<05:25,  4.22s/it]\n",
      "item No.:   0%|          | 0/1000 [00:00<?, ?it/s]\u001b[A\n",
      "item No.:  30%|███       | 300/1000 [00:00<00:00, 2993.12it/s]\u001b[A"
     ]
    },
    {
     "name": "stdout",
     "output_type": "stream",
     "text": [
      "의안 수: 1000\n"
     ]
    },
    {
     "name": "stderr",
     "output_type": "stream",
     "text": [
      "\n",
      "item No.:  60%|██████    | 601/1000 [00:00<00:00, 2997.17it/s]\u001b[A\n",
      "item No.: 100%|██████████| 1000/1000 [00:00<00:00, 2964.05it/s][A\n",
      "Page No.:  37%|███▋      | 45/121 [03:04<05:33,  4.39s/it]\n",
      "item No.:   0%|          | 0/1000 [00:00<?, ?it/s]\u001b[A\n",
      "item No.:  28%|██▊       | 278/1000 [00:00<00:00, 2775.59it/s]\u001b[A"
     ]
    },
    {
     "name": "stdout",
     "output_type": "stream",
     "text": [
      "의안 수: 1000\n"
     ]
    },
    {
     "name": "stderr",
     "output_type": "stream",
     "text": [
      "\n",
      "item No.:  54%|█████▎    | 537/1000 [00:00<00:00, 2713.83it/s]\u001b[A\n",
      "item No.: 100%|██████████| 1000/1000 [00:00<00:00, 2666.05it/s][A\n",
      "Page No.:  38%|███▊      | 46/121 [03:08<05:17,  4.23s/it]\n",
      "item No.:   0%|          | 0/1000 [00:00<?, ?it/s]\u001b[A\n",
      "item No.:  30%|███       | 301/1000 [00:00<00:00, 3004.89it/s]\u001b[A"
     ]
    },
    {
     "name": "stdout",
     "output_type": "stream",
     "text": [
      "의안 수: 1000\n"
     ]
    },
    {
     "name": "stderr",
     "output_type": "stream",
     "text": [
      "\n",
      "item No.:  60%|██████    | 601/1000 [00:00<00:00, 3002.72it/s]\u001b[A\n",
      "item No.: 100%|██████████| 1000/1000 [00:00<00:00, 2858.10it/s][A\n",
      "Page No.:  39%|███▉      | 47/121 [03:12<05:14,  4.25s/it]\n",
      "item No.:   0%|          | 0/1000 [00:00<?, ?it/s]\u001b[A\n",
      "item No.:  30%|██▉       | 297/1000 [00:00<00:00, 2965.58it/s]\u001b[A"
     ]
    },
    {
     "name": "stdout",
     "output_type": "stream",
     "text": [
      "의안 수: 1000\n"
     ]
    },
    {
     "name": "stderr",
     "output_type": "stream",
     "text": [
      "\n",
      "item No.:  59%|█████▉    | 592/1000 [00:00<00:00, 2958.21it/s]\u001b[A\n",
      "item No.: 100%|██████████| 1000/1000 [00:00<00:00, 2816.54it/s][A\n",
      "Page No.:  40%|███▉      | 48/121 [03:16<05:02,  4.14s/it]\n",
      "item No.:   0%|          | 0/1000 [00:00<?, ?it/s]\u001b[A\n",
      "item No.:  30%|██▉       | 295/1000 [00:00<00:00, 2948.87it/s]\u001b[A"
     ]
    },
    {
     "name": "stdout",
     "output_type": "stream",
     "text": [
      "의안 수: 1000\n"
     ]
    },
    {
     "name": "stderr",
     "output_type": "stream",
     "text": [
      "\n",
      "item No.:  60%|█████▉    | 595/1000 [00:00<00:00, 2963.64it/s]\u001b[A\n",
      "item No.: 100%|██████████| 1000/1000 [00:00<00:00, 2904.71it/s][A\n",
      "Page No.:  40%|████      | 49/121 [03:19<04:48,  4.00s/it]\n",
      "item No.:   0%|          | 0/1000 [00:00<?, ?it/s]\u001b[A\n",
      "item No.:  31%|███       | 311/1000 [00:00<00:00, 3108.20it/s]\u001b[A"
     ]
    },
    {
     "name": "stdout",
     "output_type": "stream",
     "text": [
      "의안 수: 1000\n"
     ]
    },
    {
     "name": "stderr",
     "output_type": "stream",
     "text": [
      "\n",
      "item No.:  62%|██████▎   | 625/1000 [00:00<00:00, 3116.10it/s]\u001b[A\n",
      "item No.: 100%|██████████| 1000/1000 [00:00<00:00, 3016.76it/s][A\n",
      "Page No.:  41%|████▏     | 50/121 [03:23<04:36,  3.90s/it]\n",
      "item No.:   0%|          | 0/1000 [00:00<?, ?it/s]\u001b[A\n",
      "item No.:  31%|███       | 308/1000 [00:00<00:00, 3075.33it/s]\u001b[A"
     ]
    },
    {
     "name": "stdout",
     "output_type": "stream",
     "text": [
      "의안 수: 1000\n"
     ]
    },
    {
     "name": "stderr",
     "output_type": "stream",
     "text": [
      "\n",
      "item No.:  61%|██████▏   | 613/1000 [00:00<00:00, 3067.63it/s]\u001b[A\n",
      "item No.: 100%|██████████| 1000/1000 [00:00<00:00, 3009.18it/s][A\n",
      "Page No.:  42%|████▏     | 51/121 [03:27<04:27,  3.83s/it]\n",
      "item No.:   0%|          | 0/1000 [00:00<?, ?it/s]\u001b[A\n",
      "item No.:  31%|███▏      | 313/1000 [00:00<00:00, 3129.18it/s]\u001b[A"
     ]
    },
    {
     "name": "stdout",
     "output_type": "stream",
     "text": [
      "의안 수: 1000\n"
     ]
    },
    {
     "name": "stderr",
     "output_type": "stream",
     "text": [
      "\n",
      "item No.:  62%|██████▏   | 619/1000 [00:00<00:00, 3105.51it/s]\u001b[A\n",
      "item No.: 100%|██████████| 1000/1000 [00:00<00:00, 3008.74it/s][A\n",
      "Page No.:  43%|████▎     | 52/121 [03:31<04:31,  3.93s/it]\n",
      "item No.:   0%|          | 0/1000 [00:00<?, ?it/s]\u001b[A\n",
      "item No.:  31%|███       | 306/1000 [00:00<00:00, 3058.35it/s]\u001b[A"
     ]
    },
    {
     "name": "stdout",
     "output_type": "stream",
     "text": [
      "의안 수: 1000\n"
     ]
    },
    {
     "name": "stderr",
     "output_type": "stream",
     "text": [
      "\n",
      "item No.:  63%|██████▎   | 627/1000 [00:00<00:00, 3100.05it/s]\u001b[A\n",
      "item No.: 100%|██████████| 1000/1000 [00:00<00:00, 3078.71it/s][A\n",
      "Page No.:  44%|████▍     | 53/121 [03:35<04:21,  3.85s/it]\n",
      "item No.:   0%|          | 0/1000 [00:00<?, ?it/s]\u001b[A\n",
      "item No.:  29%|██▉       | 293/1000 [00:00<00:00, 2923.77it/s]\u001b[A"
     ]
    },
    {
     "name": "stdout",
     "output_type": "stream",
     "text": [
      "의안 수: 1000\n"
     ]
    },
    {
     "name": "stderr",
     "output_type": "stream",
     "text": [
      "\n",
      "item No.:  60%|██████    | 602/1000 [00:00<00:00, 2971.25it/s]\u001b[A\n",
      "item No.: 100%|██████████| 1000/1000 [00:00<00:00, 2921.36it/s][A\n",
      "Page No.:  45%|████▍     | 54/121 [03:44<06:06,  5.46s/it]\n",
      "item No.:   0%|          | 0/1000 [00:00<?, ?it/s]\u001b[A\n",
      "item No.:  30%|███       | 303/1000 [00:00<00:00, 3028.61it/s]\u001b[A"
     ]
    },
    {
     "name": "stdout",
     "output_type": "stream",
     "text": [
      "의안 수: 1000\n"
     ]
    },
    {
     "name": "stderr",
     "output_type": "stream",
     "text": [
      "\n",
      "item No.:  60%|██████    | 602/1000 [00:00<00:00, 3015.58it/s]\u001b[A\n",
      "item No.: 100%|██████████| 1000/1000 [00:00<00:00, 2945.80it/s][A\n",
      "Page No.:  45%|████▌     | 55/121 [03:48<05:33,  5.06s/it]\n",
      "item No.:   0%|          | 0/1000 [00:00<?, ?it/s]\u001b[A\n",
      "item No.:  31%|███       | 312/1000 [00:00<00:00, 3118.69it/s]\u001b[A"
     ]
    },
    {
     "name": "stdout",
     "output_type": "stream",
     "text": [
      "의안 수: 1000\n"
     ]
    },
    {
     "name": "stderr",
     "output_type": "stream",
     "text": [
      "\n",
      "item No.:  62%|██████▏   | 615/1000 [00:00<00:00, 3090.62it/s]\u001b[A\n",
      "item No.: 100%|██████████| 1000/1000 [00:00<00:00, 3033.48it/s][A\n",
      "Page No.:  46%|████▋     | 56/121 [03:52<05:12,  4.81s/it]\n",
      "item No.:   0%|          | 0/1000 [00:00<?, ?it/s]\u001b[A\n",
      "item No.:  32%|███▏      | 317/1000 [00:00<00:00, 3163.77it/s]\u001b[A"
     ]
    },
    {
     "name": "stdout",
     "output_type": "stream",
     "text": [
      "의안 수: 1000\n"
     ]
    },
    {
     "name": "stderr",
     "output_type": "stream",
     "text": [
      "\n",
      "item No.:  62%|██████▏   | 621/1000 [00:00<00:00, 3122.91it/s]\u001b[A\n",
      "item No.: 100%|██████████| 1000/1000 [00:00<00:00, 3042.39it/s][A\n",
      "Page No.:  47%|████▋     | 57/121 [03:56<04:43,  4.43s/it]\n",
      "item No.:   0%|          | 0/1000 [00:00<?, ?it/s]\u001b[A\n",
      "item No.:  31%|███       | 309/1000 [00:00<00:00, 3084.26it/s]\u001b[A"
     ]
    },
    {
     "name": "stdout",
     "output_type": "stream",
     "text": [
      "의안 수: 1000\n"
     ]
    },
    {
     "name": "stderr",
     "output_type": "stream",
     "text": [
      "\n",
      "item No.:  61%|██████▏   | 613/1000 [00:00<00:00, 3069.04it/s]\u001b[A\n",
      "item No.: 100%|██████████| 1000/1000 [00:00<00:00, 3001.43it/s][A\n",
      "Page No.:  48%|████▊     | 58/121 [04:00<04:29,  4.28s/it]\n",
      "item No.:   0%|          | 0/1000 [00:00<?, ?it/s]\u001b[A\n",
      "item No.:  31%|███       | 310/1000 [00:00<00:00, 3097.00it/s]\u001b[A"
     ]
    },
    {
     "name": "stdout",
     "output_type": "stream",
     "text": [
      "의안 수: 1000\n"
     ]
    },
    {
     "name": "stderr",
     "output_type": "stream",
     "text": [
      "\n",
      "item No.:  60%|█████▉    | 596/1000 [00:00<00:00, 3020.32it/s]\u001b[A\n",
      "item No.: 100%|██████████| 1000/1000 [00:00<00:00, 2960.31it/s][A\n",
      "Page No.:  49%|████▉     | 59/121 [04:03<04:15,  4.12s/it]\n",
      "item No.:   0%|          | 0/1000 [00:00<?, ?it/s]\u001b[A\n",
      "item No.:  32%|███▏      | 315/1000 [00:00<00:00, 3147.45it/s]\u001b[A"
     ]
    },
    {
     "name": "stdout",
     "output_type": "stream",
     "text": [
      "의안 수: 1000\n"
     ]
    },
    {
     "name": "stderr",
     "output_type": "stream",
     "text": [
      "\n",
      "item No.:  62%|██████▏   | 623/1000 [00:00<00:00, 3125.67it/s]\u001b[A\n",
      "item No.: 100%|██████████| 1000/1000 [00:00<00:00, 3020.56it/s][A\n",
      "Page No.:  50%|████▉     | 60/121 [04:07<03:58,  3.91s/it]\n",
      "item No.:   0%|          | 0/1000 [00:00<?, ?it/s]\u001b[A\n",
      "item No.:  30%|███       | 304/1000 [00:00<00:00, 3039.23it/s]\u001b[A"
     ]
    },
    {
     "name": "stdout",
     "output_type": "stream",
     "text": [
      "의안 수: 1000\n"
     ]
    },
    {
     "name": "stderr",
     "output_type": "stream",
     "text": [
      "\n",
      "item No.:  61%|██████    | 606/1000 [00:00<00:00, 3030.80it/s]\u001b[A\n",
      "item No.: 100%|██████████| 1000/1000 [00:00<00:00, 2962.13it/s][A\n",
      "Page No.:  50%|█████     | 61/121 [04:11<03:55,  3.92s/it]\n",
      "item No.:   0%|          | 0/1000 [00:00<?, ?it/s]\u001b[A\n",
      "item No.:  30%|███       | 303/1000 [00:00<00:00, 3024.56it/s]\u001b[A"
     ]
    },
    {
     "name": "stdout",
     "output_type": "stream",
     "text": [
      "의안 수: 1000\n"
     ]
    },
    {
     "name": "stderr",
     "output_type": "stream",
     "text": [
      "\n",
      "item No.:  60%|██████    | 604/1000 [00:00<00:00, 3015.02it/s]\u001b[A\n",
      "item No.: 100%|██████████| 1000/1000 [00:00<00:00, 2895.50it/s][A\n",
      "Page No.:  51%|█████     | 62/121 [04:15<03:48,  3.87s/it]\n",
      "item No.:   0%|          | 0/1000 [00:00<?, ?it/s]\u001b[A\n",
      "item No.:  31%|███       | 311/1000 [00:00<00:00, 3106.61it/s]\u001b[A"
     ]
    },
    {
     "name": "stdout",
     "output_type": "stream",
     "text": [
      "의안 수: 1000\n"
     ]
    },
    {
     "name": "stderr",
     "output_type": "stream",
     "text": [
      "\n",
      "item No.:  61%|██████    | 607/1000 [00:00<00:00, 3058.40it/s]\u001b[A\n",
      "item No.: 100%|██████████| 1000/1000 [00:00<00:00, 2913.08it/s][A\n",
      "Page No.:  52%|█████▏    | 63/121 [04:18<03:41,  3.83s/it]\n",
      "item No.:   0%|          | 0/1000 [00:00<?, ?it/s]\u001b[A\n",
      "item No.:  30%|██▉       | 298/1000 [00:00<00:00, 2978.55it/s]\u001b[A"
     ]
    },
    {
     "name": "stdout",
     "output_type": "stream",
     "text": [
      "의안 수: 1000\n"
     ]
    },
    {
     "name": "stderr",
     "output_type": "stream",
     "text": [
      "\n",
      "item No.:  60%|██████    | 604/1000 [00:00<00:00, 3002.15it/s]\u001b[A\n",
      "item No.: 100%|██████████| 1000/1000 [00:00<00:00, 2962.96it/s][A\n",
      "Page No.:  53%|█████▎    | 64/121 [04:22<03:39,  3.86s/it]\n",
      "item No.:   0%|          | 0/1000 [00:00<?, ?it/s]\u001b[A\n",
      "item No.:  32%|███▏      | 316/1000 [00:00<00:00, 3155.51it/s]\u001b[A"
     ]
    },
    {
     "name": "stdout",
     "output_type": "stream",
     "text": [
      "의안 수: 1000\n"
     ]
    },
    {
     "name": "stderr",
     "output_type": "stream",
     "text": [
      "\n",
      "item No.:  62%|██████▏   | 623/1000 [00:00<00:00, 3128.61it/s]\u001b[A\n",
      "item No.: 100%|██████████| 1000/1000 [00:00<00:00, 3026.91it/s][A\n",
      "Page No.:  54%|█████▎    | 65/121 [04:26<03:32,  3.79s/it]\n",
      "item No.:   0%|          | 0/1000 [00:00<?, ?it/s]\u001b[A\n",
      "item No.:  32%|███▏      | 316/1000 [00:00<00:00, 3156.62it/s]\u001b[A"
     ]
    },
    {
     "name": "stdout",
     "output_type": "stream",
     "text": [
      "의안 수: 1000\n"
     ]
    },
    {
     "name": "stderr",
     "output_type": "stream",
     "text": [
      "\n",
      "item No.:  62%|██████▎   | 625/1000 [00:00<00:00, 3135.81it/s]\u001b[A\n",
      "item No.: 100%|██████████| 1000/1000 [00:00<00:00, 3018.08it/s][A\n",
      "Page No.:  55%|█████▍    | 66/121 [04:30<03:27,  3.78s/it]\n",
      "item No.:   0%|          | 0/1000 [00:00<?, ?it/s]\u001b[A\n",
      "item No.:  31%|███       | 308/1000 [00:00<00:00, 3072.17it/s]\u001b[A"
     ]
    },
    {
     "name": "stdout",
     "output_type": "stream",
     "text": [
      "의안 수: 1000\n"
     ]
    },
    {
     "name": "stderr",
     "output_type": "stream",
     "text": [
      "\n",
      "item No.:  61%|██████    | 608/1000 [00:00<00:00, 3047.40it/s]\u001b[A\n",
      "item No.: 100%|██████████| 1000/1000 [00:00<00:00, 2917.68it/s][A\n",
      "Page No.:  55%|█████▌    | 67/121 [04:34<03:30,  3.90s/it]\n",
      "item No.:   0%|          | 0/1000 [00:00<?, ?it/s]\u001b[A\n",
      "item No.:  30%|███       | 305/1000 [00:00<00:00, 3042.97it/s]\u001b[A"
     ]
    },
    {
     "name": "stdout",
     "output_type": "stream",
     "text": [
      "의안 수: 1000\n"
     ]
    },
    {
     "name": "stderr",
     "output_type": "stream",
     "text": [
      "\n",
      "item No.:  61%|██████▏   | 613/1000 [00:00<00:00, 3053.96it/s]\u001b[A\n",
      "item No.: 100%|██████████| 1000/1000 [00:00<00:00, 2978.84it/s][A\n",
      "Page No.:  56%|█████▌    | 68/121 [04:37<03:21,  3.80s/it]\n",
      "item No.:   0%|          | 0/1000 [00:00<?, ?it/s]\u001b[A\n",
      "item No.:  30%|███       | 302/1000 [00:00<00:00, 3015.47it/s]\u001b[A"
     ]
    },
    {
     "name": "stdout",
     "output_type": "stream",
     "text": [
      "의안 수: 1000\n"
     ]
    },
    {
     "name": "stderr",
     "output_type": "stream",
     "text": [
      "\n",
      "item No.:  61%|██████    | 610/1000 [00:00<00:00, 3033.24it/s]\u001b[A\n",
      "item No.: 100%|██████████| 1000/1000 [00:00<00:00, 3006.34it/s][A\n",
      "Page No.:  57%|█████▋    | 69/121 [04:41<03:17,  3.80s/it]\n",
      "item No.:   0%|          | 0/1000 [00:00<?, ?it/s]\u001b[A\n",
      "item No.:  31%|███       | 306/1000 [00:00<00:00, 3052.67it/s]\u001b[A"
     ]
    },
    {
     "name": "stdout",
     "output_type": "stream",
     "text": [
      "의안 수: 1000\n"
     ]
    },
    {
     "name": "stderr",
     "output_type": "stream",
     "text": [
      "\n",
      "item No.:  62%|██████▏   | 618/1000 [00:00<00:00, 3070.15it/s]\u001b[A\n",
      "item No.: 100%|██████████| 1000/1000 [00:00<00:00, 2866.15it/s][A\n",
      "Page No.:  58%|█████▊    | 70/121 [04:45<03:10,  3.74s/it]\n",
      "item No.:   0%|          | 0/1000 [00:00<?, ?it/s]\u001b[A\n",
      "item No.:  26%|██▋       | 263/1000 [00:00<00:00, 2623.45it/s]\u001b[A"
     ]
    },
    {
     "name": "stdout",
     "output_type": "stream",
     "text": [
      "의안 수: 1000\n"
     ]
    },
    {
     "name": "stderr",
     "output_type": "stream",
     "text": [
      "\n",
      "item No.:  57%|█████▋    | 568/1000 [00:00<00:00, 2735.14it/s]\u001b[A\n",
      "item No.: 100%|██████████| 1000/1000 [00:00<00:00, 2753.47it/s][A\n",
      "Page No.:  59%|█████▊    | 71/121 [04:49<03:07,  3.75s/it]\n",
      "item No.:   0%|          | 0/1000 [00:00<?, ?it/s]\u001b[A\n",
      "item No.:  29%|██▉       | 293/1000 [00:00<00:00, 2918.33it/s]\u001b[A"
     ]
    },
    {
     "name": "stdout",
     "output_type": "stream",
     "text": [
      "의안 수: 1000\n"
     ]
    },
    {
     "name": "stderr",
     "output_type": "stream",
     "text": [
      "\n",
      "item No.:  58%|█████▊    | 580/1000 [00:00<00:00, 2901.23it/s]\u001b[A\n",
      "item No.: 100%|██████████| 1000/1000 [00:00<00:00, 2919.99it/s][A\n",
      "Page No.:  60%|█████▉    | 72/121 [04:53<03:08,  3.85s/it]\n",
      "item No.:   0%|          | 0/1000 [00:00<?, ?it/s]\u001b[A\n",
      "item No.:  31%|███       | 309/1000 [00:00<00:00, 3088.67it/s]\u001b[A"
     ]
    },
    {
     "name": "stdout",
     "output_type": "stream",
     "text": [
      "의안 수: 1000\n"
     ]
    },
    {
     "name": "stderr",
     "output_type": "stream",
     "text": [
      "\n",
      "item No.:  61%|██████    | 607/1000 [00:00<00:00, 3054.41it/s]\u001b[A\n",
      "item No.: 100%|██████████| 1000/1000 [00:00<00:00, 2890.67it/s][A\n",
      "Page No.:  60%|██████    | 73/121 [04:58<03:24,  4.25s/it]\n",
      "item No.:   0%|          | 0/1000 [00:00<?, ?it/s]\u001b[A\n",
      "item No.:  25%|██▍       | 248/1000 [00:00<00:00, 2472.68it/s]\u001b[A"
     ]
    },
    {
     "name": "stdout",
     "output_type": "stream",
     "text": [
      "의안 수: 1000\n"
     ]
    },
    {
     "name": "stderr",
     "output_type": "stream",
     "text": [
      "\n",
      "item No.:  55%|█████▍    | 546/1000 [00:00<00:00, 2601.82it/s]\u001b[A\n",
      "item No.: 100%|██████████| 1000/1000 [00:00<00:00, 2889.12it/s][A\n",
      "Page No.:  61%|██████    | 74/121 [05:01<03:08,  4.01s/it]\n",
      "item No.:   0%|          | 0/1000 [00:00<?, ?it/s]\u001b[A\n",
      "item No.:  32%|███▏      | 319/1000 [00:00<00:00, 3181.15it/s]\u001b[A"
     ]
    },
    {
     "name": "stdout",
     "output_type": "stream",
     "text": [
      "의안 수: 1000\n"
     ]
    },
    {
     "name": "stderr",
     "output_type": "stream",
     "text": [
      "\n",
      "item No.:  64%|██████▎   | 637/1000 [00:00<00:00, 3179.42it/s]\u001b[A\n",
      "item No.: 100%|██████████| 1000/1000 [00:00<00:00, 3152.09it/s][A\n",
      "Page No.:  62%|██████▏   | 75/121 [05:05<03:01,  3.94s/it]\n",
      "item No.:   0%|          | 0/1000 [00:00<?, ?it/s]\u001b[A\n",
      "item No.:  34%|███▎      | 336/1000 [00:00<00:00, 3354.33it/s]\u001b[A"
     ]
    },
    {
     "name": "stdout",
     "output_type": "stream",
     "text": [
      "의안 수: 1000\n"
     ]
    },
    {
     "name": "stderr",
     "output_type": "stream",
     "text": [
      "\n",
      "item No.:  64%|██████▍   | 641/1000 [00:00<00:00, 3254.14it/s]\u001b[A\n",
      "item No.: 100%|██████████| 1000/1000 [00:00<00:00, 3009.51it/s][A\n",
      "Page No.:  63%|██████▎   | 76/121 [05:09<02:54,  3.87s/it]\n",
      "item No.:   0%|          | 0/1000 [00:00<?, ?it/s]\u001b[A\n",
      "item No.:  30%|███       | 302/1000 [00:00<00:00, 3016.74it/s]\u001b[A"
     ]
    },
    {
     "name": "stdout",
     "output_type": "stream",
     "text": [
      "의안 수: 1000\n"
     ]
    },
    {
     "name": "stderr",
     "output_type": "stream",
     "text": [
      "\n",
      "item No.:  62%|██████▏   | 618/1000 [00:00<00:00, 3056.10it/s]\u001b[A\n",
      "item No.: 100%|██████████| 1000/1000 [00:00<00:00, 3006.19it/s][A\n",
      "Page No.:  64%|██████▎   | 77/121 [05:13<03:01,  4.12s/it]\n",
      "item No.:   0%|          | 0/1000 [00:00<?, ?it/s]\u001b[A\n",
      "item No.:  22%|██▎       | 225/1000 [00:00<00:00, 2249.82it/s]\u001b[A"
     ]
    },
    {
     "name": "stdout",
     "output_type": "stream",
     "text": [
      "의안 수: 1000\n"
     ]
    },
    {
     "name": "stderr",
     "output_type": "stream",
     "text": [
      "\n",
      "item No.:  44%|████▍     | 442/1000 [00:00<00:00, 2224.35it/s]\u001b[A\n",
      "item No.:  60%|██████    | 601/1000 [00:00<00:00, 1984.80it/s]\u001b[A\n",
      "item No.: 100%|██████████| 1000/1000 [00:00<00:00, 2035.14it/s][A\n",
      "Page No.:  64%|██████▍   | 78/121 [05:17<02:54,  4.07s/it]\n",
      "item No.:   0%|          | 0/1000 [00:00<?, ?it/s]\u001b[A\n",
      "item No.:  30%|███       | 301/1000 [00:00<00:00, 3008.50it/s]\u001b[A"
     ]
    },
    {
     "name": "stdout",
     "output_type": "stream",
     "text": [
      "의안 수: 1000\n"
     ]
    },
    {
     "name": "stderr",
     "output_type": "stream",
     "text": [
      "\n",
      "item No.:  57%|█████▋    | 571/1000 [00:00<00:00, 2908.59it/s]\u001b[A\n",
      "item No.: 100%|██████████| 1000/1000 [00:00<00:00, 2971.36it/s][A\n",
      "Page No.:  65%|██████▌   | 79/121 [05:21<02:50,  4.07s/it]\n",
      "item No.:   0%|          | 0/1000 [00:00<?, ?it/s]\u001b[A\n",
      "item No.:  31%|███       | 311/1000 [00:00<00:00, 3102.50it/s]\u001b[A"
     ]
    },
    {
     "name": "stdout",
     "output_type": "stream",
     "text": [
      "의안 수: 1000\n"
     ]
    },
    {
     "name": "stderr",
     "output_type": "stream",
     "text": [
      "\n",
      "item No.:  62%|██████▏   | 618/1000 [00:00<00:00, 3092.59it/s]\u001b[A\n",
      "item No.: 100%|██████████| 1000/1000 [00:00<00:00, 3096.60it/s][A\n",
      "Page No.:  66%|██████▌   | 80/121 [05:25<02:44,  4.01s/it]\n",
      "item No.:   0%|          | 0/1000 [00:00<?, ?it/s]\u001b[A\n",
      "item No.:  30%|███       | 300/1000 [00:00<00:00, 2999.88it/s]\u001b[A"
     ]
    },
    {
     "name": "stdout",
     "output_type": "stream",
     "text": [
      "의안 수: 1000\n"
     ]
    },
    {
     "name": "stderr",
     "output_type": "stream",
     "text": [
      "\n",
      "item No.:  59%|█████▊    | 586/1000 [00:00<00:00, 2953.62it/s]\u001b[A\n",
      "item No.:  79%|███████▊  | 787/1000 [00:00<00:00, 2578.03it/s]\u001b[A\n",
      "item No.: 100%|██████████| 1000/1000 [00:00<00:00, 1799.00it/s][A\n",
      "Page No.:  67%|██████▋   | 81/121 [05:29<02:40,  4.02s/it]\n",
      "item No.:   0%|          | 0/1000 [00:00<?, ?it/s]\u001b[A\n",
      "item No.:  14%|█▍        | 143/1000 [00:00<00:00, 1428.50it/s]\u001b[A"
     ]
    },
    {
     "name": "stdout",
     "output_type": "stream",
     "text": [
      "의안 수: 1000\n"
     ]
    },
    {
     "name": "stderr",
     "output_type": "stream",
     "text": [
      "\n",
      "item No.:  26%|██▋       | 264/1000 [00:00<00:00, 1352.98it/s]\u001b[A\n",
      "item No.:  50%|████▉     | 496/1000 [00:00<00:00, 1546.01it/s]\u001b[A\n",
      "item No.:  71%|███████   | 707/1000 [00:00<00:00, 1674.46it/s]\u001b[A\n",
      "item No.:  85%|████████▌ | 851/1000 [00:00<00:00, 1226.17it/s]\u001b[A\n",
      "item No.: 100%|██████████| 1000/1000 [00:00<00:00, 1187.23it/s][A\n",
      "Page No.:  68%|██████▊   | 82/121 [05:34<02:46,  4.26s/it]\n",
      "item No.:   0%|          | 0/1000 [00:00<?, ?it/s]\u001b[A\n",
      "item No.:  27%|██▋       | 271/1000 [00:00<00:00, 2701.17it/s]\u001b[A"
     ]
    },
    {
     "name": "stdout",
     "output_type": "stream",
     "text": [
      "의안 수: 1000\n"
     ]
    },
    {
     "name": "stderr",
     "output_type": "stream",
     "text": [
      "\n",
      "item No.:  56%|█████▌    | 560/1000 [00:00<00:00, 2753.84it/s]\u001b[A\n",
      "item No.: 100%|██████████| 1000/1000 [00:00<00:00, 2915.58it/s][A\n",
      "Page No.:  69%|██████▊   | 83/121 [05:38<02:36,  4.13s/it]\n",
      "item No.:   0%|          | 0/1000 [00:00<?, ?it/s]\u001b[A\n",
      "item No.:  26%|██▋       | 265/1000 [00:00<00:00, 2642.78it/s]\u001b[A"
     ]
    },
    {
     "name": "stdout",
     "output_type": "stream",
     "text": [
      "의안 수: 1000\n"
     ]
    },
    {
     "name": "stderr",
     "output_type": "stream",
     "text": [
      "\n",
      "item No.:  54%|█████▍    | 542/1000 [00:00<00:00, 2678.40it/s]\u001b[A\n",
      "item No.: 100%|██████████| 1000/1000 [00:00<00:00, 2739.07it/s][A\n",
      "Page No.:  69%|██████▉   | 84/121 [05:42<02:36,  4.23s/it]\n",
      "item No.:   0%|          | 0/1000 [00:00<?, ?it/s]\u001b[A\n",
      "item No.:  26%|██▌       | 259/1000 [00:00<00:00, 2584.49it/s]\u001b[A"
     ]
    },
    {
     "name": "stdout",
     "output_type": "stream",
     "text": [
      "의안 수: 1000\n"
     ]
    },
    {
     "name": "stderr",
     "output_type": "stream",
     "text": [
      "\n",
      "item No.:  52%|█████▏    | 520/1000 [00:00<00:00, 2591.29it/s]\u001b[A\n",
      "item No.: 100%|██████████| 1000/1000 [00:00<00:00, 2677.99it/s][A\n",
      "Page No.:  70%|███████   | 85/121 [05:46<02:27,  4.08s/it]\n",
      "item No.:   0%|          | 0/1000 [00:00<?, ?it/s]\u001b[A\n",
      "item No.:  30%|███       | 300/1000 [00:00<00:00, 2991.93it/s]\u001b[A"
     ]
    },
    {
     "name": "stdout",
     "output_type": "stream",
     "text": [
      "의안 수: 1000\n"
     ]
    },
    {
     "name": "stderr",
     "output_type": "stream",
     "text": [
      "\n",
      "item No.:  60%|█████▉    | 595/1000 [00:00<00:00, 2977.64it/s]\u001b[A\n",
      "item No.: 100%|██████████| 1000/1000 [00:00<00:00, 2887.91it/s][A\n",
      "Page No.:  71%|███████   | 86/121 [05:50<02:20,  4.01s/it]\n",
      "item No.:   0%|          | 0/1000 [00:00<?, ?it/s]\u001b[A\n",
      "item No.:  29%|██▉       | 294/1000 [00:00<00:00, 2934.87it/s]\u001b[A"
     ]
    },
    {
     "name": "stdout",
     "output_type": "stream",
     "text": [
      "의안 수: 1000\n"
     ]
    },
    {
     "name": "stderr",
     "output_type": "stream",
     "text": [
      "\n",
      "item No.:  57%|█████▊    | 575/1000 [00:00<00:00, 2896.21it/s]\u001b[A\n",
      "item No.: 100%|██████████| 1000/1000 [00:00<00:00, 2714.36it/s][A\n",
      "Page No.:  72%|███████▏  | 87/121 [05:54<02:13,  3.92s/it]\n",
      "item No.:   0%|          | 0/1000 [00:00<?, ?it/s]\u001b[A\n",
      "item No.:  27%|██▋       | 271/1000 [00:00<00:00, 2692.58it/s]\u001b[A"
     ]
    },
    {
     "name": "stdout",
     "output_type": "stream",
     "text": [
      "의안 수: 1000\n"
     ]
    },
    {
     "name": "stderr",
     "output_type": "stream",
     "text": [
      "\n",
      "item No.:  52%|█████▏    | 515/1000 [00:00<00:00, 2610.62it/s]\u001b[A\n",
      "item No.: 100%|██████████| 1000/1000 [00:00<00:00, 2670.07it/s][A\n",
      "Page No.:  73%|███████▎  | 88/121 [05:58<02:15,  4.10s/it]\n",
      "item No.:   0%|          | 0/1000 [00:00<?, ?it/s]\u001b[A\n",
      "item No.:  29%|██▉       | 289/1000 [00:00<00:00, 2884.69it/s]\u001b[A"
     ]
    },
    {
     "name": "stdout",
     "output_type": "stream",
     "text": [
      "의안 수: 1000\n"
     ]
    },
    {
     "name": "stderr",
     "output_type": "stream",
     "text": [
      "\n",
      "item No.:  58%|█████▊    | 582/1000 [00:00<00:00, 2898.12it/s]\u001b[A\n",
      "item No.: 100%|██████████| 1000/1000 [00:00<00:00, 2867.57it/s][A\n",
      "Page No.:  74%|███████▎  | 89/121 [06:03<02:13,  4.18s/it]\n",
      "item No.:   0%|          | 0/1000 [00:00<?, ?it/s]\u001b[A\n",
      "item No.:  32%|███▏      | 319/1000 [00:00<00:00, 3188.38it/s]\u001b[A"
     ]
    },
    {
     "name": "stdout",
     "output_type": "stream",
     "text": [
      "의안 수: 1000\n"
     ]
    },
    {
     "name": "stderr",
     "output_type": "stream",
     "text": [
      "\n",
      "item No.:  50%|█████     | 503/1000 [00:00<00:00, 2611.90it/s]\u001b[A\n",
      "item No.: 100%|██████████| 1000/1000 [00:00<00:00, 2575.97it/s][A\n",
      "Page No.:  74%|███████▍  | 90/121 [06:07<02:08,  4.15s/it]\n",
      "item No.:   0%|          | 0/1000 [00:00<?, ?it/s]\u001b[A\n",
      "item No.:  21%|██        | 207/1000 [00:00<00:00, 2064.36it/s]\u001b[A"
     ]
    },
    {
     "name": "stdout",
     "output_type": "stream",
     "text": [
      "의안 수: 1000\n"
     ]
    },
    {
     "name": "stderr",
     "output_type": "stream",
     "text": [
      "\n",
      "item No.:  44%|████▍     | 445/1000 [00:00<00:00, 2149.70it/s]\u001b[A\n",
      "item No.:  69%|██████▉   | 689/1000 [00:00<00:00, 2228.40it/s]\u001b[A\n",
      "item No.: 100%|██████████| 1000/1000 [00:00<00:00, 2393.56it/s][A\n",
      "Page No.:  75%|███████▌  | 91/121 [06:11<02:07,  4.26s/it]\n",
      "item No.:   0%|          | 0/1000 [00:00<?, ?it/s]\u001b[A\n",
      "item No.:  30%|███       | 300/1000 [00:00<00:00, 2993.92it/s]\u001b[A"
     ]
    },
    {
     "name": "stdout",
     "output_type": "stream",
     "text": [
      "의안 수: 1000\n"
     ]
    },
    {
     "name": "stderr",
     "output_type": "stream",
     "text": [
      "\n",
      "item No.:  56%|█████▋    | 565/1000 [00:00<00:00, 2875.32it/s]\u001b[A\n",
      "item No.: 100%|██████████| 1000/1000 [00:00<00:00, 2801.69it/s][A\n",
      "Page No.:  76%|███████▌  | 92/121 [06:15<01:58,  4.09s/it]\n",
      "item No.:   0%|          | 0/1000 [00:00<?, ?it/s]\u001b[A\n",
      "item No.:  30%|██▉       | 298/1000 [00:00<00:00, 2974.46it/s]\u001b[A"
     ]
    },
    {
     "name": "stdout",
     "output_type": "stream",
     "text": [
      "의안 수: 1000\n"
     ]
    },
    {
     "name": "stderr",
     "output_type": "stream",
     "text": [
      "\n",
      "item No.:  59%|█████▉    | 590/1000 [00:00<00:00, 2957.64it/s]\u001b[A\n",
      "item No.: 100%|██████████| 1000/1000 [00:00<00:00, 2821.12it/s][A\n",
      "Page No.:  77%|███████▋  | 93/121 [06:19<01:54,  4.09s/it]\n",
      "item No.:   0%|          | 0/1000 [00:00<?, ?it/s]\u001b[A\n",
      "item No.:  29%|██▉       | 292/1000 [00:00<00:00, 2919.65it/s]\u001b[A"
     ]
    },
    {
     "name": "stdout",
     "output_type": "stream",
     "text": [
      "의안 수: 1000\n"
     ]
    },
    {
     "name": "stderr",
     "output_type": "stream",
     "text": [
      "\n",
      "item No.:  58%|█████▊    | 580/1000 [00:00<00:00, 2905.15it/s]\u001b[A\n",
      "item No.: 100%|██████████| 1000/1000 [00:00<00:00, 2849.43it/s][A\n",
      "Page No.:  78%|███████▊  | 94/121 [06:23<01:48,  4.02s/it]\n",
      "item No.:   0%|          | 0/1000 [00:00<?, ?it/s]\u001b[A\n",
      "item No.:  29%|██▉       | 292/1000 [00:00<00:00, 2916.64it/s]\u001b[A"
     ]
    },
    {
     "name": "stdout",
     "output_type": "stream",
     "text": [
      "의안 수: 1000\n"
     ]
    },
    {
     "name": "stderr",
     "output_type": "stream",
     "text": [
      "\n",
      "item No.:  58%|█████▊    | 580/1000 [00:00<00:00, 2904.76it/s]\u001b[A\n",
      "item No.: 100%|██████████| 1000/1000 [00:00<00:00, 2817.88it/s][A\n",
      "Page No.:  79%|███████▊  | 95/121 [06:27<01:45,  4.05s/it]\n",
      "item No.:   0%|          | 0/1000 [00:00<?, ?it/s]\u001b[A\n",
      "item No.:  20%|██        | 202/1000 [00:00<00:00, 2013.86it/s]\u001b[A"
     ]
    },
    {
     "name": "stdout",
     "output_type": "stream",
     "text": [
      "의안 수: 1000\n"
     ]
    },
    {
     "name": "stderr",
     "output_type": "stream",
     "text": [
      "\n",
      "item No.:  40%|███▉      | 396/1000 [00:00<00:00, 1989.63it/s]\u001b[A\n",
      "item No.:  62%|██████▏   | 615/1000 [00:00<00:00, 2044.86it/s]\u001b[A\n",
      "item No.: 100%|██████████| 1000/1000 [00:00<00:00, 2279.37it/s][A\n",
      "Page No.:  79%|███████▉  | 96/121 [06:31<01:41,  4.05s/it]\n",
      "item No.:   0%|          | 0/1000 [00:00<?, ?it/s]\u001b[A\n",
      "item No.:  27%|██▋       | 272/1000 [00:00<00:00, 2712.78it/s]\u001b[A"
     ]
    },
    {
     "name": "stdout",
     "output_type": "stream",
     "text": [
      "의안 수: 1000\n"
     ]
    },
    {
     "name": "stderr",
     "output_type": "stream",
     "text": [
      "\n",
      "item No.:  52%|█████▏    | 515/1000 [00:00<00:00, 2619.52it/s]\u001b[A\n",
      "item No.: 100%|██████████| 1000/1000 [00:00<00:00, 2621.73it/s][A\n",
      "Page No.:  80%|████████  | 97/121 [06:35<01:36,  4.03s/it]\n",
      "item No.:   0%|          | 0/1000 [00:00<?, ?it/s]\u001b[A\n",
      "item No.:  27%|██▋       | 274/1000 [00:00<00:00, 2730.74it/s]\u001b[A"
     ]
    },
    {
     "name": "stdout",
     "output_type": "stream",
     "text": [
      "의안 수: 1000\n"
     ]
    },
    {
     "name": "stderr",
     "output_type": "stream",
     "text": [
      "\n",
      "item No.:  55%|█████▍    | 549/1000 [00:00<00:00, 2735.03it/s]\u001b[A\n",
      "item No.: 100%|██████████| 1000/1000 [00:00<00:00, 2745.15it/s][A\n",
      "Page No.:  81%|████████  | 98/121 [06:39<01:33,  4.07s/it]\n",
      "item No.:   0%|          | 0/1000 [00:00<?, ?it/s]\u001b[A\n",
      "item No.:  28%|██▊       | 279/1000 [00:00<00:00, 2788.80it/s]\u001b[A\n"
     ]
    },
    {
     "name": "stdout",
     "output_type": "stream",
     "text": [
      "의안 수: 1000\n"
     ]
    },
    {
     "name": "stderr",
     "output_type": "stream",
     "text": [
      "item No.:  54%|█████▍    | 543/1000 [00:00<00:00, 2741.74it/s]\u001b[A\n",
      "item No.: 100%|██████████| 1000/1000 [00:00<00:00, 2769.84it/s][A\n",
      "Page No.:  82%|████████▏ | 99/121 [06:43<01:30,  4.11s/it]\n",
      "item No.:   0%|          | 0/1000 [00:00<?, ?it/s]\u001b[A\n",
      "item No.:  29%|██▉       | 292/1000 [00:00<00:00, 2917.29it/s]\u001b[A"
     ]
    },
    {
     "name": "stdout",
     "output_type": "stream",
     "text": [
      "의안 수: 1000\n"
     ]
    },
    {
     "name": "stderr",
     "output_type": "stream",
     "text": [
      "\n",
      "item No.:  59%|█████▊    | 586/1000 [00:00<00:00, 2921.72it/s]\u001b[A\n",
      "item No.: 100%|██████████| 1000/1000 [00:00<00:00, 2837.30it/s][A\n",
      "Page No.:  83%|████████▎ | 100/121 [06:48<01:27,  4.17s/it]\n",
      "item No.:   0%|          | 0/1000 [00:00<?, ?it/s]\u001b[A\n",
      "item No.:  27%|██▋       | 269/1000 [00:00<00:00, 2683.18it/s]\u001b[A"
     ]
    },
    {
     "name": "stdout",
     "output_type": "stream",
     "text": [
      "의안 수: 1000\n"
     ]
    },
    {
     "name": "stderr",
     "output_type": "stream",
     "text": [
      "\n",
      "item No.:  56%|█████▌    | 555/1000 [00:00<00:00, 2733.58it/s]\u001b[A\n",
      "item No.: 100%|██████████| 1000/1000 [00:00<00:00, 2765.58it/s][A\n",
      "Page No.:  83%|████████▎ | 101/121 [06:52<01:24,  4.21s/it]\n",
      "item No.:   0%|          | 0/1000 [00:00<?, ?it/s]\u001b[A\n",
      "item No.:  23%|██▎       | 230/1000 [00:00<00:00, 2296.32it/s]\u001b[A"
     ]
    },
    {
     "name": "stdout",
     "output_type": "stream",
     "text": [
      "의안 수: 1000\n"
     ]
    },
    {
     "name": "stderr",
     "output_type": "stream",
     "text": [
      "\n",
      "item No.:  49%|████▉     | 492/1000 [00:00<00:00, 2383.98it/s]\u001b[A\n",
      "item No.: 100%|██████████| 1000/1000 [00:00<00:00, 2649.72it/s][A\n",
      "Page No.:  84%|████████▍ | 102/121 [06:57<01:24,  4.43s/it]\n",
      "item No.:   0%|          | 0/1000 [00:00<?, ?it/s]\u001b[A\n",
      "item No.:  30%|███       | 303/1000 [00:00<00:00, 3022.50it/s]\u001b[A"
     ]
    },
    {
     "name": "stdout",
     "output_type": "stream",
     "text": [
      "의안 수: 1000\n"
     ]
    },
    {
     "name": "stderr",
     "output_type": "stream",
     "text": [
      "\n",
      "item No.:  60%|█████▉    | 599/1000 [00:00<00:00, 3000.95it/s]\u001b[A\n",
      "item No.: 100%|██████████| 1000/1000 [00:00<00:00, 2765.03it/s][A\n",
      "Page No.:  85%|████████▌ | 103/121 [07:01<01:18,  4.37s/it]\n",
      "item No.:   0%|          | 0/1000 [00:00<?, ?it/s]\u001b[A\n",
      "item No.:  23%|██▎       | 231/1000 [00:00<00:00, 2308.40it/s]\u001b[A"
     ]
    },
    {
     "name": "stdout",
     "output_type": "stream",
     "text": [
      "의안 수: 1000\n"
     ]
    },
    {
     "name": "stderr",
     "output_type": "stream",
     "text": [
      "\n",
      "item No.:  54%|█████▍    | 539/1000 [00:00<00:00, 2495.14it/s]\u001b[A\n",
      "item No.: 100%|██████████| 1000/1000 [00:00<00:00, 2782.21it/s][A\n",
      "Page No.:  86%|████████▌ | 104/121 [07:05<01:13,  4.35s/it]\n",
      "item No.:   0%|          | 0/1000 [00:00<?, ?it/s]\u001b[A\n",
      "item No.:  28%|██▊       | 283/1000 [00:00<00:00, 2827.68it/s]\u001b[A"
     ]
    },
    {
     "name": "stdout",
     "output_type": "stream",
     "text": [
      "의안 수: 1000\n"
     ]
    },
    {
     "name": "stderr",
     "output_type": "stream",
     "text": [
      "\n",
      "item No.:  58%|█████▊    | 578/1000 [00:00<00:00, 2861.62it/s]\u001b[A\n",
      "item No.: 100%|██████████| 1000/1000 [00:00<00:00, 2766.03it/s][A\n",
      "Page No.:  87%|████████▋ | 105/121 [07:10<01:08,  4.29s/it]\n",
      "item No.:   0%|          | 0/1000 [00:00<?, ?it/s]\u001b[A\n",
      "item No.:  27%|██▋       | 271/1000 [00:00<00:00, 2709.08it/s]\u001b[A"
     ]
    },
    {
     "name": "stdout",
     "output_type": "stream",
     "text": [
      "의안 수: 1000\n"
     ]
    },
    {
     "name": "stderr",
     "output_type": "stream",
     "text": [
      "\n",
      "item No.:  55%|█████▍    | 547/1000 [00:00<00:00, 2722.76it/s]\u001b[A\n",
      "item No.: 100%|██████████| 1000/1000 [00:00<00:00, 2688.77it/s][A\n",
      "Page No.:  88%|████████▊ | 106/121 [07:14<01:05,  4.34s/it]\n",
      "item No.:   0%|          | 0/1000 [00:00<?, ?it/s]\u001b[A\n",
      "item No.:  27%|██▋       | 273/1000 [00:00<00:00, 2717.23it/s]\u001b[A"
     ]
    },
    {
     "name": "stdout",
     "output_type": "stream",
     "text": [
      "의안 수: 1000\n"
     ]
    },
    {
     "name": "stderr",
     "output_type": "stream",
     "text": [
      "\n",
      "item No.:  55%|█████▌    | 553/1000 [00:00<00:00, 2739.84it/s]\u001b[A\n",
      "item No.: 100%|██████████| 1000/1000 [00:00<00:00, 2630.33it/s][A\n",
      "Page No.:  88%|████████▊ | 107/121 [07:18<01:00,  4.35s/it]\n",
      "item No.:   0%|          | 0/1000 [00:00<?, ?it/s]\u001b[A\n",
      "item No.:  32%|███▎      | 325/1000 [00:00<00:00, 3247.05it/s]\u001b[A"
     ]
    },
    {
     "name": "stdout",
     "output_type": "stream",
     "text": [
      "의안 수: 1000\n"
     ]
    },
    {
     "name": "stderr",
     "output_type": "stream",
     "text": [
      "\n",
      "item No.:  63%|██████▎   | 633/1000 [00:00<00:00, 3194.66it/s]\u001b[A\n",
      "item No.: 100%|██████████| 1000/1000 [00:00<00:00, 2833.71it/s][A\n",
      "Page No.:  89%|████████▉ | 108/121 [07:23<00:56,  4.36s/it]\n",
      "item No.:   0%|          | 0/1000 [00:00<?, ?it/s]\u001b[A\n",
      "item No.:  33%|███▎      | 329/1000 [00:00<00:00, 3280.80it/s]\u001b[A"
     ]
    },
    {
     "name": "stdout",
     "output_type": "stream",
     "text": [
      "의안 수: 1000\n"
     ]
    },
    {
     "name": "stderr",
     "output_type": "stream",
     "text": [
      "\n",
      "item No.:  66%|██████▌   | 655/1000 [00:00<00:00, 3273.97it/s]\u001b[A\n",
      "item No.: 100%|██████████| 1000/1000 [00:00<00:00, 3220.79it/s][A\n",
      "Page No.:  90%|█████████ | 109/121 [07:27<00:51,  4.29s/it]\n",
      "item No.:   0%|          | 0/1000 [00:00<?, ?it/s]\u001b[A\n",
      "item No.:  18%|█▊        | 183/1000 [00:00<00:00, 1828.58it/s]\u001b[A"
     ]
    },
    {
     "name": "stdout",
     "output_type": "stream",
     "text": [
      "의안 수: 1000\n"
     ]
    },
    {
     "name": "stderr",
     "output_type": "stream",
     "text": [
      "\n",
      "item No.:  34%|███▎      | 335/1000 [00:00<00:00, 1722.43it/s]\u001b[A\n",
      "item No.:  54%|█████▍    | 544/1000 [00:00<00:00, 1815.52it/s]\u001b[A\n",
      "item No.: 100%|██████████| 1000/1000 [00:00<00:00, 2166.31it/s][A\n",
      "Page No.:  91%|█████████ | 110/121 [07:31<00:46,  4.25s/it]\n",
      "item No.:   0%|          | 0/1000 [00:00<?, ?it/s]\u001b[A\n",
      "item No.:  32%|███▏      | 324/1000 [00:00<00:00, 3232.03it/s]\u001b[A"
     ]
    },
    {
     "name": "stdout",
     "output_type": "stream",
     "text": [
      "의안 수: 1000\n"
     ]
    },
    {
     "name": "stderr",
     "output_type": "stream",
     "text": [
      "\n",
      "item No.:  65%|██████▌   | 651/1000 [00:00<00:00, 3242.39it/s]\u001b[A\n",
      "item No.: 100%|██████████| 1000/1000 [00:00<00:00, 3167.20it/s][A\n",
      "Page No.:  92%|█████████▏| 111/121 [07:35<00:42,  4.24s/it]\n",
      "item No.:   0%|          | 0/1000 [00:00<?, ?it/s]\u001b[A\n",
      "item No.:  32%|███▏      | 321/1000 [00:00<00:00, 3198.71it/s]\u001b[A"
     ]
    },
    {
     "name": "stdout",
     "output_type": "stream",
     "text": [
      "의안 수: 1000\n"
     ]
    },
    {
     "name": "stderr",
     "output_type": "stream",
     "text": [
      "\n",
      "item No.:  58%|█████▊    | 576/1000 [00:00<00:00, 2970.16it/s]\u001b[A\n",
      "item No.: 100%|██████████| 1000/1000 [00:00<00:00, 2849.52it/s][A\n",
      "Page No.:  93%|█████████▎| 112/121 [07:40<00:38,  4.28s/it]\n",
      "item No.:   0%|          | 0/1000 [00:00<?, ?it/s]\u001b[A\n",
      "item No.:  27%|██▋       | 271/1000 [00:00<00:00, 2705.58it/s]\u001b[A"
     ]
    },
    {
     "name": "stdout",
     "output_type": "stream",
     "text": [
      "의안 수: 1000\n"
     ]
    },
    {
     "name": "stderr",
     "output_type": "stream",
     "text": [
      "\n",
      "item No.:  56%|█████▌    | 555/1000 [00:00<00:00, 2743.64it/s]\u001b[A\n",
      "item No.: 100%|██████████| 1000/1000 [00:00<00:00, 2916.21it/s][A\n",
      "Page No.:  93%|█████████▎| 113/121 [07:45<00:37,  4.65s/it]\n",
      "item No.:   0%|          | 0/1000 [00:00<?, ?it/s]\u001b[A\n",
      "item No.:  30%|██▉       | 298/1000 [00:00<00:00, 2977.26it/s]\u001b[A"
     ]
    },
    {
     "name": "stdout",
     "output_type": "stream",
     "text": [
      "의안 수: 1000\n"
     ]
    },
    {
     "name": "stderr",
     "output_type": "stream",
     "text": [
      "\n",
      "item No.:  60%|█████▉    | 596/1000 [00:00<00:00, 2976.08it/s]\u001b[A\n",
      "item No.: 100%|██████████| 1000/1000 [00:00<00:00, 2859.37it/s][A\n",
      "Page No.:  94%|█████████▍| 114/121 [07:50<00:33,  4.74s/it]\n",
      "item No.:   0%|          | 0/1000 [00:00<?, ?it/s]\u001b[A\n",
      "item No.:  29%|██▉       | 291/1000 [00:00<00:00, 2909.36it/s]\u001b[A"
     ]
    },
    {
     "name": "stdout",
     "output_type": "stream",
     "text": [
      "의안 수: 1000\n"
     ]
    },
    {
     "name": "stderr",
     "output_type": "stream",
     "text": [
      "\n",
      "item No.:  57%|█████▊    | 575/1000 [00:00<00:00, 2883.94it/s]\u001b[A\n",
      "item No.: 100%|██████████| 1000/1000 [00:00<00:00, 2904.28it/s][A\n",
      "Page No.:  95%|█████████▌| 115/121 [07:56<00:31,  5.21s/it]\n",
      "item No.:   0%|          | 0/1000 [00:00<?, ?it/s]\u001b[A\n",
      "item No.:  27%|██▋       | 270/1000 [00:00<00:00, 2695.12it/s]\u001b[A"
     ]
    },
    {
     "name": "stdout",
     "output_type": "stream",
     "text": [
      "의안 수: 1000\n"
     ]
    },
    {
     "name": "stderr",
     "output_type": "stream",
     "text": [
      "\n",
      "item No.:  55%|█████▍    | 548/1000 [00:00<00:00, 2718.12it/s]\u001b[A\n",
      "item No.: 100%|██████████| 1000/1000 [00:00<00:00, 2772.06it/s][A\n",
      "Page No.:  96%|█████████▌| 116/121 [08:01<00:25,  5.04s/it]\n",
      "item No.:   0%|          | 0/1000 [00:00<?, ?it/s]\u001b[A\n",
      "item No.:  30%|███       | 301/1000 [00:00<00:00, 3002.22it/s]\u001b[A"
     ]
    },
    {
     "name": "stdout",
     "output_type": "stream",
     "text": [
      "의안 수: 1000\n"
     ]
    },
    {
     "name": "stderr",
     "output_type": "stream",
     "text": [
      "\n",
      "item No.:  60%|█████▉    | 596/1000 [00:00<00:00, 2985.89it/s]\u001b[A\n",
      "item No.: 100%|██████████| 1000/1000 [00:00<00:00, 2880.02it/s][A\n",
      "Page No.:  97%|█████████▋| 117/121 [08:06<00:19,  4.84s/it]\n",
      "item No.:   0%|          | 0/1000 [00:00<?, ?it/s]\u001b[A\n",
      "item No.:  30%|██▉       | 296/1000 [00:00<00:00, 2958.76it/s]\u001b[A"
     ]
    },
    {
     "name": "stdout",
     "output_type": "stream",
     "text": [
      "의안 수: 1000\n"
     ]
    },
    {
     "name": "stderr",
     "output_type": "stream",
     "text": [
      "\n",
      "item No.:  58%|█████▊    | 585/1000 [00:00<00:00, 2937.06it/s]\u001b[A\n",
      "item No.: 100%|██████████| 1000/1000 [00:00<00:00, 2853.57it/s][A\n",
      "Page No.:  98%|█████████▊| 118/121 [08:09<00:13,  4.58s/it]\n",
      "item No.:   0%|          | 0/1000 [00:00<?, ?it/s]\u001b[A\n",
      "item No.:  29%|██▉       | 291/1000 [00:00<00:00, 2903.59it/s]\u001b[A"
     ]
    },
    {
     "name": "stdout",
     "output_type": "stream",
     "text": [
      "의안 수: 1000\n"
     ]
    },
    {
     "name": "stderr",
     "output_type": "stream",
     "text": [
      "\n",
      "item No.:  60%|█████▉    | 596/1000 [00:00<00:00, 2943.85it/s]\u001b[A\n",
      "item No.: 100%|██████████| 1000/1000 [00:00<00:00, 2954.39it/s][A\n",
      "Page No.:  98%|█████████▊| 119/121 [08:14<00:09,  4.51s/it]\n",
      "item No.:   0%|          | 0/1000 [00:00<?, ?it/s]\u001b[A\n",
      "item No.:  28%|██▊       | 283/1000 [00:00<00:00, 2823.84it/s]\u001b[A"
     ]
    },
    {
     "name": "stdout",
     "output_type": "stream",
     "text": [
      "의안 수: 1000\n"
     ]
    },
    {
     "name": "stderr",
     "output_type": "stream",
     "text": [
      "\n",
      "item No.:  56%|█████▌    | 556/1000 [00:00<00:00, 2792.86it/s]\u001b[A\n",
      "item No.:  75%|███████▌  | 752/1000 [00:00<00:00, 2475.46it/s]\u001b[A\n",
      "item No.: 100%|██████████| 1000/1000 [00:00<00:00, 2387.22it/s][A\n",
      "Page No.:  99%|█████████▉| 120/121 [08:19<00:04,  4.59s/it]\n",
      "item No.: 100%|██████████| 162/162 [00:00<00:00, 2861.94it/s]\n",
      "Page No.: 100%|██████████| 121/121 [08:22<00:00,  4.15s/it]"
     ]
    },
    {
     "name": "stdout",
     "output_type": "stream",
     "text": [
      "의안 수: 162\n"
     ]
    },
    {
     "name": "stderr",
     "output_type": "stream",
     "text": [
      "\n"
     ]
    },
    {
     "data": {
      "text/plain": [
       "120162"
      ]
     },
     "execution_count": 42,
     "metadata": {},
     "output_type": "execute_result"
    }
   ],
   "source": [
    "start_propose_date = '2000-05-30'\n",
    "end_propose_date = '2004-05-29'\n",
    "page_num = 121\n",
    "\n",
    "bill_df = get_bill(page_num, start_propose_date, end_propose_date)\n",
    "len(bill_df)"
   ]
  },
  {
   "cell_type": "code",
   "execution_count": 44,
   "metadata": {},
   "outputs": [
    {
     "data": {
      "text/plain": [
       "2539"
      ]
     },
     "execution_count": 44,
     "metadata": {},
     "output_type": "execute_result"
    }
   ],
   "source": [
    "bill_df = bill_df.drop_duplicates()\n",
    "len(bill_df)"
   ]
  },
  {
   "cell_type": "code",
   "execution_count": 45,
   "metadata": {},
   "outputs": [],
   "source": [
    "bill_df.to_csv('16th-lawbill-list.csv', encoding='utf-8-sig')"
   ]
  },
  {
   "cell_type": "code",
   "execution_count": null,
   "metadata": {},
   "outputs": [],
   "source": []
  },
  {
   "cell_type": "markdown",
   "metadata": {},
   "source": [
    "## 5. 17대 법률안"
   ]
  },
  {
   "cell_type": "code",
   "execution_count": 55,
   "metadata": {
    "scrolled": true
   },
   "outputs": [
    {
     "name": "stderr",
     "output_type": "stream",
     "text": [
      "Page No.:   0%|          | 0/329 [00:00<?, ?it/s]\n",
      "  0%|          | 0/1000 [00:00<?, ?it/s]\u001b[A\n",
      " 26%|██▌       | 255/1000 [00:00<00:00, 2547.94it/s]\u001b[A\n",
      " 53%|█████▎    | 526/1000 [00:00<00:00, 2593.68it/s]\u001b[A\n",
      "100%|██████████| 1000/1000 [00:00<00:00, 2536.55it/s][A\n",
      "Page No.:   0%|          | 1/329 [00:07<42:19,  7.74s/it]\n",
      "  0%|          | 0/1000 [00:00<?, ?it/s]\u001b[A\n",
      " 24%|██▎       | 237/1000 [00:00<00:00, 2366.45it/s]\u001b[A\n",
      " 40%|███▉      | 397/1000 [00:00<00:00, 2056.55it/s]\u001b[A\n",
      " 60%|██████    | 600/1000 [00:00<00:00, 2047.04it/s]\u001b[A\n",
      "100%|██████████| 1000/1000 [00:00<00:00, 2228.34it/s][A\n",
      "Page No.:   1%|          | 2/329 [00:15<42:04,  7.72s/it]\n",
      "  0%|          | 0/1000 [00:00<?, ?it/s]\u001b[A\n",
      " 16%|█▌        | 155/1000 [00:00<00:00, 1548.13it/s]\u001b[A\n",
      " 40%|███▉      | 395/1000 [00:00<00:00, 1731.65it/s]\u001b[A\n",
      " 61%|██████    | 608/1000 [00:00<00:00, 1833.99it/s]\u001b[A\n",
      "100%|██████████| 1000/1000 [00:00<00:00, 2102.86it/s][A\n",
      "Page No.:   1%|          | 3/329 [00:23<42:04,  7.74s/it]\n",
      "  0%|          | 0/1000 [00:00<?, ?it/s]\u001b[A\n",
      " 25%|██▌       | 250/1000 [00:00<00:00, 2492.82it/s]\u001b[A\n",
      " 54%|█████▍    | 541/1000 [00:00<00:00, 2603.74it/s]\u001b[A\n",
      "100%|██████████| 1000/1000 [00:00<00:00, 2691.46it/s][A\n",
      "Page No.:   1%|          | 4/329 [00:31<43:01,  7.94s/it]\n",
      "  0%|          | 0/1000 [00:00<?, ?it/s]\u001b[A\n",
      " 28%|██▊       | 279/1000 [00:00<00:00, 2788.30it/s]\u001b[A\n",
      " 57%|█████▋    | 567/1000 [00:00<00:00, 2813.99it/s]\u001b[A\n",
      "100%|██████████| 1000/1000 [00:00<00:00, 2850.93it/s][A\n",
      "Page No.:   2%|▏         | 5/329 [00:39<42:22,  7.85s/it]\n",
      "  0%|          | 0/1000 [00:00<?, ?it/s]\u001b[A\n",
      " 27%|██▋       | 266/1000 [00:00<00:00, 2659.28it/s]\u001b[A\n",
      " 55%|█████▌    | 552/1000 [00:00<00:00, 2714.32it/s]\u001b[A\n",
      "100%|██████████| 1000/1000 [00:00<00:00, 2826.98it/s][A\n",
      "Page No.:   2%|▏         | 6/329 [00:46<42:01,  7.81s/it]\n",
      "  0%|          | 0/1000 [00:00<?, ?it/s]\u001b[A\n",
      " 21%|██        | 212/1000 [00:00<00:00, 2113.68it/s]\u001b[A\n",
      " 44%|████▍     | 440/1000 [00:00<00:00, 2159.38it/s]\u001b[A\n",
      " 69%|██████▉   | 694/1000 [00:00<00:00, 2260.12it/s]\u001b[A\n",
      "100%|██████████| 1000/1000 [00:00<00:00, 2480.89it/s][A\n",
      "Page No.:   2%|▏         | 7/329 [00:54<41:42,  7.77s/it]\n",
      "  0%|          | 0/1000 [00:00<?, ?it/s]\u001b[A\n",
      " 28%|██▊       | 275/1000 [00:00<00:00, 2734.69it/s]\u001b[A\n",
      " 54%|█████▍    | 538/1000 [00:00<00:00, 2701.87it/s]\u001b[A\n",
      "100%|██████████| 1000/1000 [00:00<00:00, 2768.53it/s][A\n",
      "Page No.:   2%|▏         | 8/329 [01:02<41:25,  7.74s/it]\n",
      "  0%|          | 0/1000 [00:00<?, ?it/s]\u001b[A\n",
      " 30%|███       | 301/1000 [00:00<00:00, 3003.12it/s]\u001b[A\n",
      " 56%|█████▌    | 557/1000 [00:00<00:00, 2853.49it/s]\u001b[A\n",
      "100%|██████████| 1000/1000 [00:00<00:00, 2847.70it/s][A\n",
      "Page No.:   3%|▎         | 9/329 [01:10<41:32,  7.79s/it]\n",
      "  0%|          | 0/1000 [00:00<?, ?it/s]\u001b[A\n",
      " 26%|██▌       | 255/1000 [00:00<00:00, 2548.14it/s]\u001b[A\n",
      " 55%|█████▍    | 546/1000 [00:00<00:00, 2645.79it/s]\u001b[A\n",
      "100%|██████████| 1000/1000 [00:00<00:00, 2611.65it/s][A\n",
      "Page No.:   3%|▎         | 10/329 [01:17<41:00,  7.71s/it]\n",
      "  0%|          | 0/1000 [00:00<?, ?it/s]\u001b[A\n",
      " 20%|█▉        | 199/1000 [00:00<00:00, 1989.19it/s]\u001b[A\n",
      " 41%|████      | 410/1000 [00:00<00:00, 2022.89it/s]\u001b[A\n",
      " 70%|██████▉   | 698/1000 [00:00<00:00, 2219.75it/s]\u001b[A\n",
      "100%|██████████| 1000/1000 [00:00<00:00, 2442.85it/s][A\n",
      "Page No.:   3%|▎         | 11/329 [01:25<40:25,  7.63s/it]\n",
      "  0%|          | 0/1000 [00:00<?, ?it/s]\u001b[A\n",
      " 27%|██▋       | 266/1000 [00:00<00:00, 2655.72it/s]\u001b[A\n",
      " 51%|█████     | 511/1000 [00:00<00:00, 2588.94it/s]\u001b[A\n",
      "100%|██████████| 1000/1000 [00:00<00:00, 2604.86it/s][A\n",
      "Page No.:   4%|▎         | 12/329 [01:32<40:11,  7.61s/it]\n",
      "  0%|          | 0/1000 [00:00<?, ?it/s]\u001b[A\n",
      " 26%|██▌       | 261/1000 [00:00<00:00, 2609.77it/s]\u001b[A\n",
      " 54%|█████▎    | 537/1000 [00:00<00:00, 2651.38it/s]\u001b[A\n",
      "100%|██████████| 1000/1000 [00:00<00:00, 2785.55it/s][A\n",
      "Page No.:   4%|▍         | 13/329 [01:40<39:44,  7.55s/it]\n",
      "  0%|          | 0/1000 [00:00<?, ?it/s]\u001b[A\n",
      " 28%|██▊       | 285/1000 [00:00<00:00, 2844.68it/s]\u001b[A\n",
      " 57%|█████▋    | 569/1000 [00:00<00:00, 2843.13it/s]\u001b[A\n",
      "100%|██████████| 1000/1000 [00:00<00:00, 2750.52it/s][A\n",
      "Page No.:   4%|▍         | 14/329 [01:47<39:22,  7.50s/it]\n",
      "  0%|          | 0/1000 [00:00<?, ?it/s]\u001b[A\n",
      " 27%|██▋       | 273/1000 [00:00<00:00, 2724.12it/s]\u001b[A\n",
      " 56%|█████▋    | 564/1000 [00:00<00:00, 2775.92it/s]\u001b[A\n",
      "100%|██████████| 1000/1000 [00:00<00:00, 2824.68it/s][A\n",
      "Page No.:   5%|▍         | 15/329 [01:54<38:55,  7.44s/it]\n",
      "  0%|          | 0/1000 [00:00<?, ?it/s]\u001b[A\n",
      " 27%|██▋       | 266/1000 [00:00<00:00, 2652.51it/s]\u001b[A\n",
      " 53%|█████▎    | 529/1000 [00:00<00:00, 2643.98it/s]\u001b[A\n",
      "100%|██████████| 1000/1000 [00:00<00:00, 2767.49it/s][A\n",
      "Page No.:   5%|▍         | 16/329 [02:02<38:51,  7.45s/it]\n",
      "  0%|          | 0/1000 [00:00<?, ?it/s]\u001b[A\n",
      " 23%|██▎       | 234/1000 [00:00<00:00, 2335.23it/s]\u001b[A\n",
      " 51%|█████     | 511/1000 [00:00<00:00, 2449.12it/s]\u001b[A\n",
      "100%|██████████| 1000/1000 [00:00<00:00, 2635.30it/s][A\n",
      "Page No.:   5%|▌         | 17/329 [02:09<38:44,  7.45s/it]\n",
      "  0%|          | 0/1000 [00:00<?, ?it/s]\u001b[A\n",
      " 26%|██▋       | 265/1000 [00:00<00:00, 2649.39it/s]\u001b[A\n",
      " 46%|████▋     | 464/1000 [00:00<00:00, 2408.50it/s]\u001b[A\n",
      " 63%|██████▎   | 634/1000 [00:00<00:00, 2139.92it/s]\u001b[A\n",
      "100%|██████████| 1000/1000 [00:00<00:00, 2121.48it/s][A\n",
      "Page No.:   5%|▌         | 18/329 [02:17<38:35,  7.44s/it]\n",
      "  0%|          | 0/1000 [00:00<?, ?it/s]\u001b[A\n",
      " 21%|██        | 209/1000 [00:00<00:00, 2088.92it/s]\u001b[A\n",
      " 43%|████▎     | 433/1000 [00:00<00:00, 2131.98it/s]\u001b[A\n",
      " 67%|██████▋   | 673/1000 [00:00<00:00, 2204.32it/s]\u001b[A\n",
      "100%|██████████| 1000/1000 [00:00<00:00, 2271.24it/s][A\n",
      "Page No.:   6%|▌         | 19/329 [02:24<38:46,  7.50s/it]\n",
      "  0%|          | 0/1000 [00:00<?, ?it/s]\u001b[A\n",
      " 27%|██▋       | 273/1000 [00:00<00:00, 2721.32it/s]\u001b[A\n",
      " 55%|█████▌    | 552/1000 [00:00<00:00, 2739.97it/s]\u001b[A\n",
      "100%|██████████| 1000/1000 [00:00<00:00, 2628.26it/s][A\n",
      "Page No.:   6%|▌         | 20/329 [02:33<40:54,  7.94s/it]\n",
      "  0%|          | 0/1000 [00:00<?, ?it/s]\u001b[A\n",
      " 24%|██▍       | 240/1000 [00:00<00:00, 2399.00it/s]\u001b[A\n",
      " 48%|████▊     | 475/1000 [00:00<00:00, 2383.38it/s]\u001b[A\n",
      "100%|██████████| 1000/1000 [00:00<00:00, 2508.94it/s][A\n",
      "Page No.:   6%|▋         | 21/329 [02:41<40:16,  7.85s/it]\n",
      "  0%|          | 0/1000 [00:00<?, ?it/s]\u001b[A\n",
      " 25%|██▌       | 254/1000 [00:00<00:00, 2532.86it/s]\u001b[A\n",
      " 50%|█████     | 501/1000 [00:00<00:00, 2512.58it/s]\u001b[A\n",
      "100%|██████████| 1000/1000 [00:00<00:00, 2555.36it/s][A\n",
      "Page No.:   7%|▋         | 22/329 [02:49<40:09,  7.85s/it]\n",
      "  0%|          | 0/1000 [00:00<?, ?it/s]\u001b[A\n",
      " 27%|██▋       | 269/1000 [00:00<00:00, 2688.87it/s]\u001b[A\n",
      " 56%|█████▌    | 560/1000 [00:00<00:00, 2750.66it/s]\u001b[A\n",
      "100%|██████████| 1000/1000 [00:00<00:00, 2638.68it/s][A\n",
      "Page No.:   7%|▋         | 23/329 [02:57<40:42,  7.98s/it]\n",
      "  0%|          | 0/1000 [00:00<?, ?it/s]\u001b[A\n",
      " 28%|██▊       | 277/1000 [00:00<00:00, 2767.01it/s]\u001b[A\n",
      " 53%|█████▎    | 530/1000 [00:00<00:00, 2687.78it/s]\u001b[A\n",
      "100%|██████████| 1000/1000 [00:00<00:00, 2623.38it/s][A\n",
      "Page No.:   7%|▋         | 24/329 [03:05<40:38,  8.00s/it]\n",
      "  0%|          | 0/1000 [00:00<?, ?it/s]\u001b[A\n",
      " 20%|█▉        | 199/1000 [00:00<00:00, 1989.78it/s]\u001b[A\n",
      " 48%|████▊     | 477/1000 [00:00<00:00, 2173.04it/s]\u001b[A\n",
      "100%|██████████| 1000/1000 [00:00<00:00, 2498.40it/s][A\n",
      "Page No.:   8%|▊         | 25/329 [03:13<40:21,  7.97s/it]\n",
      "  0%|          | 0/1000 [00:00<?, ?it/s]\u001b[A\n",
      " 24%|██▍       | 245/1000 [00:00<00:00, 2449.09it/s]\u001b[A\n",
      " 50%|█████     | 504/1000 [00:00<00:00, 2486.99it/s]\u001b[A\n",
      "100%|██████████| 1000/1000 [00:00<00:00, 2632.24it/s][A\n",
      "Page No.:   8%|▊         | 26/329 [03:21<39:56,  7.91s/it]\n",
      "  0%|          | 0/1000 [00:00<?, ?it/s]\u001b[A\n",
      " 28%|██▊       | 285/1000 [00:00<00:00, 2849.72it/s]\u001b[A\n",
      " 56%|█████▋    | 563/1000 [00:00<00:00, 2823.16it/s]\u001b[A\n",
      " 78%|███████▊  | 778/1000 [00:00<00:00, 2579.06it/s]\u001b[A\n",
      "100%|██████████| 1000/1000 [00:00<00:00, 2440.20it/s][A\n",
      "Page No.:   8%|▊         | 27/329 [03:29<39:59,  7.94s/it]\n",
      "  0%|          | 0/1000 [00:00<?, ?it/s]\u001b[A\n",
      " 27%|██▋       | 274/1000 [00:00<00:00, 2732.10it/s]\u001b[A\n",
      " 54%|█████▍    | 542/1000 [00:00<00:00, 2716.23it/s]\u001b[A\n",
      "100%|██████████| 1000/1000 [00:00<00:00, 2497.08it/s][A\n",
      "Page No.:   9%|▊         | 28/329 [03:37<39:57,  7.97s/it]\n",
      "  0%|          | 0/1000 [00:00<?, ?it/s]\u001b[A\n",
      " 26%|██▌       | 261/1000 [00:00<00:00, 2609.63it/s]\u001b[A\n",
      " 54%|█████▍    | 539/1000 [00:00<00:00, 2658.35it/s]\u001b[A\n",
      "100%|██████████| 1000/1000 [00:00<00:00, 2636.23it/s][A\n",
      "Page No.:   9%|▉         | 29/329 [03:45<40:16,  8.06s/it]\n",
      "  0%|          | 0/1000 [00:00<?, ?it/s]\u001b[A\n",
      " 29%|██▉       | 294/1000 [00:00<00:00, 2933.37it/s]\u001b[A\n",
      " 59%|█████▊    | 587/1000 [00:00<00:00, 2931.49it/s]\u001b[A\n",
      "100%|██████████| 1000/1000 [00:00<00:00, 2811.75it/s][A\n",
      "Page No.:   9%|▉         | 30/329 [03:54<42:06,  8.45s/it]\n",
      "  0%|          | 0/1000 [00:00<?, ?it/s]\u001b[A\n",
      " 30%|███       | 305/1000 [00:00<00:00, 3042.76it/s]\u001b[A\n",
      " 60%|██████    | 601/1000 [00:00<00:00, 3016.05it/s]\u001b[A\n",
      "100%|██████████| 1000/1000 [00:00<00:00, 2887.39it/s][A\n",
      "Page No.:   9%|▉         | 31/329 [04:02<40:48,  8.22s/it]\n",
      "  0%|          | 0/1000 [00:00<?, ?it/s]\u001b[A\n",
      " 26%|██▌       | 259/1000 [00:00<00:00, 2589.22it/s]\u001b[A\n",
      " 54%|█████▍    | 542/1000 [00:00<00:00, 2656.42it/s]\u001b[A\n",
      "100%|██████████| 1000/1000 [00:00<00:00, 2527.76it/s][A\n",
      "Page No.:  10%|▉         | 32/329 [04:13<43:57,  8.88s/it]\n",
      "  0%|          | 0/1000 [00:00<?, ?it/s]\u001b[A\n",
      " 29%|██▉       | 294/1000 [00:00<00:00, 2938.58it/s]\u001b[A\n",
      " 60%|█████▉    | 597/1000 [00:00<00:00, 2964.54it/s]\u001b[A\n",
      "100%|██████████| 1000/1000 [00:00<00:00, 2849.53it/s][A\n",
      "Page No.:  10%|█         | 33/329 [04:21<42:49,  8.68s/it]\n",
      "  0%|          | 0/1000 [00:00<?, ?it/s]\u001b[A\n",
      " 30%|██▉       | 296/1000 [00:00<00:00, 2953.65it/s]\u001b[A\n",
      " 55%|█████▍    | 548/1000 [00:00<00:00, 2807.99it/s]\u001b[A\n",
      "100%|██████████| 1000/1000 [00:00<00:00, 2792.87it/s][A\n",
      "Page No.:  10%|█         | 34/329 [04:29<41:33,  8.45s/it]\n",
      "  0%|          | 0/1000 [00:00<?, ?it/s]\u001b[A\n",
      " 28%|██▊       | 284/1000 [00:00<00:00, 2836.24it/s]\u001b[A\n",
      " 58%|█████▊    | 582/1000 [00:00<00:00, 2876.49it/s]\u001b[A\n",
      "100%|██████████| 1000/1000 [00:00<00:00, 2851.34it/s][A\n",
      "Page No.:  11%|█         | 35/329 [04:38<42:43,  8.72s/it]\n",
      "  0%|          | 0/1000 [00:00<?, ?it/s]\u001b[A\n",
      " 29%|██▉       | 290/1000 [00:00<00:00, 2896.12it/s]\u001b[A\n",
      " 56%|█████▌    | 559/1000 [00:00<00:00, 2828.40it/s]\u001b[A\n",
      "100%|██████████| 1000/1000 [00:00<00:00, 2704.30it/s][A\n",
      "Page No.:  11%|█         | 36/329 [04:46<41:17,  8.45s/it]\n",
      "  0%|          | 0/1000 [00:00<?, ?it/s]\u001b[A\n",
      " 25%|██▌       | 252/1000 [00:00<00:00, 2507.41it/s]\u001b[A\n",
      " 52%|█████▏    | 515/1000 [00:00<00:00, 2542.85it/s]\u001b[A\n",
      "100%|██████████| 1000/1000 [00:00<00:00, 2625.38it/s][A\n",
      "Page No.:  11%|█         | 37/329 [04:54<40:43,  8.37s/it]\n",
      "  0%|          | 0/1000 [00:00<?, ?it/s]\u001b[A\n",
      " 17%|█▋        | 166/1000 [00:00<00:00, 1659.15it/s]\u001b[A\n",
      " 34%|███▎      | 337/1000 [00:00<00:00, 1670.56it/s]\u001b[A\n",
      " 56%|█████▌    | 561/1000 [00:00<00:00, 1807.35it/s]\u001b[A\n",
      "100%|██████████| 1000/1000 [00:00<00:00, 2201.83it/s][A\n",
      "Page No.:  12%|█▏        | 38/329 [05:02<40:00,  8.25s/it]\n",
      "  0%|          | 0/1000 [00:00<?, ?it/s]\u001b[A\n",
      " 28%|██▊       | 279/1000 [00:00<00:00, 2782.09it/s]\u001b[A\n",
      " 56%|█████▌    | 562/1000 [00:00<00:00, 2794.78it/s]\u001b[A\n",
      " 78%|███████▊  | 780/1000 [00:00<00:00, 2575.51it/s]\u001b[A\n",
      "100%|██████████| 1000/1000 [00:00<00:00, 2414.16it/s][A\n",
      "Page No.:  12%|█▏        | 39/329 [05:10<39:35,  8.19s/it]\n",
      "  0%|          | 0/1000 [00:00<?, ?it/s]\u001b[A\n",
      " 24%|██▍       | 240/1000 [00:00<00:00, 2398.87it/s]\u001b[A\n",
      " 49%|████▉     | 493/1000 [00:00<00:00, 2436.51it/s]\u001b[A\n",
      " 74%|███████▍  | 738/1000 [00:00<00:00, 2440.08it/s]\u001b[A\n",
      "100%|██████████| 1000/1000 [00:00<00:00, 2461.49it/s][A\n",
      "Page No.:  12%|█▏        | 40/329 [05:18<39:04,  8.11s/it]\n",
      "  0%|          | 0/1000 [00:00<?, ?it/s]\u001b[A\n",
      "  9%|▉         | 91/1000 [00:00<00:01, 706.35it/s]\u001b[A\n",
      " 24%|██▎       | 236/1000 [00:00<00:00, 834.13it/s]\u001b[A\n",
      " 30%|██▉       | 295/1000 [00:00<00:00, 712.88it/s]\u001b[A\n",
      " 38%|███▊      | 376/1000 [00:00<00:00, 734.49it/s]\u001b[A\n",
      " 47%|████▋     | 466/1000 [00:00<00:00, 776.44it/s]\u001b[A\n",
      " 57%|█████▋    | 574/1000 [00:00<00:00, 847.92it/s]\u001b[A\n",
      " 66%|██████▌   | 657/1000 [00:00<00:00, 827.23it/s]\u001b[A\n",
      " 83%|████████▎ | 832/1000 [00:00<00:00, 982.24it/s]\u001b[A\n",
      "100%|██████████| 1000/1000 [00:01<00:00, 864.92it/s][A\n",
      "Page No.:  12%|█▏        | 41/329 [05:27<40:36,  8.46s/it]\n",
      "  0%|          | 0/1000 [00:00<?, ?it/s]\u001b[A\n",
      "  3%|▎         | 30/1000 [00:00<00:09, 106.55it/s]\u001b[A\n",
      " 12%|█▏        | 119/1000 [00:00<00:06, 144.75it/s]\u001b[A\n",
      " 19%|█▉        | 189/1000 [00:00<00:04, 189.91it/s]\u001b[A\n",
      " 26%|██▌       | 256/1000 [00:00<00:03, 241.86it/s]\u001b[A\n",
      " 33%|███▎      | 331/1000 [00:00<00:02, 302.34it/s]\u001b[A\n",
      " 46%|████▌     | 459/1000 [00:00<00:01, 392.06it/s]\u001b[A\n",
      " 59%|█████▉    | 589/1000 [00:00<00:00, 495.83it/s]\u001b[A\n",
      " 76%|███████▌  | 759/1000 [00:00<00:00, 629.29it/s]\u001b[A\n",
      "100%|██████████| 1000/1000 [00:01<00:00, 863.30it/s][A\n",
      "Page No.:  13%|█▎        | 42/329 [05:38<43:33,  9.11s/it]\n",
      "  0%|          | 0/1000 [00:00<?, ?it/s]\u001b[A\n",
      " 29%|██▊       | 287/1000 [00:00<00:00, 2867.31it/s]\u001b[A\n",
      " 55%|█████▍    | 547/1000 [00:00<00:00, 2781.51it/s]\u001b[A\n",
      "100%|██████████| 1000/1000 [00:00<00:00, 2638.70it/s][A\n",
      "Page No.:  13%|█▎        | 43/329 [05:46<41:35,  8.72s/it]\n",
      "  0%|          | 0/1000 [00:00<?, ?it/s]\u001b[A\n",
      " 25%|██▌       | 253/1000 [00:00<00:00, 2526.87it/s]\u001b[A\n",
      " 52%|█████▏    | 523/1000 [00:00<00:00, 2573.70it/s]\u001b[A\n",
      "100%|██████████| 1000/1000 [00:00<00:00, 2632.23it/s][A\n",
      "Page No.:  13%|█▎        | 44/329 [05:54<40:18,  8.48s/it]\n",
      "  0%|          | 0/1000 [00:00<?, ?it/s]\u001b[A\n",
      "  8%|▊         | 75/1000 [00:00<00:01, 621.50it/s]\u001b[A\n",
      "  9%|▉         | 94/1000 [00:00<00:02, 352.78it/s]\u001b[A\n",
      " 11%|█▏        | 113/1000 [00:00<00:04, 217.34it/s]\u001b[A\n",
      " 15%|█▌        | 154/1000 [00:00<00:03, 252.47it/s]\u001b[A\n",
      " 19%|█▉        | 190/1000 [00:00<00:02, 277.23it/s]\u001b[A\n",
      " 23%|██▎       | 228/1000 [00:00<00:02, 286.90it/s]\u001b[A\n",
      " 30%|██▉       | 297/1000 [00:00<00:02, 338.91it/s]\u001b[A\n",
      " 38%|███▊      | 380/1000 [00:00<00:01, 409.17it/s]\u001b[A\n",
      " 49%|████▉     | 491/1000 [00:01<00:01, 504.28it/s]\u001b[A\n",
      " 56%|█████▌    | 560/1000 [00:01<00:00, 471.07it/s]\u001b[A\n",
      " 64%|██████▍   | 643/1000 [00:01<00:00, 540.94it/s]\u001b[A\n",
      " 71%|███████   | 710/1000 [00:01<00:00, 555.99it/s]\u001b[A\n",
      " 81%|████████  | 812/1000 [00:01<00:00, 643.30it/s]\u001b[A\n",
      "100%|██████████| 1000/1000 [00:01<00:00, 597.59it/s][A\n",
      "Page No.:  14%|█▎        | 45/329 [06:04<42:51,  9.05s/it]\n",
      "  0%|          | 0/1000 [00:00<?, ?it/s]\u001b[A\n",
      " 25%|██▌       | 250/1000 [00:00<00:00, 2498.45it/s]\u001b[A\n",
      " 50%|█████     | 504/1000 [00:00<00:00, 2509.90it/s]\u001b[A\n",
      " 65%|██████▍   | 649/1000 [00:00<00:00, 2057.48it/s]\u001b[A\n",
      "100%|██████████| 1000/1000 [00:00<00:00, 2192.39it/s][A\n",
      "Page No.:  14%|█▍        | 46/329 [06:13<41:57,  8.90s/it]\n",
      "  0%|          | 0/1000 [00:00<?, ?it/s]\u001b[A\n",
      " 12%|█▏        | 116/1000 [00:00<00:00, 1157.60it/s]\u001b[A\n",
      " 18%|█▊        | 180/1000 [00:00<00:00, 930.89it/s] \u001b[A\n",
      " 30%|██▉       | 295/1000 [00:00<00:00, 987.26it/s]\u001b[A\n",
      " 55%|█████▍    | 547/1000 [00:00<00:00, 1207.57it/s]\u001b[A\n",
      " 75%|███████▍  | 749/1000 [00:00<00:00, 1373.04it/s]\u001b[A\n",
      "100%|██████████| 1000/1000 [00:00<00:00, 1523.95it/s][A\n",
      "Page No.:  14%|█▍        | 47/329 [06:21<40:46,  8.67s/it]\n",
      "  0%|          | 0/1000 [00:00<?, ?it/s]\u001b[A\n",
      " 16%|█▌        | 161/1000 [00:00<00:00, 1605.55it/s]\u001b[A\n",
      " 37%|███▋      | 371/1000 [00:00<00:00, 1726.42it/s]\u001b[A\n",
      " 55%|█████▌    | 554/1000 [00:00<00:00, 1754.86it/s]\u001b[A\n",
      " 74%|███████▍  | 738/1000 [00:00<00:00, 1779.34it/s]\u001b[A\n",
      "100%|██████████| 1000/1000 [00:00<00:00, 1803.07it/s][A\n",
      "Page No.:  15%|█▍        | 48/329 [06:29<39:50,  8.51s/it]\n",
      "  0%|          | 0/1000 [00:00<?, ?it/s]\u001b[A\n",
      " 16%|█▋        | 163/1000 [00:00<00:00, 1628.62it/s]\u001b[A\n",
      " 37%|███▋      | 367/1000 [00:00<00:00, 1731.46it/s]\u001b[A\n",
      " 56%|█████▋    | 564/1000 [00:00<00:00, 1795.89it/s]\u001b[A\n",
      " 77%|███████▋  | 769/1000 [00:00<00:00, 1863.84it/s]\u001b[A\n",
      "100%|██████████| 1000/1000 [00:00<00:00, 1671.10it/s][A\n",
      "Page No.:  15%|█▍        | 49/329 [06:39<42:39,  9.14s/it]\n",
      "  0%|          | 0/1000 [00:00<?, ?it/s]\u001b[A\n",
      "  8%|▊         | 85/1000 [00:00<00:01, 838.54it/s]\u001b[A\n",
      " 13%|█▎        | 127/1000 [00:00<00:01, 644.30it/s]\u001b[A\n",
      " 17%|█▋        | 174/1000 [00:00<00:01, 579.27it/s]\u001b[A\n",
      " 28%|██▊       | 275/1000 [00:00<00:01, 663.95it/s]\u001b[A\n",
      " 38%|███▊      | 377/1000 [00:00<00:00, 741.40it/s]\u001b[A\n",
      " 45%|████▍     | 446/1000 [00:00<00:01, 525.26it/s]\u001b[A\n",
      " 51%|█████     | 510/1000 [00:00<00:00, 551.51it/s]\u001b[A\n",
      " 60%|██████    | 602/1000 [00:00<00:00, 626.36it/s]\u001b[A\n",
      " 67%|██████▋   | 671/1000 [00:01<00:00, 537.66it/s]\u001b[A\n",
      " 74%|███████▍  | 742/1000 [00:01<00:00, 574.18it/s]\u001b[A\n",
      " 83%|████████▎ | 829/1000 [00:01<00:00, 633.43it/s]\u001b[A\n",
      " 90%|████████▉ | 898/1000 [00:01<00:00, 580.24it/s]\u001b[A\n",
      "100%|██████████| 1000/1000 [00:01<00:00, 631.07it/s][A\n"
     ]
    },
    {
     "name": "stderr",
     "output_type": "stream",
     "text": [
      "Page No.:  15%|█▌        | 50/329 [06:50<44:29,  9.57s/it]\n",
      "  0%|          | 0/1000 [00:00<?, ?it/s]\u001b[A\n",
      " 20%|██        | 203/1000 [00:00<00:00, 2029.11it/s]\u001b[A\n",
      " 44%|████▎     | 436/1000 [00:00<00:00, 2110.17it/s]\u001b[A\n",
      " 66%|██████▌   | 655/1000 [00:00<00:00, 2129.95it/s]\u001b[A\n",
      " 80%|████████  | 800/1000 [00:00<00:00, 1852.29it/s]\u001b[A\n",
      "100%|██████████| 1000/1000 [00:00<00:00, 1894.98it/s][A\n",
      "Page No.:  16%|█▌        | 51/329 [07:00<44:30,  9.61s/it]\n",
      "  0%|          | 0/1000 [00:00<?, ?it/s]\u001b[A\n",
      " 15%|█▍        | 149/1000 [00:00<00:00, 1488.67it/s]\u001b[A\n",
      " 32%|███▏      | 321/1000 [00:00<00:00, 1549.84it/s]\u001b[A\n",
      " 53%|█████▎    | 526/1000 [00:00<00:00, 1671.07it/s]\u001b[A\n",
      " 76%|███████▌  | 758/1000 [00:00<00:00, 1823.35it/s]\u001b[A\n",
      "100%|██████████| 1000/1000 [00:00<00:00, 1953.74it/s][A\n",
      "Page No.:  16%|█▌        | 52/329 [07:08<42:29,  9.20s/it]\n",
      "  0%|          | 0/1000 [00:00<?, ?it/s]\u001b[A\n",
      " 31%|███       | 308/1000 [00:00<00:00, 3072.82it/s]\u001b[A\n",
      " 59%|█████▉    | 588/1000 [00:00<00:00, 2983.01it/s]\u001b[A\n",
      "100%|██████████| 1000/1000 [00:00<00:00, 2859.59it/s][A\n",
      "Page No.:  16%|█▌        | 53/329 [07:16<40:17,  8.76s/it]\n",
      "  0%|          | 0/1000 [00:00<?, ?it/s]\u001b[A\n",
      " 28%|██▊       | 275/1000 [00:00<00:00, 2749.29it/s]\u001b[A\n",
      " 56%|█████▌    | 556/1000 [00:00<00:00, 2766.13it/s]\u001b[A\n",
      "100%|██████████| 1000/1000 [00:00<00:00, 2794.39it/s][A\n",
      "Page No.:  16%|█▋        | 54/329 [07:23<38:50,  8.48s/it]\n",
      "  0%|          | 0/1000 [00:00<?, ?it/s]\u001b[A\n",
      " 29%|██▉       | 288/1000 [00:00<00:00, 2878.96it/s]\u001b[A\n",
      " 56%|█████▋    | 565/1000 [00:00<00:00, 2842.90it/s]\u001b[A\n",
      "100%|██████████| 1000/1000 [00:00<00:00, 2698.85it/s][A\n",
      "Page No.:  17%|█▋        | 55/329 [07:31<38:01,  8.33s/it]\n",
      "  0%|          | 0/1000 [00:00<?, ?it/s]\u001b[A\n",
      " 26%|██▌       | 258/1000 [00:00<00:00, 2579.02it/s]\u001b[A\n",
      " 55%|█████▍    | 548/1000 [00:00<00:00, 2666.84it/s]\u001b[A\n",
      "100%|██████████| 1000/1000 [00:00<00:00, 2624.21it/s][A\n",
      "Page No.:  17%|█▋        | 56/329 [07:39<37:25,  8.23s/it]\n",
      "  0%|          | 0/1000 [00:00<?, ?it/s]\u001b[A\n",
      " 24%|██▎       | 236/1000 [00:00<00:00, 2355.20it/s]\u001b[A\n",
      " 48%|████▊     | 485/1000 [00:00<00:00, 2391.24it/s]\u001b[A\n",
      "100%|██████████| 1000/1000 [00:00<00:00, 2571.71it/s][A\n",
      "Page No.:  17%|█▋        | 57/329 [07:49<37:19,  8.23s/it]\n"
     ]
    },
    {
     "ename": "KeyboardInterrupt",
     "evalue": "",
     "output_type": "error",
     "traceback": [
      "\u001b[0;31m---------------------------------------------------------------------------\u001b[0m",
      "\u001b[0;31mKeyboardInterrupt\u001b[0m                         Traceback (most recent call last)",
      "\u001b[0;32m<ipython-input-55-6a4f6e238d99>\u001b[0m in \u001b[0;36m<module>\u001b[0;34m\u001b[0m\n\u001b[1;32m      3\u001b[0m \u001b[0mpage_num\u001b[0m \u001b[0;34m=\u001b[0m \u001b[0;36m329\u001b[0m\u001b[0;34m\u001b[0m\u001b[0;34m\u001b[0m\u001b[0m\n\u001b[1;32m      4\u001b[0m \u001b[0;34m\u001b[0m\u001b[0m\n\u001b[0;32m----> 5\u001b[0;31m \u001b[0mbill_df\u001b[0m \u001b[0;34m=\u001b[0m \u001b[0mget_bill\u001b[0m\u001b[0;34m(\u001b[0m\u001b[0mpage_num\u001b[0m\u001b[0;34m,\u001b[0m \u001b[0mstart_propose_date\u001b[0m\u001b[0;34m,\u001b[0m \u001b[0mend_propose_date\u001b[0m\u001b[0;34m)\u001b[0m\u001b[0;34m\u001b[0m\u001b[0;34m\u001b[0m\u001b[0m\n\u001b[0m\u001b[1;32m      6\u001b[0m \u001b[0mlen\u001b[0m\u001b[0;34m(\u001b[0m\u001b[0mbill_df\u001b[0m\u001b[0;34m)\u001b[0m\u001b[0;34m\u001b[0m\u001b[0;34m\u001b[0m\u001b[0m\n",
      "\u001b[0;32m<ipython-input-43-d5a8f7a15ec3>\u001b[0m in \u001b[0;36mget_bill\u001b[0;34m(page_num, start_propose_date, end_propose_date)\u001b[0m\n\u001b[1;32m     22\u001b[0m                    \u001b[0;34mf\"&pageNo={n}\"\u001b[0m \u001b[0;34m+\u001b[0m \u001b[0;34mf\"&numOfRows=1000&mem_name_check=&mem_name=&hj_nm=&ord=&start_ord=&end_ord=&process_num=-&start_process_num=-&end_process_num=-&propose_num=-&start_propose_num=-&end_propose_num=-&start_propose_date={start_propose_date}&end_propose_date={end_propose_date}&start_committee_dt=&end_committee_dt=&bill_kind_cd=B04&curr_committee=&proposer_kind_cd=&p_proc_result_cd=&b_proc_result_cd=&bill_name=&gbn=&amendmentyn=&budget=&\"\u001b[0m\u001b[0;34m\u001b[0m\u001b[0;34m\u001b[0m\u001b[0m\n\u001b[1;32m     23\u001b[0m \u001b[0;34m\u001b[0m\u001b[0m\n\u001b[0;32m---> 24\u001b[0;31m         \u001b[0mres\u001b[0m \u001b[0;34m=\u001b[0m \u001b[0mrequests\u001b[0m\u001b[0;34m.\u001b[0m\u001b[0mget\u001b[0m\u001b[0;34m(\u001b[0m\u001b[0mopen_api\u001b[0m\u001b[0;34m)\u001b[0m\u001b[0;34m\u001b[0m\u001b[0;34m\u001b[0m\u001b[0m\n\u001b[0m\u001b[1;32m     25\u001b[0m         \u001b[0msoup\u001b[0m \u001b[0;34m=\u001b[0m \u001b[0mBeautifulSoup\u001b[0m\u001b[0;34m(\u001b[0m\u001b[0mres\u001b[0m\u001b[0;34m.\u001b[0m\u001b[0mcontent\u001b[0m\u001b[0;34m,\u001b[0m \u001b[0;34m'html.parser'\u001b[0m\u001b[0;34m)\u001b[0m\u001b[0;34m\u001b[0m\u001b[0;34m\u001b[0m\u001b[0m\n\u001b[1;32m     26\u001b[0m         \u001b[0mitems\u001b[0m \u001b[0;34m=\u001b[0m \u001b[0msoup\u001b[0m\u001b[0;34m.\u001b[0m\u001b[0mfind_all\u001b[0m\u001b[0;34m(\u001b[0m\u001b[0;34m'item'\u001b[0m\u001b[0;34m)\u001b[0m\u001b[0;34m\u001b[0m\u001b[0;34m\u001b[0m\u001b[0m\n",
      "\u001b[0;32m/usr/local/lib/python3.8/site-packages/requests/api.py\u001b[0m in \u001b[0;36mget\u001b[0;34m(url, params, **kwargs)\u001b[0m\n\u001b[1;32m     74\u001b[0m \u001b[0;34m\u001b[0m\u001b[0m\n\u001b[1;32m     75\u001b[0m     \u001b[0mkwargs\u001b[0m\u001b[0;34m.\u001b[0m\u001b[0msetdefault\u001b[0m\u001b[0;34m(\u001b[0m\u001b[0;34m'allow_redirects'\u001b[0m\u001b[0;34m,\u001b[0m \u001b[0;32mTrue\u001b[0m\u001b[0;34m)\u001b[0m\u001b[0;34m\u001b[0m\u001b[0;34m\u001b[0m\u001b[0m\n\u001b[0;32m---> 76\u001b[0;31m     \u001b[0;32mreturn\u001b[0m \u001b[0mrequest\u001b[0m\u001b[0;34m(\u001b[0m\u001b[0;34m'get'\u001b[0m\u001b[0;34m,\u001b[0m \u001b[0murl\u001b[0m\u001b[0;34m,\u001b[0m \u001b[0mparams\u001b[0m\u001b[0;34m=\u001b[0m\u001b[0mparams\u001b[0m\u001b[0;34m,\u001b[0m \u001b[0;34m**\u001b[0m\u001b[0mkwargs\u001b[0m\u001b[0;34m)\u001b[0m\u001b[0;34m\u001b[0m\u001b[0;34m\u001b[0m\u001b[0m\n\u001b[0m\u001b[1;32m     77\u001b[0m \u001b[0;34m\u001b[0m\u001b[0m\n\u001b[1;32m     78\u001b[0m \u001b[0;34m\u001b[0m\u001b[0m\n",
      "\u001b[0;32m/usr/local/lib/python3.8/site-packages/requests/api.py\u001b[0m in \u001b[0;36mrequest\u001b[0;34m(method, url, **kwargs)\u001b[0m\n\u001b[1;32m     59\u001b[0m     \u001b[0;31m# cases, and look like a memory leak in others.\u001b[0m\u001b[0;34m\u001b[0m\u001b[0;34m\u001b[0m\u001b[0;34m\u001b[0m\u001b[0m\n\u001b[1;32m     60\u001b[0m     \u001b[0;32mwith\u001b[0m \u001b[0msessions\u001b[0m\u001b[0;34m.\u001b[0m\u001b[0mSession\u001b[0m\u001b[0;34m(\u001b[0m\u001b[0;34m)\u001b[0m \u001b[0;32mas\u001b[0m \u001b[0msession\u001b[0m\u001b[0;34m:\u001b[0m\u001b[0;34m\u001b[0m\u001b[0;34m\u001b[0m\u001b[0m\n\u001b[0;32m---> 61\u001b[0;31m         \u001b[0;32mreturn\u001b[0m \u001b[0msession\u001b[0m\u001b[0;34m.\u001b[0m\u001b[0mrequest\u001b[0m\u001b[0;34m(\u001b[0m\u001b[0mmethod\u001b[0m\u001b[0;34m=\u001b[0m\u001b[0mmethod\u001b[0m\u001b[0;34m,\u001b[0m \u001b[0murl\u001b[0m\u001b[0;34m=\u001b[0m\u001b[0murl\u001b[0m\u001b[0;34m,\u001b[0m \u001b[0;34m**\u001b[0m\u001b[0mkwargs\u001b[0m\u001b[0;34m)\u001b[0m\u001b[0;34m\u001b[0m\u001b[0;34m\u001b[0m\u001b[0m\n\u001b[0m\u001b[1;32m     62\u001b[0m \u001b[0;34m\u001b[0m\u001b[0m\n\u001b[1;32m     63\u001b[0m \u001b[0;34m\u001b[0m\u001b[0m\n",
      "\u001b[0;32m/usr/local/lib/python3.8/site-packages/requests/sessions.py\u001b[0m in \u001b[0;36mrequest\u001b[0;34m(self, method, url, params, data, headers, cookies, files, auth, timeout, allow_redirects, proxies, hooks, stream, verify, cert, json)\u001b[0m\n\u001b[1;32m    528\u001b[0m         }\n\u001b[1;32m    529\u001b[0m         \u001b[0msend_kwargs\u001b[0m\u001b[0;34m.\u001b[0m\u001b[0mupdate\u001b[0m\u001b[0;34m(\u001b[0m\u001b[0msettings\u001b[0m\u001b[0;34m)\u001b[0m\u001b[0;34m\u001b[0m\u001b[0;34m\u001b[0m\u001b[0m\n\u001b[0;32m--> 530\u001b[0;31m         \u001b[0mresp\u001b[0m \u001b[0;34m=\u001b[0m \u001b[0mself\u001b[0m\u001b[0;34m.\u001b[0m\u001b[0msend\u001b[0m\u001b[0;34m(\u001b[0m\u001b[0mprep\u001b[0m\u001b[0;34m,\u001b[0m \u001b[0;34m**\u001b[0m\u001b[0msend_kwargs\u001b[0m\u001b[0;34m)\u001b[0m\u001b[0;34m\u001b[0m\u001b[0;34m\u001b[0m\u001b[0m\n\u001b[0m\u001b[1;32m    531\u001b[0m \u001b[0;34m\u001b[0m\u001b[0m\n\u001b[1;32m    532\u001b[0m         \u001b[0;32mreturn\u001b[0m \u001b[0mresp\u001b[0m\u001b[0;34m\u001b[0m\u001b[0;34m\u001b[0m\u001b[0m\n",
      "\u001b[0;32m/usr/local/lib/python3.8/site-packages/requests/sessions.py\u001b[0m in \u001b[0;36msend\u001b[0;34m(self, request, **kwargs)\u001b[0m\n\u001b[1;32m    641\u001b[0m \u001b[0;34m\u001b[0m\u001b[0m\n\u001b[1;32m    642\u001b[0m         \u001b[0;31m# Send the request\u001b[0m\u001b[0;34m\u001b[0m\u001b[0;34m\u001b[0m\u001b[0;34m\u001b[0m\u001b[0m\n\u001b[0;32m--> 643\u001b[0;31m         \u001b[0mr\u001b[0m \u001b[0;34m=\u001b[0m \u001b[0madapter\u001b[0m\u001b[0;34m.\u001b[0m\u001b[0msend\u001b[0m\u001b[0;34m(\u001b[0m\u001b[0mrequest\u001b[0m\u001b[0;34m,\u001b[0m \u001b[0;34m**\u001b[0m\u001b[0mkwargs\u001b[0m\u001b[0;34m)\u001b[0m\u001b[0;34m\u001b[0m\u001b[0;34m\u001b[0m\u001b[0m\n\u001b[0m\u001b[1;32m    644\u001b[0m \u001b[0;34m\u001b[0m\u001b[0m\n\u001b[1;32m    645\u001b[0m         \u001b[0;31m# Total elapsed time of the request (approximately)\u001b[0m\u001b[0;34m\u001b[0m\u001b[0;34m\u001b[0m\u001b[0;34m\u001b[0m\u001b[0m\n",
      "\u001b[0;32m/usr/local/lib/python3.8/site-packages/requests/adapters.py\u001b[0m in \u001b[0;36msend\u001b[0;34m(self, request, stream, timeout, verify, cert, proxies)\u001b[0m\n\u001b[1;32m    437\u001b[0m         \u001b[0;32mtry\u001b[0m\u001b[0;34m:\u001b[0m\u001b[0;34m\u001b[0m\u001b[0;34m\u001b[0m\u001b[0m\n\u001b[1;32m    438\u001b[0m             \u001b[0;32mif\u001b[0m \u001b[0;32mnot\u001b[0m \u001b[0mchunked\u001b[0m\u001b[0;34m:\u001b[0m\u001b[0;34m\u001b[0m\u001b[0;34m\u001b[0m\u001b[0m\n\u001b[0;32m--> 439\u001b[0;31m                 resp = conn.urlopen(\n\u001b[0m\u001b[1;32m    440\u001b[0m                     \u001b[0mmethod\u001b[0m\u001b[0;34m=\u001b[0m\u001b[0mrequest\u001b[0m\u001b[0;34m.\u001b[0m\u001b[0mmethod\u001b[0m\u001b[0;34m,\u001b[0m\u001b[0;34m\u001b[0m\u001b[0;34m\u001b[0m\u001b[0m\n\u001b[1;32m    441\u001b[0m                     \u001b[0murl\u001b[0m\u001b[0;34m=\u001b[0m\u001b[0murl\u001b[0m\u001b[0;34m,\u001b[0m\u001b[0;34m\u001b[0m\u001b[0;34m\u001b[0m\u001b[0m\n",
      "\u001b[0;32m/usr/local/lib/python3.8/site-packages/urllib3/connectionpool.py\u001b[0m in \u001b[0;36murlopen\u001b[0;34m(self, method, url, body, headers, retries, redirect, assert_same_host, timeout, pool_timeout, release_conn, chunked, body_pos, **response_kw)\u001b[0m\n\u001b[1;32m    668\u001b[0m \u001b[0;34m\u001b[0m\u001b[0m\n\u001b[1;32m    669\u001b[0m             \u001b[0;31m# Make the request on the httplib connection object.\u001b[0m\u001b[0;34m\u001b[0m\u001b[0;34m\u001b[0m\u001b[0;34m\u001b[0m\u001b[0m\n\u001b[0;32m--> 670\u001b[0;31m             httplib_response = self._make_request(\n\u001b[0m\u001b[1;32m    671\u001b[0m                 \u001b[0mconn\u001b[0m\u001b[0;34m,\u001b[0m\u001b[0;34m\u001b[0m\u001b[0;34m\u001b[0m\u001b[0m\n\u001b[1;32m    672\u001b[0m                 \u001b[0mmethod\u001b[0m\u001b[0;34m,\u001b[0m\u001b[0;34m\u001b[0m\u001b[0;34m\u001b[0m\u001b[0m\n",
      "\u001b[0;32m/usr/local/lib/python3.8/site-packages/urllib3/connectionpool.py\u001b[0m in \u001b[0;36m_make_request\u001b[0;34m(self, conn, method, url, timeout, chunked, **httplib_request_kw)\u001b[0m\n\u001b[1;32m    424\u001b[0m                     \u001b[0;31m# Python 3 (including for exceptions like SystemExit).\u001b[0m\u001b[0;34m\u001b[0m\u001b[0;34m\u001b[0m\u001b[0;34m\u001b[0m\u001b[0m\n\u001b[1;32m    425\u001b[0m                     \u001b[0;31m# Otherwise it looks like a bug in the code.\u001b[0m\u001b[0;34m\u001b[0m\u001b[0;34m\u001b[0m\u001b[0;34m\u001b[0m\u001b[0m\n\u001b[0;32m--> 426\u001b[0;31m                     \u001b[0msix\u001b[0m\u001b[0;34m.\u001b[0m\u001b[0mraise_from\u001b[0m\u001b[0;34m(\u001b[0m\u001b[0me\u001b[0m\u001b[0;34m,\u001b[0m \u001b[0;32mNone\u001b[0m\u001b[0;34m)\u001b[0m\u001b[0;34m\u001b[0m\u001b[0;34m\u001b[0m\u001b[0m\n\u001b[0m\u001b[1;32m    427\u001b[0m         \u001b[0;32mexcept\u001b[0m \u001b[0;34m(\u001b[0m\u001b[0mSocketTimeout\u001b[0m\u001b[0;34m,\u001b[0m \u001b[0mBaseSSLError\u001b[0m\u001b[0;34m,\u001b[0m \u001b[0mSocketError\u001b[0m\u001b[0;34m)\u001b[0m \u001b[0;32mas\u001b[0m \u001b[0me\u001b[0m\u001b[0;34m:\u001b[0m\u001b[0;34m\u001b[0m\u001b[0;34m\u001b[0m\u001b[0m\n\u001b[1;32m    428\u001b[0m             \u001b[0mself\u001b[0m\u001b[0;34m.\u001b[0m\u001b[0m_raise_timeout\u001b[0m\u001b[0;34m(\u001b[0m\u001b[0merr\u001b[0m\u001b[0;34m=\u001b[0m\u001b[0me\u001b[0m\u001b[0;34m,\u001b[0m \u001b[0murl\u001b[0m\u001b[0;34m=\u001b[0m\u001b[0murl\u001b[0m\u001b[0;34m,\u001b[0m \u001b[0mtimeout_value\u001b[0m\u001b[0;34m=\u001b[0m\u001b[0mread_timeout\u001b[0m\u001b[0;34m)\u001b[0m\u001b[0;34m\u001b[0m\u001b[0;34m\u001b[0m\u001b[0m\n",
      "\u001b[0;32m/usr/local/lib/python3.8/site-packages/urllib3/packages/six.py\u001b[0m in \u001b[0;36mraise_from\u001b[0;34m(value, from_value)\u001b[0m\n",
      "\u001b[0;32m/usr/local/lib/python3.8/site-packages/urllib3/connectionpool.py\u001b[0m in \u001b[0;36m_make_request\u001b[0;34m(self, conn, method, url, timeout, chunked, **httplib_request_kw)\u001b[0m\n\u001b[1;32m    419\u001b[0m                 \u001b[0;31m# Python 3\u001b[0m\u001b[0;34m\u001b[0m\u001b[0;34m\u001b[0m\u001b[0;34m\u001b[0m\u001b[0m\n\u001b[1;32m    420\u001b[0m                 \u001b[0;32mtry\u001b[0m\u001b[0;34m:\u001b[0m\u001b[0;34m\u001b[0m\u001b[0;34m\u001b[0m\u001b[0m\n\u001b[0;32m--> 421\u001b[0;31m                     \u001b[0mhttplib_response\u001b[0m \u001b[0;34m=\u001b[0m \u001b[0mconn\u001b[0m\u001b[0;34m.\u001b[0m\u001b[0mgetresponse\u001b[0m\u001b[0;34m(\u001b[0m\u001b[0;34m)\u001b[0m\u001b[0;34m\u001b[0m\u001b[0;34m\u001b[0m\u001b[0m\n\u001b[0m\u001b[1;32m    422\u001b[0m                 \u001b[0;32mexcept\u001b[0m \u001b[0mBaseException\u001b[0m \u001b[0;32mas\u001b[0m \u001b[0me\u001b[0m\u001b[0;34m:\u001b[0m\u001b[0;34m\u001b[0m\u001b[0;34m\u001b[0m\u001b[0m\n\u001b[1;32m    423\u001b[0m                     \u001b[0;31m# Remove the TypeError from the exception chain in\u001b[0m\u001b[0;34m\u001b[0m\u001b[0;34m\u001b[0m\u001b[0;34m\u001b[0m\u001b[0m\n",
      "\u001b[0;32m/usr/local/Cellar/python@3.8/3.8.5/Frameworks/Python.framework/Versions/3.8/lib/python3.8/http/client.py\u001b[0m in \u001b[0;36mgetresponse\u001b[0;34m(self)\u001b[0m\n\u001b[1;32m   1345\u001b[0m         \u001b[0;32mtry\u001b[0m\u001b[0;34m:\u001b[0m\u001b[0;34m\u001b[0m\u001b[0;34m\u001b[0m\u001b[0m\n\u001b[1;32m   1346\u001b[0m             \u001b[0;32mtry\u001b[0m\u001b[0;34m:\u001b[0m\u001b[0;34m\u001b[0m\u001b[0;34m\u001b[0m\u001b[0m\n\u001b[0;32m-> 1347\u001b[0;31m                 \u001b[0mresponse\u001b[0m\u001b[0;34m.\u001b[0m\u001b[0mbegin\u001b[0m\u001b[0;34m(\u001b[0m\u001b[0;34m)\u001b[0m\u001b[0;34m\u001b[0m\u001b[0;34m\u001b[0m\u001b[0m\n\u001b[0m\u001b[1;32m   1348\u001b[0m             \u001b[0;32mexcept\u001b[0m \u001b[0mConnectionError\u001b[0m\u001b[0;34m:\u001b[0m\u001b[0;34m\u001b[0m\u001b[0;34m\u001b[0m\u001b[0m\n\u001b[1;32m   1349\u001b[0m                 \u001b[0mself\u001b[0m\u001b[0;34m.\u001b[0m\u001b[0mclose\u001b[0m\u001b[0;34m(\u001b[0m\u001b[0;34m)\u001b[0m\u001b[0;34m\u001b[0m\u001b[0;34m\u001b[0m\u001b[0m\n",
      "\u001b[0;32m/usr/local/Cellar/python@3.8/3.8.5/Frameworks/Python.framework/Versions/3.8/lib/python3.8/http/client.py\u001b[0m in \u001b[0;36mbegin\u001b[0;34m(self)\u001b[0m\n\u001b[1;32m    305\u001b[0m         \u001b[0;31m# read until we get a non-100 response\u001b[0m\u001b[0;34m\u001b[0m\u001b[0;34m\u001b[0m\u001b[0;34m\u001b[0m\u001b[0m\n\u001b[1;32m    306\u001b[0m         \u001b[0;32mwhile\u001b[0m \u001b[0;32mTrue\u001b[0m\u001b[0;34m:\u001b[0m\u001b[0;34m\u001b[0m\u001b[0;34m\u001b[0m\u001b[0m\n\u001b[0;32m--> 307\u001b[0;31m             \u001b[0mversion\u001b[0m\u001b[0;34m,\u001b[0m \u001b[0mstatus\u001b[0m\u001b[0;34m,\u001b[0m \u001b[0mreason\u001b[0m \u001b[0;34m=\u001b[0m \u001b[0mself\u001b[0m\u001b[0;34m.\u001b[0m\u001b[0m_read_status\u001b[0m\u001b[0;34m(\u001b[0m\u001b[0;34m)\u001b[0m\u001b[0;34m\u001b[0m\u001b[0;34m\u001b[0m\u001b[0m\n\u001b[0m\u001b[1;32m    308\u001b[0m             \u001b[0;32mif\u001b[0m \u001b[0mstatus\u001b[0m \u001b[0;34m!=\u001b[0m \u001b[0mCONTINUE\u001b[0m\u001b[0;34m:\u001b[0m\u001b[0;34m\u001b[0m\u001b[0;34m\u001b[0m\u001b[0m\n\u001b[1;32m    309\u001b[0m                 \u001b[0;32mbreak\u001b[0m\u001b[0;34m\u001b[0m\u001b[0;34m\u001b[0m\u001b[0m\n",
      "\u001b[0;32m/usr/local/Cellar/python@3.8/3.8.5/Frameworks/Python.framework/Versions/3.8/lib/python3.8/http/client.py\u001b[0m in \u001b[0;36m_read_status\u001b[0;34m(self)\u001b[0m\n\u001b[1;32m    266\u001b[0m \u001b[0;34m\u001b[0m\u001b[0m\n\u001b[1;32m    267\u001b[0m     \u001b[0;32mdef\u001b[0m \u001b[0m_read_status\u001b[0m\u001b[0;34m(\u001b[0m\u001b[0mself\u001b[0m\u001b[0;34m)\u001b[0m\u001b[0;34m:\u001b[0m\u001b[0;34m\u001b[0m\u001b[0;34m\u001b[0m\u001b[0m\n\u001b[0;32m--> 268\u001b[0;31m         \u001b[0mline\u001b[0m \u001b[0;34m=\u001b[0m \u001b[0mstr\u001b[0m\u001b[0;34m(\u001b[0m\u001b[0mself\u001b[0m\u001b[0;34m.\u001b[0m\u001b[0mfp\u001b[0m\u001b[0;34m.\u001b[0m\u001b[0mreadline\u001b[0m\u001b[0;34m(\u001b[0m\u001b[0m_MAXLINE\u001b[0m \u001b[0;34m+\u001b[0m \u001b[0;36m1\u001b[0m\u001b[0;34m)\u001b[0m\u001b[0;34m,\u001b[0m \u001b[0;34m\"iso-8859-1\"\u001b[0m\u001b[0;34m)\u001b[0m\u001b[0;34m\u001b[0m\u001b[0;34m\u001b[0m\u001b[0m\n\u001b[0m\u001b[1;32m    269\u001b[0m         \u001b[0;32mif\u001b[0m \u001b[0mlen\u001b[0m\u001b[0;34m(\u001b[0m\u001b[0mline\u001b[0m\u001b[0;34m)\u001b[0m \u001b[0;34m>\u001b[0m \u001b[0m_MAXLINE\u001b[0m\u001b[0;34m:\u001b[0m\u001b[0;34m\u001b[0m\u001b[0;34m\u001b[0m\u001b[0m\n\u001b[1;32m    270\u001b[0m             \u001b[0;32mraise\u001b[0m \u001b[0mLineTooLong\u001b[0m\u001b[0;34m(\u001b[0m\u001b[0;34m\"status line\"\u001b[0m\u001b[0;34m)\u001b[0m\u001b[0;34m\u001b[0m\u001b[0;34m\u001b[0m\u001b[0m\n",
      "\u001b[0;32m/usr/local/Cellar/python@3.8/3.8.5/Frameworks/Python.framework/Versions/3.8/lib/python3.8/socket.py\u001b[0m in \u001b[0;36mreadinto\u001b[0;34m(self, b)\u001b[0m\n\u001b[1;32m    667\u001b[0m         \u001b[0;32mwhile\u001b[0m \u001b[0;32mTrue\u001b[0m\u001b[0;34m:\u001b[0m\u001b[0;34m\u001b[0m\u001b[0;34m\u001b[0m\u001b[0m\n\u001b[1;32m    668\u001b[0m             \u001b[0;32mtry\u001b[0m\u001b[0;34m:\u001b[0m\u001b[0;34m\u001b[0m\u001b[0;34m\u001b[0m\u001b[0m\n\u001b[0;32m--> 669\u001b[0;31m                 \u001b[0;32mreturn\u001b[0m \u001b[0mself\u001b[0m\u001b[0;34m.\u001b[0m\u001b[0m_sock\u001b[0m\u001b[0;34m.\u001b[0m\u001b[0mrecv_into\u001b[0m\u001b[0;34m(\u001b[0m\u001b[0mb\u001b[0m\u001b[0;34m)\u001b[0m\u001b[0;34m\u001b[0m\u001b[0;34m\u001b[0m\u001b[0m\n\u001b[0m\u001b[1;32m    670\u001b[0m             \u001b[0;32mexcept\u001b[0m \u001b[0mtimeout\u001b[0m\u001b[0;34m:\u001b[0m\u001b[0;34m\u001b[0m\u001b[0;34m\u001b[0m\u001b[0m\n\u001b[1;32m    671\u001b[0m                 \u001b[0mself\u001b[0m\u001b[0;34m.\u001b[0m\u001b[0m_timeout_occurred\u001b[0m \u001b[0;34m=\u001b[0m \u001b[0;32mTrue\u001b[0m\u001b[0;34m\u001b[0m\u001b[0;34m\u001b[0m\u001b[0m\n",
      "\u001b[0;31mKeyboardInterrupt\u001b[0m: "
     ]
    }
   ],
   "source": [
    "start_propose_date = '2004-05-30'\n",
    "end_propose_date = '2008-05-29'\n",
    "page_num = 329\n",
    "\n",
    "bill_df = get_bill(page_num, start_propose_date, end_propose_date)\n",
    "len(bill_df)"
   ]
  },
  {
   "cell_type": "code",
   "execution_count": null,
   "metadata": {},
   "outputs": [],
   "source": [
    "bill_df = bill_df.drop_duplicates()\n",
    "len(bill_df)"
   ]
  },
  {
   "cell_type": "code",
   "execution_count": null,
   "metadata": {},
   "outputs": [],
   "source": [
    "bill_df.to_csv('17th-lawbill-list.csv', encoding='utf-8-sig')"
   ]
  },
  {
   "cell_type": "code",
   "execution_count": null,
   "metadata": {},
   "outputs": [],
   "source": []
  },
  {
   "cell_type": "markdown",
   "metadata": {},
   "source": [
    "## 6. 18대 법률안"
   ]
  },
  {
   "cell_type": "code",
   "execution_count": null,
   "metadata": {},
   "outputs": [],
   "source": [
    "start_propose_date = '2008-05-30'\n",
    "end_propose_date = '2012-05-29'\n",
    "page_num = 497\n",
    "\n",
    "bill_df = get_bill(page_num, start_propose_date, end_propose_date)\n",
    "len(bill_df)"
   ]
  },
  {
   "cell_type": "code",
   "execution_count": null,
   "metadata": {},
   "outputs": [],
   "source": [
    "bill_df = bill_df.drop_duplicates()\n",
    "len(bill_df)"
   ]
  },
  {
   "cell_type": "code",
   "execution_count": null,
   "metadata": {},
   "outputs": [],
   "source": [
    "bill_df.to_csv('18th-lawbill-list.csv', encoding='utf-8-sig')"
   ]
  },
  {
   "cell_type": "code",
   "execution_count": null,
   "metadata": {},
   "outputs": [],
   "source": []
  },
  {
   "cell_type": "markdown",
   "metadata": {},
   "source": [
    "## 7. 19대 법률안"
   ]
  },
  {
   "cell_type": "code",
   "execution_count": null,
   "metadata": {},
   "outputs": [],
   "source": [
    "start_propose_date = '2012-05-30'\n",
    "end_propose_date = '2016-05-29'\n",
    "page_num = 661\n",
    "\n",
    "bill_df = get_bill(page_num, start_propose_date, end_propose_date)\n",
    "len(bill_df)"
   ]
  },
  {
   "cell_type": "code",
   "execution_count": null,
   "metadata": {},
   "outputs": [],
   "source": [
    "bill_df = bill_df.drop_duplicates()\n",
    "len(bill_df)"
   ]
  },
  {
   "cell_type": "code",
   "execution_count": null,
   "metadata": {},
   "outputs": [],
   "source": [
    "bill_df.to_csv('19th-lawbill-list.csv', encoding='utf-8-sig')"
   ]
  },
  {
   "cell_type": "code",
   "execution_count": null,
   "metadata": {},
   "outputs": [],
   "source": []
  },
  {
   "cell_type": "markdown",
   "metadata": {},
   "source": [
    "## 8. 20대 법률안"
   ]
  },
  {
   "cell_type": "code",
   "execution_count": null,
   "metadata": {},
   "outputs": [],
   "source": [
    "start_propose_date = '2016-05-30'\n",
    "end_propose_date = '2020-05-29'\n",
    "page_num = 894\n",
    "\n",
    "bill_df = get_bill(page_num, start_propose_date, end_propose_date)\n",
    "len(bill_df)"
   ]
  },
  {
   "cell_type": "code",
   "execution_count": null,
   "metadata": {},
   "outputs": [],
   "source": [
    "bill_df = bill_df.drop_duplicates()\n",
    "len(bill_df)"
   ]
  },
  {
   "cell_type": "code",
   "execution_count": null,
   "metadata": {},
   "outputs": [],
   "source": [
    "bill_df.to_csv('20th-lawbill-list.csv', encoding='utf-8-sig')"
   ]
  },
  {
   "cell_type": "code",
   "execution_count": null,
   "metadata": {},
   "outputs": [],
   "source": []
  },
  {
   "cell_type": "markdown",
   "metadata": {},
   "source": [
    "## 9. 21대 법률안"
   ]
  },
  {
   "cell_type": "code",
   "execution_count": null,
   "metadata": {},
   "outputs": [],
   "source": [
    "start_propose_date = '2020-05-30'\n",
    "end_propose_date = '2020-09-09'\n",
    "page_num = 154\n",
    "\n",
    "bill_df = get_bill(page_num, start_propose_date, end_propose_date)\n",
    "len(bill_df)"
   ]
  },
  {
   "cell_type": "code",
   "execution_count": null,
   "metadata": {},
   "outputs": [],
   "source": [
    "bill_df = bill_df.drop_duplicates()\n",
    "len(bill_df)"
   ]
  },
  {
   "cell_type": "code",
   "execution_count": null,
   "metadata": {},
   "outputs": [],
   "source": [
    "bill_df.to_csv('21st-lawbill-list.csv', encoding='utf-8-sig')"
   ]
  },
  {
   "cell_type": "code",
   "execution_count": null,
   "metadata": {},
   "outputs": [],
   "source": []
  },
  {
   "cell_type": "markdown",
   "metadata": {},
   "source": [
    "## 국회의원 추출"
   ]
  },
  {
   "cell_type": "code",
   "execution_count": 31,
   "metadata": {},
   "outputs": [],
   "source": [
    "service_key = 'X8D3ieWlnaETG%2F8ao7onl%2FJ6safe1VHOT8dnqbiBW%2BrHTqj7uFAtJKpcSJ0XHli3SbGa0clTNkcne8G0xFWXWg%3D%3D'\n",
    "params = 'bill_id=PRC_O1R4A0O3X1K3K1O4S0E7A2E5O6G8Z0&gbn1=bill&gbn2=reception&gbnCd=&hjNm=&polyNm=&ServiceKey='\n",
    "\n",
    "open_api = 'http://apis.data.go.kr/9710000/BillInfoService2/getBillPetitionMemberList?' + params + service_key\n",
    "\n",
    "res = requests.get(open_api)\n",
    "soup = BeautifulSoup(res.content, 'html.parser')\n",
    "\n",
    "items = soup.find_all('item')"
   ]
  },
  {
   "cell_type": "code",
   "execution_count": 30,
   "metadata": {},
   "outputs": [
    {
     "data": {
      "text/plain": [
       "[<item><gbn1>의안</gbn1><gbn2>접수정보목록</gbn2><gbncd>발의자</gbncd><hjnm>姜琪正</hjnm><memname>강기정</memname><polynm>민주당</polynm></item>,\n",
       " <item><gbn1>의안</gbn1><gbn2>접수정보목록</gbn2><gbncd>발의자</gbncd><hjnm>金東喆</hjnm><memname>김동철</memname><polynm>민주당</polynm></item>,\n",
       " <item><gbn1>의안</gbn1><gbn2>접수정보목록</gbn2><gbncd>발의자</gbncd><hjnm>金榮珠</hjnm><memname>김영주</memname><polynm>민주당</polynm></item>,\n",
       " <item><gbn1>의안</gbn1><gbn2>접수정보목록</gbn2><gbncd>발의자</gbncd><hjnm>金宇南</hjnm><memname>김우남</memname><polynm>민주당</polynm></item>,\n",
       " <item><gbn1>의안</gbn1><gbn2>접수정보목록</gbn2><gbncd>발의자</gbncd><hjnm>金潤德</hjnm><memname>김윤덕</memname><polynm>민주당</polynm></item>,\n",
       " <item><gbn1>의안</gbn1><gbn2>접수정보목록</gbn2><gbncd>발의자</gbncd><hjnm>金玄</hjnm><memname>김현</memname><polynm>민주당</polynm></item>,\n",
       " <item><gbn1>의안</gbn1><gbn2>접수정보목록</gbn2><gbncd>발의자</gbncd><hjnm>朴敏秀</hjnm><memname>박민수</memname><polynm>민주당</polynm></item>,\n",
       " <item><gbn1>의안</gbn1><gbn2>접수정보목록</gbn2><gbncd>발의자</gbncd><hjnm>朴洪根</hjnm><memname>박홍근</memname><polynm>민주당</polynm></item>,\n",
       " <item><gbn1>의안</gbn1><gbn2>접수정보목록</gbn2><gbncd>발의자</gbncd><hjnm>裵奇雲</hjnm><memname>배기운</memname><polynm>민주당</polynm></item>,\n",
       " <item><gbn1>의안</gbn1><gbn2>접수정보목록</gbn2><gbncd>발의자</gbncd><hjnm>吳泳食</hjnm><memname>오영식</memname><polynm>민주당</polynm></item>,\n",
       " <item><gbn1>의안</gbn1><gbn2>접수정보목록</gbn2><gbncd>발의자</gbncd><hjnm>李錫玄</hjnm><memname>이석현</memname><polynm>민주당</polynm></item>,\n",
       " <item><gbn1>의안</gbn1><gbn2>접수정보목록</gbn2><gbncd>발의자</gbncd><hjnm>李學永</hjnm><memname>이학영</memname><polynm>민주당</polynm></item>,\n",
       " <item><gbn1>의안</gbn1><gbn2>접수정보목록</gbn2><gbncd>발의자</gbncd><hjnm>林來玄</hjnm><memname>임내현</memname><polynm>민주당</polynm></item>]"
      ]
     },
     "execution_count": 30,
     "metadata": {},
     "output_type": "execute_result"
    }
   ],
   "source": [
    "items"
   ]
  },
  {
   "cell_type": "code",
   "execution_count": null,
   "metadata": {},
   "outputs": [],
   "source": []
  }
 ],
 "metadata": {
  "kernelspec": {
   "display_name": "Python 3",
   "language": "python",
   "name": "python3"
  },
  "language_info": {
   "codemirror_mode": {
    "name": "ipython",
    "version": 3
   },
   "file_extension": ".py",
   "mimetype": "text/x-python",
   "name": "python",
   "nbconvert_exporter": "python",
   "pygments_lexer": "ipython3",
   "version": "3.8.5"
  }
 },
 "nbformat": 4,
 "nbformat_minor": 4
}
