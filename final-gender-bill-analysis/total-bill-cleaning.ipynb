{
 "cells": [
  {
   "cell_type": "markdown",
   "metadata": {},
   "source": [
    "# 최종 정리"
   ]
  },
  {
   "cell_type": "code",
   "execution_count": 1,
   "metadata": {},
   "outputs": [],
   "source": [
    "import pandas as pd \n",
    "import numpy as np"
   ]
  },
  {
   "cell_type": "code",
   "execution_count": 50,
   "metadata": {},
   "outputs": [
    {
     "data": {
      "text/plain": [
       "(17, 16)"
      ]
     },
     "execution_count": 50,
     "metadata": {},
     "output_type": "execute_result"
    }
   ],
   "source": [
    "gender_13 = pd.read_csv('13th-bill/13th-gender-bill-v3.csv', index_col=0, encoding='utf-8-sig')\n",
    "gender_13['국회회기'] = 13\n",
    "gender_13.shape"
   ]
  },
  {
   "cell_type": "code",
   "execution_count": 48,
   "metadata": {},
   "outputs": [
    {
     "data": {
      "text/plain": [
       "(22, 16)"
      ]
     },
     "execution_count": 48,
     "metadata": {},
     "output_type": "execute_result"
    }
   ],
   "source": [
    "gender_14 = pd.read_csv('14th-bill/14th-gender-bill-v3.csv', index_col=0, encoding='utf-8-sig')\n",
    "gender_14['국회회기'] = 14\n",
    "gender_14.shape"
   ]
  },
  {
   "cell_type": "code",
   "execution_count": 25,
   "metadata": {},
   "outputs": [
    {
     "data": {
      "text/plain": [
       "(83, 16)"
      ]
     },
     "execution_count": 25,
     "metadata": {},
     "output_type": "execute_result"
    }
   ],
   "source": [
    "gender_15 = pd.read_csv('15th-bill/15th-gender-bill-v3.csv', index_col=0, encoding='utf-8-sig')\n",
    "gender_15['국회회기'] = 15\n",
    "gender_15.shape"
   ]
  },
  {
   "cell_type": "code",
   "execution_count": 47,
   "metadata": {},
   "outputs": [
    {
     "data": {
      "text/plain": [
       "(96, 16)"
      ]
     },
     "execution_count": 47,
     "metadata": {},
     "output_type": "execute_result"
    }
   ],
   "source": [
    "gender_16 = pd.read_csv('16th-bill/16th-gender-bill-v3.csv', index_col=0, encoding='utf-8-sig')\n",
    "gender_16['국회회기'] = 16\n",
    "gender_16.shape"
   ]
  },
  {
   "cell_type": "code",
   "execution_count": 26,
   "metadata": {},
   "outputs": [
    {
     "data": {
      "text/plain": [
       "(423, 16)"
      ]
     },
     "execution_count": 26,
     "metadata": {},
     "output_type": "execute_result"
    }
   ],
   "source": [
    "gender_17 = pd.read_csv('17th-bill/17th-gender-bill-v3.csv', index_col=0, encoding='utf-8-sig')\n",
    "gender_17['국회회기'] = 17\n",
    "gender_17.shape"
   ]
  },
  {
   "cell_type": "code",
   "execution_count": 37,
   "metadata": {},
   "outputs": [
    {
     "data": {
      "text/plain": [
       "(820, 16)"
      ]
     },
     "execution_count": 37,
     "metadata": {},
     "output_type": "execute_result"
    }
   ],
   "source": [
    "gender_18 = pd.read_csv('18th-bill/18th-gender-bill-v3.csv', index_col=0, encoding='utf-8-sig')\n",
    "gender_18['국회회기'] = 18\n",
    "# 칼럼 이름 바꾸기 \n",
    "gender_18.shape"
   ]
  },
  {
   "cell_type": "code",
   "execution_count": 58,
   "metadata": {},
   "outputs": [
    {
     "data": {
      "text/html": [
       "<div>\n",
       "<style scoped>\n",
       "    .dataframe tbody tr th:only-of-type {\n",
       "        vertical-align: middle;\n",
       "    }\n",
       "\n",
       "    .dataframe tbody tr th {\n",
       "        vertical-align: top;\n",
       "    }\n",
       "\n",
       "    .dataframe thead th {\n",
       "        text-align: right;\n",
       "    }\n",
       "</style>\n",
       "<table border=\"1\" class=\"dataframe\">\n",
       "  <thead>\n",
       "    <tr style=\"text-align: right;\">\n",
       "      <th></th>\n",
       "      <th>의안번호</th>\n",
       "      <th>의안명</th>\n",
       "      <th>제안일자</th>\n",
       "      <th>제안자구분</th>\n",
       "      <th>의결일자</th>\n",
       "      <th>의결결과</th>\n",
       "      <th>제안회기</th>\n",
       "      <th>제안이유</th>\n",
       "      <th>소관위원회</th>\n",
       "      <th>발의자</th>\n",
       "      <th>제안정당</th>\n",
       "      <th>제안자</th>\n",
       "      <th>성별</th>\n",
       "      <th>여성의원 수</th>\n",
       "      <th>정당성향</th>\n",
       "      <th>국회회기</th>\n",
       "    </tr>\n",
       "  </thead>\n",
       "  <tbody>\n",
       "    <tr>\n",
       "      <th>0</th>\n",
       "      <td>1918726</td>\n",
       "      <td>유아교육법 일부개정법률안</td>\n",
       "      <td>2016-05-18</td>\n",
       "      <td>위원장</td>\n",
       "      <td>2016-05-19</td>\n",
       "      <td>원안가결</td>\n",
       "      <td>제19대 (2012~2016) 제342회</td>\n",
       "      <td>1.  최근 보육기관에서 아동학대 사건이 잇달아 발생하고 있는 가운데 아동학대 ...</td>\n",
       "      <td>교육문화체육관광위원회</td>\n",
       "      <td>NaN</td>\n",
       "      <td>위원장</td>\n",
       "      <td>[]</td>\n",
       "      <td>NaN</td>\n",
       "      <td>0</td>\n",
       "      <td>NaN</td>\n",
       "      <td>19</td>\n",
       "    </tr>\n",
       "    <tr>\n",
       "      <th>1</th>\n",
       "      <td>1918721</td>\n",
       "      <td>초·중등교육법 일부개정법률안</td>\n",
       "      <td>2016-05-18</td>\n",
       "      <td>위원장</td>\n",
       "      <td>2016-05-19</td>\n",
       "      <td>원안가결</td>\n",
       "      <td>제19대 (2012~2016) 제342회</td>\n",
       "      <td>1.  학교운영위원회 위원의 결격사유를 강화하고, 법정형을 정비하려는 것임.2....</td>\n",
       "      <td>교육문화체육관광위원회</td>\n",
       "      <td>NaN</td>\n",
       "      <td>위원장</td>\n",
       "      <td>[]</td>\n",
       "      <td>NaN</td>\n",
       "      <td>0</td>\n",
       "      <td>NaN</td>\n",
       "      <td>19</td>\n",
       "    </tr>\n",
       "    <tr>\n",
       "      <th>2</th>\n",
       "      <td>1918710</td>\n",
       "      <td>건강가정기본법 일부개정법률안</td>\n",
       "      <td>2016-05-18</td>\n",
       "      <td>위원장</td>\n",
       "      <td>2016-05-19</td>\n",
       "      <td>원안가결</td>\n",
       "      <td>제19대 (2012~2016) 제342회</td>\n",
       "      <td>1.  국가와 지방자치단체의 모성보호 및 부성보호의 책임을 명시하고, 육아휴직 ...</td>\n",
       "      <td>여성가족위원회</td>\n",
       "      <td>NaN</td>\n",
       "      <td>위원장</td>\n",
       "      <td>[]</td>\n",
       "      <td>NaN</td>\n",
       "      <td>0</td>\n",
       "      <td>NaN</td>\n",
       "      <td>19</td>\n",
       "    </tr>\n",
       "    <tr>\n",
       "      <th>3</th>\n",
       "      <td>1918709</td>\n",
       "      <td>아동·청소년의 성보호에 관한 법률 일부개정법률안</td>\n",
       "      <td>2016-05-18</td>\n",
       "      <td>위원장</td>\n",
       "      <td>2016-05-19</td>\n",
       "      <td>원안가결</td>\n",
       "      <td>제19대 (2012~2016) 제342회</td>\n",
       "      <td>1.  성범죄자 재범방지교육의 효과성 평가를 위하여 교육 이수자에 대한 재범률 ...</td>\n",
       "      <td>여성가족위원회</td>\n",
       "      <td>NaN</td>\n",
       "      <td>위원장</td>\n",
       "      <td>[]</td>\n",
       "      <td>NaN</td>\n",
       "      <td>0</td>\n",
       "      <td>NaN</td>\n",
       "      <td>19</td>\n",
       "    </tr>\n",
       "    <tr>\n",
       "      <th>4</th>\n",
       "      <td>1918705</td>\n",
       "      <td>주민등록법 일부개정법률안</td>\n",
       "      <td>2016-05-18</td>\n",
       "      <td>위원장</td>\n",
       "      <td>2016-05-19</td>\n",
       "      <td>원안가결</td>\n",
       "      <td>제19대 (2012~2016) 제342회</td>\n",
       "      <td>1.  주민등록번호의 유출로 인하여 발생할 수 있는 피해에 대한 국민의 불안감이...</td>\n",
       "      <td>안전행정위원회</td>\n",
       "      <td>NaN</td>\n",
       "      <td>위원장</td>\n",
       "      <td>[]</td>\n",
       "      <td>NaN</td>\n",
       "      <td>0</td>\n",
       "      <td>NaN</td>\n",
       "      <td>19</td>\n",
       "    </tr>\n",
       "  </tbody>\n",
       "</table>\n",
       "</div>"
      ],
      "text/plain": [
       "      의안번호                         의안명        제안일자 제안자구분        의결일자  의결결과  \\\n",
       "0  1918726               유아교육법 일부개정법률안  2016-05-18   위원장  2016-05-19  원안가결   \n",
       "1  1918721             초·중등교육법 일부개정법률안  2016-05-18   위원장  2016-05-19  원안가결   \n",
       "2  1918710             건강가정기본법 일부개정법률안  2016-05-18   위원장  2016-05-19  원안가결   \n",
       "3  1918709  아동·청소년의 성보호에 관한 법률 일부개정법률안  2016-05-18   위원장  2016-05-19  원안가결   \n",
       "4  1918705               주민등록법 일부개정법률안  2016-05-18   위원장  2016-05-19  원안가결   \n",
       "\n",
       "                     제안회기                                               제안이유  \\\n",
       "0  제19대 (2012~2016) 제342회    1.  최근 보육기관에서 아동학대 사건이 잇달아 발생하고 있는 가운데 아동학대 ...   \n",
       "1  제19대 (2012~2016) 제342회    1.  학교운영위원회 위원의 결격사유를 강화하고, 법정형을 정비하려는 것임.2....   \n",
       "2  제19대 (2012~2016) 제342회    1.  국가와 지방자치단체의 모성보호 및 부성보호의 책임을 명시하고, 육아휴직 ...   \n",
       "3  제19대 (2012~2016) 제342회    1.  성범죄자 재범방지교육의 효과성 평가를 위하여 교육 이수자에 대한 재범률 ...   \n",
       "4  제19대 (2012~2016) 제342회    1.  주민등록번호의 유출로 인하여 발생할 수 있는 피해에 대한 국민의 불안감이...   \n",
       "\n",
       "         소관위원회  발의자 제안정당 제안자   성별  여성의원 수 정당성향  국회회기  \n",
       "0  교육문화체육관광위원회  NaN  위원장  []  NaN       0  NaN    19  \n",
       "1  교육문화체육관광위원회  NaN  위원장  []  NaN       0  NaN    19  \n",
       "2      여성가족위원회  NaN  위원장  []  NaN       0  NaN    19  \n",
       "3      여성가족위원회  NaN  위원장  []  NaN       0  NaN    19  \n",
       "4      안전행정위원회  NaN  위원장  []  NaN       0  NaN    19  "
      ]
     },
     "execution_count": 58,
     "metadata": {},
     "output_type": "execute_result"
    }
   ],
   "source": [
    "gender_19 = pd.read_csv('19th-bill/19th-gender-bill-v3.csv', index_col=0, encoding='utf-8-sig')\n",
    "gender_19 = gender_19.drop(['발의자','제안자'],1)\n",
    "gender_19['국회회기'] = 19\n",
    "gender_19.rename(columns={\"발의자_한글\":\"발의자\", \"제안자_한글\":\"제안자\"}, inplace=True)\n",
    "gender_19.head()"
   ]
  },
  {
   "cell_type": "code",
   "execution_count": 60,
   "metadata": {},
   "outputs": [
    {
     "data": {
      "text/html": [
       "<div>\n",
       "<style scoped>\n",
       "    .dataframe tbody tr th:only-of-type {\n",
       "        vertical-align: middle;\n",
       "    }\n",
       "\n",
       "    .dataframe tbody tr th {\n",
       "        vertical-align: top;\n",
       "    }\n",
       "\n",
       "    .dataframe thead th {\n",
       "        text-align: right;\n",
       "    }\n",
       "</style>\n",
       "<table border=\"1\" class=\"dataframe\">\n",
       "  <thead>\n",
       "    <tr style=\"text-align: right;\">\n",
       "      <th></th>\n",
       "      <th>의안번호</th>\n",
       "      <th>의안명</th>\n",
       "      <th>제안자구분</th>\n",
       "      <th>제안일자</th>\n",
       "      <th>의결일자</th>\n",
       "      <th>의결결과</th>\n",
       "      <th>제안회기</th>\n",
       "      <th>제안이유</th>\n",
       "      <th>소관위원회</th>\n",
       "      <th>발의자</th>\n",
       "      <th>제안정당</th>\n",
       "      <th>제안자</th>\n",
       "      <th>성별</th>\n",
       "      <th>여성의원 수</th>\n",
       "      <th>정당성향</th>\n",
       "      <th>국회회기</th>\n",
       "    </tr>\n",
       "  </thead>\n",
       "  <tbody>\n",
       "    <tr>\n",
       "      <th>0</th>\n",
       "      <td>2024984</td>\n",
       "      <td>일제하 일본군위안부 피해자에 대한 보호ㆍ지원 및 기념사업 등에 관한 법률 일부개정법률안</td>\n",
       "      <td>위원장</td>\n",
       "      <td>2020-05-20</td>\n",
       "      <td>2020-05-20 00:00:00</td>\n",
       "      <td>원안가결</td>\n",
       "      <td>제20대 (2016~2020) 제378회</td>\n",
       "      <td>대안의  생활안정지원대상자에게 「의료급여법」에 따른 본인 부담금 및 비급여비용에...</td>\n",
       "      <td>여성가족위원회</td>\n",
       "      <td>NaN</td>\n",
       "      <td>위원장</td>\n",
       "      <td>[]</td>\n",
       "      <td>NaN</td>\n",
       "      <td>0</td>\n",
       "      <td>NaN</td>\n",
       "      <td>20</td>\n",
       "    </tr>\n",
       "    <tr>\n",
       "      <th>1</th>\n",
       "      <td>2024980</td>\n",
       "      <td>양육비 이행확보 및 지원에 관한 법률 일부개정법률안</td>\n",
       "      <td>위원장</td>\n",
       "      <td>2020-05-20</td>\n",
       "      <td>2020-05-20 00:00:00</td>\n",
       "      <td>원안가결</td>\n",
       "      <td>제20대 (2016~2020) 제378회</td>\n",
       "      <td>대안의  한시적 양육비 긴급지원이 이루어진 경우 양육비 채무자에게 국세 체납처분...</td>\n",
       "      <td>여성가족위원회</td>\n",
       "      <td>NaN</td>\n",
       "      <td>위원장</td>\n",
       "      <td>[]</td>\n",
       "      <td>NaN</td>\n",
       "      <td>0</td>\n",
       "      <td>NaN</td>\n",
       "      <td>20</td>\n",
       "    </tr>\n",
       "    <tr>\n",
       "      <th>2</th>\n",
       "      <td>2024979</td>\n",
       "      <td>아동·청소년의 성보호에 관한 법률 일부개정법률안</td>\n",
       "      <td>위원장</td>\n",
       "      <td>2020-05-20</td>\n",
       "      <td>2020-05-20 00:00:00</td>\n",
       "      <td>원안가결</td>\n",
       "      <td>제20대 (2016~2020) 제378회</td>\n",
       "      <td>2. 대안의  아동？청소년 음란물 범죄의 규모와 형태가 갈수록 교묘해지고 있지만...</td>\n",
       "      <td>여성가족위원회</td>\n",
       "      <td>NaN</td>\n",
       "      <td>위원장</td>\n",
       "      <td>[]</td>\n",
       "      <td>NaN</td>\n",
       "      <td>0</td>\n",
       "      <td>NaN</td>\n",
       "      <td>20</td>\n",
       "    </tr>\n",
       "    <tr>\n",
       "      <th>3</th>\n",
       "      <td>2024978</td>\n",
       "      <td>가족친화 사회환경의 조성 촉진에 관한 법률 일부개정법률안</td>\n",
       "      <td>위원장</td>\n",
       "      <td>2020-05-20</td>\n",
       "      <td>2020-05-20 00:00:00</td>\n",
       "      <td>원안가결</td>\n",
       "      <td>제20대 (2016~2020) 제378회</td>\n",
       "      <td>대안의  가족친화 사회환경 조성 기본계획이 수립된 경우 여성가족부장관은 지체 없...</td>\n",
       "      <td>여성가족위원회</td>\n",
       "      <td>NaN</td>\n",
       "      <td>위원장</td>\n",
       "      <td>[]</td>\n",
       "      <td>NaN</td>\n",
       "      <td>0</td>\n",
       "      <td>NaN</td>\n",
       "      <td>20</td>\n",
       "    </tr>\n",
       "    <tr>\n",
       "      <th>4</th>\n",
       "      <td>2024977</td>\n",
       "      <td>가정폭력방지 및 피해자보호 등에 관한 법률 일부개정법률안</td>\n",
       "      <td>위원장</td>\n",
       "      <td>2020-05-20</td>\n",
       "      <td>2020-05-20 00:00:00</td>\n",
       "      <td>원안가결</td>\n",
       "      <td>제20대 (2016~2020) 제378회</td>\n",
       "      <td>대안의  배우자가 대한민국 국민이 아닌 외국인 가정폭력 피해자도 외국인보호시설의...</td>\n",
       "      <td>여성가족위원회</td>\n",
       "      <td>NaN</td>\n",
       "      <td>위원장</td>\n",
       "      <td>[]</td>\n",
       "      <td>NaN</td>\n",
       "      <td>0</td>\n",
       "      <td>NaN</td>\n",
       "      <td>20</td>\n",
       "    </tr>\n",
       "  </tbody>\n",
       "</table>\n",
       "</div>"
      ],
      "text/plain": [
       "      의안번호                                               의안명 제안자구분  \\\n",
       "0  2024984  일제하 일본군위안부 피해자에 대한 보호ㆍ지원 및 기념사업 등에 관한 법률 일부개정법률안   위원장   \n",
       "1  2024980                      양육비 이행확보 및 지원에 관한 법률 일부개정법률안   위원장   \n",
       "2  2024979                        아동·청소년의 성보호에 관한 법률 일부개정법률안   위원장   \n",
       "3  2024978                   가족친화 사회환경의 조성 촉진에 관한 법률 일부개정법률안   위원장   \n",
       "4  2024977                   가정폭력방지 및 피해자보호 등에 관한 법률 일부개정법률안   위원장   \n",
       "\n",
       "         제안일자                 의결일자  의결결과                    제안회기  \\\n",
       "0  2020-05-20  2020-05-20 00:00:00  원안가결  제20대 (2016~2020) 제378회   \n",
       "1  2020-05-20  2020-05-20 00:00:00  원안가결  제20대 (2016~2020) 제378회   \n",
       "2  2020-05-20  2020-05-20 00:00:00  원안가결  제20대 (2016~2020) 제378회   \n",
       "3  2020-05-20  2020-05-20 00:00:00  원안가결  제20대 (2016~2020) 제378회   \n",
       "4  2020-05-20  2020-05-20 00:00:00  원안가결  제20대 (2016~2020) 제378회   \n",
       "\n",
       "                                                제안이유    소관위원회  발의자 제안정당 제안자  \\\n",
       "0    대안의  생활안정지원대상자에게 「의료급여법」에 따른 본인 부담금 및 비급여비용에...  여성가족위원회  NaN  위원장  []   \n",
       "1    대안의  한시적 양육비 긴급지원이 이루어진 경우 양육비 채무자에게 국세 체납처분...  여성가족위원회  NaN  위원장  []   \n",
       "2    2. 대안의  아동？청소년 음란물 범죄의 규모와 형태가 갈수록 교묘해지고 있지만...  여성가족위원회  NaN  위원장  []   \n",
       "3    대안의  가족친화 사회환경 조성 기본계획이 수립된 경우 여성가족부장관은 지체 없...  여성가족위원회  NaN  위원장  []   \n",
       "4    대안의  배우자가 대한민국 국민이 아닌 외국인 가정폭력 피해자도 외국인보호시설의...  여성가족위원회  NaN  위원장  []   \n",
       "\n",
       "    성별  여성의원 수 정당성향  국회회기  \n",
       "0  NaN       0  NaN    20  \n",
       "1  NaN       0  NaN    20  \n",
       "2  NaN       0  NaN    20  \n",
       "3  NaN       0  NaN    20  \n",
       "4  NaN       0  NaN    20  "
      ]
     },
     "execution_count": 60,
     "metadata": {},
     "output_type": "execute_result"
    }
   ],
   "source": [
    "gender_20 = pd.read_csv('20th-bill/20th-gender-bill-v3.csv', index_col=0, encoding='utf-8-sig')\n",
    "gender_20 = gender_20.drop(['발의자','제안자','심사진행상태','문서','처리여부'],1)\n",
    "gender_20['국회회기'] = 20\n",
    "gender_20.rename(columns={\"발의자_한글\":\"발의자\", \"제안자_한글\":\"제안자\"}, inplace=True)\n",
    "gender_20.head()"
   ]
  },
  {
   "cell_type": "code",
   "execution_count": 62,
   "metadata": {},
   "outputs": [],
   "source": [
    "gender_13.to_csv('13th-gender-bill-v4.csv', encoding='utf-8-sig')\n",
    "gender_14.to_csv('14th-gender-bill-v4.csv', encoding='utf-8-sig')\n",
    "gender_15.to_csv('15th-gender-bill-v4.csv', encoding='utf-8-sig')\n",
    "gender_16.to_csv('16th-gender-bill-v4.csv', encoding='utf-8-sig')\n",
    "gender_17.to_csv('17th-gender-bill-v4.csv', encoding='utf-8-sig')\n",
    "gender_18.to_csv('18th-gender-bill-v4.csv', encoding='utf-8-sig')\n",
    "gender_19.to_csv('19th-gender-bill-v4.csv', encoding='utf-8-sig')\n",
    "gender_20.to_csv('20th-gender-bill-v4.csv', encoding='utf-8-sig')"
   ]
  },
  {
   "cell_type": "code",
   "execution_count": null,
   "metadata": {},
   "outputs": [],
   "source": []
  }
 ],
 "metadata": {
  "kernelspec": {
   "display_name": "Python 3",
   "language": "python",
   "name": "python3"
  },
  "language_info": {
   "codemirror_mode": {
    "name": "ipython",
    "version": 3
   },
   "file_extension": ".py",
   "mimetype": "text/x-python",
   "name": "python",
   "nbconvert_exporter": "python",
   "pygments_lexer": "ipython3",
   "version": "3.8.5"
  }
 },
 "nbformat": 4,
 "nbformat_minor": 4
}
