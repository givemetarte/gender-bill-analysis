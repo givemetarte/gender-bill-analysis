{
 "cells": [
  {
   "cell_type": "markdown",
   "metadata": {},
   "source": [
    "# 정부안 분석"
   ]
  },
  {
   "cell_type": "code",
   "execution_count": 3,
   "metadata": {},
   "outputs": [],
   "source": [
    "import pandas as pd\n",
    "import numpy as np\n",
    "import time\n",
    "import matplotlib.pyplot as plt\n",
    "import seaborn as sns\n",
    "import re\n",
    "from tqdm import tqdm\n",
    "from gensim.models import Word2Vec\n",
    "from sklearn.cluster import KMeans\n",
    "import os\n",
    "from gensim import models\n",
    "import fasttext.util\n",
    "from sklearn.cluster import AgglomerativeClustering\n",
    "from konlpy.tag import Okt\n",
    "import logging\n",
    "import hanja\n",
    "from krwordrank.hangle import normalize\n",
    "import datetime\n",
    "%matplotlib inline"
   ]
  },
  {
   "cell_type": "code",
   "execution_count": 4,
   "metadata": {},
   "outputs": [
    {
     "name": "stdout",
     "output_type": "stream",
     "text": [
      "(4521, 16)\n"
     ]
    },
    {
     "data": {
      "text/html": [
       "<div>\n",
       "<style scoped>\n",
       "    .dataframe tbody tr th:only-of-type {\n",
       "        vertical-align: middle;\n",
       "    }\n",
       "\n",
       "    .dataframe tbody tr th {\n",
       "        vertical-align: top;\n",
       "    }\n",
       "\n",
       "    .dataframe thead th {\n",
       "        text-align: right;\n",
       "    }\n",
       "</style>\n",
       "<table border=\"1\" class=\"dataframe\">\n",
       "  <thead>\n",
       "    <tr style=\"text-align: right;\">\n",
       "      <th></th>\n",
       "      <th>의안번호</th>\n",
       "      <th>의안명</th>\n",
       "      <th>제안일자</th>\n",
       "      <th>제안자구분</th>\n",
       "      <th>의결일자</th>\n",
       "      <th>의결결과</th>\n",
       "      <th>제안회기</th>\n",
       "      <th>제안이유</th>\n",
       "      <th>소관위원회</th>\n",
       "      <th>제안자</th>\n",
       "      <th>발의자</th>\n",
       "      <th>제안정당</th>\n",
       "      <th>성별</th>\n",
       "      <th>여성의원 수</th>\n",
       "      <th>정당성향</th>\n",
       "      <th>국회회기</th>\n",
       "    </tr>\n",
       "  </thead>\n",
       "  <tbody>\n",
       "    <tr>\n",
       "      <th>0</th>\n",
       "      <td>131131</td>\n",
       "      <td>소득세법중개정법률안</td>\n",
       "      <td>1990-12-17</td>\n",
       "      <td>위원장</td>\n",
       "      <td>1990-12-18</td>\n",
       "      <td>원안가결</td>\n",
       "      <td>제13대 (1988~1992) 제151회</td>\n",
       "      <td>정부제출,柳인학·강金식·금봉욱·林춘원·李경재·허만기·홍영기의원외64인 발의,1...</td>\n",
       "      <td>재무위원회</td>\n",
       "      <td>[]</td>\n",
       "      <td>위원장</td>\n",
       "      <td>위원장</td>\n",
       "      <td>NaN</td>\n",
       "      <td>0</td>\n",
       "      <td>NaN</td>\n",
       "      <td>13</td>\n",
       "    </tr>\n",
       "  </tbody>\n",
       "</table>\n",
       "</div>"
      ],
      "text/plain": [
       "     의안번호         의안명       제안일자 제안자구분       의결일자  의결결과  \\\n",
       "0  131131  소득세법중개정법률안 1990-12-17   위원장 1990-12-18  원안가결   \n",
       "\n",
       "                     제안회기                                               제안이유  \\\n",
       "0  제13대 (1988~1992) 제151회     정부제출,柳인학·강金식·금봉욱·林춘원·李경재·허만기·홍영기의원외64인 발의,1...   \n",
       "\n",
       "   소관위원회 제안자  발의자 제안정당   성별  여성의원 수 정당성향  국회회기  \n",
       "0  재무위원회  []  위원장  위원장  NaN       0  NaN    13  "
      ]
     },
     "execution_count": 4,
     "metadata": {},
     "output_type": "execute_result"
    }
   ],
   "source": [
    "gender = pd.read_csv('whole-gender-bill-1320.csv', index_col=0,\n",
    "                           parse_dates=['제안일자','의결일자'],encoding='utf-8-sig')\n",
    "print(gender.shape)\n",
    "gender.head(1)"
   ]
  },
  {
   "cell_type": "code",
   "execution_count": 5,
   "metadata": {},
   "outputs": [
    {
     "data": {
      "text/plain": [
       "(4514, 16)"
      ]
     },
     "execution_count": 5,
     "metadata": {},
     "output_type": "execute_result"
    }
   ],
   "source": [
    "drop_list = [177919, 177064, 176854, 176797, 176796, 176795, 176794]\n",
    "\n",
    "gender = gender[~gender['의안번호'].isin(drop_list)]\n",
    "gender = gender.reset_index()\n",
    "gender = gender.drop('index',1)\n",
    "gender.shape"
   ]
  },
  {
   "cell_type": "code",
   "execution_count": 6,
   "metadata": {},
   "outputs": [],
   "source": [
    "gender['제안일자'] = gender['제안일자'].dt.date\n",
    "gender['의결일자'] = gender['의결일자'].dt.date"
   ]
  },
  {
   "cell_type": "code",
   "execution_count": 7,
   "metadata": {},
   "outputs": [
    {
     "data": {
      "text/plain": [
       "array([datetime.date(1990, 12, 17), datetime.date(1990, 11, 20),\n",
       "       datetime.date(1990, 10, 8), ..., datetime.date(2016, 6, 1),\n",
       "       datetime.date(2016, 5, 31), datetime.date(2016, 5, 30)],\n",
       "      dtype=object)"
      ]
     },
     "execution_count": 7,
     "metadata": {},
     "output_type": "execute_result"
    }
   ],
   "source": [
    "gender['제안일자'].unique()"
   ]
  },
  {
   "cell_type": "code",
   "execution_count": null,
   "metadata": {},
   "outputs": [],
   "source": []
  },
  {
   "cell_type": "markdown",
   "metadata": {},
   "source": [
    "## 정권 탐색 \n",
    "\n",
    "### 노태우 정권 \n",
    "- 1998.02.25 ~ 1993.02.24"
   ]
  },
  {
   "cell_type": "code",
   "execution_count": 5,
   "metadata": {},
   "outputs": [],
   "source": [
    "gender.loc[((gender['제안일자'] > datetime.date(1988,5,3)) & \n",
    "                        (gender['제안일자'] < datetime.date(1993,2,24))), '정권'] = '노태우'"
   ]
  },
  {
   "cell_type": "markdown",
   "metadata": {},
   "source": [
    "## 김영삼 정권 \n",
    "- 1993.02.25 ~ 1998.02.24"
   ]
  },
  {
   "cell_type": "code",
   "execution_count": 6,
   "metadata": {},
   "outputs": [],
   "source": [
    "gender.loc[((gender['제안일자'] > datetime.date(1993,2,25)) & \n",
    "                        (gender['제안일자'] < datetime.date(1998,2,24))), '정권'] = '김영삼'"
   ]
  },
  {
   "cell_type": "markdown",
   "metadata": {},
   "source": [
    "## 김대중 정권 \n",
    "- 1998.02.25 ~ 2003.02.24"
   ]
  },
  {
   "cell_type": "code",
   "execution_count": 7,
   "metadata": {},
   "outputs": [],
   "source": [
    "gender.loc[((gender['제안일자'] > datetime.date(1998,2,25)) & \n",
    "                        (gender['제안일자'] < datetime.date(2003,2,24))), '정권'] = '김대중'"
   ]
  },
  {
   "cell_type": "markdown",
   "metadata": {},
   "source": [
    "## 노무현 정권  \n",
    "- 2003.02.25 ~ 2004.04.14"
   ]
  },
  {
   "cell_type": "code",
   "execution_count": 8,
   "metadata": {},
   "outputs": [],
   "source": [
    "gender.loc[((gender['제안일자'] > datetime.date(2003,2,25)) & \n",
    "                        (gender['제안일자'] < datetime.date(2008,2,24))), '정권'] = '노무현'"
   ]
  },
  {
   "cell_type": "markdown",
   "metadata": {},
   "source": [
    "## 이명박 정권\n",
    "- 2008.02.25 ~ 2013.02.24"
   ]
  },
  {
   "cell_type": "code",
   "execution_count": 9,
   "metadata": {},
   "outputs": [],
   "source": [
    "gender.loc[((gender['제안일자'] > datetime.date(2008,2,25)) & \n",
    "                        (gender['제안일자'] < datetime.date(2013,2,24))), '정권'] = '이명박'"
   ]
  },
  {
   "cell_type": "markdown",
   "metadata": {},
   "source": [
    "## 박근혜 정권\n",
    "- 2013.02.25 ~ 2017.03.13"
   ]
  },
  {
   "cell_type": "code",
   "execution_count": 10,
   "metadata": {},
   "outputs": [],
   "source": [
    "gender.loc[((gender['제안일자'] > datetime.date(2013,2,25)) & \n",
    "                        (gender['제안일자'] < datetime.date(2017,5,10))), '정권'] = '박근혜'"
   ]
  },
  {
   "cell_type": "markdown",
   "metadata": {},
   "source": [
    "## 문재인 정권 \n",
    "- 2017.05.10 ~"
   ]
  },
  {
   "cell_type": "code",
   "execution_count": 11,
   "metadata": {},
   "outputs": [],
   "source": [
    "gender.loc[(gender['제안일자'] > datetime.date(2017,5,10)), '정권'] = '문재인'"
   ]
  },
  {
   "cell_type": "code",
   "execution_count": null,
   "metadata": {},
   "outputs": [],
   "source": []
  },
  {
   "cell_type": "code",
   "execution_count": 12,
   "metadata": {},
   "outputs": [
    {
     "data": {
      "text/html": [
       "<div>\n",
       "<style scoped>\n",
       "    .dataframe tbody tr th:only-of-type {\n",
       "        vertical-align: middle;\n",
       "    }\n",
       "\n",
       "    .dataframe tbody tr th {\n",
       "        vertical-align: top;\n",
       "    }\n",
       "\n",
       "    .dataframe thead th {\n",
       "        text-align: right;\n",
       "    }\n",
       "</style>\n",
       "<table border=\"1\" class=\"dataframe\">\n",
       "  <thead>\n",
       "    <tr style=\"text-align: right;\">\n",
       "      <th></th>\n",
       "      <th>의안번호</th>\n",
       "      <th>의안명</th>\n",
       "      <th>제안일자</th>\n",
       "      <th>제안자구분</th>\n",
       "      <th>의결일자</th>\n",
       "      <th>의결결과</th>\n",
       "      <th>제안회기</th>\n",
       "      <th>제안이유</th>\n",
       "      <th>소관위원회</th>\n",
       "      <th>제안자</th>\n",
       "      <th>발의자</th>\n",
       "      <th>제안정당</th>\n",
       "      <th>성별</th>\n",
       "      <th>여성의원 수</th>\n",
       "      <th>정당성향</th>\n",
       "      <th>국회회기</th>\n",
       "      <th>정권</th>\n",
       "    </tr>\n",
       "  </thead>\n",
       "  <tbody>\n",
       "    <tr>\n",
       "      <th>0</th>\n",
       "      <td>131131</td>\n",
       "      <td>소득세법중개정법률안</td>\n",
       "      <td>1990-12-17</td>\n",
       "      <td>위원장</td>\n",
       "      <td>1990-12-18</td>\n",
       "      <td>원안가결</td>\n",
       "      <td>제13대 (1988~1992) 제151회</td>\n",
       "      <td>정부제출,柳인학·강金식·금봉욱·林춘원·李경재·허만기·홍영기의원외64인 발의,1...</td>\n",
       "      <td>재무위원회</td>\n",
       "      <td>[]</td>\n",
       "      <td>위원장</td>\n",
       "      <td>위원장</td>\n",
       "      <td>NaN</td>\n",
       "      <td>0</td>\n",
       "      <td>NaN</td>\n",
       "      <td>13</td>\n",
       "      <td>노태우</td>\n",
       "    </tr>\n",
       "  </tbody>\n",
       "</table>\n",
       "</div>"
      ],
      "text/plain": [
       "     의안번호         의안명        제안일자 제안자구분        의결일자  의결결과  \\\n",
       "0  131131  소득세법중개정법률안  1990-12-17   위원장  1990-12-18  원안가결   \n",
       "\n",
       "                     제안회기                                               제안이유  \\\n",
       "0  제13대 (1988~1992) 제151회     정부제출,柳인학·강金식·금봉욱·林춘원·李경재·허만기·홍영기의원외64인 발의,1...   \n",
       "\n",
       "   소관위원회 제안자  발의자 제안정당   성별  여성의원 수 정당성향  국회회기   정권  \n",
       "0  재무위원회  []  위원장  위원장  NaN       0  NaN    13  노태우  "
      ]
     },
     "execution_count": 12,
     "metadata": {},
     "output_type": "execute_result"
    }
   ],
   "source": [
    "gender.head(1)"
   ]
  },
  {
   "cell_type": "code",
   "execution_count": 17,
   "metadata": {},
   "outputs": [
    {
     "data": {
      "text/html": [
       "<div>\n",
       "<style scoped>\n",
       "    .dataframe tbody tr th:only-of-type {\n",
       "        vertical-align: middle;\n",
       "    }\n",
       "\n",
       "    .dataframe tbody tr th {\n",
       "        vertical-align: top;\n",
       "    }\n",
       "\n",
       "    .dataframe thead th {\n",
       "        text-align: right;\n",
       "    }\n",
       "</style>\n",
       "<table border=\"1\" class=\"dataframe\">\n",
       "  <thead>\n",
       "    <tr style=\"text-align: right;\">\n",
       "      <th></th>\n",
       "      <th></th>\n",
       "      <th></th>\n",
       "      <th>발의자</th>\n",
       "    </tr>\n",
       "    <tr>\n",
       "      <th>정권</th>\n",
       "      <th>정당성향</th>\n",
       "      <th>성별</th>\n",
       "      <th></th>\n",
       "    </tr>\n",
       "  </thead>\n",
       "  <tbody>\n",
       "    <tr>\n",
       "      <th rowspan=\"4\" valign=\"top\">김대중</th>\n",
       "      <th rowspan=\"2\" valign=\"top\">보수</th>\n",
       "      <th>남성</th>\n",
       "      <td>22</td>\n",
       "    </tr>\n",
       "    <tr>\n",
       "      <th>여성</th>\n",
       "      <td>16</td>\n",
       "    </tr>\n",
       "    <tr>\n",
       "      <th rowspan=\"2\" valign=\"top\">진보</th>\n",
       "      <th>남성</th>\n",
       "      <td>7</td>\n",
       "    </tr>\n",
       "    <tr>\n",
       "      <th>여성</th>\n",
       "      <td>7</td>\n",
       "    </tr>\n",
       "    <tr>\n",
       "      <th rowspan=\"4\" valign=\"top\">김영삼</th>\n",
       "      <th rowspan=\"2\" valign=\"top\">보수</th>\n",
       "      <th>남성</th>\n",
       "      <td>9</td>\n",
       "    </tr>\n",
       "    <tr>\n",
       "      <th>여성</th>\n",
       "      <td>9</td>\n",
       "    </tr>\n",
       "    <tr>\n",
       "      <th rowspan=\"2\" valign=\"top\">진보</th>\n",
       "      <th>남성</th>\n",
       "      <td>16</td>\n",
       "    </tr>\n",
       "    <tr>\n",
       "      <th>여성</th>\n",
       "      <td>6</td>\n",
       "    </tr>\n",
       "    <tr>\n",
       "      <th rowspan=\"4\" valign=\"top\">노무현</th>\n",
       "      <th rowspan=\"2\" valign=\"top\">보수</th>\n",
       "      <th>남성</th>\n",
       "      <td>86</td>\n",
       "    </tr>\n",
       "    <tr>\n",
       "      <th>여성</th>\n",
       "      <td>97</td>\n",
       "    </tr>\n",
       "    <tr>\n",
       "      <th rowspan=\"2\" valign=\"top\">진보</th>\n",
       "      <th>남성</th>\n",
       "      <td>77</td>\n",
       "    </tr>\n",
       "    <tr>\n",
       "      <th>여성</th>\n",
       "      <td>85</td>\n",
       "    </tr>\n",
       "    <tr>\n",
       "      <th rowspan=\"4\" valign=\"top\">노태우</th>\n",
       "      <th rowspan=\"2\" valign=\"top\">보수</th>\n",
       "      <th>남성</th>\n",
       "      <td>4</td>\n",
       "    </tr>\n",
       "    <tr>\n",
       "      <th>여성</th>\n",
       "      <td>4</td>\n",
       "    </tr>\n",
       "    <tr>\n",
       "      <th rowspan=\"2\" valign=\"top\">진보</th>\n",
       "      <th>남성</th>\n",
       "      <td>3</td>\n",
       "    </tr>\n",
       "    <tr>\n",
       "      <th>여성</th>\n",
       "      <td>2</td>\n",
       "    </tr>\n",
       "    <tr>\n",
       "      <th rowspan=\"4\" valign=\"top\">문재인</th>\n",
       "      <th rowspan=\"2\" valign=\"top\">보수</th>\n",
       "      <th>남성</th>\n",
       "      <td>234</td>\n",
       "    </tr>\n",
       "    <tr>\n",
       "      <th>여성</th>\n",
       "      <td>176</td>\n",
       "    </tr>\n",
       "    <tr>\n",
       "      <th rowspan=\"2\" valign=\"top\">진보</th>\n",
       "      <th>남성</th>\n",
       "      <td>510</td>\n",
       "    </tr>\n",
       "    <tr>\n",
       "      <th>여성</th>\n",
       "      <td>349</td>\n",
       "    </tr>\n",
       "    <tr>\n",
       "      <th rowspan=\"4\" valign=\"top\">박근혜</th>\n",
       "      <th rowspan=\"2\" valign=\"top\">보수</th>\n",
       "      <th>남성</th>\n",
       "      <td>170</td>\n",
       "    </tr>\n",
       "    <tr>\n",
       "      <th>여성</th>\n",
       "      <td>168</td>\n",
       "    </tr>\n",
       "    <tr>\n",
       "      <th rowspan=\"2\" valign=\"top\">진보</th>\n",
       "      <th>남성</th>\n",
       "      <td>391</td>\n",
       "    </tr>\n",
       "    <tr>\n",
       "      <th>여성</th>\n",
       "      <td>284</td>\n",
       "    </tr>\n",
       "    <tr>\n",
       "      <th rowspan=\"4\" valign=\"top\">이명박</th>\n",
       "      <th rowspan=\"2\" valign=\"top\">보수</th>\n",
       "      <th>남성</th>\n",
       "      <td>321</td>\n",
       "    </tr>\n",
       "    <tr>\n",
       "      <th>여성</th>\n",
       "      <td>242</td>\n",
       "    </tr>\n",
       "    <tr>\n",
       "      <th rowspan=\"2\" valign=\"top\">진보</th>\n",
       "      <th>남성</th>\n",
       "      <td>244</td>\n",
       "    </tr>\n",
       "    <tr>\n",
       "      <th>여성</th>\n",
       "      <td>169</td>\n",
       "    </tr>\n",
       "  </tbody>\n",
       "</table>\n",
       "</div>"
      ],
      "text/plain": [
       "             발의자\n",
       "정권  정당성향 성별     \n",
       "김대중 보수   남성   22\n",
       "         여성   16\n",
       "    진보   남성    7\n",
       "         여성    7\n",
       "김영삼 보수   남성    9\n",
       "         여성    9\n",
       "    진보   남성   16\n",
       "         여성    6\n",
       "노무현 보수   남성   86\n",
       "         여성   97\n",
       "    진보   남성   77\n",
       "         여성   85\n",
       "노태우 보수   남성    4\n",
       "         여성    4\n",
       "    진보   남성    3\n",
       "         여성    2\n",
       "문재인 보수   남성  234\n",
       "         여성  176\n",
       "    진보   남성  510\n",
       "         여성  349\n",
       "박근혜 보수   남성  170\n",
       "         여성  168\n",
       "    진보   남성  391\n",
       "         여성  284\n",
       "이명박 보수   남성  321\n",
       "         여성  242\n",
       "    진보   남성  244\n",
       "         여성  169"
      ]
     },
     "execution_count": 17,
     "metadata": {},
     "output_type": "execute_result"
    }
   ],
   "source": [
    "pd.DataFrame(gender.groupby(['정권','정당성향','성별'])['발의자'].count())"
   ]
  },
  {
   "cell_type": "code",
   "execution_count": 15,
   "metadata": {},
   "outputs": [
    {
     "data": {
      "text/html": [
       "<div>\n",
       "<style scoped>\n",
       "    .dataframe tbody tr th:only-of-type {\n",
       "        vertical-align: middle;\n",
       "    }\n",
       "\n",
       "    .dataframe tbody tr th {\n",
       "        vertical-align: top;\n",
       "    }\n",
       "\n",
       "    .dataframe thead th {\n",
       "        text-align: right;\n",
       "    }\n",
       "</style>\n",
       "<table border=\"1\" class=\"dataframe\">\n",
       "  <thead>\n",
       "    <tr style=\"text-align: right;\">\n",
       "      <th></th>\n",
       "      <th></th>\n",
       "      <th>발의자</th>\n",
       "    </tr>\n",
       "    <tr>\n",
       "      <th>정권</th>\n",
       "      <th>제안자구분</th>\n",
       "      <th></th>\n",
       "    </tr>\n",
       "  </thead>\n",
       "  <tbody>\n",
       "    <tr>\n",
       "      <th rowspan=\"3\" valign=\"top\">김대중</th>\n",
       "      <th>위원장</th>\n",
       "      <td>18</td>\n",
       "    </tr>\n",
       "    <tr>\n",
       "      <th>의원</th>\n",
       "      <td>54</td>\n",
       "    </tr>\n",
       "    <tr>\n",
       "      <th>정부</th>\n",
       "      <td>20</td>\n",
       "    </tr>\n",
       "    <tr>\n",
       "      <th rowspan=\"3\" valign=\"top\">김영삼</th>\n",
       "      <th>위원장</th>\n",
       "      <td>13</td>\n",
       "    </tr>\n",
       "    <tr>\n",
       "      <th>의원</th>\n",
       "      <td>40</td>\n",
       "    </tr>\n",
       "    <tr>\n",
       "      <th>정부</th>\n",
       "      <td>9</td>\n",
       "    </tr>\n",
       "    <tr>\n",
       "      <th rowspan=\"3\" valign=\"top\">노무현</th>\n",
       "      <th>위원장</th>\n",
       "      <td>55</td>\n",
       "    </tr>\n",
       "    <tr>\n",
       "      <th>의원</th>\n",
       "      <td>347</td>\n",
       "    </tr>\n",
       "    <tr>\n",
       "      <th>정부</th>\n",
       "      <td>52</td>\n",
       "    </tr>\n",
       "    <tr>\n",
       "      <th rowspan=\"3\" valign=\"top\">노태우</th>\n",
       "      <th>위원장</th>\n",
       "      <td>6</td>\n",
       "    </tr>\n",
       "    <tr>\n",
       "      <th>의원</th>\n",
       "      <td>13</td>\n",
       "    </tr>\n",
       "    <tr>\n",
       "      <th>정부</th>\n",
       "      <td>4</td>\n",
       "    </tr>\n",
       "    <tr>\n",
       "      <th rowspan=\"3\" valign=\"top\">문재인</th>\n",
       "      <th>위원장</th>\n",
       "      <td>0</td>\n",
       "    </tr>\n",
       "    <tr>\n",
       "      <th>의원</th>\n",
       "      <td>1286</td>\n",
       "    </tr>\n",
       "    <tr>\n",
       "      <th>정부</th>\n",
       "      <td>0</td>\n",
       "    </tr>\n",
       "    <tr>\n",
       "      <th rowspan=\"3\" valign=\"top\">박근혜</th>\n",
       "      <th>위원장</th>\n",
       "      <td>0</td>\n",
       "    </tr>\n",
       "    <tr>\n",
       "      <th>의원</th>\n",
       "      <td>1022</td>\n",
       "    </tr>\n",
       "    <tr>\n",
       "      <th>정부</th>\n",
       "      <td>0</td>\n",
       "    </tr>\n",
       "    <tr>\n",
       "      <th rowspan=\"3\" valign=\"top\">이명박</th>\n",
       "      <th>위원장</th>\n",
       "      <td>76</td>\n",
       "    </tr>\n",
       "    <tr>\n",
       "      <th>의원</th>\n",
       "      <td>1002</td>\n",
       "    </tr>\n",
       "    <tr>\n",
       "      <th>정부</th>\n",
       "      <td>37</td>\n",
       "    </tr>\n",
       "  </tbody>\n",
       "</table>\n",
       "</div>"
      ],
      "text/plain": [
       "            발의자\n",
       "정권  제안자구분      \n",
       "김대중 위원장      18\n",
       "    의원       54\n",
       "    정부       20\n",
       "김영삼 위원장      13\n",
       "    의원       40\n",
       "    정부        9\n",
       "노무현 위원장      55\n",
       "    의원      347\n",
       "    정부       52\n",
       "노태우 위원장       6\n",
       "    의원       13\n",
       "    정부        4\n",
       "문재인 위원장       0\n",
       "    의원     1286\n",
       "    정부        0\n",
       "박근혜 위원장       0\n",
       "    의원     1022\n",
       "    정부        0\n",
       "이명박 위원장      76\n",
       "    의원     1002\n",
       "    정부       37"
      ]
     },
     "execution_count": 15,
     "metadata": {},
     "output_type": "execute_result"
    }
   ],
   "source": [
    "pd.DataFrame(gender.groupby(['정권','제안자구분'])['발의자'].count())"
   ]
  },
  {
   "cell_type": "code",
   "execution_count": null,
   "metadata": {},
   "outputs": [],
   "source": []
  }
 ],
 "metadata": {
  "kernelspec": {
   "display_name": "Python 3",
   "language": "python",
   "name": "python3"
  },
  "language_info": {
   "codemirror_mode": {
    "name": "ipython",
    "version": 3
   },
   "file_extension": ".py",
   "mimetype": "text/x-python",
   "name": "python",
   "nbconvert_exporter": "python",
   "pygments_lexer": "ipython3",
   "version": "3.8.5"
  }
 },
 "nbformat": 4,
 "nbformat_minor": 4
}
