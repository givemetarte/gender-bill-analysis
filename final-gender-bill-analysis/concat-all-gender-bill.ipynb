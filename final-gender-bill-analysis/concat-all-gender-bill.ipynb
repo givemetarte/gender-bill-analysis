{
 "cells": [
  {
   "cell_type": "markdown",
   "metadata": {},
   "source": [
    "# 심화 분석 \n",
    "\n",
    "## import files"
   ]
  },
  {
   "cell_type": "code",
   "execution_count": 2,
   "metadata": {},
   "outputs": [],
   "source": [
    "import pandas as pd"
   ]
  },
  {
   "cell_type": "code",
   "execution_count": 3,
   "metadata": {},
   "outputs": [
    {
     "name": "stdout",
     "output_type": "stream",
     "text": [
      "(17, 16)\n"
     ]
    }
   ],
   "source": [
    "gender_13 = pd.read_csv('13th-gender-bill-v4.csv', index_col=0, encoding='utf-8-sig')\n",
    "print(gender_13.shape)\n",
    "#gender_13.head(1)"
   ]
  },
  {
   "cell_type": "code",
   "execution_count": 4,
   "metadata": {},
   "outputs": [
    {
     "name": "stdout",
     "output_type": "stream",
     "text": [
      "(22, 16)\n"
     ]
    }
   ],
   "source": [
    "gender_14 = pd.read_csv('14th-gender-bill-v4.csv', index_col=0, encoding='utf-8-sig')\n",
    "print(gender_14.shape)\n",
    "#gender_14.head(1)"
   ]
  },
  {
   "cell_type": "code",
   "execution_count": 5,
   "metadata": {},
   "outputs": [
    {
     "name": "stdout",
     "output_type": "stream",
     "text": [
      "(83, 16)\n"
     ]
    }
   ],
   "source": [
    "gender_15 = pd.read_csv('15th-gender-bill-v4.csv', index_col=0, encoding='utf-8-sig')\n",
    "print(gender_15.shape)\n",
    "#gender_15.head(1)"
   ]
  },
  {
   "cell_type": "code",
   "execution_count": 6,
   "metadata": {},
   "outputs": [
    {
     "name": "stdout",
     "output_type": "stream",
     "text": [
      "(96, 16)\n"
     ]
    }
   ],
   "source": [
    "gender_16 = pd.read_csv('16th-gender-bill-v4.csv', index_col=0, encoding='utf-8-sig')\n",
    "print(gender_16.shape)\n",
    "#gender_16.head(1)"
   ]
  },
  {
   "cell_type": "code",
   "execution_count": 7,
   "metadata": {},
   "outputs": [
    {
     "name": "stdout",
     "output_type": "stream",
     "text": [
      "(423, 16)\n"
     ]
    }
   ],
   "source": [
    "gender_17 = pd.read_csv('17th-gender-bill-v4.csv', index_col=0, encoding='utf-8-sig')\n",
    "print(gender_17.shape)\n",
    "#gender_17.head(1)"
   ]
  },
  {
   "cell_type": "code",
   "execution_count": 8,
   "metadata": {},
   "outputs": [
    {
     "name": "stdout",
     "output_type": "stream",
     "text": [
      "(820, 16)\n"
     ]
    }
   ],
   "source": [
    "gender_18 = pd.read_csv('18th-gender-bill-v4.csv', index_col=0, encoding='utf-8-sig')\n",
    "print(gender_18.shape)\n",
    "#gender_18.head(1)"
   ]
  },
  {
   "cell_type": "code",
   "execution_count": 9,
   "metadata": {},
   "outputs": [
    {
     "name": "stdout",
     "output_type": "stream",
     "text": [
      "(1044, 16)\n"
     ]
    },
    {
     "data": {
      "text/html": [
       "<div>\n",
       "<style scoped>\n",
       "    .dataframe tbody tr th:only-of-type {\n",
       "        vertical-align: middle;\n",
       "    }\n",
       "\n",
       "    .dataframe tbody tr th {\n",
       "        vertical-align: top;\n",
       "    }\n",
       "\n",
       "    .dataframe thead th {\n",
       "        text-align: right;\n",
       "    }\n",
       "</style>\n",
       "<table border=\"1\" class=\"dataframe\">\n",
       "  <thead>\n",
       "    <tr style=\"text-align: right;\">\n",
       "      <th></th>\n",
       "      <th>의안번호</th>\n",
       "      <th>의안명</th>\n",
       "      <th>제안일자</th>\n",
       "      <th>제안자구분</th>\n",
       "      <th>의결일자</th>\n",
       "      <th>의결결과</th>\n",
       "      <th>제안회기</th>\n",
       "      <th>제안이유</th>\n",
       "      <th>소관위원회</th>\n",
       "      <th>발의자</th>\n",
       "      <th>제안정당</th>\n",
       "      <th>제안자</th>\n",
       "      <th>성별</th>\n",
       "      <th>여성의원 수</th>\n",
       "      <th>정당성향</th>\n",
       "      <th>국회회기</th>\n",
       "    </tr>\n",
       "  </thead>\n",
       "  <tbody>\n",
       "    <tr>\n",
       "      <th>0</th>\n",
       "      <td>1918726</td>\n",
       "      <td>유아교육법 일부개정법률안</td>\n",
       "      <td>2016-05-18</td>\n",
       "      <td>위원장</td>\n",
       "      <td>2016-05-19</td>\n",
       "      <td>원안가결</td>\n",
       "      <td>제19대 (2012~2016) 제342회</td>\n",
       "      <td>1.  최근 보육기관에서 아동학대 사건이 잇달아 발생하고 있는 가운데 아동학대 ...</td>\n",
       "      <td>교육문화체육관광위원회</td>\n",
       "      <td>NaN</td>\n",
       "      <td>위원장</td>\n",
       "      <td>[]</td>\n",
       "      <td>NaN</td>\n",
       "      <td>0</td>\n",
       "      <td>NaN</td>\n",
       "      <td>19</td>\n",
       "    </tr>\n",
       "  </tbody>\n",
       "</table>\n",
       "</div>"
      ],
      "text/plain": [
       "      의안번호            의안명        제안일자 제안자구분        의결일자  의결결과  \\\n",
       "0  1918726  유아교육법 일부개정법률안  2016-05-18   위원장  2016-05-19  원안가결   \n",
       "\n",
       "                     제안회기                                               제안이유  \\\n",
       "0  제19대 (2012~2016) 제342회    1.  최근 보육기관에서 아동학대 사건이 잇달아 발생하고 있는 가운데 아동학대 ...   \n",
       "\n",
       "         소관위원회  발의자 제안정당 제안자   성별  여성의원 수 정당성향  국회회기  \n",
       "0  교육문화체육관광위원회  NaN  위원장  []  NaN       0  NaN    19  "
      ]
     },
     "execution_count": 9,
     "metadata": {},
     "output_type": "execute_result"
    }
   ],
   "source": [
    "gender_19 = pd.read_csv('19th-gender-bill-v4.csv', index_col=0, encoding='utf-8-sig')\n",
    "print(gender_19.shape)\n",
    "gender_19.head(1)"
   ]
  },
  {
   "cell_type": "code",
   "execution_count": 10,
   "metadata": {},
   "outputs": [
    {
     "name": "stdout",
     "output_type": "stream",
     "text": [
      "(2016, 16)\n"
     ]
    },
    {
     "data": {
      "text/html": [
       "<div>\n",
       "<style scoped>\n",
       "    .dataframe tbody tr th:only-of-type {\n",
       "        vertical-align: middle;\n",
       "    }\n",
       "\n",
       "    .dataframe tbody tr th {\n",
       "        vertical-align: top;\n",
       "    }\n",
       "\n",
       "    .dataframe thead th {\n",
       "        text-align: right;\n",
       "    }\n",
       "</style>\n",
       "<table border=\"1\" class=\"dataframe\">\n",
       "  <thead>\n",
       "    <tr style=\"text-align: right;\">\n",
       "      <th></th>\n",
       "      <th>의안번호</th>\n",
       "      <th>의안명</th>\n",
       "      <th>제안자구분</th>\n",
       "      <th>제안일자</th>\n",
       "      <th>의결일자</th>\n",
       "      <th>의결결과</th>\n",
       "      <th>제안회기</th>\n",
       "      <th>제안이유</th>\n",
       "      <th>소관위원회</th>\n",
       "      <th>발의자</th>\n",
       "      <th>제안정당</th>\n",
       "      <th>제안자</th>\n",
       "      <th>성별</th>\n",
       "      <th>여성의원 수</th>\n",
       "      <th>정당성향</th>\n",
       "      <th>국회회기</th>\n",
       "    </tr>\n",
       "  </thead>\n",
       "  <tbody>\n",
       "    <tr>\n",
       "      <th>0</th>\n",
       "      <td>2024984</td>\n",
       "      <td>일제하 일본군위안부 피해자에 대한 보호ㆍ지원 및 기념사업 등에 관한 법률 일부개정법률안</td>\n",
       "      <td>위원장</td>\n",
       "      <td>2020-05-20</td>\n",
       "      <td>2020-05-20 00:00:00</td>\n",
       "      <td>원안가결</td>\n",
       "      <td>제20대 (2016~2020) 제378회</td>\n",
       "      <td>대안의  생활안정지원대상자에게 「의료급여법」에 따른 본인 부담금 및 비급여비용에...</td>\n",
       "      <td>여성가족위원회</td>\n",
       "      <td>NaN</td>\n",
       "      <td>위원장</td>\n",
       "      <td>[]</td>\n",
       "      <td>NaN</td>\n",
       "      <td>0</td>\n",
       "      <td>NaN</td>\n",
       "      <td>20</td>\n",
       "    </tr>\n",
       "  </tbody>\n",
       "</table>\n",
       "</div>"
      ],
      "text/plain": [
       "      의안번호                                               의안명 제안자구분  \\\n",
       "0  2024984  일제하 일본군위안부 피해자에 대한 보호ㆍ지원 및 기념사업 등에 관한 법률 일부개정법률안   위원장   \n",
       "\n",
       "         제안일자                 의결일자  의결결과                    제안회기  \\\n",
       "0  2020-05-20  2020-05-20 00:00:00  원안가결  제20대 (2016~2020) 제378회   \n",
       "\n",
       "                                                제안이유    소관위원회  발의자 제안정당 제안자  \\\n",
       "0    대안의  생활안정지원대상자에게 「의료급여법」에 따른 본인 부담금 및 비급여비용에...  여성가족위원회  NaN  위원장  []   \n",
       "\n",
       "    성별  여성의원 수 정당성향  국회회기  \n",
       "0  NaN       0  NaN    20  "
      ]
     },
     "execution_count": 10,
     "metadata": {},
     "output_type": "execute_result"
    }
   ],
   "source": [
    "gender_20 = pd.read_csv('20th-gender-bill-v4.csv', index_col=0, encoding='utf-8-sig')\n",
    "print(gender_20.shape)\n",
    "gender_20.head(1)"
   ]
  },
  {
   "cell_type": "code",
   "execution_count": 11,
   "metadata": {},
   "outputs": [
    {
     "data": {
      "text/plain": [
       "\"\\nglass_list = [2017482, 2017481, 2017480, 2017479, 2017478, 2017477,\\n       2017476, 2017475, 2017474, 2017473, 2017472, 2017470, 2017469,\\n       2017468, 2017467, 2017465, 2017464, 2017463, 2017462, 2017461,\\n       2017460, 2017459, 2017458, 2017457, 2017455, 2017454, 2017453,\\n       2017451, 2017450, 2017449, 2017448, 2017447, 2017446, 2017445,\\n       2017444, 2017443, 2017441, 2017440, 2017439, 2017438, 2017437,\\n       2017436, 2017434, 2017433, 2017432, 2017431, 2017430, 2017429,\\n       2017428, 2017427, 2017426, 2017425, 2017424, 2017423, 2017422,\\n       2017421, 2017420, 2017419, 2017417, 2017416, 2017415, 2017413,\\n       2017411, 2017409, 2017407, 2017406, 2017405, 2017404, 2017403,\\n       2017402, 2017401, 2017400, 2017399, 2017398, 2017397, 2017396,\\n       2017395, 2017394, 2017392, 2017391, 2017390, 2017389, 2017388,\\n       2017387, 2017386, 2017385, 2017384, 2017383, 2017382, 2017381,\\n       2017380, 2017379, 2017377, 2017376, 2017375, 2017374, 2017373,\\n       2017372, 2017371, 2017370, 2017369, 2017368, 2017367, 2017366,\\n       2017365, 2017364, 2017363, 2017362, 2017361, 2017360, 2017359,\\n       2017358, 2017357, 2017356, 2017355, 2017354, 2017353, 2017352,\\n       2017351, 2017350, 2017349, 2017348, 2017347, 2017346, 2017345,\\n       2017344, 2017343, 2017342, 2017341, 2017340, 2017339, 2017338,\\n       2017337, 2017336, 2017335, 2017334, 2017333, 2017332, 2017284,\\n       2017283, 2017282, 2017281, 2017280, 2017279, 2017278, 2017277,\\n       2017276, 2017275, 2017274, 2017273, 2017272, 2017271, 2017270,\\n       2017269, 2017268, 2017267, 2017266, 2017265, 2017264, 2017263,\\n       2017262, 2017261, 2017260, 2017259, 2017258, 2017257, 2017256,\\n       2017255, 2017254, 2017253, 2017252, 2017251, 2017250, 2017249,\\n       2017248, 2017247, 2017246, 2017245, 2017244, 2017243, 2017242,\\n       2017241, 2017240, 2017239, 2017238, 2017237, 2017236, 2017235,\\n       2017234, 2017233, 2017232, 2017231, 2017230, 2017229, 2017228,\\n       2017227, 2017226, 2017225, 2017224, 2017223, 2017222, 2017221,\\n       2017220, 2017219, 2017218, 2017217, 2017216, 2017215, 2017214,\\n       2017213, 2017212, 2017211, 2017210, 2017108, 2017106, 2017105,\\n       2017104, 2017103, 2017089, 2017086, 2017084, 2017083, 2017082,\\n       2017081, 2017080, 2017078]\\n\\ngender_20 = gender_20[~gender_20['의안번호'].isin(glass_list)]\\ngender_20 = gender_20.reset_index()\\ngender_20 = gender_20.drop('index',1)\\ngender_20.shape\\n\""
      ]
     },
     "execution_count": 11,
     "metadata": {},
     "output_type": "execute_result"
    }
   ],
   "source": [
    "'''\n",
    "glass_list = [2017482, 2017481, 2017480, 2017479, 2017478, 2017477,\n",
    "       2017476, 2017475, 2017474, 2017473, 2017472, 2017470, 2017469,\n",
    "       2017468, 2017467, 2017465, 2017464, 2017463, 2017462, 2017461,\n",
    "       2017460, 2017459, 2017458, 2017457, 2017455, 2017454, 2017453,\n",
    "       2017451, 2017450, 2017449, 2017448, 2017447, 2017446, 2017445,\n",
    "       2017444, 2017443, 2017441, 2017440, 2017439, 2017438, 2017437,\n",
    "       2017436, 2017434, 2017433, 2017432, 2017431, 2017430, 2017429,\n",
    "       2017428, 2017427, 2017426, 2017425, 2017424, 2017423, 2017422,\n",
    "       2017421, 2017420, 2017419, 2017417, 2017416, 2017415, 2017413,\n",
    "       2017411, 2017409, 2017407, 2017406, 2017405, 2017404, 2017403,\n",
    "       2017402, 2017401, 2017400, 2017399, 2017398, 2017397, 2017396,\n",
    "       2017395, 2017394, 2017392, 2017391, 2017390, 2017389, 2017388,\n",
    "       2017387, 2017386, 2017385, 2017384, 2017383, 2017382, 2017381,\n",
    "       2017380, 2017379, 2017377, 2017376, 2017375, 2017374, 2017373,\n",
    "       2017372, 2017371, 2017370, 2017369, 2017368, 2017367, 2017366,\n",
    "       2017365, 2017364, 2017363, 2017362, 2017361, 2017360, 2017359,\n",
    "       2017358, 2017357, 2017356, 2017355, 2017354, 2017353, 2017352,\n",
    "       2017351, 2017350, 2017349, 2017348, 2017347, 2017346, 2017345,\n",
    "       2017344, 2017343, 2017342, 2017341, 2017340, 2017339, 2017338,\n",
    "       2017337, 2017336, 2017335, 2017334, 2017333, 2017332, 2017284,\n",
    "       2017283, 2017282, 2017281, 2017280, 2017279, 2017278, 2017277,\n",
    "       2017276, 2017275, 2017274, 2017273, 2017272, 2017271, 2017270,\n",
    "       2017269, 2017268, 2017267, 2017266, 2017265, 2017264, 2017263,\n",
    "       2017262, 2017261, 2017260, 2017259, 2017258, 2017257, 2017256,\n",
    "       2017255, 2017254, 2017253, 2017252, 2017251, 2017250, 2017249,\n",
    "       2017248, 2017247, 2017246, 2017245, 2017244, 2017243, 2017242,\n",
    "       2017241, 2017240, 2017239, 2017238, 2017237, 2017236, 2017235,\n",
    "       2017234, 2017233, 2017232, 2017231, 2017230, 2017229, 2017228,\n",
    "       2017227, 2017226, 2017225, 2017224, 2017223, 2017222, 2017221,\n",
    "       2017220, 2017219, 2017218, 2017217, 2017216, 2017215, 2017214,\n",
    "       2017213, 2017212, 2017211, 2017210, 2017108, 2017106, 2017105,\n",
    "       2017104, 2017103, 2017089, 2017086, 2017084, 2017083, 2017082,\n",
    "       2017081, 2017080, 2017078]\n",
    "\n",
    "gender_20 = gender_20[~gender_20['의안번호'].isin(glass_list)]\n",
    "gender_20 = gender_20.reset_index()\n",
    "gender_20 = gender_20.drop('index',1)\n",
    "gender_20.shape\n",
    "'''"
   ]
  },
  {
   "cell_type": "code",
   "execution_count": 12,
   "metadata": {},
   "outputs": [
    {
     "name": "stdout",
     "output_type": "stream",
     "text": [
      "(4521, 16)\n"
     ]
    }
   ],
   "source": [
    "gender_total = pd.concat([gender_13, gender_14, gender_15, gender_16, gender_17, gender_18, gender_19, gender_20])\n",
    "print(gender_total.shape)\n",
    "#gender.head()"
   ]
  },
  {
   "cell_type": "code",
   "execution_count": 13,
   "metadata": {},
   "outputs": [],
   "source": [
    "gender_total.to_csv('whole-gender-bill-1320.csv')"
   ]
  },
  {
   "cell_type": "code",
   "execution_count": null,
   "metadata": {},
   "outputs": [],
   "source": []
  }
 ],
 "metadata": {
  "kernelspec": {
   "display_name": "Python 3",
   "language": "python",
   "name": "python3"
  },
  "language_info": {
   "codemirror_mode": {
    "name": "ipython",
    "version": 3
   },
   "file_extension": ".py",
   "mimetype": "text/x-python",
   "name": "python",
   "nbconvert_exporter": "python",
   "pygments_lexer": "ipython3",
   "version": "3.8.5"
  }
 },
 "nbformat": 4,
 "nbformat_minor": 4
}
