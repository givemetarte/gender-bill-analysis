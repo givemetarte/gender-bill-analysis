{
 "cells": [
  {
   "cell_type": "markdown",
   "metadata": {},
   "source": [
    "# 한자에서 한글 변환 \n",
    "\n",
    "- 13-15대는 주요내용이 한자로 대부분 적혀있음. 한자에서 한글로 변환함."
   ]
  },
  {
   "cell_type": "code",
   "execution_count": 2,
   "metadata": {},
   "outputs": [],
   "source": [
    "import pandas as pd \n",
    "import hanja"
   ]
  },
  {
   "cell_type": "code",
   "execution_count": 11,
   "metadata": {},
   "outputs": [
    {
     "name": "stdout",
     "output_type": "stream",
     "text": [
      "CPU times: user 3.64 s, sys: 24.4 ms, total: 3.66 s\n",
      "Wall time: 3.71 s\n",
      "CPU times: user 3.81 s, sys: 25.1 ms, total: 3.84 s\n",
      "Wall time: 3.99 s\n",
      "CPU times: user 5.97 s, sys: 44.6 ms, total: 6.02 s\n",
      "Wall time: 6.22 s\n"
     ]
    }
   ],
   "source": [
    "for n in range(13, 16): \n",
    "    bill_df = pd.read_csv(f'/Users/harampark/Documents/research/gender-bill-analysis/data/{n}th-lawbill-list.csv', index_col=0, encoding='utf-8')\n",
    "    %time bill_df['주요내용'] = bill_df['주요내용'].apply(lambda x: hanja.translate(x, 'substitution'))\n",
    "    bill_df.to_csv(f'{n}th-lawbill-list-hanja2hangul.csv', encoding='utf-8-sig')\n"
   ]
  },
  {
   "cell_type": "code",
   "execution_count": null,
   "metadata": {},
   "outputs": [],
   "source": []
  }
 ],
 "metadata": {
  "kernelspec": {
   "display_name": "Python 3",
   "language": "python",
   "name": "python3"
  },
  "language_info": {
   "codemirror_mode": {
    "name": "ipython",
    "version": 3
   },
   "file_extension": ".py",
   "mimetype": "text/x-python",
   "name": "python",
   "nbconvert_exporter": "python",
   "pygments_lexer": "ipython3",
   "version": "3.8.5"
  }
 },
 "nbformat": 4,
 "nbformat_minor": 4
}
