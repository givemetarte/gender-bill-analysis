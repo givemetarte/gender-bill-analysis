{
 "cells": [
  {
   "cell_type": "code",
   "execution_count": 1,
   "metadata": {},
   "outputs": [],
   "source": [
    "import pandas as pd \n",
    "import datetime"
   ]
  },
  {
   "cell_type": "code",
   "execution_count": 2,
   "metadata": {},
   "outputs": [
    {
     "data": {
      "text/plain": [
       "(938, 10)"
      ]
     },
     "execution_count": 2,
     "metadata": {},
     "output_type": "execute_result"
    }
   ],
   "source": [
    "bill_df1 = pd.read_csv('/Users/harampark/Documents/research/gender-bill-analysis/data/selenium-data/13대 국회 의안정보.csv', \n",
    "                      parse_dates=['제안일자', '의결일자'], index_col=0).reset_index()\n",
    "bill_df1.shape"
   ]
  },
  {
   "cell_type": "code",
   "execution_count": 3,
   "metadata": {},
   "outputs": [
    {
     "data": {
      "text/plain": [
       "(902, 10)"
      ]
     },
     "execution_count": 3,
     "metadata": {},
     "output_type": "execute_result"
    }
   ],
   "source": [
    "bill_df2 = pd.read_csv('/Users/harampark/Documents/research/gender-bill-analysis/data/selenium-data/14대 국회 의안정보.csv', \n",
    "                      parse_dates=['제안일자', '의결일자'], index_col=0).reset_index()\n",
    "bill_df2.shape"
   ]
  },
  {
   "cell_type": "code",
   "execution_count": 4,
   "metadata": {},
   "outputs": [
    {
     "data": {
      "text/plain": [
       "(1951, 10)"
      ]
     },
     "execution_count": 4,
     "metadata": {},
     "output_type": "execute_result"
    }
   ],
   "source": [
    "bill_df31 = pd.read_csv('/Users/harampark/Documents/research/gender-bill-analysis/data/selenium-data/15대 국회 의안정보.csv', \n",
    "                      parse_dates=['제안일자', '의결일자'])\n",
    "bill_df32 = pd.read_csv('/Users/harampark/Documents/research/gender-bill-analysis/data/selenium-data/15대 국회 의안정보(2).csv', \n",
    "                      parse_dates=['제안일자', '의결일자'])\n",
    "\n",
    "bill_df3 = pd.concat([bill_df31, bill_df32]).drop_duplicates()\n",
    "bill_df3.shape"
   ]
  },
  {
   "cell_type": "code",
   "execution_count": 5,
   "metadata": {},
   "outputs": [
    {
     "data": {
      "text/plain": [
       "(2507, 10)"
      ]
     },
     "execution_count": 5,
     "metadata": {},
     "output_type": "execute_result"
    }
   ],
   "source": [
    "bill_df41 = pd.read_csv('/Users/harampark/Documents/research/gender-bill-analysis/data/selenium-data/16대 국회 의안정보.csv', \n",
    "                      parse_dates=['제안일자', '의결일자'])\n",
    "bill_df42 = pd.read_csv('/Users/harampark/Documents/research/gender-bill-analysis/data/selenium-data/16대 국회 의안정보(2).csv', \n",
    "                      parse_dates=['제안일자', '의결일자'])\n",
    "\n",
    "bill_df4 = pd.concat([bill_df41, bill_df42]).drop_duplicates()\n",
    "bill_df4.shape"
   ]
  },
  {
   "cell_type": "code",
   "execution_count": 6,
   "metadata": {},
   "outputs": [
    {
     "data": {
      "text/plain": [
       "(7489, 9)"
      ]
     },
     "execution_count": 6,
     "metadata": {},
     "output_type": "execute_result"
    }
   ],
   "source": [
    "bill_df5 = pd.read_csv('/Users/harampark/Documents/research/gender-bill-analysis/data/selenium-data/17대 국회 의안정보.csv', \n",
    "                      parse_dates=['제안일자', '의결일자'], index_col=0)\n",
    "\n",
    "bill_df5 = bill_df5.drop_duplicates()\n",
    "bill_df5.shape"
   ]
  },
  {
   "cell_type": "code",
   "execution_count": 7,
   "metadata": {},
   "outputs": [
    {
     "data": {
      "text/plain": [
       "(13913, 9)"
      ]
     },
     "execution_count": 7,
     "metadata": {},
     "output_type": "execute_result"
    }
   ],
   "source": [
    "bill_df6 = pd.read_csv('/Users/harampark/Documents/research/gender-bill-analysis/data/selenium-data/18대 국회 의안정보.csv', \n",
    "                      parse_dates=['제안일자', '의결일자'], index_col=0)\n",
    "\n",
    "bill_df6 = bill_df6.drop_duplicates()\n",
    "bill_df6.shape"
   ]
  },
  {
   "cell_type": "code",
   "execution_count": 8,
   "metadata": {},
   "outputs": [
    {
     "data": {
      "text/plain": [
       "(17822, 10)"
      ]
     },
     "execution_count": 8,
     "metadata": {},
     "output_type": "execute_result"
    }
   ],
   "source": [
    "bill_df71 = pd.read_csv('/Users/harampark/Documents/research/gender-bill-analysis/data/selenium-data/19대 국회 의안정보(1).csv', \n",
    "                      parse_dates=['제안일자', '의결일자'])\n",
    "bill_df72 = pd.read_csv('/Users/harampark/Documents/research/gender-bill-analysis/data/selenium-data/19대 국회 의안정보(2).csv', \n",
    "                      parse_dates=['제안일자', '의결일자'])\n",
    "\n",
    "bill_df7 = pd.concat([bill_df71, bill_df72]).drop_duplicates()\n",
    "bill_df7.shape"
   ]
  },
  {
   "cell_type": "code",
   "execution_count": 9,
   "metadata": {},
   "outputs": [
    {
     "data": {
      "text/plain": [
       "(25222, 14)"
      ]
     },
     "execution_count": 9,
     "metadata": {},
     "output_type": "execute_result"
    }
   ],
   "source": [
    "bill_df81 = pd.read_csv('/Users/harampark/Documents/research/gender-bill-analysis/data/selenium-data/20대 국회 의안정보.csv', \n",
    "                      parse_dates=['제안일자', '의결일자'])\n",
    "bill_df82 = pd.read_csv('/Users/harampark/Documents/research/gender-bill-analysis/data/selenium-data/20대 국회 의안정보(2).csv', \n",
    "                      parse_dates=['제안일자', '의결일자'])\n",
    "bill_df83 = pd.read_csv('/Users/harampark/Documents/research/gender-bill-analysis/data/selenium-data/20대 국회 의안정보(3).csv', \n",
    "                      parse_dates=['제안일자', '의결일자'])\n",
    "\n",
    "bill_df8 = pd.concat([bill_df81, bill_df82, bill_df83]).drop_duplicates()\n",
    "bill_df8.shape"
   ]
  },
  {
   "cell_type": "code",
   "execution_count": 10,
   "metadata": {},
   "outputs": [
    {
     "data": {
      "text/plain": [
       "(24902, 14)"
      ]
     },
     "execution_count": 10,
     "metadata": {},
     "output_type": "execute_result"
    }
   ],
   "source": [
    "proposer = ['의원','위원장','정부']\n",
    "bill_df8 = bill_df8[bill_df8['제안자구분'].isin(proposer)]\n",
    "bill_df8.shape"
   ]
  },
  {
   "cell_type": "code",
   "execution_count": 11,
   "metadata": {},
   "outputs": [
    {
     "data": {
      "text/plain": [
       "(70424, 14)"
      ]
     },
     "execution_count": 11,
     "metadata": {},
     "output_type": "execute_result"
    }
   ],
   "source": [
    "bill_df = pd.concat([bill_df1, bill_df2, bill_df3, bill_df4, \n",
    "                     bill_df5, bill_df6, bill_df7, bill_df8]).drop_duplicates()\n",
    "bill_df.shape"
   ]
  },
  {
   "cell_type": "code",
   "execution_count": 12,
   "metadata": {},
   "outputs": [
    {
     "data": {
      "text/plain": [
       "array(['의원', '위원장', '정부'], dtype=object)"
      ]
     },
     "execution_count": 12,
     "metadata": {},
     "output_type": "execute_result"
    }
   ],
   "source": [
    "bill_df['제안자구분'].unique()"
   ]
  },
  {
   "cell_type": "code",
   "execution_count": 15,
   "metadata": {},
   "outputs": [],
   "source": [
    "gender = bill_df.copy()\n",
    "gender['제안일자'] = pd.to_datetime(gender['제안일자'])"
   ]
  },
  {
   "cell_type": "code",
   "execution_count": 17,
   "metadata": {},
   "outputs": [
    {
     "name": "stdout",
     "output_type": "stream",
     "text": [
      "<class 'pandas.core.frame.DataFrame'>\n",
      "Int64Index: 70424 entries, 0 to 7220\n",
      "Data columns (total 14 columns):\n",
      " #   Column  Non-Null Count  Dtype         \n",
      "---  ------  --------------  -----         \n",
      " 0   의안번호    49022 non-null  object        \n",
      " 1   의안명     70424 non-null  object        \n",
      " 2   제안일자    70424 non-null  datetime64[ns]\n",
      " 3   제안자구분   70424 non-null  object        \n",
      " 4   의결일자    70390 non-null  datetime64[ns]\n",
      " 5   의결결과    70390 non-null  object        \n",
      " 6   제안회기    70424 non-null  object        \n",
      " 7   제안이유    70027 non-null  object        \n",
      " 8   소관위원회   69982 non-null  object        \n",
      " 9   제안자     68953 non-null  object        \n",
      " 10  처리여부    24902 non-null  object        \n",
      " 11  심사진행상태  0 non-null      float64       \n",
      " 12  문서      24894 non-null  object        \n",
      " 13  index   986 non-null    float64       \n",
      "dtypes: datetime64[ns](2), float64(2), object(10)\n",
      "memory usage: 8.1+ MB\n"
     ]
    }
   ],
   "source": [
    "gender.info()"
   ]
  },
  {
   "cell_type": "code",
   "execution_count": 20,
   "metadata": {},
   "outputs": [],
   "source": [
    "gender.loc[(gender['제안일자'].dt.date >= datetime.date(1988,5,3)) & \n",
    "                        (gender['제안일자'].dt.date <= datetime.date(1993,2,24)), '정부'] = '노태우'\n",
    "gender.loc[(gender['제안일자'].dt.date >= datetime.date(1993,2,25)) & \n",
    "                        (gender['제안일자'].dt.date <= datetime.date(1998,2,24)), '정부'] = '김영삼'\n",
    "gender.loc[(gender['제안일자'].dt.date >= datetime.date(1998,2,25)) & \n",
    "                        (gender['제안일자'].dt.date <= datetime.date(2003,2,24)), '정부'] = '김대중'\n",
    "gender.loc[(gender['제안일자'].dt.date >= datetime.date(2003,2,25)) & \n",
    "                       (gender['제안일자'].dt.date <= datetime.date(2008,2,24)), '정부'] = '노무현'\n",
    "gender.loc[(gender['제안일자'].dt.date >= datetime.date(2008,2,25)) & \n",
    "                        (gender['제안일자'].dt.date <= datetime.date(2013,2,24)), '정부'] = '이명박'\n",
    "gender.loc[(gender['제안일자'].dt.date >= datetime.date(2013,2,25)) & \n",
    "                        (gender['제안일자'].dt.date <= datetime.date(2017,5,10)), '정부'] = '박근혜'\n",
    "gender.loc[(gender['제안일자'].dt.date > datetime.date(2017,5,10)), '정부'] = '문재인'"
   ]
  },
  {
   "cell_type": "code",
   "execution_count": 21,
   "metadata": {},
   "outputs": [
    {
     "data": {
      "text/plain": [
       "박근혜    20981\n",
       "문재인    18082\n",
       "이명박    17652\n",
       "노무현     8260\n",
       "김대중     2861\n",
       "김영삼     1541\n",
       "노태우     1047\n",
       "Name: 정부, dtype: int64"
      ]
     },
     "execution_count": 21,
     "metadata": {},
     "output_type": "execute_result"
    }
   ],
   "source": [
    "gender['정부'].value_counts()"
   ]
  },
  {
   "cell_type": "code",
   "execution_count": null,
   "metadata": {},
   "outputs": [],
   "source": []
  }
 ],
 "metadata": {
  "kernelspec": {
   "display_name": "Python 3",
   "language": "python",
   "name": "python3"
  },
  "language_info": {
   "codemirror_mode": {
    "name": "ipython",
    "version": 3
   },
   "file_extension": ".py",
   "mimetype": "text/x-python",
   "name": "python",
   "nbconvert_exporter": "python",
   "pygments_lexer": "ipython3",
   "version": "3.8.5"
  }
 },
 "nbformat": 4,
 "nbformat_minor": 4
}
