{
 "cells": [
  {
   "cell_type": "markdown",
   "metadata": {},
   "source": [
    "# 13대 제안자 칼럼 생성\n",
    "\n",
    "- 발의자"
   ]
  },
  {
   "cell_type": "code",
   "execution_count": 1,
   "metadata": {},
   "outputs": [],
   "source": [
    "import pandas as pd \n",
    "import numpy as np \n",
    "from ast import literal_eval\n",
    "from tqdm import tqdm \n",
    "import numpy as np"
   ]
  },
  {
   "cell_type": "code",
   "execution_count": 2,
   "metadata": {},
   "outputs": [
    {
     "data": {
      "text/html": [
       "<div>\n",
       "<style scoped>\n",
       "    .dataframe tbody tr th:only-of-type {\n",
       "        vertical-align: middle;\n",
       "    }\n",
       "\n",
       "    .dataframe tbody tr th {\n",
       "        vertical-align: top;\n",
       "    }\n",
       "\n",
       "    .dataframe thead th {\n",
       "        text-align: right;\n",
       "    }\n",
       "</style>\n",
       "<table border=\"1\" class=\"dataframe\">\n",
       "  <thead>\n",
       "    <tr style=\"text-align: right;\">\n",
       "      <th></th>\n",
       "      <th>의안번호</th>\n",
       "      <th>의안명</th>\n",
       "      <th>제안일자</th>\n",
       "      <th>제안자구분</th>\n",
       "      <th>의결일자</th>\n",
       "      <th>의결결과</th>\n",
       "      <th>제안회기</th>\n",
       "      <th>제안이유</th>\n",
       "      <th>소관위원회</th>\n",
       "      <th>제안자</th>\n",
       "      <th>발의자</th>\n",
       "      <th>제안정당</th>\n",
       "      <th>성별</th>\n",
       "      <th>여성의원 수</th>\n",
       "    </tr>\n",
       "  </thead>\n",
       "  <tbody>\n",
       "    <tr>\n",
       "      <th>0</th>\n",
       "      <td>131131</td>\n",
       "      <td>소득세법중개정법률안</td>\n",
       "      <td>1990-12-17</td>\n",
       "      <td>위원장</td>\n",
       "      <td>1990-12-18</td>\n",
       "      <td>원안가결</td>\n",
       "      <td>제13대 (1988~1992) 제151회</td>\n",
       "      <td>정부제출,柳인학·강金식·금봉욱·林춘원·李경재·허만기·홍영기의원외64인 발의,1...</td>\n",
       "      <td>재무위원회</td>\n",
       "      <td>[]</td>\n",
       "      <td>위원장</td>\n",
       "      <td>위원장</td>\n",
       "      <td>NaN</td>\n",
       "      <td>0</td>\n",
       "    </tr>\n",
       "    <tr>\n",
       "      <th>1</th>\n",
       "      <td>131126</td>\n",
       "      <td>특정범죄가중처벌등에관한법률중개정법률안</td>\n",
       "      <td>1990-12-17</td>\n",
       "      <td>위원장</td>\n",
       "      <td>1990-12-18</td>\n",
       "      <td>원안가결</td>\n",
       "      <td>제13대 (1988~1992) 제151회</td>\n",
       "      <td>1989.11.21과 1990.10.8 정부에서 제출한 각특정범죄가중처벌등에관...</td>\n",
       "      <td>법제사법위원회</td>\n",
       "      <td>[]</td>\n",
       "      <td>위원장</td>\n",
       "      <td>위원장</td>\n",
       "      <td>NaN</td>\n",
       "      <td>0</td>\n",
       "    </tr>\n",
       "    <tr>\n",
       "      <th>2</th>\n",
       "      <td>131059</td>\n",
       "      <td>영·유아의보호·교육에관한법률안</td>\n",
       "      <td>1990-11-20</td>\n",
       "      <td>의원</td>\n",
       "      <td>1990-12-18</td>\n",
       "      <td>수정가결</td>\n",
       "      <td>제13대 (1988~1992) 제151회</td>\n",
       "      <td>현대사회의 산업화에 따른 여성의 사회참여 증가 및 가족구조의 핵가족화에 의한 ...</td>\n",
       "      <td>보건사회위원회</td>\n",
       "      <td>['신영순', '김장숙', '이윤자', '김문기', '김인영', '김일동', '김한...</td>\n",
       "      <td>신영순</td>\n",
       "      <td>민주정의당</td>\n",
       "      <td>여성</td>\n",
       "      <td>3</td>\n",
       "    </tr>\n",
       "  </tbody>\n",
       "</table>\n",
       "</div>"
      ],
      "text/plain": [
       "     의안번호                   의안명        제안일자 제안자구분        의결일자  의결결과  \\\n",
       "0  131131            소득세법중개정법률안  1990-12-17   위원장  1990-12-18  원안가결   \n",
       "1  131126  특정범죄가중처벌등에관한법률중개정법률안  1990-12-17   위원장  1990-12-18  원안가결   \n",
       "2  131059      영·유아의보호·교육에관한법률안  1990-11-20    의원  1990-12-18  수정가결   \n",
       "\n",
       "                     제안회기                                               제안이유  \\\n",
       "0  제13대 (1988~1992) 제151회     정부제출,柳인학·강金식·금봉욱·林춘원·李경재·허만기·홍영기의원외64인 발의,1...   \n",
       "1  제13대 (1988~1992) 제151회     1989.11.21과 1990.10.8 정부에서 제출한 각특정범죄가중처벌등에관...   \n",
       "2  제13대 (1988~1992) 제151회     현대사회의 산업화에 따른 여성의 사회참여 증가 및 가족구조의 핵가족화에 의한 ...   \n",
       "\n",
       "     소관위원회                                                제안자  발의자   제안정당  \\\n",
       "0    재무위원회                                                 []  위원장    위원장   \n",
       "1  법제사법위원회                                                 []  위원장    위원장   \n",
       "2  보건사회위원회  ['신영순', '김장숙', '이윤자', '김문기', '김인영', '김일동', '김한...  신영순  민주정의당   \n",
       "\n",
       "    성별  여성의원 수  \n",
       "0  NaN       0  \n",
       "1  NaN       0  \n",
       "2   여성       3  "
      ]
     },
     "execution_count": 2,
     "metadata": {},
     "output_type": "execute_result"
    }
   ],
   "source": [
    "gender = pd.read_csv('13th-gender-bill-v2.csv', index_col=0, encoding='utf-8')\n",
    "gender.head(3)"
   ]
  },
  {
   "cell_type": "code",
   "execution_count": 3,
   "metadata": {},
   "outputs": [
    {
     "data": {
      "text/html": [
       "<div>\n",
       "<style scoped>\n",
       "    .dataframe tbody tr th:only-of-type {\n",
       "        vertical-align: middle;\n",
       "    }\n",
       "\n",
       "    .dataframe tbody tr th {\n",
       "        vertical-align: top;\n",
       "    }\n",
       "\n",
       "    .dataframe thead th {\n",
       "        text-align: right;\n",
       "    }\n",
       "</style>\n",
       "<table border=\"1\" class=\"dataframe\">\n",
       "  <thead>\n",
       "    <tr style=\"text-align: right;\">\n",
       "      <th></th>\n",
       "      <th>의안번호</th>\n",
       "      <th>제안자</th>\n",
       "    </tr>\n",
       "  </thead>\n",
       "  <tbody>\n",
       "    <tr>\n",
       "      <th>0</th>\n",
       "      <td>131131</td>\n",
       "      <td>[]</td>\n",
       "    </tr>\n",
       "    <tr>\n",
       "      <th>1</th>\n",
       "      <td>131126</td>\n",
       "      <td>[]</td>\n",
       "    </tr>\n",
       "    <tr>\n",
       "      <th>2</th>\n",
       "      <td>131059</td>\n",
       "      <td>['신영순', '김장숙', '이윤자', '김문기', '김인영', '김일동', '김한...</td>\n",
       "    </tr>\n",
       "  </tbody>\n",
       "</table>\n",
       "</div>"
      ],
      "text/plain": [
       "     의안번호                                                제안자\n",
       "0  131131                                                 []\n",
       "1  131126                                                 []\n",
       "2  131059  ['신영순', '김장숙', '이윤자', '김문기', '김인영', '김일동', '김한..."
      ]
     },
     "execution_count": 3,
     "metadata": {},
     "output_type": "execute_result"
    }
   ],
   "source": [
    "gender = gender[['의안번호','제안자']]\n",
    "gender.head(3)"
   ]
  },
  {
   "cell_type": "code",
   "execution_count": 4,
   "metadata": {},
   "outputs": [
    {
     "name": "stdout",
     "output_type": "stream",
     "text": [
      "CPU times: user 2.65 ms, sys: 189 µs, total: 2.84 ms\n",
      "Wall time: 2.91 ms\n"
     ]
    }
   ],
   "source": [
    "%time gender['제안자'] = gender['제안자'].apply(literal_eval)"
   ]
  },
  {
   "cell_type": "code",
   "execution_count": null,
   "metadata": {},
   "outputs": [],
   "source": []
  },
  {
   "cell_type": "markdown",
   "metadata": {},
   "source": [
    "## 발의자 코딩"
   ]
  },
  {
   "cell_type": "code",
   "execution_count": 5,
   "metadata": {},
   "outputs": [
    {
     "data": {
      "text/plain": [
       "242"
      ]
     },
     "execution_count": 5,
     "metadata": {},
     "output_type": "execute_result"
    }
   ],
   "source": [
    "proposer_list = []\n",
    "\n",
    "for names in gender['제안자']: \n",
    "    proposer_set = set(proposer_list)\n",
    "    names_set = set(names)\n",
    "    minus = list(names_set.difference(proposer_set))\n",
    "    proposer_list.extend(minus)\n",
    "    \n",
    "len(proposer_list)"
   ]
  },
  {
   "cell_type": "code",
   "execution_count": 6,
   "metadata": {},
   "outputs": [],
   "source": [
    "def get_proposer_dummies(proposer): \n",
    "    for n in tqdm(range(proposer.shape[1])): \n",
    "        df = pd.get_dummies(proposer[n])\n",
    "        if n == 0: \n",
    "            final_df = df \n",
    "        else: \n",
    "            final_df = final_df.add(df, fill_value=0)\n",
    "    return final_df"
   ]
  },
  {
   "cell_type": "code",
   "execution_count": 7,
   "metadata": {},
   "outputs": [
    {
     "name": "stderr",
     "output_type": "stream",
     "text": [
      "<ipython-input-7-5cd51fc5867d>:1: DeprecationWarning: The default dtype for empty Series will be 'object' instead of 'float64' in a future version. Specify a dtype explicitly to silence this warning.\n",
      "  proposer = gender['제안자'].apply(lambda x: pd.Series(x))\n",
      "100%|██████████| 163/163 [01:29<00:00,  1.83it/s]"
     ]
    },
    {
     "name": "stdout",
     "output_type": "stream",
     "text": [
      "CPU times: user 1min 26s, sys: 2.51 s, total: 1min 29s\n",
      "Wall time: 1min 29s\n",
      "(17, 242)\n"
     ]
    },
    {
     "name": "stderr",
     "output_type": "stream",
     "text": [
      "\n"
     ]
    }
   ],
   "source": [
    "proposer = gender['제안자'].apply(lambda x: pd.Series(x))\n",
    "\n",
    "%time proposer_dummies = get_proposer_dummies(proposer)\n",
    "print(proposer_dummies.shape)"
   ]
  },
  {
   "cell_type": "code",
   "execution_count": 8,
   "metadata": {},
   "outputs": [
    {
     "data": {
      "text/html": [
       "<div>\n",
       "<style scoped>\n",
       "    .dataframe tbody tr th:only-of-type {\n",
       "        vertical-align: middle;\n",
       "    }\n",
       "\n",
       "    .dataframe tbody tr th {\n",
       "        vertical-align: top;\n",
       "    }\n",
       "\n",
       "    .dataframe thead th {\n",
       "        text-align: right;\n",
       "    }\n",
       "</style>\n",
       "<table border=\"1\" class=\"dataframe\">\n",
       "  <thead>\n",
       "    <tr style=\"text-align: right;\">\n",
       "      <th></th>\n",
       "      <th>강신옥</th>\n",
       "      <th>강우혁</th>\n",
       "      <th>강재섭</th>\n",
       "      <th>고세진</th>\n",
       "      <th>구자춘</th>\n",
       "      <th>권노갑</th>\n",
       "      <th>권달수</th>\n",
       "      <th>권헌성</th>\n",
       "      <th>김광일</th>\n",
       "      <th>김근수</th>\n",
       "      <th>...</th>\n",
       "      <th>홍기훈</th>\n",
       "      <th>홍세기</th>\n",
       "      <th>홍영기</th>\n",
       "      <th>홍희표</th>\n",
       "      <th>황낙주</th>\n",
       "      <th>황대봉</th>\n",
       "      <th>황명수</th>\n",
       "      <th>황병태</th>\n",
       "      <th>황성균</th>\n",
       "      <th>황철수</th>\n",
       "    </tr>\n",
       "  </thead>\n",
       "  <tbody>\n",
       "    <tr>\n",
       "      <th>0</th>\n",
       "      <td>0.0</td>\n",
       "      <td>0.0</td>\n",
       "      <td>0.0</td>\n",
       "      <td>0.0</td>\n",
       "      <td>0.0</td>\n",
       "      <td>0.0</td>\n",
       "      <td>0.0</td>\n",
       "      <td>0.0</td>\n",
       "      <td>0.0</td>\n",
       "      <td>0.0</td>\n",
       "      <td>...</td>\n",
       "      <td>0.0</td>\n",
       "      <td>0.0</td>\n",
       "      <td>0.0</td>\n",
       "      <td>0.0</td>\n",
       "      <td>0.0</td>\n",
       "      <td>0.0</td>\n",
       "      <td>0.0</td>\n",
       "      <td>0.0</td>\n",
       "      <td>0.0</td>\n",
       "      <td>0.0</td>\n",
       "    </tr>\n",
       "    <tr>\n",
       "      <th>1</th>\n",
       "      <td>0.0</td>\n",
       "      <td>0.0</td>\n",
       "      <td>0.0</td>\n",
       "      <td>0.0</td>\n",
       "      <td>0.0</td>\n",
       "      <td>0.0</td>\n",
       "      <td>0.0</td>\n",
       "      <td>0.0</td>\n",
       "      <td>0.0</td>\n",
       "      <td>0.0</td>\n",
       "      <td>...</td>\n",
       "      <td>0.0</td>\n",
       "      <td>0.0</td>\n",
       "      <td>0.0</td>\n",
       "      <td>0.0</td>\n",
       "      <td>0.0</td>\n",
       "      <td>0.0</td>\n",
       "      <td>0.0</td>\n",
       "      <td>0.0</td>\n",
       "      <td>0.0</td>\n",
       "      <td>0.0</td>\n",
       "    </tr>\n",
       "    <tr>\n",
       "      <th>2</th>\n",
       "      <td>0.0</td>\n",
       "      <td>0.0</td>\n",
       "      <td>0.0</td>\n",
       "      <td>0.0</td>\n",
       "      <td>0.0</td>\n",
       "      <td>0.0</td>\n",
       "      <td>0.0</td>\n",
       "      <td>0.0</td>\n",
       "      <td>0.0</td>\n",
       "      <td>0.0</td>\n",
       "      <td>...</td>\n",
       "      <td>0.0</td>\n",
       "      <td>0.0</td>\n",
       "      <td>0.0</td>\n",
       "      <td>0.0</td>\n",
       "      <td>0.0</td>\n",
       "      <td>0.0</td>\n",
       "      <td>1.0</td>\n",
       "      <td>0.0</td>\n",
       "      <td>1.0</td>\n",
       "      <td>1.0</td>\n",
       "    </tr>\n",
       "  </tbody>\n",
       "</table>\n",
       "<p>3 rows × 242 columns</p>\n",
       "</div>"
      ],
      "text/plain": [
       "   강신옥  강우혁  강재섭  고세진  구자춘  권노갑  권달수  권헌성  김광일  김근수  ...  홍기훈  홍세기  홍영기  홍희표  \\\n",
       "0  0.0  0.0  0.0  0.0  0.0  0.0  0.0  0.0  0.0  0.0  ...  0.0  0.0  0.0  0.0   \n",
       "1  0.0  0.0  0.0  0.0  0.0  0.0  0.0  0.0  0.0  0.0  ...  0.0  0.0  0.0  0.0   \n",
       "2  0.0  0.0  0.0  0.0  0.0  0.0  0.0  0.0  0.0  0.0  ...  0.0  0.0  0.0  0.0   \n",
       "\n",
       "   황낙주  황대봉  황명수  황병태  황성균  황철수  \n",
       "0  0.0  0.0  0.0  0.0  0.0  0.0  \n",
       "1  0.0  0.0  0.0  0.0  0.0  0.0  \n",
       "2  0.0  0.0  1.0  0.0  1.0  1.0  \n",
       "\n",
       "[3 rows x 242 columns]"
      ]
     },
     "execution_count": 8,
     "metadata": {},
     "output_type": "execute_result"
    }
   ],
   "source": [
    "proposer_dummies.head(3)"
   ]
  },
  {
   "cell_type": "code",
   "execution_count": 9,
   "metadata": {},
   "outputs": [],
   "source": [
    "gender = pd.concat([gender, proposer_dummies], axis=1)"
   ]
  },
  {
   "cell_type": "code",
   "execution_count": 10,
   "metadata": {},
   "outputs": [],
   "source": [
    "gender = gender.drop(['제안자','의안번호'],1)"
   ]
  },
  {
   "cell_type": "code",
   "execution_count": 11,
   "metadata": {},
   "outputs": [
    {
     "data": {
      "text/html": [
       "<div>\n",
       "<style scoped>\n",
       "    .dataframe tbody tr th:only-of-type {\n",
       "        vertical-align: middle;\n",
       "    }\n",
       "\n",
       "    .dataframe tbody tr th {\n",
       "        vertical-align: top;\n",
       "    }\n",
       "\n",
       "    .dataframe thead th {\n",
       "        text-align: right;\n",
       "    }\n",
       "</style>\n",
       "<table border=\"1\" class=\"dataframe\">\n",
       "  <thead>\n",
       "    <tr style=\"text-align: right;\">\n",
       "      <th></th>\n",
       "      <th>강신옥</th>\n",
       "      <th>강우혁</th>\n",
       "      <th>강재섭</th>\n",
       "      <th>고세진</th>\n",
       "      <th>구자춘</th>\n",
       "      <th>권노갑</th>\n",
       "      <th>권달수</th>\n",
       "      <th>권헌성</th>\n",
       "      <th>김광일</th>\n",
       "      <th>김근수</th>\n",
       "      <th>...</th>\n",
       "      <th>홍기훈</th>\n",
       "      <th>홍세기</th>\n",
       "      <th>홍영기</th>\n",
       "      <th>홍희표</th>\n",
       "      <th>황낙주</th>\n",
       "      <th>황대봉</th>\n",
       "      <th>황명수</th>\n",
       "      <th>황병태</th>\n",
       "      <th>황성균</th>\n",
       "      <th>황철수</th>\n",
       "    </tr>\n",
       "  </thead>\n",
       "  <tbody>\n",
       "    <tr>\n",
       "      <th>0</th>\n",
       "      <td>0.0</td>\n",
       "      <td>0.0</td>\n",
       "      <td>0.0</td>\n",
       "      <td>0.0</td>\n",
       "      <td>0.0</td>\n",
       "      <td>0.0</td>\n",
       "      <td>0.0</td>\n",
       "      <td>0.0</td>\n",
       "      <td>0.0</td>\n",
       "      <td>0.0</td>\n",
       "      <td>...</td>\n",
       "      <td>0.0</td>\n",
       "      <td>0.0</td>\n",
       "      <td>0.0</td>\n",
       "      <td>0.0</td>\n",
       "      <td>0.0</td>\n",
       "      <td>0.0</td>\n",
       "      <td>0.0</td>\n",
       "      <td>0.0</td>\n",
       "      <td>0.0</td>\n",
       "      <td>0.0</td>\n",
       "    </tr>\n",
       "    <tr>\n",
       "      <th>1</th>\n",
       "      <td>0.0</td>\n",
       "      <td>0.0</td>\n",
       "      <td>0.0</td>\n",
       "      <td>0.0</td>\n",
       "      <td>0.0</td>\n",
       "      <td>0.0</td>\n",
       "      <td>0.0</td>\n",
       "      <td>0.0</td>\n",
       "      <td>0.0</td>\n",
       "      <td>0.0</td>\n",
       "      <td>...</td>\n",
       "      <td>0.0</td>\n",
       "      <td>0.0</td>\n",
       "      <td>0.0</td>\n",
       "      <td>0.0</td>\n",
       "      <td>0.0</td>\n",
       "      <td>0.0</td>\n",
       "      <td>0.0</td>\n",
       "      <td>0.0</td>\n",
       "      <td>0.0</td>\n",
       "      <td>0.0</td>\n",
       "    </tr>\n",
       "    <tr>\n",
       "      <th>2</th>\n",
       "      <td>0.0</td>\n",
       "      <td>0.0</td>\n",
       "      <td>0.0</td>\n",
       "      <td>0.0</td>\n",
       "      <td>0.0</td>\n",
       "      <td>0.0</td>\n",
       "      <td>0.0</td>\n",
       "      <td>0.0</td>\n",
       "      <td>0.0</td>\n",
       "      <td>0.0</td>\n",
       "      <td>...</td>\n",
       "      <td>0.0</td>\n",
       "      <td>0.0</td>\n",
       "      <td>0.0</td>\n",
       "      <td>0.0</td>\n",
       "      <td>0.0</td>\n",
       "      <td>0.0</td>\n",
       "      <td>1.0</td>\n",
       "      <td>0.0</td>\n",
       "      <td>1.0</td>\n",
       "      <td>1.0</td>\n",
       "    </tr>\n",
       "    <tr>\n",
       "      <th>3</th>\n",
       "      <td>0.0</td>\n",
       "      <td>1.0</td>\n",
       "      <td>1.0</td>\n",
       "      <td>1.0</td>\n",
       "      <td>1.0</td>\n",
       "      <td>0.0</td>\n",
       "      <td>0.0</td>\n",
       "      <td>0.0</td>\n",
       "      <td>0.0</td>\n",
       "      <td>1.0</td>\n",
       "      <td>...</td>\n",
       "      <td>0.0</td>\n",
       "      <td>1.0</td>\n",
       "      <td>0.0</td>\n",
       "      <td>1.0</td>\n",
       "      <td>1.0</td>\n",
       "      <td>0.0</td>\n",
       "      <td>0.0</td>\n",
       "      <td>0.0</td>\n",
       "      <td>0.0</td>\n",
       "      <td>0.0</td>\n",
       "    </tr>\n",
       "    <tr>\n",
       "      <th>4</th>\n",
       "      <td>0.0</td>\n",
       "      <td>0.0</td>\n",
       "      <td>0.0</td>\n",
       "      <td>0.0</td>\n",
       "      <td>0.0</td>\n",
       "      <td>0.0</td>\n",
       "      <td>0.0</td>\n",
       "      <td>0.0</td>\n",
       "      <td>0.0</td>\n",
       "      <td>0.0</td>\n",
       "      <td>...</td>\n",
       "      <td>0.0</td>\n",
       "      <td>0.0</td>\n",
       "      <td>0.0</td>\n",
       "      <td>0.0</td>\n",
       "      <td>0.0</td>\n",
       "      <td>0.0</td>\n",
       "      <td>0.0</td>\n",
       "      <td>0.0</td>\n",
       "      <td>0.0</td>\n",
       "      <td>0.0</td>\n",
       "    </tr>\n",
       "  </tbody>\n",
       "</table>\n",
       "<p>5 rows × 242 columns</p>\n",
       "</div>"
      ],
      "text/plain": [
       "   강신옥  강우혁  강재섭  고세진  구자춘  권노갑  권달수  권헌성  김광일  김근수  ...  홍기훈  홍세기  홍영기  홍희표  \\\n",
       "0  0.0  0.0  0.0  0.0  0.0  0.0  0.0  0.0  0.0  0.0  ...  0.0  0.0  0.0  0.0   \n",
       "1  0.0  0.0  0.0  0.0  0.0  0.0  0.0  0.0  0.0  0.0  ...  0.0  0.0  0.0  0.0   \n",
       "2  0.0  0.0  0.0  0.0  0.0  0.0  0.0  0.0  0.0  0.0  ...  0.0  0.0  0.0  0.0   \n",
       "3  0.0  1.0  1.0  1.0  1.0  0.0  0.0  0.0  0.0  1.0  ...  0.0  1.0  0.0  1.0   \n",
       "4  0.0  0.0  0.0  0.0  0.0  0.0  0.0  0.0  0.0  0.0  ...  0.0  0.0  0.0  0.0   \n",
       "\n",
       "   황낙주  황대봉  황명수  황병태  황성균  황철수  \n",
       "0  0.0  0.0  0.0  0.0  0.0  0.0  \n",
       "1  0.0  0.0  0.0  0.0  0.0  0.0  \n",
       "2  0.0  0.0  1.0  0.0  1.0  1.0  \n",
       "3  1.0  0.0  0.0  0.0  0.0  0.0  \n",
       "4  0.0  0.0  0.0  0.0  0.0  0.0  \n",
       "\n",
       "[5 rows x 242 columns]"
      ]
     },
     "execution_count": 11,
     "metadata": {},
     "output_type": "execute_result"
    }
   ],
   "source": [
    "gender.head()"
   ]
  },
  {
   "cell_type": "code",
   "execution_count": 12,
   "metadata": {},
   "outputs": [],
   "source": [
    "gender.to_csv('13th-proposer-list.csv')"
   ]
  },
  {
   "cell_type": "code",
   "execution_count": null,
   "metadata": {},
   "outputs": [],
   "source": []
  },
  {
   "cell_type": "markdown",
   "metadata": {},
   "source": [
    "## 성별 평균 비교\n",
    "\n",
    "### 여성"
   ]
  },
  {
   "cell_type": "code",
   "execution_count": 13,
   "metadata": {},
   "outputs": [],
   "source": [
    "women_list = ['이윤자','김장숙','양경자','신영순','도영심','박영숙']"
   ]
  },
  {
   "cell_type": "code",
   "execution_count": 14,
   "metadata": {},
   "outputs": [
    {
     "data": {
      "text/html": [
       "<div>\n",
       "<style scoped>\n",
       "    .dataframe tbody tr th:only-of-type {\n",
       "        vertical-align: middle;\n",
       "    }\n",
       "\n",
       "    .dataframe tbody tr th {\n",
       "        vertical-align: top;\n",
       "    }\n",
       "\n",
       "    .dataframe thead th {\n",
       "        text-align: right;\n",
       "    }\n",
       "</style>\n",
       "<table border=\"1\" class=\"dataframe\">\n",
       "  <thead>\n",
       "    <tr style=\"text-align: right;\">\n",
       "      <th></th>\n",
       "      <th>이윤자</th>\n",
       "      <th>김장숙</th>\n",
       "      <th>양경자</th>\n",
       "      <th>신영순</th>\n",
       "      <th>도영심</th>\n",
       "      <th>박영숙</th>\n",
       "    </tr>\n",
       "  </thead>\n",
       "  <tbody>\n",
       "    <tr>\n",
       "      <th>0</th>\n",
       "      <td>0.0</td>\n",
       "      <td>0.0</td>\n",
       "      <td>0.0</td>\n",
       "      <td>0.0</td>\n",
       "      <td>0.0</td>\n",
       "      <td>0.0</td>\n",
       "    </tr>\n",
       "    <tr>\n",
       "      <th>1</th>\n",
       "      <td>0.0</td>\n",
       "      <td>0.0</td>\n",
       "      <td>0.0</td>\n",
       "      <td>0.0</td>\n",
       "      <td>0.0</td>\n",
       "      <td>0.0</td>\n",
       "    </tr>\n",
       "    <tr>\n",
       "      <th>2</th>\n",
       "      <td>1.0</td>\n",
       "      <td>1.0</td>\n",
       "      <td>0.0</td>\n",
       "      <td>1.0</td>\n",
       "      <td>0.0</td>\n",
       "      <td>0.0</td>\n",
       "    </tr>\n",
       "    <tr>\n",
       "      <th>3</th>\n",
       "      <td>0.0</td>\n",
       "      <td>0.0</td>\n",
       "      <td>0.0</td>\n",
       "      <td>0.0</td>\n",
       "      <td>0.0</td>\n",
       "      <td>0.0</td>\n",
       "    </tr>\n",
       "    <tr>\n",
       "      <th>4</th>\n",
       "      <td>0.0</td>\n",
       "      <td>0.0</td>\n",
       "      <td>0.0</td>\n",
       "      <td>0.0</td>\n",
       "      <td>0.0</td>\n",
       "      <td>0.0</td>\n",
       "    </tr>\n",
       "  </tbody>\n",
       "</table>\n",
       "</div>"
      ],
      "text/plain": [
       "   이윤자  김장숙  양경자  신영순  도영심  박영숙\n",
       "0  0.0  0.0  0.0  0.0  0.0  0.0\n",
       "1  0.0  0.0  0.0  0.0  0.0  0.0\n",
       "2  1.0  1.0  0.0  1.0  0.0  0.0\n",
       "3  0.0  0.0  0.0  0.0  0.0  0.0\n",
       "4  0.0  0.0  0.0  0.0  0.0  0.0"
      ]
     },
     "execution_count": 14,
     "metadata": {},
     "output_type": "execute_result"
    }
   ],
   "source": [
    "women = gender[women_list]\n",
    "women.head()"
   ]
  },
  {
   "cell_type": "code",
   "execution_count": 15,
   "metadata": {},
   "outputs": [
    {
     "data": {
      "text/plain": [
       "이윤자    3.0\n",
       "김장숙    3.0\n",
       "양경자    2.0\n",
       "신영순    3.0\n",
       "도영심    1.0\n",
       "박영숙    5.0\n",
       "dtype: float64"
      ]
     },
     "execution_count": 15,
     "metadata": {},
     "output_type": "execute_result"
    }
   ],
   "source": [
    "women.sum(axis=0)"
   ]
  },
  {
   "cell_type": "code",
   "execution_count": 16,
   "metadata": {},
   "outputs": [
    {
     "data": {
      "text/plain": [
       "2.8333333333333335"
      ]
     },
     "execution_count": 16,
     "metadata": {},
     "output_type": "execute_result"
    }
   ],
   "source": [
    "women.sum(axis=0).mean()"
   ]
  },
  {
   "cell_type": "markdown",
   "metadata": {},
   "source": [
    "### 남성"
   ]
  },
  {
   "cell_type": "code",
   "execution_count": 17,
   "metadata": {},
   "outputs": [
    {
     "data": {
      "text/html": [
       "<div>\n",
       "<style scoped>\n",
       "    .dataframe tbody tr th:only-of-type {\n",
       "        vertical-align: middle;\n",
       "    }\n",
       "\n",
       "    .dataframe tbody tr th {\n",
       "        vertical-align: top;\n",
       "    }\n",
       "\n",
       "    .dataframe thead th {\n",
       "        text-align: right;\n",
       "    }\n",
       "</style>\n",
       "<table border=\"1\" class=\"dataframe\">\n",
       "  <thead>\n",
       "    <tr style=\"text-align: right;\">\n",
       "      <th></th>\n",
       "      <th>강신옥</th>\n",
       "      <th>강우혁</th>\n",
       "      <th>강재섭</th>\n",
       "      <th>고세진</th>\n",
       "      <th>구자춘</th>\n",
       "      <th>권노갑</th>\n",
       "      <th>권달수</th>\n",
       "      <th>권헌성</th>\n",
       "      <th>김광일</th>\n",
       "      <th>김근수</th>\n",
       "      <th>...</th>\n",
       "      <th>홍기훈</th>\n",
       "      <th>홍세기</th>\n",
       "      <th>홍영기</th>\n",
       "      <th>홍희표</th>\n",
       "      <th>황낙주</th>\n",
       "      <th>황대봉</th>\n",
       "      <th>황명수</th>\n",
       "      <th>황병태</th>\n",
       "      <th>황성균</th>\n",
       "      <th>황철수</th>\n",
       "    </tr>\n",
       "  </thead>\n",
       "  <tbody>\n",
       "    <tr>\n",
       "      <th>0</th>\n",
       "      <td>0.0</td>\n",
       "      <td>0.0</td>\n",
       "      <td>0.0</td>\n",
       "      <td>0.0</td>\n",
       "      <td>0.0</td>\n",
       "      <td>0.0</td>\n",
       "      <td>0.0</td>\n",
       "      <td>0.0</td>\n",
       "      <td>0.0</td>\n",
       "      <td>0.0</td>\n",
       "      <td>...</td>\n",
       "      <td>0.0</td>\n",
       "      <td>0.0</td>\n",
       "      <td>0.0</td>\n",
       "      <td>0.0</td>\n",
       "      <td>0.0</td>\n",
       "      <td>0.0</td>\n",
       "      <td>0.0</td>\n",
       "      <td>0.0</td>\n",
       "      <td>0.0</td>\n",
       "      <td>0.0</td>\n",
       "    </tr>\n",
       "    <tr>\n",
       "      <th>1</th>\n",
       "      <td>0.0</td>\n",
       "      <td>0.0</td>\n",
       "      <td>0.0</td>\n",
       "      <td>0.0</td>\n",
       "      <td>0.0</td>\n",
       "      <td>0.0</td>\n",
       "      <td>0.0</td>\n",
       "      <td>0.0</td>\n",
       "      <td>0.0</td>\n",
       "      <td>0.0</td>\n",
       "      <td>...</td>\n",
       "      <td>0.0</td>\n",
       "      <td>0.0</td>\n",
       "      <td>0.0</td>\n",
       "      <td>0.0</td>\n",
       "      <td>0.0</td>\n",
       "      <td>0.0</td>\n",
       "      <td>0.0</td>\n",
       "      <td>0.0</td>\n",
       "      <td>0.0</td>\n",
       "      <td>0.0</td>\n",
       "    </tr>\n",
       "    <tr>\n",
       "      <th>2</th>\n",
       "      <td>0.0</td>\n",
       "      <td>0.0</td>\n",
       "      <td>0.0</td>\n",
       "      <td>0.0</td>\n",
       "      <td>0.0</td>\n",
       "      <td>0.0</td>\n",
       "      <td>0.0</td>\n",
       "      <td>0.0</td>\n",
       "      <td>0.0</td>\n",
       "      <td>0.0</td>\n",
       "      <td>...</td>\n",
       "      <td>0.0</td>\n",
       "      <td>0.0</td>\n",
       "      <td>0.0</td>\n",
       "      <td>0.0</td>\n",
       "      <td>0.0</td>\n",
       "      <td>0.0</td>\n",
       "      <td>1.0</td>\n",
       "      <td>0.0</td>\n",
       "      <td>1.0</td>\n",
       "      <td>1.0</td>\n",
       "    </tr>\n",
       "    <tr>\n",
       "      <th>3</th>\n",
       "      <td>0.0</td>\n",
       "      <td>1.0</td>\n",
       "      <td>1.0</td>\n",
       "      <td>1.0</td>\n",
       "      <td>1.0</td>\n",
       "      <td>0.0</td>\n",
       "      <td>0.0</td>\n",
       "      <td>0.0</td>\n",
       "      <td>0.0</td>\n",
       "      <td>1.0</td>\n",
       "      <td>...</td>\n",
       "      <td>0.0</td>\n",
       "      <td>1.0</td>\n",
       "      <td>0.0</td>\n",
       "      <td>1.0</td>\n",
       "      <td>1.0</td>\n",
       "      <td>0.0</td>\n",
       "      <td>0.0</td>\n",
       "      <td>0.0</td>\n",
       "      <td>0.0</td>\n",
       "      <td>0.0</td>\n",
       "    </tr>\n",
       "    <tr>\n",
       "      <th>4</th>\n",
       "      <td>0.0</td>\n",
       "      <td>0.0</td>\n",
       "      <td>0.0</td>\n",
       "      <td>0.0</td>\n",
       "      <td>0.0</td>\n",
       "      <td>0.0</td>\n",
       "      <td>0.0</td>\n",
       "      <td>0.0</td>\n",
       "      <td>0.0</td>\n",
       "      <td>0.0</td>\n",
       "      <td>...</td>\n",
       "      <td>0.0</td>\n",
       "      <td>0.0</td>\n",
       "      <td>0.0</td>\n",
       "      <td>0.0</td>\n",
       "      <td>0.0</td>\n",
       "      <td>0.0</td>\n",
       "      <td>0.0</td>\n",
       "      <td>0.0</td>\n",
       "      <td>0.0</td>\n",
       "      <td>0.0</td>\n",
       "    </tr>\n",
       "  </tbody>\n",
       "</table>\n",
       "<p>5 rows × 236 columns</p>\n",
       "</div>"
      ],
      "text/plain": [
       "   강신옥  강우혁  강재섭  고세진  구자춘  권노갑  권달수  권헌성  김광일  김근수  ...  홍기훈  홍세기  홍영기  홍희표  \\\n",
       "0  0.0  0.0  0.0  0.0  0.0  0.0  0.0  0.0  0.0  0.0  ...  0.0  0.0  0.0  0.0   \n",
       "1  0.0  0.0  0.0  0.0  0.0  0.0  0.0  0.0  0.0  0.0  ...  0.0  0.0  0.0  0.0   \n",
       "2  0.0  0.0  0.0  0.0  0.0  0.0  0.0  0.0  0.0  0.0  ...  0.0  0.0  0.0  0.0   \n",
       "3  0.0  1.0  1.0  1.0  1.0  0.0  0.0  0.0  0.0  1.0  ...  0.0  1.0  0.0  1.0   \n",
       "4  0.0  0.0  0.0  0.0  0.0  0.0  0.0  0.0  0.0  0.0  ...  0.0  0.0  0.0  0.0   \n",
       "\n",
       "   황낙주  황대봉  황명수  황병태  황성균  황철수  \n",
       "0  0.0  0.0  0.0  0.0  0.0  0.0  \n",
       "1  0.0  0.0  0.0  0.0  0.0  0.0  \n",
       "2  0.0  0.0  1.0  0.0  1.0  1.0  \n",
       "3  1.0  0.0  0.0  0.0  0.0  0.0  \n",
       "4  0.0  0.0  0.0  0.0  0.0  0.0  \n",
       "\n",
       "[5 rows x 236 columns]"
      ]
     },
     "execution_count": 17,
     "metadata": {},
     "output_type": "execute_result"
    }
   ],
   "source": [
    "men = gender.drop(women_list, 1)\n",
    "men.head()"
   ]
  },
  {
   "cell_type": "code",
   "execution_count": 18,
   "metadata": {},
   "outputs": [
    {
     "data": {
      "text/plain": [
       "(17, 236)"
      ]
     },
     "execution_count": 18,
     "metadata": {},
     "output_type": "execute_result"
    }
   ],
   "source": [
    "men.shape"
   ]
  },
  {
   "cell_type": "code",
   "execution_count": 19,
   "metadata": {},
   "outputs": [
    {
     "name": "stdout",
     "output_type": "stream",
     "text": [
      "총 남자의원 수: 293\n",
      "리스트에 없는 남자의원수: 57\n",
      "[0, 0, 0, 0, 0, 0, 0, 0, 0, 0, 0, 0, 0, 0, 0, 0, 0, 0, 0, 0, 0, 0, 0, 0, 0, 0, 0, 0, 0, 0, 0, 0, 0, 0, 0, 0, 0, 0, 0, 0, 0, 0, 0, 0, 0, 0, 0, 0, 0, 0, 0, 0, 0, 0, 0, 0, 0]\n",
      "57\n"
     ]
    }
   ],
   "source": [
    "total_num = 299 \n",
    "total_men_num = total_num - len(women_list)\n",
    "print('총 남자의원 수:', total_men_num)\n",
    "no_list_men = total_men_num - men.shape[1]\n",
    "print('리스트에 없는 남자의원수:', no_list_men)\n",
    "\n",
    "add_list = [0 for n in range(no_list_men)]\n",
    "print(add_list)\n",
    "print(len(add_list))"
   ]
  },
  {
   "cell_type": "code",
   "execution_count": 20,
   "metadata": {},
   "outputs": [
    {
     "data": {
      "text/plain": [
       "293"
      ]
     },
     "execution_count": 20,
     "metadata": {},
     "output_type": "execute_result"
    }
   ],
   "source": [
    "men_count = men.sum(axis=0).tolist() + add_list\n",
    "len(men_count)"
   ]
  },
  {
   "cell_type": "code",
   "execution_count": 21,
   "metadata": {},
   "outputs": [
    {
     "data": {
      "text/plain": [
       "2.3344709897610922"
      ]
     },
     "execution_count": 21,
     "metadata": {},
     "output_type": "execute_result"
    }
   ],
   "source": [
    "men_count = np.array(men_count)\n",
    "np.mean(men_count)"
   ]
  },
  {
   "cell_type": "code",
   "execution_count": null,
   "metadata": {},
   "outputs": [],
   "source": []
  },
  {
   "cell_type": "markdown",
   "metadata": {},
   "source": [
    "## 정당 코딩"
   ]
  },
  {
   "cell_type": "code",
   "execution_count": 22,
   "metadata": {},
   "outputs": [
    {
     "data": {
      "text/html": [
       "<div>\n",
       "<style scoped>\n",
       "    .dataframe tbody tr th:only-of-type {\n",
       "        vertical-align: middle;\n",
       "    }\n",
       "\n",
       "    .dataframe tbody tr th {\n",
       "        vertical-align: top;\n",
       "    }\n",
       "\n",
       "    .dataframe thead th {\n",
       "        text-align: right;\n",
       "    }\n",
       "</style>\n",
       "<table border=\"1\" class=\"dataframe\">\n",
       "  <thead>\n",
       "    <tr style=\"text-align: right;\">\n",
       "      <th></th>\n",
       "      <th>의안번호</th>\n",
       "      <th>의안명</th>\n",
       "      <th>제안일자</th>\n",
       "      <th>제안자구분</th>\n",
       "      <th>의결일자</th>\n",
       "      <th>의결결과</th>\n",
       "      <th>제안회기</th>\n",
       "      <th>제안이유</th>\n",
       "      <th>소관위원회</th>\n",
       "      <th>제안자</th>\n",
       "      <th>발의자</th>\n",
       "      <th>제안정당</th>\n",
       "      <th>성별</th>\n",
       "      <th>여성의원 수</th>\n",
       "    </tr>\n",
       "  </thead>\n",
       "  <tbody>\n",
       "    <tr>\n",
       "      <th>0</th>\n",
       "      <td>131131</td>\n",
       "      <td>소득세법중개정법률안</td>\n",
       "      <td>1990-12-17</td>\n",
       "      <td>위원장</td>\n",
       "      <td>1990-12-18</td>\n",
       "      <td>원안가결</td>\n",
       "      <td>제13대 (1988~1992) 제151회</td>\n",
       "      <td>정부제출,柳인학·강金식·금봉욱·林춘원·李경재·허만기·홍영기의원외64인 발의,1...</td>\n",
       "      <td>재무위원회</td>\n",
       "      <td>[]</td>\n",
       "      <td>위원장</td>\n",
       "      <td>위원장</td>\n",
       "      <td>NaN</td>\n",
       "      <td>0</td>\n",
       "    </tr>\n",
       "    <tr>\n",
       "      <th>1</th>\n",
       "      <td>131126</td>\n",
       "      <td>특정범죄가중처벌등에관한법률중개정법률안</td>\n",
       "      <td>1990-12-17</td>\n",
       "      <td>위원장</td>\n",
       "      <td>1990-12-18</td>\n",
       "      <td>원안가결</td>\n",
       "      <td>제13대 (1988~1992) 제151회</td>\n",
       "      <td>1989.11.21과 1990.10.8 정부에서 제출한 각특정범죄가중처벌등에관...</td>\n",
       "      <td>법제사법위원회</td>\n",
       "      <td>[]</td>\n",
       "      <td>위원장</td>\n",
       "      <td>위원장</td>\n",
       "      <td>NaN</td>\n",
       "      <td>0</td>\n",
       "    </tr>\n",
       "    <tr>\n",
       "      <th>2</th>\n",
       "      <td>131059</td>\n",
       "      <td>영·유아의보호·교육에관한법률안</td>\n",
       "      <td>1990-11-20</td>\n",
       "      <td>의원</td>\n",
       "      <td>1990-12-18</td>\n",
       "      <td>수정가결</td>\n",
       "      <td>제13대 (1988~1992) 제151회</td>\n",
       "      <td>현대사회의 산업화에 따른 여성의 사회참여 증가 및 가족구조의 핵가족화에 의한 ...</td>\n",
       "      <td>보건사회위원회</td>\n",
       "      <td>['신영순', '김장숙', '이윤자', '김문기', '김인영', '김일동', '김한...</td>\n",
       "      <td>신영순</td>\n",
       "      <td>민주정의당</td>\n",
       "      <td>여성</td>\n",
       "      <td>3</td>\n",
       "    </tr>\n",
       "    <tr>\n",
       "      <th>3</th>\n",
       "      <td>131055</td>\n",
       "      <td>특정강력범죄의처벌에관한특례법안</td>\n",
       "      <td>1990-11-20</td>\n",
       "      <td>의원</td>\n",
       "      <td>1990-12-18</td>\n",
       "      <td>수정가결</td>\n",
       "      <td>제13대 (1988~1992) 제151회</td>\n",
       "      <td>반인륜적이고 반사회적인 흉악범죄로서 가정과 사회질서를 침해하는 특정강력범죄에 ...</td>\n",
       "      <td>법제사법위원회</td>\n",
       "      <td>['윤재기', '강우혁', '강재섭', '고세진', '구자춘', '김근수', '김일...</td>\n",
       "      <td>윤재기</td>\n",
       "      <td>신민주공화당</td>\n",
       "      <td>남성</td>\n",
       "      <td>0</td>\n",
       "    </tr>\n",
       "    <tr>\n",
       "      <th>4</th>\n",
       "      <td>131006</td>\n",
       "      <td>특정범죄가중처벌등에관한법률중개정법률안</td>\n",
       "      <td>1990-10-08</td>\n",
       "      <td>정부</td>\n",
       "      <td>1990-12-18</td>\n",
       "      <td>대안반영폐기</td>\n",
       "      <td>제13대 (1988~1992) 제151회</td>\n",
       "      <td>민생치안확립에 기여하게 하기 위하여 흉기 등을 휴대한 강간 등 행위에 대하여 ...</td>\n",
       "      <td>법제사법위원회</td>\n",
       "      <td>[]</td>\n",
       "      <td>정부</td>\n",
       "      <td>정부</td>\n",
       "      <td>NaN</td>\n",
       "      <td>0</td>\n",
       "    </tr>\n",
       "  </tbody>\n",
       "</table>\n",
       "</div>"
      ],
      "text/plain": [
       "     의안번호                   의안명        제안일자 제안자구분        의결일자    의결결과  \\\n",
       "0  131131            소득세법중개정법률안  1990-12-17   위원장  1990-12-18    원안가결   \n",
       "1  131126  특정범죄가중처벌등에관한법률중개정법률안  1990-12-17   위원장  1990-12-18    원안가결   \n",
       "2  131059      영·유아의보호·교육에관한법률안  1990-11-20    의원  1990-12-18    수정가결   \n",
       "3  131055      특정강력범죄의처벌에관한특례법안  1990-11-20    의원  1990-12-18    수정가결   \n",
       "4  131006  특정범죄가중처벌등에관한법률중개정법률안  1990-10-08    정부  1990-12-18  대안반영폐기   \n",
       "\n",
       "                     제안회기                                               제안이유  \\\n",
       "0  제13대 (1988~1992) 제151회     정부제출,柳인학·강金식·금봉욱·林춘원·李경재·허만기·홍영기의원외64인 발의,1...   \n",
       "1  제13대 (1988~1992) 제151회     1989.11.21과 1990.10.8 정부에서 제출한 각특정범죄가중처벌등에관...   \n",
       "2  제13대 (1988~1992) 제151회     현대사회의 산업화에 따른 여성의 사회참여 증가 및 가족구조의 핵가족화에 의한 ...   \n",
       "3  제13대 (1988~1992) 제151회     반인륜적이고 반사회적인 흉악범죄로서 가정과 사회질서를 침해하는 특정강력범죄에 ...   \n",
       "4  제13대 (1988~1992) 제151회     민생치안확립에 기여하게 하기 위하여 흉기 등을 휴대한 강간 등 행위에 대하여 ...   \n",
       "\n",
       "     소관위원회                                                제안자  발의자    제안정당  \\\n",
       "0    재무위원회                                                 []  위원장     위원장   \n",
       "1  법제사법위원회                                                 []  위원장     위원장   \n",
       "2  보건사회위원회  ['신영순', '김장숙', '이윤자', '김문기', '김인영', '김일동', '김한...  신영순   민주정의당   \n",
       "3  법제사법위원회  ['윤재기', '강우혁', '강재섭', '고세진', '구자춘', '김근수', '김일...  윤재기  신민주공화당   \n",
       "4  법제사법위원회                                                 []   정부      정부   \n",
       "\n",
       "    성별  여성의원 수  \n",
       "0  NaN       0  \n",
       "1  NaN       0  \n",
       "2   여성       3  \n",
       "3   남성       0  \n",
       "4  NaN       0  "
      ]
     },
     "execution_count": 22,
     "metadata": {},
     "output_type": "execute_result"
    }
   ],
   "source": [
    "party = pd.read_csv('13th-gender-bill-v2.csv', index_col=0, encoding='utf-8')\n",
    "party.head()"
   ]
  },
  {
   "cell_type": "code",
   "execution_count": 23,
   "metadata": {},
   "outputs": [
    {
     "data": {
      "text/plain": [
       "array(['위원장', '민주정의당', '신민주공화당', '정부', '평화민주당', '통일민주당'], dtype=object)"
      ]
     },
     "execution_count": 23,
     "metadata": {},
     "output_type": "execute_result"
    }
   ],
   "source": [
    "party['제안정당'].unique()"
   ]
  },
  {
   "cell_type": "code",
   "execution_count": 24,
   "metadata": {},
   "outputs": [],
   "source": [
    "conservative = ['민주정의당','신민주공화당','통일민주당']\n",
    "progressive = ['평화민주당']\n",
    "\n",
    "party.loc[party['제안정당'].isin(conservative), '정당성향'] = '보수'\n",
    "party.loc[party['제안정당'].isin(progressive), '정당성향'] = '진보'"
   ]
  },
  {
   "cell_type": "code",
   "execution_count": 25,
   "metadata": {},
   "outputs": [
    {
     "data": {
      "text/plain": [
       "array([nan, '보수', '진보'], dtype=object)"
      ]
     },
     "execution_count": 25,
     "metadata": {},
     "output_type": "execute_result"
    }
   ],
   "source": [
    "party['정당성향'].unique()"
   ]
  },
  {
   "cell_type": "code",
   "execution_count": 26,
   "metadata": {},
   "outputs": [],
   "source": [
    "party.to_csv('13th-gender-bill-v3.csv', encoding='utf-8-sig')"
   ]
  },
  {
   "cell_type": "code",
   "execution_count": null,
   "metadata": {},
   "outputs": [],
   "source": []
  }
 ],
 "metadata": {
  "kernelspec": {
   "display_name": "Python 3",
   "language": "python",
   "name": "python3"
  },
  "language_info": {
   "codemirror_mode": {
    "name": "ipython",
    "version": 3
   },
   "file_extension": ".py",
   "mimetype": "text/x-python",
   "name": "python",
   "nbconvert_exporter": "python",
   "pygments_lexer": "ipython3",
   "version": "3.8.5"
  }
 },
 "nbformat": 4,
 "nbformat_minor": 4
}
