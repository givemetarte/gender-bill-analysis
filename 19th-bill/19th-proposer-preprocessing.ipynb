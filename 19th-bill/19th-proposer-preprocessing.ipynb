{
 "cells": [
  {
   "cell_type": "markdown",
   "metadata": {},
   "source": [
    "# 19대 제안자 칼럼 생성\n",
    "\n",
    "- 발의자"
   ]
  },
  {
   "cell_type": "code",
   "execution_count": 1,
   "metadata": {},
   "outputs": [],
   "source": [
    "import pandas as pd \n",
    "import numpy as np \n",
    "from ast import literal_eval\n",
    "from tqdm import tqdm \n",
    "import numpy as np"
   ]
  },
  {
   "cell_type": "code",
   "execution_count": 2,
   "metadata": {},
   "outputs": [
    {
     "name": "stdout",
     "output_type": "stream",
     "text": [
      "(1044, 16)\n"
     ]
    },
    {
     "data": {
      "text/html": [
       "<div>\n",
       "<style scoped>\n",
       "    .dataframe tbody tr th:only-of-type {\n",
       "        vertical-align: middle;\n",
       "    }\n",
       "\n",
       "    .dataframe tbody tr th {\n",
       "        vertical-align: top;\n",
       "    }\n",
       "\n",
       "    .dataframe thead th {\n",
       "        text-align: right;\n",
       "    }\n",
       "</style>\n",
       "<table border=\"1\" class=\"dataframe\">\n",
       "  <thead>\n",
       "    <tr style=\"text-align: right;\">\n",
       "      <th></th>\n",
       "      <th>의안번호</th>\n",
       "      <th>의안명</th>\n",
       "      <th>제안일자</th>\n",
       "      <th>제안자구분</th>\n",
       "      <th>의결일자</th>\n",
       "      <th>의결결과</th>\n",
       "      <th>제안회기</th>\n",
       "      <th>제안이유</th>\n",
       "      <th>소관위원회</th>\n",
       "      <th>제안자</th>\n",
       "      <th>발의자</th>\n",
       "      <th>발의자_한글</th>\n",
       "      <th>제안정당</th>\n",
       "      <th>제안자_한글</th>\n",
       "      <th>성별</th>\n",
       "      <th>여성의원 수</th>\n",
       "    </tr>\n",
       "  </thead>\n",
       "  <tbody>\n",
       "    <tr>\n",
       "      <th>0</th>\n",
       "      <td>1918726</td>\n",
       "      <td>유아교육법 일부개정법률안</td>\n",
       "      <td>2016-05-18</td>\n",
       "      <td>위원장</td>\n",
       "      <td>2016-05-19</td>\n",
       "      <td>원안가결</td>\n",
       "      <td>제19대 (2012~2016) 제342회</td>\n",
       "      <td>1.  최근 보육기관에서 아동학대 사건이 잇달아 발생하고 있는 가운데 아동학대 ...</td>\n",
       "      <td>교육문화체육관광위원회</td>\n",
       "      <td>[]</td>\n",
       "      <td>위원장</td>\n",
       "      <td>NaN</td>\n",
       "      <td>위원장</td>\n",
       "      <td>[]</td>\n",
       "      <td>NaN</td>\n",
       "      <td>0</td>\n",
       "    </tr>\n",
       "    <tr>\n",
       "      <th>1</th>\n",
       "      <td>1918721</td>\n",
       "      <td>초·중등교육법 일부개정법률안</td>\n",
       "      <td>2016-05-18</td>\n",
       "      <td>위원장</td>\n",
       "      <td>2016-05-19</td>\n",
       "      <td>원안가결</td>\n",
       "      <td>제19대 (2012~2016) 제342회</td>\n",
       "      <td>1.  학교운영위원회 위원의 결격사유를 강화하고, 법정형을 정비하려는 것임.2....</td>\n",
       "      <td>교육문화체육관광위원회</td>\n",
       "      <td>[]</td>\n",
       "      <td>위원장</td>\n",
       "      <td>NaN</td>\n",
       "      <td>위원장</td>\n",
       "      <td>[]</td>\n",
       "      <td>NaN</td>\n",
       "      <td>0</td>\n",
       "    </tr>\n",
       "    <tr>\n",
       "      <th>2</th>\n",
       "      <td>1918710</td>\n",
       "      <td>건강가정기본법 일부개정법률안</td>\n",
       "      <td>2016-05-18</td>\n",
       "      <td>위원장</td>\n",
       "      <td>2016-05-19</td>\n",
       "      <td>원안가결</td>\n",
       "      <td>제19대 (2012~2016) 제342회</td>\n",
       "      <td>1.  국가와 지방자치단체의 모성보호 및 부성보호의 책임을 명시하고, 육아휴직 ...</td>\n",
       "      <td>여성가족위원회</td>\n",
       "      <td>[]</td>\n",
       "      <td>위원장</td>\n",
       "      <td>NaN</td>\n",
       "      <td>위원장</td>\n",
       "      <td>[]</td>\n",
       "      <td>NaN</td>\n",
       "      <td>0</td>\n",
       "    </tr>\n",
       "  </tbody>\n",
       "</table>\n",
       "</div>"
      ],
      "text/plain": [
       "      의안번호              의안명        제안일자 제안자구분        의결일자  의결결과  \\\n",
       "0  1918726    유아교육법 일부개정법률안  2016-05-18   위원장  2016-05-19  원안가결   \n",
       "1  1918721  초·중등교육법 일부개정법률안  2016-05-18   위원장  2016-05-19  원안가결   \n",
       "2  1918710  건강가정기본법 일부개정법률안  2016-05-18   위원장  2016-05-19  원안가결   \n",
       "\n",
       "                     제안회기                                               제안이유  \\\n",
       "0  제19대 (2012~2016) 제342회    1.  최근 보육기관에서 아동학대 사건이 잇달아 발생하고 있는 가운데 아동학대 ...   \n",
       "1  제19대 (2012~2016) 제342회    1.  학교운영위원회 위원의 결격사유를 강화하고, 법정형을 정비하려는 것임.2....   \n",
       "2  제19대 (2012~2016) 제342회    1.  국가와 지방자치단체의 모성보호 및 부성보호의 책임을 명시하고, 육아휴직 ...   \n",
       "\n",
       "         소관위원회 제안자  발의자 발의자_한글 제안정당 제안자_한글   성별  여성의원 수  \n",
       "0  교육문화체육관광위원회  []  위원장    NaN  위원장     []  NaN       0  \n",
       "1  교육문화체육관광위원회  []  위원장    NaN  위원장     []  NaN       0  \n",
       "2      여성가족위원회  []  위원장    NaN  위원장     []  NaN       0  "
      ]
     },
     "execution_count": 2,
     "metadata": {},
     "output_type": "execute_result"
    }
   ],
   "source": [
    "gender = pd.read_csv('19th-gender-bill-2.csv', index_col=0, encoding='utf-8')\n",
    "print(gender.shape)\n",
    "gender.head(3)"
   ]
  },
  {
   "cell_type": "code",
   "execution_count": 3,
   "metadata": {},
   "outputs": [],
   "source": [
    "# 정부, 위원장 발의일 때 \n",
    "gender.loc[gender['제안자구분'] == '정부', '발의자_한글'] = '정부'\n",
    "gender.loc[gender['제안자구분'] == '위원장', '발의자_한글'] = '위원장'"
   ]
  },
  {
   "cell_type": "code",
   "execution_count": 4,
   "metadata": {},
   "outputs": [
    {
     "data": {
      "text/html": [
       "<div>\n",
       "<style scoped>\n",
       "    .dataframe tbody tr th:only-of-type {\n",
       "        vertical-align: middle;\n",
       "    }\n",
       "\n",
       "    .dataframe tbody tr th {\n",
       "        vertical-align: top;\n",
       "    }\n",
       "\n",
       "    .dataframe thead th {\n",
       "        text-align: right;\n",
       "    }\n",
       "</style>\n",
       "<table border=\"1\" class=\"dataframe\">\n",
       "  <thead>\n",
       "    <tr style=\"text-align: right;\">\n",
       "      <th></th>\n",
       "      <th>의안번호</th>\n",
       "      <th>제안자_한글</th>\n",
       "    </tr>\n",
       "  </thead>\n",
       "  <tbody>\n",
       "    <tr>\n",
       "      <th>0</th>\n",
       "      <td>1918726</td>\n",
       "      <td>[]</td>\n",
       "    </tr>\n",
       "    <tr>\n",
       "      <th>1</th>\n",
       "      <td>1918721</td>\n",
       "      <td>[]</td>\n",
       "    </tr>\n",
       "    <tr>\n",
       "      <th>2</th>\n",
       "      <td>1918710</td>\n",
       "      <td>[]</td>\n",
       "    </tr>\n",
       "  </tbody>\n",
       "</table>\n",
       "</div>"
      ],
      "text/plain": [
       "      의안번호 제안자_한글\n",
       "0  1918726     []\n",
       "1  1918721     []\n",
       "2  1918710     []"
      ]
     },
     "execution_count": 4,
     "metadata": {},
     "output_type": "execute_result"
    }
   ],
   "source": [
    "gender = gender[['의안번호','제안자_한글']]\n",
    "gender.head(3)"
   ]
  },
  {
   "cell_type": "code",
   "execution_count": 5,
   "metadata": {},
   "outputs": [
    {
     "name": "stdout",
     "output_type": "stream",
     "text": [
      "CPU times: user 32.2 ms, sys: 2.14 ms, total: 34.3 ms\n",
      "Wall time: 33.5 ms\n"
     ]
    }
   ],
   "source": [
    "%time gender['제안자_한글'] = gender['제안자_한글'].apply(literal_eval)"
   ]
  },
  {
   "cell_type": "code",
   "execution_count": null,
   "metadata": {},
   "outputs": [],
   "source": []
  },
  {
   "cell_type": "markdown",
   "metadata": {},
   "source": [
    "## 발의자 코딩"
   ]
  },
  {
   "cell_type": "code",
   "execution_count": 6,
   "metadata": {},
   "outputs": [
    {
     "data": {
      "text/plain": [
       "326"
      ]
     },
     "execution_count": 6,
     "metadata": {},
     "output_type": "execute_result"
    }
   ],
   "source": [
    "proposer_list = []\n",
    "\n",
    "for names in gender['제안자_한글']: \n",
    "    proposer_set = set(proposer_list)\n",
    "    names_set = set(names)\n",
    "    minus = list(names_set.difference(proposer_set))\n",
    "    proposer_list.extend(minus)\n",
    "    \n",
    "len(proposer_list)"
   ]
  },
  {
   "cell_type": "code",
   "execution_count": 7,
   "metadata": {},
   "outputs": [],
   "source": [
    "def get_proposer_dummies(proposer): \n",
    "    for n in tqdm(range(proposer.shape[1])): \n",
    "        df = pd.get_dummies(proposer[n])\n",
    "        if n == 0: \n",
    "            final_df = df \n",
    "        else: \n",
    "            final_df = final_df.add(df, fill_value=0)\n",
    "    return final_df"
   ]
  },
  {
   "cell_type": "code",
   "execution_count": 8,
   "metadata": {},
   "outputs": [
    {
     "name": "stderr",
     "output_type": "stream",
     "text": [
      "<ipython-input-8-c684986f93c6>:1: DeprecationWarning: The default dtype for empty Series will be 'object' instead of 'float64' in a future version. Specify a dtype explicitly to silence this warning.\n",
      "  proposer = gender['제안자_한글'].apply(lambda x: pd.Series(x))\n",
      "100%|██████████| 150/150 [02:44<00:00,  1.10s/it]"
     ]
    },
    {
     "name": "stdout",
     "output_type": "stream",
     "text": [
      "CPU times: user 2min 40s, sys: 1.27 s, total: 2min 41s\n",
      "Wall time: 2min 44s\n",
      "(1044, 326)\n"
     ]
    },
    {
     "name": "stderr",
     "output_type": "stream",
     "text": [
      "\n"
     ]
    }
   ],
   "source": [
    "proposer = gender['제안자_한글'].apply(lambda x: pd.Series(x))\n",
    "\n",
    "%time proposer_dummies = get_proposer_dummies(proposer)\n",
    "print(proposer_dummies.shape)"
   ]
  },
  {
   "cell_type": "code",
   "execution_count": 9,
   "metadata": {},
   "outputs": [
    {
     "data": {
      "text/html": [
       "<div>\n",
       "<style scoped>\n",
       "    .dataframe tbody tr th:only-of-type {\n",
       "        vertical-align: middle;\n",
       "    }\n",
       "\n",
       "    .dataframe tbody tr th {\n",
       "        vertical-align: top;\n",
       "    }\n",
       "\n",
       "    .dataframe thead th {\n",
       "        text-align: right;\n",
       "    }\n",
       "</style>\n",
       "<table border=\"1\" class=\"dataframe\">\n",
       "  <thead>\n",
       "    <tr style=\"text-align: right;\">\n",
       "      <th></th>\n",
       "      <th>강기윤</th>\n",
       "      <th>강기정</th>\n",
       "      <th>강길부</th>\n",
       "      <th>강동원</th>\n",
       "      <th>강석호</th>\n",
       "      <th>강석훈</th>\n",
       "      <th>강은희</th>\n",
       "      <th>강창일</th>\n",
       "      <th>강창희</th>\n",
       "      <th>경대수</th>\n",
       "      <th>...</th>\n",
       "      <th>홍익표</th>\n",
       "      <th>홍일표</th>\n",
       "      <th>홍종학</th>\n",
       "      <th>홍지만</th>\n",
       "      <th>홍철호</th>\n",
       "      <th>황영철</th>\n",
       "      <th>황우여</th>\n",
       "      <th>황인자</th>\n",
       "      <th>황주홍</th>\n",
       "      <th>황진하</th>\n",
       "    </tr>\n",
       "  </thead>\n",
       "  <tbody>\n",
       "    <tr>\n",
       "      <th>0</th>\n",
       "      <td>0.0</td>\n",
       "      <td>0.0</td>\n",
       "      <td>0.0</td>\n",
       "      <td>0.0</td>\n",
       "      <td>0.0</td>\n",
       "      <td>0.0</td>\n",
       "      <td>0.0</td>\n",
       "      <td>0.0</td>\n",
       "      <td>0.0</td>\n",
       "      <td>0.0</td>\n",
       "      <td>...</td>\n",
       "      <td>0.0</td>\n",
       "      <td>0.0</td>\n",
       "      <td>0.0</td>\n",
       "      <td>0.0</td>\n",
       "      <td>0.0</td>\n",
       "      <td>0.0</td>\n",
       "      <td>0.0</td>\n",
       "      <td>0.0</td>\n",
       "      <td>0.0</td>\n",
       "      <td>0.0</td>\n",
       "    </tr>\n",
       "    <tr>\n",
       "      <th>1</th>\n",
       "      <td>0.0</td>\n",
       "      <td>0.0</td>\n",
       "      <td>0.0</td>\n",
       "      <td>0.0</td>\n",
       "      <td>0.0</td>\n",
       "      <td>0.0</td>\n",
       "      <td>0.0</td>\n",
       "      <td>0.0</td>\n",
       "      <td>0.0</td>\n",
       "      <td>0.0</td>\n",
       "      <td>...</td>\n",
       "      <td>0.0</td>\n",
       "      <td>0.0</td>\n",
       "      <td>0.0</td>\n",
       "      <td>0.0</td>\n",
       "      <td>0.0</td>\n",
       "      <td>0.0</td>\n",
       "      <td>0.0</td>\n",
       "      <td>0.0</td>\n",
       "      <td>0.0</td>\n",
       "      <td>0.0</td>\n",
       "    </tr>\n",
       "    <tr>\n",
       "      <th>2</th>\n",
       "      <td>0.0</td>\n",
       "      <td>0.0</td>\n",
       "      <td>0.0</td>\n",
       "      <td>0.0</td>\n",
       "      <td>0.0</td>\n",
       "      <td>0.0</td>\n",
       "      <td>0.0</td>\n",
       "      <td>0.0</td>\n",
       "      <td>0.0</td>\n",
       "      <td>0.0</td>\n",
       "      <td>...</td>\n",
       "      <td>0.0</td>\n",
       "      <td>0.0</td>\n",
       "      <td>0.0</td>\n",
       "      <td>0.0</td>\n",
       "      <td>0.0</td>\n",
       "      <td>0.0</td>\n",
       "      <td>0.0</td>\n",
       "      <td>0.0</td>\n",
       "      <td>0.0</td>\n",
       "      <td>0.0</td>\n",
       "    </tr>\n",
       "  </tbody>\n",
       "</table>\n",
       "<p>3 rows × 326 columns</p>\n",
       "</div>"
      ],
      "text/plain": [
       "   강기윤  강기정  강길부  강동원  강석호  강석훈  강은희  강창일  강창희  경대수  ...  홍익표  홍일표  홍종학  홍지만  \\\n",
       "0  0.0  0.0  0.0  0.0  0.0  0.0  0.0  0.0  0.0  0.0  ...  0.0  0.0  0.0  0.0   \n",
       "1  0.0  0.0  0.0  0.0  0.0  0.0  0.0  0.0  0.0  0.0  ...  0.0  0.0  0.0  0.0   \n",
       "2  0.0  0.0  0.0  0.0  0.0  0.0  0.0  0.0  0.0  0.0  ...  0.0  0.0  0.0  0.0   \n",
       "\n",
       "   홍철호  황영철  황우여  황인자  황주홍  황진하  \n",
       "0  0.0  0.0  0.0  0.0  0.0  0.0  \n",
       "1  0.0  0.0  0.0  0.0  0.0  0.0  \n",
       "2  0.0  0.0  0.0  0.0  0.0  0.0  \n",
       "\n",
       "[3 rows x 326 columns]"
      ]
     },
     "execution_count": 9,
     "metadata": {},
     "output_type": "execute_result"
    }
   ],
   "source": [
    "proposer_dummies.head(3)"
   ]
  },
  {
   "cell_type": "code",
   "execution_count": 10,
   "metadata": {},
   "outputs": [],
   "source": [
    "gender = pd.concat([gender, proposer_dummies], axis=1)"
   ]
  },
  {
   "cell_type": "code",
   "execution_count": 11,
   "metadata": {},
   "outputs": [],
   "source": [
    "gender = gender.drop(['제안자_한글','의안번호'],1)"
   ]
  },
  {
   "cell_type": "code",
   "execution_count": 12,
   "metadata": {},
   "outputs": [
    {
     "data": {
      "text/html": [
       "<div>\n",
       "<style scoped>\n",
       "    .dataframe tbody tr th:only-of-type {\n",
       "        vertical-align: middle;\n",
       "    }\n",
       "\n",
       "    .dataframe tbody tr th {\n",
       "        vertical-align: top;\n",
       "    }\n",
       "\n",
       "    .dataframe thead th {\n",
       "        text-align: right;\n",
       "    }\n",
       "</style>\n",
       "<table border=\"1\" class=\"dataframe\">\n",
       "  <thead>\n",
       "    <tr style=\"text-align: right;\">\n",
       "      <th></th>\n",
       "      <th>강기윤</th>\n",
       "      <th>강기정</th>\n",
       "      <th>강길부</th>\n",
       "      <th>강동원</th>\n",
       "      <th>강석호</th>\n",
       "      <th>강석훈</th>\n",
       "      <th>강은희</th>\n",
       "      <th>강창일</th>\n",
       "      <th>강창희</th>\n",
       "      <th>경대수</th>\n",
       "      <th>...</th>\n",
       "      <th>홍익표</th>\n",
       "      <th>홍일표</th>\n",
       "      <th>홍종학</th>\n",
       "      <th>홍지만</th>\n",
       "      <th>홍철호</th>\n",
       "      <th>황영철</th>\n",
       "      <th>황우여</th>\n",
       "      <th>황인자</th>\n",
       "      <th>황주홍</th>\n",
       "      <th>황진하</th>\n",
       "    </tr>\n",
       "  </thead>\n",
       "  <tbody>\n",
       "    <tr>\n",
       "      <th>0</th>\n",
       "      <td>0.0</td>\n",
       "      <td>0.0</td>\n",
       "      <td>0.0</td>\n",
       "      <td>0.0</td>\n",
       "      <td>0.0</td>\n",
       "      <td>0.0</td>\n",
       "      <td>0.0</td>\n",
       "      <td>0.0</td>\n",
       "      <td>0.0</td>\n",
       "      <td>0.0</td>\n",
       "      <td>...</td>\n",
       "      <td>0.0</td>\n",
       "      <td>0.0</td>\n",
       "      <td>0.0</td>\n",
       "      <td>0.0</td>\n",
       "      <td>0.0</td>\n",
       "      <td>0.0</td>\n",
       "      <td>0.0</td>\n",
       "      <td>0.0</td>\n",
       "      <td>0.0</td>\n",
       "      <td>0.0</td>\n",
       "    </tr>\n",
       "    <tr>\n",
       "      <th>1</th>\n",
       "      <td>0.0</td>\n",
       "      <td>0.0</td>\n",
       "      <td>0.0</td>\n",
       "      <td>0.0</td>\n",
       "      <td>0.0</td>\n",
       "      <td>0.0</td>\n",
       "      <td>0.0</td>\n",
       "      <td>0.0</td>\n",
       "      <td>0.0</td>\n",
       "      <td>0.0</td>\n",
       "      <td>...</td>\n",
       "      <td>0.0</td>\n",
       "      <td>0.0</td>\n",
       "      <td>0.0</td>\n",
       "      <td>0.0</td>\n",
       "      <td>0.0</td>\n",
       "      <td>0.0</td>\n",
       "      <td>0.0</td>\n",
       "      <td>0.0</td>\n",
       "      <td>0.0</td>\n",
       "      <td>0.0</td>\n",
       "    </tr>\n",
       "    <tr>\n",
       "      <th>2</th>\n",
       "      <td>0.0</td>\n",
       "      <td>0.0</td>\n",
       "      <td>0.0</td>\n",
       "      <td>0.0</td>\n",
       "      <td>0.0</td>\n",
       "      <td>0.0</td>\n",
       "      <td>0.0</td>\n",
       "      <td>0.0</td>\n",
       "      <td>0.0</td>\n",
       "      <td>0.0</td>\n",
       "      <td>...</td>\n",
       "      <td>0.0</td>\n",
       "      <td>0.0</td>\n",
       "      <td>0.0</td>\n",
       "      <td>0.0</td>\n",
       "      <td>0.0</td>\n",
       "      <td>0.0</td>\n",
       "      <td>0.0</td>\n",
       "      <td>0.0</td>\n",
       "      <td>0.0</td>\n",
       "      <td>0.0</td>\n",
       "    </tr>\n",
       "    <tr>\n",
       "      <th>3</th>\n",
       "      <td>0.0</td>\n",
       "      <td>0.0</td>\n",
       "      <td>0.0</td>\n",
       "      <td>0.0</td>\n",
       "      <td>0.0</td>\n",
       "      <td>0.0</td>\n",
       "      <td>0.0</td>\n",
       "      <td>0.0</td>\n",
       "      <td>0.0</td>\n",
       "      <td>0.0</td>\n",
       "      <td>...</td>\n",
       "      <td>0.0</td>\n",
       "      <td>0.0</td>\n",
       "      <td>0.0</td>\n",
       "      <td>0.0</td>\n",
       "      <td>0.0</td>\n",
       "      <td>0.0</td>\n",
       "      <td>0.0</td>\n",
       "      <td>0.0</td>\n",
       "      <td>0.0</td>\n",
       "      <td>0.0</td>\n",
       "    </tr>\n",
       "    <tr>\n",
       "      <th>4</th>\n",
       "      <td>0.0</td>\n",
       "      <td>0.0</td>\n",
       "      <td>0.0</td>\n",
       "      <td>0.0</td>\n",
       "      <td>0.0</td>\n",
       "      <td>0.0</td>\n",
       "      <td>0.0</td>\n",
       "      <td>0.0</td>\n",
       "      <td>0.0</td>\n",
       "      <td>0.0</td>\n",
       "      <td>...</td>\n",
       "      <td>0.0</td>\n",
       "      <td>0.0</td>\n",
       "      <td>0.0</td>\n",
       "      <td>0.0</td>\n",
       "      <td>0.0</td>\n",
       "      <td>0.0</td>\n",
       "      <td>0.0</td>\n",
       "      <td>0.0</td>\n",
       "      <td>0.0</td>\n",
       "      <td>0.0</td>\n",
       "    </tr>\n",
       "  </tbody>\n",
       "</table>\n",
       "<p>5 rows × 326 columns</p>\n",
       "</div>"
      ],
      "text/plain": [
       "   강기윤  강기정  강길부  강동원  강석호  강석훈  강은희  강창일  강창희  경대수  ...  홍익표  홍일표  홍종학  홍지만  \\\n",
       "0  0.0  0.0  0.0  0.0  0.0  0.0  0.0  0.0  0.0  0.0  ...  0.0  0.0  0.0  0.0   \n",
       "1  0.0  0.0  0.0  0.0  0.0  0.0  0.0  0.0  0.0  0.0  ...  0.0  0.0  0.0  0.0   \n",
       "2  0.0  0.0  0.0  0.0  0.0  0.0  0.0  0.0  0.0  0.0  ...  0.0  0.0  0.0  0.0   \n",
       "3  0.0  0.0  0.0  0.0  0.0  0.0  0.0  0.0  0.0  0.0  ...  0.0  0.0  0.0  0.0   \n",
       "4  0.0  0.0  0.0  0.0  0.0  0.0  0.0  0.0  0.0  0.0  ...  0.0  0.0  0.0  0.0   \n",
       "\n",
       "   홍철호  황영철  황우여  황인자  황주홍  황진하  \n",
       "0  0.0  0.0  0.0  0.0  0.0  0.0  \n",
       "1  0.0  0.0  0.0  0.0  0.0  0.0  \n",
       "2  0.0  0.0  0.0  0.0  0.0  0.0  \n",
       "3  0.0  0.0  0.0  0.0  0.0  0.0  \n",
       "4  0.0  0.0  0.0  0.0  0.0  0.0  \n",
       "\n",
       "[5 rows x 326 columns]"
      ]
     },
     "execution_count": 12,
     "metadata": {},
     "output_type": "execute_result"
    }
   ],
   "source": [
    "gender.head()"
   ]
  },
  {
   "cell_type": "code",
   "execution_count": 13,
   "metadata": {},
   "outputs": [
    {
     "data": {
      "text/plain": [
       "326"
      ]
     },
     "execution_count": 13,
     "metadata": {},
     "output_type": "execute_result"
    }
   ],
   "source": [
    "len(gender.columns)"
   ]
  },
  {
   "cell_type": "code",
   "execution_count": 14,
   "metadata": {},
   "outputs": [],
   "source": [
    "gender.to_csv('19th-proposer-list.csv')"
   ]
  },
  {
   "cell_type": "code",
   "execution_count": null,
   "metadata": {},
   "outputs": [],
   "source": []
  },
  {
   "cell_type": "markdown",
   "metadata": {},
   "source": [
    "## 성별 평균 비교\n",
    "\n",
    "### 여성"
   ]
  },
  {
   "cell_type": "code",
   "execution_count": 1,
   "metadata": {},
   "outputs": [],
   "source": [
    "women_list = ['박근혜','나경원','김을동','김희정','정미경','박인숙','권은희',\n",
    "             '민병주','윤명희','강은희','신의진','이에리사','김현숙','이자스민',\n",
    "             '류지영','민현주','손인춘','신경림','문정림','황인자','박윤옥',\n",
    "             '장정은','정윤숙','이미경','추미애','박영선','유승희','김영주',\n",
    "             '김상희','김현미','서영교','인재근','박혜자','이언주','유은혜',\n",
    "             '전순옥','은수미','진선미','배재정','남인순','한정애','장하나',\n",
    "             '김현','최민희','임수경','권은희','전정희','권은희','전정희',\n",
    "             '심상정','김제남']\n",
    "no_list_women = []"
   ]
  },
  {
   "cell_type": "code",
   "execution_count": 2,
   "metadata": {},
   "outputs": [
    {
     "data": {
      "text/plain": [
       "51"
      ]
     },
     "execution_count": 2,
     "metadata": {},
     "output_type": "execute_result"
    }
   ],
   "source": [
    "len(women_list)"
   ]
  },
  {
   "cell_type": "code",
   "execution_count": 16,
   "metadata": {},
   "outputs": [
    {
     "data": {
      "text/html": [
       "<div>\n",
       "<style scoped>\n",
       "    .dataframe tbody tr th:only-of-type {\n",
       "        vertical-align: middle;\n",
       "    }\n",
       "\n",
       "    .dataframe tbody tr th {\n",
       "        vertical-align: top;\n",
       "    }\n",
       "\n",
       "    .dataframe thead th {\n",
       "        text-align: right;\n",
       "    }\n",
       "</style>\n",
       "<table border=\"1\" class=\"dataframe\">\n",
       "  <thead>\n",
       "    <tr style=\"text-align: right;\">\n",
       "      <th></th>\n",
       "      <th>박근혜</th>\n",
       "      <th>나경원</th>\n",
       "      <th>김을동</th>\n",
       "      <th>김희정</th>\n",
       "      <th>정미경</th>\n",
       "      <th>박인숙</th>\n",
       "      <th>권은희</th>\n",
       "      <th>민병주</th>\n",
       "      <th>윤명희</th>\n",
       "      <th>강은희</th>\n",
       "      <th>...</th>\n",
       "      <th>장하나</th>\n",
       "      <th>김현</th>\n",
       "      <th>최민희</th>\n",
       "      <th>임수경</th>\n",
       "      <th>권은희</th>\n",
       "      <th>전정희</th>\n",
       "      <th>권은희</th>\n",
       "      <th>전정희</th>\n",
       "      <th>심상정</th>\n",
       "      <th>김제남</th>\n",
       "    </tr>\n",
       "  </thead>\n",
       "  <tbody>\n",
       "    <tr>\n",
       "      <th>0</th>\n",
       "      <td>0.0</td>\n",
       "      <td>0.0</td>\n",
       "      <td>0.0</td>\n",
       "      <td>0.0</td>\n",
       "      <td>0.0</td>\n",
       "      <td>0.0</td>\n",
       "      <td>0.0</td>\n",
       "      <td>0.0</td>\n",
       "      <td>0.0</td>\n",
       "      <td>0.0</td>\n",
       "      <td>...</td>\n",
       "      <td>0.0</td>\n",
       "      <td>0.0</td>\n",
       "      <td>0.0</td>\n",
       "      <td>0.0</td>\n",
       "      <td>0.0</td>\n",
       "      <td>0.0</td>\n",
       "      <td>0.0</td>\n",
       "      <td>0.0</td>\n",
       "      <td>0.0</td>\n",
       "      <td>0.0</td>\n",
       "    </tr>\n",
       "    <tr>\n",
       "      <th>1</th>\n",
       "      <td>0.0</td>\n",
       "      <td>0.0</td>\n",
       "      <td>0.0</td>\n",
       "      <td>0.0</td>\n",
       "      <td>0.0</td>\n",
       "      <td>0.0</td>\n",
       "      <td>0.0</td>\n",
       "      <td>0.0</td>\n",
       "      <td>0.0</td>\n",
       "      <td>0.0</td>\n",
       "      <td>...</td>\n",
       "      <td>0.0</td>\n",
       "      <td>0.0</td>\n",
       "      <td>0.0</td>\n",
       "      <td>0.0</td>\n",
       "      <td>0.0</td>\n",
       "      <td>0.0</td>\n",
       "      <td>0.0</td>\n",
       "      <td>0.0</td>\n",
       "      <td>0.0</td>\n",
       "      <td>0.0</td>\n",
       "    </tr>\n",
       "    <tr>\n",
       "      <th>2</th>\n",
       "      <td>0.0</td>\n",
       "      <td>0.0</td>\n",
       "      <td>0.0</td>\n",
       "      <td>0.0</td>\n",
       "      <td>0.0</td>\n",
       "      <td>0.0</td>\n",
       "      <td>0.0</td>\n",
       "      <td>0.0</td>\n",
       "      <td>0.0</td>\n",
       "      <td>0.0</td>\n",
       "      <td>...</td>\n",
       "      <td>0.0</td>\n",
       "      <td>0.0</td>\n",
       "      <td>0.0</td>\n",
       "      <td>0.0</td>\n",
       "      <td>0.0</td>\n",
       "      <td>0.0</td>\n",
       "      <td>0.0</td>\n",
       "      <td>0.0</td>\n",
       "      <td>0.0</td>\n",
       "      <td>0.0</td>\n",
       "    </tr>\n",
       "    <tr>\n",
       "      <th>3</th>\n",
       "      <td>0.0</td>\n",
       "      <td>0.0</td>\n",
       "      <td>0.0</td>\n",
       "      <td>0.0</td>\n",
       "      <td>0.0</td>\n",
       "      <td>0.0</td>\n",
       "      <td>0.0</td>\n",
       "      <td>0.0</td>\n",
       "      <td>0.0</td>\n",
       "      <td>0.0</td>\n",
       "      <td>...</td>\n",
       "      <td>0.0</td>\n",
       "      <td>0.0</td>\n",
       "      <td>0.0</td>\n",
       "      <td>0.0</td>\n",
       "      <td>0.0</td>\n",
       "      <td>0.0</td>\n",
       "      <td>0.0</td>\n",
       "      <td>0.0</td>\n",
       "      <td>0.0</td>\n",
       "      <td>0.0</td>\n",
       "    </tr>\n",
       "    <tr>\n",
       "      <th>4</th>\n",
       "      <td>0.0</td>\n",
       "      <td>0.0</td>\n",
       "      <td>0.0</td>\n",
       "      <td>0.0</td>\n",
       "      <td>0.0</td>\n",
       "      <td>0.0</td>\n",
       "      <td>0.0</td>\n",
       "      <td>0.0</td>\n",
       "      <td>0.0</td>\n",
       "      <td>0.0</td>\n",
       "      <td>...</td>\n",
       "      <td>0.0</td>\n",
       "      <td>0.0</td>\n",
       "      <td>0.0</td>\n",
       "      <td>0.0</td>\n",
       "      <td>0.0</td>\n",
       "      <td>0.0</td>\n",
       "      <td>0.0</td>\n",
       "      <td>0.0</td>\n",
       "      <td>0.0</td>\n",
       "      <td>0.0</td>\n",
       "    </tr>\n",
       "  </tbody>\n",
       "</table>\n",
       "<p>5 rows × 51 columns</p>\n",
       "</div>"
      ],
      "text/plain": [
       "   박근혜  나경원  김을동  김희정  정미경  박인숙  권은희  민병주  윤명희  강은희  ...  장하나   김현  최민희  임수경  \\\n",
       "0  0.0  0.0  0.0  0.0  0.0  0.0  0.0  0.0  0.0  0.0  ...  0.0  0.0  0.0  0.0   \n",
       "1  0.0  0.0  0.0  0.0  0.0  0.0  0.0  0.0  0.0  0.0  ...  0.0  0.0  0.0  0.0   \n",
       "2  0.0  0.0  0.0  0.0  0.0  0.0  0.0  0.0  0.0  0.0  ...  0.0  0.0  0.0  0.0   \n",
       "3  0.0  0.0  0.0  0.0  0.0  0.0  0.0  0.0  0.0  0.0  ...  0.0  0.0  0.0  0.0   \n",
       "4  0.0  0.0  0.0  0.0  0.0  0.0  0.0  0.0  0.0  0.0  ...  0.0  0.0  0.0  0.0   \n",
       "\n",
       "   권은희  전정희  권은희  전정희  심상정  김제남  \n",
       "0  0.0  0.0  0.0  0.0  0.0  0.0  \n",
       "1  0.0  0.0  0.0  0.0  0.0  0.0  \n",
       "2  0.0  0.0  0.0  0.0  0.0  0.0  \n",
       "3  0.0  0.0  0.0  0.0  0.0  0.0  \n",
       "4  0.0  0.0  0.0  0.0  0.0  0.0  \n",
       "\n",
       "[5 rows x 51 columns]"
      ]
     },
     "execution_count": 16,
     "metadata": {},
     "output_type": "execute_result"
    }
   ],
   "source": [
    "women = gender[women_list]\n",
    "women.head()"
   ]
  },
  {
   "cell_type": "code",
   "execution_count": 17,
   "metadata": {},
   "outputs": [
    {
     "name": "stdout",
     "output_type": "stream",
     "text": [
      "[]\n",
      "0\n"
     ]
    }
   ],
   "source": [
    "add_list = [0 for n in range(len(no_list_women))]\n",
    "print(add_list)\n",
    "print(len(add_list))"
   ]
  },
  {
   "cell_type": "code",
   "execution_count": 18,
   "metadata": {},
   "outputs": [
    {
     "name": "stdout",
     "output_type": "stream",
     "text": [
      "51\n",
      "평균 여성 발의: 67.09803921568627\n"
     ]
    }
   ],
   "source": [
    "women_count = women.sum(axis=0).tolist() + add_list\n",
    "print(len(women_count))\n",
    "\n",
    "women_count = np.array(women_count)\n",
    "print('평균 여성 발의:', np.mean(women_count))"
   ]
  },
  {
   "cell_type": "markdown",
   "metadata": {},
   "source": [
    "### 남성\n",
    "\n",
    "- 보궐선거, 재보궐선거 등 국회의원 수를 정확히 책정할 수 없음. \n",
    "- 따라서 당시 국회의원수를 기준으로 (국회의원수 - 여성의원수)로 책정함. \n",
    "- 동명이인 있어도 함께 세므로 평균을 내는 데에는 상관 없음."
   ]
  },
  {
   "cell_type": "code",
   "execution_count": 19,
   "metadata": {},
   "outputs": [
    {
     "data": {
      "text/html": [
       "<div>\n",
       "<style scoped>\n",
       "    .dataframe tbody tr th:only-of-type {\n",
       "        vertical-align: middle;\n",
       "    }\n",
       "\n",
       "    .dataframe tbody tr th {\n",
       "        vertical-align: top;\n",
       "    }\n",
       "\n",
       "    .dataframe thead th {\n",
       "        text-align: right;\n",
       "    }\n",
       "</style>\n",
       "<table border=\"1\" class=\"dataframe\">\n",
       "  <thead>\n",
       "    <tr style=\"text-align: right;\">\n",
       "      <th></th>\n",
       "      <th>강기윤</th>\n",
       "      <th>강기정</th>\n",
       "      <th>강길부</th>\n",
       "      <th>강동원</th>\n",
       "      <th>강석호</th>\n",
       "      <th>강석훈</th>\n",
       "      <th>강창일</th>\n",
       "      <th>강창희</th>\n",
       "      <th>경대수</th>\n",
       "      <th>고희선</th>\n",
       "      <th>...</th>\n",
       "      <th>홍의락</th>\n",
       "      <th>홍익표</th>\n",
       "      <th>홍일표</th>\n",
       "      <th>홍종학</th>\n",
       "      <th>홍지만</th>\n",
       "      <th>홍철호</th>\n",
       "      <th>황영철</th>\n",
       "      <th>황우여</th>\n",
       "      <th>황주홍</th>\n",
       "      <th>황진하</th>\n",
       "    </tr>\n",
       "  </thead>\n",
       "  <tbody>\n",
       "    <tr>\n",
       "      <th>0</th>\n",
       "      <td>0.0</td>\n",
       "      <td>0.0</td>\n",
       "      <td>0.0</td>\n",
       "      <td>0.0</td>\n",
       "      <td>0.0</td>\n",
       "      <td>0.0</td>\n",
       "      <td>0.0</td>\n",
       "      <td>0.0</td>\n",
       "      <td>0.0</td>\n",
       "      <td>0.0</td>\n",
       "      <td>...</td>\n",
       "      <td>0.0</td>\n",
       "      <td>0.0</td>\n",
       "      <td>0.0</td>\n",
       "      <td>0.0</td>\n",
       "      <td>0.0</td>\n",
       "      <td>0.0</td>\n",
       "      <td>0.0</td>\n",
       "      <td>0.0</td>\n",
       "      <td>0.0</td>\n",
       "      <td>0.0</td>\n",
       "    </tr>\n",
       "    <tr>\n",
       "      <th>1</th>\n",
       "      <td>0.0</td>\n",
       "      <td>0.0</td>\n",
       "      <td>0.0</td>\n",
       "      <td>0.0</td>\n",
       "      <td>0.0</td>\n",
       "      <td>0.0</td>\n",
       "      <td>0.0</td>\n",
       "      <td>0.0</td>\n",
       "      <td>0.0</td>\n",
       "      <td>0.0</td>\n",
       "      <td>...</td>\n",
       "      <td>0.0</td>\n",
       "      <td>0.0</td>\n",
       "      <td>0.0</td>\n",
       "      <td>0.0</td>\n",
       "      <td>0.0</td>\n",
       "      <td>0.0</td>\n",
       "      <td>0.0</td>\n",
       "      <td>0.0</td>\n",
       "      <td>0.0</td>\n",
       "      <td>0.0</td>\n",
       "    </tr>\n",
       "    <tr>\n",
       "      <th>2</th>\n",
       "      <td>0.0</td>\n",
       "      <td>0.0</td>\n",
       "      <td>0.0</td>\n",
       "      <td>0.0</td>\n",
       "      <td>0.0</td>\n",
       "      <td>0.0</td>\n",
       "      <td>0.0</td>\n",
       "      <td>0.0</td>\n",
       "      <td>0.0</td>\n",
       "      <td>0.0</td>\n",
       "      <td>...</td>\n",
       "      <td>0.0</td>\n",
       "      <td>0.0</td>\n",
       "      <td>0.0</td>\n",
       "      <td>0.0</td>\n",
       "      <td>0.0</td>\n",
       "      <td>0.0</td>\n",
       "      <td>0.0</td>\n",
       "      <td>0.0</td>\n",
       "      <td>0.0</td>\n",
       "      <td>0.0</td>\n",
       "    </tr>\n",
       "    <tr>\n",
       "      <th>3</th>\n",
       "      <td>0.0</td>\n",
       "      <td>0.0</td>\n",
       "      <td>0.0</td>\n",
       "      <td>0.0</td>\n",
       "      <td>0.0</td>\n",
       "      <td>0.0</td>\n",
       "      <td>0.0</td>\n",
       "      <td>0.0</td>\n",
       "      <td>0.0</td>\n",
       "      <td>0.0</td>\n",
       "      <td>...</td>\n",
       "      <td>0.0</td>\n",
       "      <td>0.0</td>\n",
       "      <td>0.0</td>\n",
       "      <td>0.0</td>\n",
       "      <td>0.0</td>\n",
       "      <td>0.0</td>\n",
       "      <td>0.0</td>\n",
       "      <td>0.0</td>\n",
       "      <td>0.0</td>\n",
       "      <td>0.0</td>\n",
       "    </tr>\n",
       "    <tr>\n",
       "      <th>4</th>\n",
       "      <td>0.0</td>\n",
       "      <td>0.0</td>\n",
       "      <td>0.0</td>\n",
       "      <td>0.0</td>\n",
       "      <td>0.0</td>\n",
       "      <td>0.0</td>\n",
       "      <td>0.0</td>\n",
       "      <td>0.0</td>\n",
       "      <td>0.0</td>\n",
       "      <td>0.0</td>\n",
       "      <td>...</td>\n",
       "      <td>0.0</td>\n",
       "      <td>0.0</td>\n",
       "      <td>0.0</td>\n",
       "      <td>0.0</td>\n",
       "      <td>0.0</td>\n",
       "      <td>0.0</td>\n",
       "      <td>0.0</td>\n",
       "      <td>0.0</td>\n",
       "      <td>0.0</td>\n",
       "      <td>0.0</td>\n",
       "    </tr>\n",
       "  </tbody>\n",
       "</table>\n",
       "<p>5 rows × 278 columns</p>\n",
       "</div>"
      ],
      "text/plain": [
       "   강기윤  강기정  강길부  강동원  강석호  강석훈  강창일  강창희  경대수  고희선  ...  홍의락  홍익표  홍일표  홍종학  \\\n",
       "0  0.0  0.0  0.0  0.0  0.0  0.0  0.0  0.0  0.0  0.0  ...  0.0  0.0  0.0  0.0   \n",
       "1  0.0  0.0  0.0  0.0  0.0  0.0  0.0  0.0  0.0  0.0  ...  0.0  0.0  0.0  0.0   \n",
       "2  0.0  0.0  0.0  0.0  0.0  0.0  0.0  0.0  0.0  0.0  ...  0.0  0.0  0.0  0.0   \n",
       "3  0.0  0.0  0.0  0.0  0.0  0.0  0.0  0.0  0.0  0.0  ...  0.0  0.0  0.0  0.0   \n",
       "4  0.0  0.0  0.0  0.0  0.0  0.0  0.0  0.0  0.0  0.0  ...  0.0  0.0  0.0  0.0   \n",
       "\n",
       "   홍지만  홍철호  황영철  황우여  황주홍  황진하  \n",
       "0  0.0  0.0  0.0  0.0  0.0  0.0  \n",
       "1  0.0  0.0  0.0  0.0  0.0  0.0  \n",
       "2  0.0  0.0  0.0  0.0  0.0  0.0  \n",
       "3  0.0  0.0  0.0  0.0  0.0  0.0  \n",
       "4  0.0  0.0  0.0  0.0  0.0  0.0  \n",
       "\n",
       "[5 rows x 278 columns]"
      ]
     },
     "execution_count": 19,
     "metadata": {},
     "output_type": "execute_result"
    }
   ],
   "source": [
    "men = gender.drop(women_list, 1)\n",
    "men.head()"
   ]
  },
  {
   "cell_type": "code",
   "execution_count": 20,
   "metadata": {},
   "outputs": [
    {
     "name": "stdout",
     "output_type": "stream",
     "text": [
      "총 남자의원 수: 249\n"
     ]
    }
   ],
   "source": [
    "total_num = 300\n",
    "total_men_num = total_num - len(women_list) - len(no_list_women)\n",
    "print('총 남자의원 수:', total_men_num)"
   ]
  },
  {
   "cell_type": "code",
   "execution_count": 21,
   "metadata": {},
   "outputs": [
    {
     "data": {
      "text/plain": [
       "9602.0"
      ]
     },
     "execution_count": 21,
     "metadata": {},
     "output_type": "execute_result"
    }
   ],
   "source": [
    "men_count = np.array(men.sum(axis=0).tolist())\n",
    "np.sum(men_count)"
   ]
  },
  {
   "cell_type": "code",
   "execution_count": 22,
   "metadata": {},
   "outputs": [
    {
     "name": "stdout",
     "output_type": "stream",
     "text": [
      "평균 남성발의: 38.562248995983936\n"
     ]
    }
   ],
   "source": [
    "print('평균 남성발의:', np.sum(men_count) / total_men_num)"
   ]
  },
  {
   "cell_type": "code",
   "execution_count": null,
   "metadata": {},
   "outputs": [],
   "source": []
  },
  {
   "cell_type": "markdown",
   "metadata": {},
   "source": [
    "## 정당 코딩"
   ]
  },
  {
   "cell_type": "code",
   "execution_count": 23,
   "metadata": {},
   "outputs": [
    {
     "data": {
      "text/html": [
       "<div>\n",
       "<style scoped>\n",
       "    .dataframe tbody tr th:only-of-type {\n",
       "        vertical-align: middle;\n",
       "    }\n",
       "\n",
       "    .dataframe tbody tr th {\n",
       "        vertical-align: top;\n",
       "    }\n",
       "\n",
       "    .dataframe thead th {\n",
       "        text-align: right;\n",
       "    }\n",
       "</style>\n",
       "<table border=\"1\" class=\"dataframe\">\n",
       "  <thead>\n",
       "    <tr style=\"text-align: right;\">\n",
       "      <th></th>\n",
       "      <th>의안번호</th>\n",
       "      <th>의안명</th>\n",
       "      <th>제안일자</th>\n",
       "      <th>제안자구분</th>\n",
       "      <th>의결일자</th>\n",
       "      <th>의결결과</th>\n",
       "      <th>제안회기</th>\n",
       "      <th>제안이유</th>\n",
       "      <th>소관위원회</th>\n",
       "      <th>제안자</th>\n",
       "      <th>발의자</th>\n",
       "      <th>발의자_한글</th>\n",
       "      <th>제안정당</th>\n",
       "      <th>제안자_한글</th>\n",
       "      <th>성별</th>\n",
       "      <th>여성의원 수</th>\n",
       "    </tr>\n",
       "  </thead>\n",
       "  <tbody>\n",
       "    <tr>\n",
       "      <th>0</th>\n",
       "      <td>1918726</td>\n",
       "      <td>유아교육법 일부개정법률안</td>\n",
       "      <td>2016-05-18</td>\n",
       "      <td>위원장</td>\n",
       "      <td>2016-05-19</td>\n",
       "      <td>원안가결</td>\n",
       "      <td>제19대 (2012~2016) 제342회</td>\n",
       "      <td>1.  최근 보육기관에서 아동학대 사건이 잇달아 발생하고 있는 가운데 아동학대 ...</td>\n",
       "      <td>교육문화체육관광위원회</td>\n",
       "      <td>[]</td>\n",
       "      <td>위원장</td>\n",
       "      <td>NaN</td>\n",
       "      <td>위원장</td>\n",
       "      <td>[]</td>\n",
       "      <td>NaN</td>\n",
       "      <td>0</td>\n",
       "    </tr>\n",
       "    <tr>\n",
       "      <th>1</th>\n",
       "      <td>1918721</td>\n",
       "      <td>초·중등교육법 일부개정법률안</td>\n",
       "      <td>2016-05-18</td>\n",
       "      <td>위원장</td>\n",
       "      <td>2016-05-19</td>\n",
       "      <td>원안가결</td>\n",
       "      <td>제19대 (2012~2016) 제342회</td>\n",
       "      <td>1.  학교운영위원회 위원의 결격사유를 강화하고, 법정형을 정비하려는 것임.2....</td>\n",
       "      <td>교육문화체육관광위원회</td>\n",
       "      <td>[]</td>\n",
       "      <td>위원장</td>\n",
       "      <td>NaN</td>\n",
       "      <td>위원장</td>\n",
       "      <td>[]</td>\n",
       "      <td>NaN</td>\n",
       "      <td>0</td>\n",
       "    </tr>\n",
       "    <tr>\n",
       "      <th>2</th>\n",
       "      <td>1918710</td>\n",
       "      <td>건강가정기본법 일부개정법률안</td>\n",
       "      <td>2016-05-18</td>\n",
       "      <td>위원장</td>\n",
       "      <td>2016-05-19</td>\n",
       "      <td>원안가결</td>\n",
       "      <td>제19대 (2012~2016) 제342회</td>\n",
       "      <td>1.  국가와 지방자치단체의 모성보호 및 부성보호의 책임을 명시하고, 육아휴직 ...</td>\n",
       "      <td>여성가족위원회</td>\n",
       "      <td>[]</td>\n",
       "      <td>위원장</td>\n",
       "      <td>NaN</td>\n",
       "      <td>위원장</td>\n",
       "      <td>[]</td>\n",
       "      <td>NaN</td>\n",
       "      <td>0</td>\n",
       "    </tr>\n",
       "    <tr>\n",
       "      <th>3</th>\n",
       "      <td>1918709</td>\n",
       "      <td>아동·청소년의 성보호에 관한 법률 일부개정법률안</td>\n",
       "      <td>2016-05-18</td>\n",
       "      <td>위원장</td>\n",
       "      <td>2016-05-19</td>\n",
       "      <td>원안가결</td>\n",
       "      <td>제19대 (2012~2016) 제342회</td>\n",
       "      <td>1.  성범죄자 재범방지교육의 효과성 평가를 위하여 교육 이수자에 대한 재범률 ...</td>\n",
       "      <td>여성가족위원회</td>\n",
       "      <td>[]</td>\n",
       "      <td>위원장</td>\n",
       "      <td>NaN</td>\n",
       "      <td>위원장</td>\n",
       "      <td>[]</td>\n",
       "      <td>NaN</td>\n",
       "      <td>0</td>\n",
       "    </tr>\n",
       "    <tr>\n",
       "      <th>4</th>\n",
       "      <td>1918705</td>\n",
       "      <td>주민등록법 일부개정법률안</td>\n",
       "      <td>2016-05-18</td>\n",
       "      <td>위원장</td>\n",
       "      <td>2016-05-19</td>\n",
       "      <td>원안가결</td>\n",
       "      <td>제19대 (2012~2016) 제342회</td>\n",
       "      <td>1.  주민등록번호의 유출로 인하여 발생할 수 있는 피해에 대한 국민의 불안감이...</td>\n",
       "      <td>안전행정위원회</td>\n",
       "      <td>[]</td>\n",
       "      <td>위원장</td>\n",
       "      <td>NaN</td>\n",
       "      <td>위원장</td>\n",
       "      <td>[]</td>\n",
       "      <td>NaN</td>\n",
       "      <td>0</td>\n",
       "    </tr>\n",
       "  </tbody>\n",
       "</table>\n",
       "</div>"
      ],
      "text/plain": [
       "      의안번호                         의안명        제안일자 제안자구분        의결일자  의결결과  \\\n",
       "0  1918726               유아교육법 일부개정법률안  2016-05-18   위원장  2016-05-19  원안가결   \n",
       "1  1918721             초·중등교육법 일부개정법률안  2016-05-18   위원장  2016-05-19  원안가결   \n",
       "2  1918710             건강가정기본법 일부개정법률안  2016-05-18   위원장  2016-05-19  원안가결   \n",
       "3  1918709  아동·청소년의 성보호에 관한 법률 일부개정법률안  2016-05-18   위원장  2016-05-19  원안가결   \n",
       "4  1918705               주민등록법 일부개정법률안  2016-05-18   위원장  2016-05-19  원안가결   \n",
       "\n",
       "                     제안회기                                               제안이유  \\\n",
       "0  제19대 (2012~2016) 제342회    1.  최근 보육기관에서 아동학대 사건이 잇달아 발생하고 있는 가운데 아동학대 ...   \n",
       "1  제19대 (2012~2016) 제342회    1.  학교운영위원회 위원의 결격사유를 강화하고, 법정형을 정비하려는 것임.2....   \n",
       "2  제19대 (2012~2016) 제342회    1.  국가와 지방자치단체의 모성보호 및 부성보호의 책임을 명시하고, 육아휴직 ...   \n",
       "3  제19대 (2012~2016) 제342회    1.  성범죄자 재범방지교육의 효과성 평가를 위하여 교육 이수자에 대한 재범률 ...   \n",
       "4  제19대 (2012~2016) 제342회    1.  주민등록번호의 유출로 인하여 발생할 수 있는 피해에 대한 국민의 불안감이...   \n",
       "\n",
       "         소관위원회 제안자  발의자 발의자_한글 제안정당 제안자_한글   성별  여성의원 수  \n",
       "0  교육문화체육관광위원회  []  위원장    NaN  위원장     []  NaN       0  \n",
       "1  교육문화체육관광위원회  []  위원장    NaN  위원장     []  NaN       0  \n",
       "2      여성가족위원회  []  위원장    NaN  위원장     []  NaN       0  \n",
       "3      여성가족위원회  []  위원장    NaN  위원장     []  NaN       0  \n",
       "4      안전행정위원회  []  위원장    NaN  위원장     []  NaN       0  "
      ]
     },
     "execution_count": 23,
     "metadata": {},
     "output_type": "execute_result"
    }
   ],
   "source": [
    "party = pd.read_csv('19th-gender-bill-2.csv', index_col=0, encoding='utf-8')\n",
    "party.head()"
   ]
  },
  {
   "cell_type": "code",
   "execution_count": 24,
   "metadata": {},
   "outputs": [
    {
     "data": {
      "text/plain": [
       "array(['위원장', '새누리당', '더불어민주당', '새정치민주연합', '정부', '정의당', '국민의당', '무소속',\n",
       "       '통합진보당', '민주당', '진보정의당', '자유선진당'], dtype=object)"
      ]
     },
     "execution_count": 24,
     "metadata": {},
     "output_type": "execute_result"
    }
   ],
   "source": [
    "party['제안정당'].unique()"
   ]
  },
  {
   "cell_type": "code",
   "execution_count": 25,
   "metadata": {},
   "outputs": [],
   "source": [
    "# party.loc[party['제안정당'] == '민주자유당', '제안정당'] = '신한국당'\n",
    "# party.loc[party['제안정당'] == '민주당', '제안정당'] = '통합민주당'"
   ]
  },
  {
   "cell_type": "code",
   "execution_count": 26,
   "metadata": {},
   "outputs": [],
   "source": [
    "conservative = ['새누리당','자유선진당']\n",
    "progressive = ['더불어민주당','새정치민주연합','정의당','국민의당','통합진보당','민주당','진보정의당']\n",
    "\n",
    "party.loc[party['제안정당'].isin(conservative), '정당성향'] = '보수'\n",
    "party.loc[party['제안정당'].isin(progressive), '정당성향'] = '진보'"
   ]
  },
  {
   "cell_type": "code",
   "execution_count": 27,
   "metadata": {},
   "outputs": [
    {
     "data": {
      "text/plain": [
       "array([nan, '보수', '진보'], dtype=object)"
      ]
     },
     "execution_count": 27,
     "metadata": {},
     "output_type": "execute_result"
    }
   ],
   "source": [
    "party['정당성향'].unique()"
   ]
  },
  {
   "cell_type": "code",
   "execution_count": 28,
   "metadata": {},
   "outputs": [
    {
     "data": {
      "text/plain": [
       "진보    542\n",
       "보수    398\n",
       "Name: 정당성향, dtype: int64"
      ]
     },
     "execution_count": 28,
     "metadata": {},
     "output_type": "execute_result"
    }
   ],
   "source": [
    "party['정당성향'].value_counts()"
   ]
  },
  {
   "cell_type": "code",
   "execution_count": 29,
   "metadata": {},
   "outputs": [],
   "source": [
    "party.to_csv('19th-gender-bill-v3.csv', encoding='utf-8-sig')"
   ]
  },
  {
   "cell_type": "code",
   "execution_count": null,
   "metadata": {},
   "outputs": [],
   "source": []
  }
 ],
 "metadata": {
  "kernelspec": {
   "display_name": "Python 3",
   "language": "python",
   "name": "python3"
  },
  "language_info": {
   "codemirror_mode": {
    "name": "ipython",
    "version": 3
   },
   "file_extension": ".py",
   "mimetype": "text/x-python",
   "name": "python",
   "nbconvert_exporter": "python",
   "pygments_lexer": "ipython3",
   "version": "3.8.5"
  }
 },
 "nbformat": 4,
 "nbformat_minor": 4
}
