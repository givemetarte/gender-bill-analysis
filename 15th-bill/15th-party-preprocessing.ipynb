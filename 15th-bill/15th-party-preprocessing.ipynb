{
 "cells": [
  {
   "cell_type": "markdown",
   "metadata": {},
   "source": [
    "# 15대 전처리 \n",
    "\n",
    "- 발의자, 제안정당, 성별 "
   ]
  },
  {
   "cell_type": "code",
   "execution_count": 1,
   "metadata": {},
   "outputs": [],
   "source": [
    "import pandas as pd \n",
    "import numpy as np \n",
    "from ast import literal_eval"
   ]
  },
  {
   "cell_type": "code",
   "execution_count": 2,
   "metadata": {},
   "outputs": [
    {
     "data": {
      "text/html": [
       "<div>\n",
       "<style scoped>\n",
       "    .dataframe tbody tr th:only-of-type {\n",
       "        vertical-align: middle;\n",
       "    }\n",
       "\n",
       "    .dataframe tbody tr th {\n",
       "        vertical-align: top;\n",
       "    }\n",
       "\n",
       "    .dataframe thead th {\n",
       "        text-align: right;\n",
       "    }\n",
       "</style>\n",
       "<table border=\"1\" class=\"dataframe\">\n",
       "  <thead>\n",
       "    <tr style=\"text-align: right;\">\n",
       "      <th></th>\n",
       "      <th>의안번호</th>\n",
       "      <th>의안명</th>\n",
       "      <th>제안일자</th>\n",
       "      <th>제안자구분</th>\n",
       "      <th>의결일자</th>\n",
       "      <th>의결결과</th>\n",
       "      <th>발의자</th>\n",
       "      <th>제안회기</th>\n",
       "      <th>제안이유</th>\n",
       "      <th>소관위원회</th>\n",
       "      <th>제안자</th>\n",
       "      <th>제안정당</th>\n",
       "      <th>성별</th>\n",
       "      <th>여성의원 수</th>\n",
       "    </tr>\n",
       "  </thead>\n",
       "  <tbody>\n",
       "    <tr>\n",
       "      <th>0</th>\n",
       "      <td>152550</td>\n",
       "      <td>청소년의성보호에관한법률안</td>\n",
       "      <td>2000-01-13</td>\n",
       "      <td>위원장</td>\n",
       "      <td>2000-01-14</td>\n",
       "      <td>원안가결</td>\n",
       "      <td>위원장</td>\n",
       "      <td>제15대 (1996~2000) 제209회</td>\n",
       "      <td>1. 1999년 11월 4일 박상천·林채정·정세균·방용석의원외 101인이 발의한 아...</td>\n",
       "      <td>정무위원회</td>\n",
       "      <td>[]</td>\n",
       "      <td>위원장</td>\n",
       "      <td>NaN</td>\n",
       "      <td>0</td>\n",
       "    </tr>\n",
       "    <tr>\n",
       "      <th>1</th>\n",
       "      <td>152499</td>\n",
       "      <td>사립학교법중개정법률안</td>\n",
       "      <td>1999-12-17</td>\n",
       "      <td>위원장</td>\n",
       "      <td>1999-12-28</td>\n",
       "      <td>원안가결</td>\n",
       "      <td>위원장</td>\n",
       "      <td>제15대 (1996~2000) 제209회</td>\n",
       "      <td>1. 1999년 9월 10일 李미경의원외 23인이 발의하여 동일 우리 위원회에 회부...</td>\n",
       "      <td>교육위원회</td>\n",
       "      <td>[]</td>\n",
       "      <td>위원장</td>\n",
       "      <td>NaN</td>\n",
       "      <td>0</td>\n",
       "    </tr>\n",
       "    <tr>\n",
       "      <th>2</th>\n",
       "      <td>152498</td>\n",
       "      <td>교육공무원법중개정법률안</td>\n",
       "      <td>1999-12-17</td>\n",
       "      <td>위원장</td>\n",
       "      <td>1999-12-28</td>\n",
       "      <td>원안가결</td>\n",
       "      <td>위원장</td>\n",
       "      <td>제15대 (1996~2000) 제209회</td>\n",
       "      <td>1. 1999년 8월 16일 李미경의원외 23인이 발의하여 동년 9월 10일 우리 ...</td>\n",
       "      <td>교육위원회</td>\n",
       "      <td>[]</td>\n",
       "      <td>위원장</td>\n",
       "      <td>NaN</td>\n",
       "      <td>0</td>\n",
       "    </tr>\n",
       "  </tbody>\n",
       "</table>\n",
       "</div>"
      ],
      "text/plain": [
       "     의안번호              의안명        제안일자 제안자구분        의결일자  의결결과  발의자  \\\n",
       "0  152550    청소년의성보호에관한법률안  2000-01-13   위원장  2000-01-14  원안가결  위원장   \n",
       "1  152499      사립학교법중개정법률안  1999-12-17   위원장  1999-12-28  원안가결  위원장   \n",
       "2  152498     교육공무원법중개정법률안  1999-12-17   위원장  1999-12-28  원안가결  위원장   \n",
       "\n",
       "                     제안회기                                               제안이유  \\\n",
       "0  제15대 (1996~2000) 제209회  1. 1999년 11월 4일 박상천·林채정·정세균·방용석의원외 101인이 발의한 아...   \n",
       "1  제15대 (1996~2000) 제209회  1. 1999년 9월 10일 李미경의원외 23인이 발의하여 동일 우리 위원회에 회부...   \n",
       "2  제15대 (1996~2000) 제209회  1. 1999년 8월 16일 李미경의원외 23인이 발의하여 동년 9월 10일 우리 ...   \n",
       "\n",
       "   소관위원회 제안자 제안정당   성별  여성의원 수  \n",
       "0  정무위원회  []  위원장  NaN       0  \n",
       "1  교육위원회  []  위원장  NaN       0  \n",
       "2  교육위원회  []  위원장  NaN       0  "
      ]
     },
     "execution_count": 2,
     "metadata": {},
     "output_type": "execute_result"
    }
   ],
   "source": [
    "gender = pd.read_csv('15th-gender-bill.csv', encoding='utf-8')\n",
    "gender = gender.drop('Unnamed: 0', 1)\n",
    "gender.head(3)"
   ]
  },
  {
   "cell_type": "markdown",
   "metadata": {},
   "source": [
    "## 발의자/제안정당"
   ]
  },
  {
   "cell_type": "code",
   "execution_count": 3,
   "metadata": {},
   "outputs": [
    {
     "data": {
      "text/plain": [
       "array(['위원장', '김정숙', '정몽준', '변정일', '이성재', '신낙균', '권영자', '박상천', '이미경',\n",
       "       '정부', '김병태', '백남치', '홍준표', '김홍신', '김원길', '정의화', '오양순', '김영진',\n",
       "       '정동채', '김명섭', '박광태', '이강희', '남평우', '조성준', '이기문', '정우택', '최재승',\n",
       "       '신기하', '함석재', '임진출', '박종웅', '정상천', '김홍일', '한영애'], dtype=object)"
      ]
     },
     "execution_count": 3,
     "metadata": {},
     "output_type": "execute_result"
    }
   ],
   "source": [
    "gender['발의자'].unique()"
   ]
  },
  {
   "cell_type": "code",
   "execution_count": 4,
   "metadata": {},
   "outputs": [],
   "source": [
    "# 정부, 위원장 발의일 때 \n",
    "gender.loc[gender['제안자구분'] == '정부', '제안정당'] = '정부'\n",
    "gender.loc[gender['제안자구분'] == '정부', '발의자'] = '정부'\n",
    "gender.loc[gender['제안자구분'] == '위원장', '제안정당'] = '위원장'\n",
    "gender.loc[gender['제안자구분'] == '위원장', '발의자'] = '위원장'\n",
    "\n",
    "# 국회의원일 때 \n",
    "gender.loc[gender['발의자'] == '김정숙', '제안정당'] = '신한국당'\n",
    "gender.loc[gender['발의자'] == '정몽준', '제안정당'] = '무소속'\n",
    "gender.loc[gender['발의자'] == '변정일', '제안정당'] = '신한국당'\n",
    "gender.loc[gender['발의자'] == '이성재', '제안정당'] = '새정치국민회의'\n",
    "gender.loc[gender['발의자'] == '신낙균', '제안정당'] = '새정치국민회의'\n",
    "gender.loc[gender['발의자'] == '권영자', '제안정당'] = '신한국당'\n",
    "gender.loc[gender['발의자'] == '박상천', '제안정당'] = '새정치국민회의'\n",
    "gender.loc[gender['발의자'] == '이미경', '제안정당'] = '통합민주당'\n",
    "gender.loc[gender['발의자'] == '김병태', '제안정당'] = '새정치국민회의'\n",
    "gender.loc[gender['발의자'] == '백남치', '제안정당'] = '신한국당'\n",
    "gender.loc[gender['발의자'] == '홍준표', '제안정당'] = '신한국당'\n",
    "gender.loc[gender['발의자'] == '김홍신', '제안정당'] = '통합민주당'\n",
    "gender.loc[gender['발의자'] == '김원길', '제안정당'] = '새정치국민회의'\n",
    "gender.loc[gender['발의자'] == '정의화', '제안정당'] = '신한국당'\n",
    "gender.loc[gender['발의자'] == '오양순', '제안정당'] = '신한국당'\n",
    "gender.loc[gender['발의자'] == '김영진', '제안정당'] = '새정치국민회의'\n",
    "gender.loc[gender['발의자'] == '정동채', '제안정당'] = '새정치국민회의'\n",
    "gender.loc[gender['발의자'] == '김명섭', '제안정당'] = '신한국당'\n",
    "gender.loc[gender['발의자'] == '박광태', '제안정당'] = '새정치국민회의'\n",
    "gender.loc[gender['발의자'] == '이강희', '제안정당'] = '신한국당'\n",
    "gender.loc[gender['발의자'] == '남평우', '제안정당'] = '신한국당'\n",
    "gender.loc[gender['발의자'] == '조성준', '제안정당'] = '새정치국민회의'\n",
    "gender.loc[gender['발의자'] == '이기문', '제안정당'] = '새정치국민회의'\n",
    "gender.loc[gender['발의자'] == '정우택', '제안정당'] = '자유민주연합'\n",
    "gender.loc[gender['발의자'] == '최재승', '제안정당'] = '새정치국민회의'\n",
    "gender.loc[gender['발의자'] == '신기하', '제안정당'] = '새정치국민회의'\n",
    "gender.loc[gender['발의자'] == '함석재', '제안정당'] = '자유민주연합'\n",
    "gender.loc[gender['발의자'] == '임진출', '제안정당'] = '신한국당'\n",
    "gender.loc[gender['발의자'] == '박종웅', '제안정당'] = '신한국당'\n",
    "gender.loc[gender['발의자'] == '정상천', '제안정당'] = '자유민주연합'\n",
    "gender.loc[gender['발의자'] == '김홍일', '제안정당'] = '새정치국민회의'\n",
    "gender.loc[gender['발의자'] == '한영애', '제안정당'] = '새정치국민회의'"
   ]
  },
  {
   "cell_type": "code",
   "execution_count": 5,
   "metadata": {},
   "outputs": [
    {
     "data": {
      "text/html": [
       "<div>\n",
       "<style scoped>\n",
       "    .dataframe tbody tr th:only-of-type {\n",
       "        vertical-align: middle;\n",
       "    }\n",
       "\n",
       "    .dataframe tbody tr th {\n",
       "        vertical-align: top;\n",
       "    }\n",
       "\n",
       "    .dataframe thead th {\n",
       "        text-align: right;\n",
       "    }\n",
       "</style>\n",
       "<table border=\"1\" class=\"dataframe\">\n",
       "  <thead>\n",
       "    <tr style=\"text-align: right;\">\n",
       "      <th></th>\n",
       "      <th>의안번호</th>\n",
       "      <th>의안명</th>\n",
       "      <th>제안일자</th>\n",
       "      <th>제안자구분</th>\n",
       "      <th>의결일자</th>\n",
       "      <th>의결결과</th>\n",
       "      <th>발의자</th>\n",
       "      <th>제안회기</th>\n",
       "      <th>제안이유</th>\n",
       "      <th>소관위원회</th>\n",
       "      <th>제안자</th>\n",
       "      <th>제안정당</th>\n",
       "      <th>성별</th>\n",
       "      <th>여성의원 수</th>\n",
       "    </tr>\n",
       "  </thead>\n",
       "  <tbody>\n",
       "  </tbody>\n",
       "</table>\n",
       "</div>"
      ],
      "text/plain": [
       "Empty DataFrame\n",
       "Columns: [의안번호, 의안명, 제안일자, 제안자구분, 의결일자, 의결결과, 발의자, 제안회기, 제안이유, 소관위원회, 제안자, 제안정당, 성별, 여성의원 수]\n",
       "Index: []"
      ]
     },
     "execution_count": 5,
     "metadata": {},
     "output_type": "execute_result"
    }
   ],
   "source": [
    "gender[gender['제안정당'] == np.nan]"
   ]
  },
  {
   "cell_type": "code",
   "execution_count": 6,
   "metadata": {},
   "outputs": [
    {
     "data": {
      "text/html": [
       "<div>\n",
       "<style scoped>\n",
       "    .dataframe tbody tr th:only-of-type {\n",
       "        vertical-align: middle;\n",
       "    }\n",
       "\n",
       "    .dataframe tbody tr th {\n",
       "        vertical-align: top;\n",
       "    }\n",
       "\n",
       "    .dataframe thead th {\n",
       "        text-align: right;\n",
       "    }\n",
       "</style>\n",
       "<table border=\"1\" class=\"dataframe\">\n",
       "  <thead>\n",
       "    <tr style=\"text-align: right;\">\n",
       "      <th></th>\n",
       "      <th>의안번호</th>\n",
       "      <th>의안명</th>\n",
       "      <th>제안일자</th>\n",
       "      <th>제안자구분</th>\n",
       "      <th>의결일자</th>\n",
       "      <th>의결결과</th>\n",
       "      <th>발의자</th>\n",
       "      <th>제안회기</th>\n",
       "      <th>제안이유</th>\n",
       "      <th>소관위원회</th>\n",
       "      <th>제안자</th>\n",
       "      <th>제안정당</th>\n",
       "      <th>성별</th>\n",
       "      <th>여성의원 수</th>\n",
       "    </tr>\n",
       "  </thead>\n",
       "  <tbody>\n",
       "  </tbody>\n",
       "</table>\n",
       "</div>"
      ],
      "text/plain": [
       "Empty DataFrame\n",
       "Columns: [의안번호, 의안명, 제안일자, 제안자구분, 의결일자, 의결결과, 발의자, 제안회기, 제안이유, 소관위원회, 제안자, 제안정당, 성별, 여성의원 수]\n",
       "Index: []"
      ]
     },
     "execution_count": 6,
     "metadata": {},
     "output_type": "execute_result"
    }
   ],
   "source": [
    "gender[gender['발의자'] == np.nan]"
   ]
  },
  {
   "cell_type": "markdown",
   "metadata": {},
   "source": [
    "## 발의자 성별 구분"
   ]
  },
  {
   "cell_type": "code",
   "execution_count": 7,
   "metadata": {},
   "outputs": [],
   "source": [
    "women_list = ['박근혜','권영자','오양순','김영선','양창순','박윤옥','추미애','정희경', \n",
    "             '신낙균','이미경','임진출']\n",
    "\n",
    "gender.loc[gender['발의자'].isin(women_list), '성별'] = '여성'\n",
    "gender.loc[(gender['제안자구분'] == '의원') & (~gender['발의자'].isin(women_list)), '성별'] = '남성'"
   ]
  },
  {
   "cell_type": "code",
   "execution_count": 8,
   "metadata": {},
   "outputs": [
    {
     "data": {
      "text/plain": [
       "array([nan, '남성', '여성'], dtype=object)"
      ]
     },
     "execution_count": 8,
     "metadata": {},
     "output_type": "execute_result"
    }
   ],
   "source": [
    "gender['성별'].unique()"
   ]
  },
  {
   "cell_type": "code",
   "execution_count": 9,
   "metadata": {},
   "outputs": [
    {
     "name": "stdout",
     "output_type": "stream",
     "text": [
      "CPU times: user 8.64 ms, sys: 823 µs, total: 9.47 ms\n",
      "Wall time: 9.12 ms\n"
     ]
    }
   ],
   "source": [
    "%time gender['제안자'] = gender['제안자'].apply(literal_eval)"
   ]
  },
  {
   "cell_type": "code",
   "execution_count": 10,
   "metadata": {},
   "outputs": [],
   "source": [
    "def count_women(name_list, women_list): \n",
    "    count = 0 \n",
    "    for name in name_list: \n",
    "        if name in women_list: \n",
    "            count += 1\n",
    "    return count"
   ]
  },
  {
   "cell_type": "code",
   "execution_count": 11,
   "metadata": {},
   "outputs": [
    {
     "name": "stdout",
     "output_type": "stream",
     "text": [
      "CPU times: user 1.84 ms, sys: 115 µs, total: 1.96 ms\n",
      "Wall time: 1.91 ms\n"
     ]
    }
   ],
   "source": [
    "%time gender['여성의원 수'] = gender['제안자'].apply(lambda x: count_women(x, women_list))"
   ]
  },
  {
   "cell_type": "code",
   "execution_count": 12,
   "metadata": {},
   "outputs": [
    {
     "data": {
      "text/html": [
       "<div>\n",
       "<style scoped>\n",
       "    .dataframe tbody tr th:only-of-type {\n",
       "        vertical-align: middle;\n",
       "    }\n",
       "\n",
       "    .dataframe tbody tr th {\n",
       "        vertical-align: top;\n",
       "    }\n",
       "\n",
       "    .dataframe thead th {\n",
       "        text-align: right;\n",
       "    }\n",
       "</style>\n",
       "<table border=\"1\" class=\"dataframe\">\n",
       "  <thead>\n",
       "    <tr style=\"text-align: right;\">\n",
       "      <th></th>\n",
       "      <th>의안번호</th>\n",
       "      <th>의안명</th>\n",
       "      <th>제안일자</th>\n",
       "      <th>제안자구분</th>\n",
       "      <th>의결일자</th>\n",
       "      <th>의결결과</th>\n",
       "      <th>발의자</th>\n",
       "      <th>제안회기</th>\n",
       "      <th>제안이유</th>\n",
       "      <th>소관위원회</th>\n",
       "      <th>제안자</th>\n",
       "      <th>제안정당</th>\n",
       "      <th>성별</th>\n",
       "      <th>여성의원 수</th>\n",
       "    </tr>\n",
       "  </thead>\n",
       "  <tbody>\n",
       "    <tr>\n",
       "      <th>0</th>\n",
       "      <td>152550</td>\n",
       "      <td>청소년의성보호에관한법률안</td>\n",
       "      <td>2000-01-13</td>\n",
       "      <td>위원장</td>\n",
       "      <td>2000-01-14</td>\n",
       "      <td>원안가결</td>\n",
       "      <td>위원장</td>\n",
       "      <td>제15대 (1996~2000) 제209회</td>\n",
       "      <td>1. 1999년 11월 4일 박상천·林채정·정세균·방용석의원외 101인이 발의한 아...</td>\n",
       "      <td>정무위원회</td>\n",
       "      <td>[]</td>\n",
       "      <td>위원장</td>\n",
       "      <td>NaN</td>\n",
       "      <td>0</td>\n",
       "    </tr>\n",
       "    <tr>\n",
       "      <th>1</th>\n",
       "      <td>152499</td>\n",
       "      <td>사립학교법중개정법률안</td>\n",
       "      <td>1999-12-17</td>\n",
       "      <td>위원장</td>\n",
       "      <td>1999-12-28</td>\n",
       "      <td>원안가결</td>\n",
       "      <td>위원장</td>\n",
       "      <td>제15대 (1996~2000) 제209회</td>\n",
       "      <td>1. 1999년 9월 10일 李미경의원외 23인이 발의하여 동일 우리 위원회에 회부...</td>\n",
       "      <td>교육위원회</td>\n",
       "      <td>[]</td>\n",
       "      <td>위원장</td>\n",
       "      <td>NaN</td>\n",
       "      <td>0</td>\n",
       "    </tr>\n",
       "    <tr>\n",
       "      <th>2</th>\n",
       "      <td>152498</td>\n",
       "      <td>교육공무원법중개정법률안</td>\n",
       "      <td>1999-12-17</td>\n",
       "      <td>위원장</td>\n",
       "      <td>1999-12-28</td>\n",
       "      <td>원안가결</td>\n",
       "      <td>위원장</td>\n",
       "      <td>제15대 (1996~2000) 제209회</td>\n",
       "      <td>1. 1999년 8월 16일 李미경의원외 23인이 발의하여 동년 9월 10일 우리 ...</td>\n",
       "      <td>교육위원회</td>\n",
       "      <td>[]</td>\n",
       "      <td>위원장</td>\n",
       "      <td>NaN</td>\n",
       "      <td>0</td>\n",
       "    </tr>\n",
       "    <tr>\n",
       "      <th>3</th>\n",
       "      <td>152488</td>\n",
       "      <td>남녀고용평등법중개정법률안</td>\n",
       "      <td>1999-12-16</td>\n",
       "      <td>의원</td>\n",
       "      <td>2000-05-29</td>\n",
       "      <td>임기만료폐기</td>\n",
       "      <td>김정숙</td>\n",
       "      <td>제15대 (1996~2000) 제208회</td>\n",
       "      <td>현재 무급인 육아휴직기간의 소득보장을 위하여 고용보험법에서 임金의 일부를 지급하도록...</td>\n",
       "      <td>환경노동위원회</td>\n",
       "      <td>[김정숙, 권영자, 김영선, 김영환, 김칠환, 박근혜, 박범진, 박원홍, 박철언, ...</td>\n",
       "      <td>신한국당</td>\n",
       "      <td>남성</td>\n",
       "      <td>6</td>\n",
       "    </tr>\n",
       "    <tr>\n",
       "      <th>4</th>\n",
       "      <td>152486</td>\n",
       "      <td>국민건강보험법중개정법률안</td>\n",
       "      <td>1999-12-16</td>\n",
       "      <td>의원</td>\n",
       "      <td>2000-05-29</td>\n",
       "      <td>임기만료폐기</td>\n",
       "      <td>김정숙</td>\n",
       "      <td>제15대 (1996~2000) 제208회</td>\n",
       "      <td>여성의 모성기능 보호의 일환으로 임산부가 태아건강검진을 받고 산전후 휴식을 취하는 ...</td>\n",
       "      <td>보건복지위원회</td>\n",
       "      <td>[김정숙, 권영자, 김영선, 김영환, 김칠환, 박근혜, 박범진, 박원홍, 박철언, ...</td>\n",
       "      <td>신한국당</td>\n",
       "      <td>남성</td>\n",
       "      <td>6</td>\n",
       "    </tr>\n",
       "  </tbody>\n",
       "</table>\n",
       "</div>"
      ],
      "text/plain": [
       "     의안번호              의안명        제안일자 제안자구분        의결일자    의결결과  발의자  \\\n",
       "0  152550    청소년의성보호에관한법률안  2000-01-13   위원장  2000-01-14    원안가결  위원장   \n",
       "1  152499      사립학교법중개정법률안  1999-12-17   위원장  1999-12-28    원안가결  위원장   \n",
       "2  152498     교육공무원법중개정법률안  1999-12-17   위원장  1999-12-28    원안가결  위원장   \n",
       "3  152488    남녀고용평등법중개정법률안  1999-12-16    의원  2000-05-29  임기만료폐기  김정숙   \n",
       "4  152486    국민건강보험법중개정법률안  1999-12-16    의원  2000-05-29  임기만료폐기  김정숙   \n",
       "\n",
       "                     제안회기                                               제안이유  \\\n",
       "0  제15대 (1996~2000) 제209회  1. 1999년 11월 4일 박상천·林채정·정세균·방용석의원외 101인이 발의한 아...   \n",
       "1  제15대 (1996~2000) 제209회  1. 1999년 9월 10일 李미경의원외 23인이 발의하여 동일 우리 위원회에 회부...   \n",
       "2  제15대 (1996~2000) 제209회  1. 1999년 8월 16일 李미경의원외 23인이 발의하여 동년 9월 10일 우리 ...   \n",
       "3  제15대 (1996~2000) 제208회  현재 무급인 육아휴직기간의 소득보장을 위하여 고용보험법에서 임金의 일부를 지급하도록...   \n",
       "4  제15대 (1996~2000) 제208회  여성의 모성기능 보호의 일환으로 임산부가 태아건강검진을 받고 산전후 휴식을 취하는 ...   \n",
       "\n",
       "     소관위원회                                                제안자  제안정당   성별  \\\n",
       "0    정무위원회                                                 []   위원장  NaN   \n",
       "1    교육위원회                                                 []   위원장  NaN   \n",
       "2    교육위원회                                                 []   위원장  NaN   \n",
       "3  환경노동위원회  [김정숙, 권영자, 김영선, 김영환, 김칠환, 박근혜, 박범진, 박원홍, 박철언, ...  신한국당   남성   \n",
       "4  보건복지위원회  [김정숙, 권영자, 김영선, 김영환, 김칠환, 박근혜, 박범진, 박원홍, 박철언, ...  신한국당   남성   \n",
       "\n",
       "   여성의원 수  \n",
       "0       0  \n",
       "1       0  \n",
       "2       0  \n",
       "3       6  \n",
       "4       6  "
      ]
     },
     "execution_count": 12,
     "metadata": {},
     "output_type": "execute_result"
    }
   ],
   "source": [
    "gender.head()"
   ]
  },
  {
   "cell_type": "code",
   "execution_count": 13,
   "metadata": {},
   "outputs": [
    {
     "data": {
      "text/plain": [
       "남성    35\n",
       "여성    21\n",
       "Name: 성별, dtype: int64"
      ]
     },
     "execution_count": 13,
     "metadata": {},
     "output_type": "execute_result"
    }
   ],
   "source": [
    "gender['성별'].value_counts()"
   ]
  },
  {
   "cell_type": "code",
   "execution_count": 14,
   "metadata": {},
   "outputs": [],
   "source": [
    "gender.to_csv('15th-gender-bill.csv', encoding='utf-8-sig')"
   ]
  },
  {
   "cell_type": "code",
   "execution_count": null,
   "metadata": {},
   "outputs": [],
   "source": []
  }
 ],
 "metadata": {
  "kernelspec": {
   "display_name": "Python 3",
   "language": "python",
   "name": "python3"
  },
  "language_info": {
   "codemirror_mode": {
    "name": "ipython",
    "version": 3
   },
   "file_extension": ".py",
   "mimetype": "text/x-python",
   "name": "python",
   "nbconvert_exporter": "python",
   "pygments_lexer": "ipython3",
   "version": "3.8.5"
  }
 },
 "nbformat": 4,
 "nbformat_minor": 4
}
