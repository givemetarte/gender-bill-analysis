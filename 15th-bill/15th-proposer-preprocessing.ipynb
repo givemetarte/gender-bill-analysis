{
 "cells": [
  {
   "cell_type": "markdown",
   "metadata": {},
   "source": [
    "# 15대 제안자 칼럼 생성\n",
    "\n",
    "- 발의자"
   ]
  },
  {
   "cell_type": "code",
   "execution_count": 1,
   "metadata": {},
   "outputs": [],
   "source": [
    "import pandas as pd \n",
    "import numpy as np \n",
    "from ast import literal_eval\n",
    "from tqdm import tqdm \n",
    "import numpy as np"
   ]
  },
  {
   "cell_type": "code",
   "execution_count": 2,
   "metadata": {},
   "outputs": [
    {
     "name": "stdout",
     "output_type": "stream",
     "text": [
      "(83, 14)\n"
     ]
    },
    {
     "data": {
      "text/html": [
       "<div>\n",
       "<style scoped>\n",
       "    .dataframe tbody tr th:only-of-type {\n",
       "        vertical-align: middle;\n",
       "    }\n",
       "\n",
       "    .dataframe tbody tr th {\n",
       "        vertical-align: top;\n",
       "    }\n",
       "\n",
       "    .dataframe thead th {\n",
       "        text-align: right;\n",
       "    }\n",
       "</style>\n",
       "<table border=\"1\" class=\"dataframe\">\n",
       "  <thead>\n",
       "    <tr style=\"text-align: right;\">\n",
       "      <th></th>\n",
       "      <th>의안번호</th>\n",
       "      <th>의안명</th>\n",
       "      <th>제안일자</th>\n",
       "      <th>제안자구분</th>\n",
       "      <th>의결일자</th>\n",
       "      <th>의결결과</th>\n",
       "      <th>발의자</th>\n",
       "      <th>제안회기</th>\n",
       "      <th>제안이유</th>\n",
       "      <th>소관위원회</th>\n",
       "      <th>제안자</th>\n",
       "      <th>제안정당</th>\n",
       "      <th>성별</th>\n",
       "      <th>여성의원 수</th>\n",
       "    </tr>\n",
       "  </thead>\n",
       "  <tbody>\n",
       "    <tr>\n",
       "      <th>0</th>\n",
       "      <td>152550</td>\n",
       "      <td>청소년의성보호에관한법률안</td>\n",
       "      <td>2000-01-13</td>\n",
       "      <td>위원장</td>\n",
       "      <td>2000-01-14</td>\n",
       "      <td>원안가결</td>\n",
       "      <td>위원장</td>\n",
       "      <td>제15대 (1996~2000) 제209회</td>\n",
       "      <td>1. 1999년 11월 4일 박상천·林채정·정세균·방용석의원외 101인이 발의한 아...</td>\n",
       "      <td>정무위원회</td>\n",
       "      <td>[]</td>\n",
       "      <td>위원장</td>\n",
       "      <td>NaN</td>\n",
       "      <td>0</td>\n",
       "    </tr>\n",
       "    <tr>\n",
       "      <th>1</th>\n",
       "      <td>152499</td>\n",
       "      <td>사립학교법중개정법률안</td>\n",
       "      <td>1999-12-17</td>\n",
       "      <td>위원장</td>\n",
       "      <td>1999-12-28</td>\n",
       "      <td>원안가결</td>\n",
       "      <td>위원장</td>\n",
       "      <td>제15대 (1996~2000) 제209회</td>\n",
       "      <td>1. 1999년 9월 10일 李미경의원외 23인이 발의하여 동일 우리 위원회에 회부...</td>\n",
       "      <td>교육위원회</td>\n",
       "      <td>[]</td>\n",
       "      <td>위원장</td>\n",
       "      <td>NaN</td>\n",
       "      <td>0</td>\n",
       "    </tr>\n",
       "    <tr>\n",
       "      <th>2</th>\n",
       "      <td>152498</td>\n",
       "      <td>교육공무원법중개정법률안</td>\n",
       "      <td>1999-12-17</td>\n",
       "      <td>위원장</td>\n",
       "      <td>1999-12-28</td>\n",
       "      <td>원안가결</td>\n",
       "      <td>위원장</td>\n",
       "      <td>제15대 (1996~2000) 제209회</td>\n",
       "      <td>1. 1999년 8월 16일 李미경의원외 23인이 발의하여 동년 9월 10일 우리 ...</td>\n",
       "      <td>교육위원회</td>\n",
       "      <td>[]</td>\n",
       "      <td>위원장</td>\n",
       "      <td>NaN</td>\n",
       "      <td>0</td>\n",
       "    </tr>\n",
       "  </tbody>\n",
       "</table>\n",
       "</div>"
      ],
      "text/plain": [
       "     의안번호              의안명        제안일자 제안자구분        의결일자  의결결과  발의자  \\\n",
       "0  152550    청소년의성보호에관한법률안  2000-01-13   위원장  2000-01-14  원안가결  위원장   \n",
       "1  152499      사립학교법중개정법률안  1999-12-17   위원장  1999-12-28  원안가결  위원장   \n",
       "2  152498     교육공무원법중개정법률안  1999-12-17   위원장  1999-12-28  원안가결  위원장   \n",
       "\n",
       "                     제안회기                                               제안이유  \\\n",
       "0  제15대 (1996~2000) 제209회  1. 1999년 11월 4일 박상천·林채정·정세균·방용석의원외 101인이 발의한 아...   \n",
       "1  제15대 (1996~2000) 제209회  1. 1999년 9월 10일 李미경의원외 23인이 발의하여 동일 우리 위원회에 회부...   \n",
       "2  제15대 (1996~2000) 제209회  1. 1999년 8월 16일 李미경의원외 23인이 발의하여 동년 9월 10일 우리 ...   \n",
       "\n",
       "   소관위원회 제안자 제안정당   성별  여성의원 수  \n",
       "0  정무위원회  []  위원장  NaN       0  \n",
       "1  교육위원회  []  위원장  NaN       0  \n",
       "2  교육위원회  []  위원장  NaN       0  "
      ]
     },
     "execution_count": 2,
     "metadata": {},
     "output_type": "execute_result"
    }
   ],
   "source": [
    "gender = pd.read_csv('15th-gender-bill.csv', index_col=0, encoding='utf-8')\n",
    "print(gender.shape)\n",
    "gender.head(3)"
   ]
  },
  {
   "cell_type": "code",
   "execution_count": 3,
   "metadata": {},
   "outputs": [
    {
     "data": {
      "text/html": [
       "<div>\n",
       "<style scoped>\n",
       "    .dataframe tbody tr th:only-of-type {\n",
       "        vertical-align: middle;\n",
       "    }\n",
       "\n",
       "    .dataframe tbody tr th {\n",
       "        vertical-align: top;\n",
       "    }\n",
       "\n",
       "    .dataframe thead th {\n",
       "        text-align: right;\n",
       "    }\n",
       "</style>\n",
       "<table border=\"1\" class=\"dataframe\">\n",
       "  <thead>\n",
       "    <tr style=\"text-align: right;\">\n",
       "      <th></th>\n",
       "      <th>의안번호</th>\n",
       "      <th>제안자</th>\n",
       "    </tr>\n",
       "  </thead>\n",
       "  <tbody>\n",
       "    <tr>\n",
       "      <th>0</th>\n",
       "      <td>152550</td>\n",
       "      <td>[]</td>\n",
       "    </tr>\n",
       "    <tr>\n",
       "      <th>1</th>\n",
       "      <td>152499</td>\n",
       "      <td>[]</td>\n",
       "    </tr>\n",
       "    <tr>\n",
       "      <th>2</th>\n",
       "      <td>152498</td>\n",
       "      <td>[]</td>\n",
       "    </tr>\n",
       "  </tbody>\n",
       "</table>\n",
       "</div>"
      ],
      "text/plain": [
       "     의안번호 제안자\n",
       "0  152550  []\n",
       "1  152499  []\n",
       "2  152498  []"
      ]
     },
     "execution_count": 3,
     "metadata": {},
     "output_type": "execute_result"
    }
   ],
   "source": [
    "gender = gender[['의안번호','제안자']]\n",
    "gender.head(3)"
   ]
  },
  {
   "cell_type": "code",
   "execution_count": 4,
   "metadata": {},
   "outputs": [
    {
     "name": "stdout",
     "output_type": "stream",
     "text": [
      "CPU times: user 7.24 ms, sys: 406 µs, total: 7.65 ms\n",
      "Wall time: 7.63 ms\n"
     ]
    }
   ],
   "source": [
    "%time gender['제안자'] = gender['제안자'].apply(literal_eval)"
   ]
  },
  {
   "cell_type": "code",
   "execution_count": null,
   "metadata": {},
   "outputs": [],
   "source": []
  },
  {
   "cell_type": "markdown",
   "metadata": {},
   "source": [
    "## 발의자 코딩"
   ]
  },
  {
   "cell_type": "code",
   "execution_count": 5,
   "metadata": {},
   "outputs": [
    {
     "data": {
      "text/plain": [
       "322"
      ]
     },
     "execution_count": 5,
     "metadata": {},
     "output_type": "execute_result"
    }
   ],
   "source": [
    "proposer_list = []\n",
    "\n",
    "for names in gender['제안자']: \n",
    "    proposer_set = set(proposer_list)\n",
    "    names_set = set(names)\n",
    "    minus = list(names_set.difference(proposer_set))\n",
    "    proposer_list.extend(minus)\n",
    "    \n",
    "len(proposer_list)"
   ]
  },
  {
   "cell_type": "code",
   "execution_count": 6,
   "metadata": {},
   "outputs": [],
   "source": [
    "def get_proposer_dummies(proposer): \n",
    "    for n in tqdm(range(proposer.shape[1])): \n",
    "        df = pd.get_dummies(proposer[n])\n",
    "        if n == 0: \n",
    "            final_df = df \n",
    "        else: \n",
    "            final_df = final_df.add(df, fill_value=0)\n",
    "    return final_df"
   ]
  },
  {
   "cell_type": "code",
   "execution_count": 7,
   "metadata": {},
   "outputs": [
    {
     "name": "stderr",
     "output_type": "stream",
     "text": [
      "<ipython-input-7-5cd51fc5867d>:1: DeprecationWarning: The default dtype for empty Series will be 'object' instead of 'float64' in a future version. Specify a dtype explicitly to silence this warning.\n",
      "  proposer = gender['제안자'].apply(lambda x: pd.Series(x))\n",
      "100%|██████████| 149/149 [02:21<00:00,  1.05it/s]"
     ]
    },
    {
     "name": "stdout",
     "output_type": "stream",
     "text": [
      "CPU times: user 2min 17s, sys: 2.5 s, total: 2min 19s\n",
      "Wall time: 2min 21s\n",
      "(83, 322)\n"
     ]
    },
    {
     "name": "stderr",
     "output_type": "stream",
     "text": [
      "\n"
     ]
    }
   ],
   "source": [
    "proposer = gender['제안자'].apply(lambda x: pd.Series(x))\n",
    "\n",
    "%time proposer_dummies = get_proposer_dummies(proposer)\n",
    "print(proposer_dummies.shape)"
   ]
  },
  {
   "cell_type": "code",
   "execution_count": 8,
   "metadata": {},
   "outputs": [
    {
     "data": {
      "text/html": [
       "<div>\n",
       "<style scoped>\n",
       "    .dataframe tbody tr th:only-of-type {\n",
       "        vertical-align: middle;\n",
       "    }\n",
       "\n",
       "    .dataframe tbody tr th {\n",
       "        vertical-align: top;\n",
       "    }\n",
       "\n",
       "    .dataframe thead th {\n",
       "        text-align: right;\n",
       "    }\n",
       "</style>\n",
       "<table border=\"1\" class=\"dataframe\">\n",
       "  <thead>\n",
       "    <tr style=\"text-align: right;\">\n",
       "      <th></th>\n",
       "      <th>강삼재</th>\n",
       "      <th>강성재</th>\n",
       "      <th>강용식</th>\n",
       "      <th>강재섭</th>\n",
       "      <th>강종희</th>\n",
       "      <th>강현욱</th>\n",
       "      <th>구천서</th>\n",
       "      <th>국창근</th>\n",
       "      <th>권기술</th>\n",
       "      <th>권수창</th>\n",
       "      <th>...</th>\n",
       "      <th>홍문종</th>\n",
       "      <th>홍사덕</th>\n",
       "      <th>홍인길</th>\n",
       "      <th>홍준표</th>\n",
       "      <th>황규선</th>\n",
       "      <th>황낙주</th>\n",
       "      <th>황병태</th>\n",
       "      <th>황성균</th>\n",
       "      <th>황우여</th>\n",
       "      <th>황학수</th>\n",
       "    </tr>\n",
       "  </thead>\n",
       "  <tbody>\n",
       "    <tr>\n",
       "      <th>0</th>\n",
       "      <td>0.0</td>\n",
       "      <td>0.0</td>\n",
       "      <td>0.0</td>\n",
       "      <td>0.0</td>\n",
       "      <td>0.0</td>\n",
       "      <td>0.0</td>\n",
       "      <td>0.0</td>\n",
       "      <td>0.0</td>\n",
       "      <td>0.0</td>\n",
       "      <td>0.0</td>\n",
       "      <td>...</td>\n",
       "      <td>0.0</td>\n",
       "      <td>0.0</td>\n",
       "      <td>0.0</td>\n",
       "      <td>0.0</td>\n",
       "      <td>0.0</td>\n",
       "      <td>0.0</td>\n",
       "      <td>0.0</td>\n",
       "      <td>0.0</td>\n",
       "      <td>0.0</td>\n",
       "      <td>0.0</td>\n",
       "    </tr>\n",
       "    <tr>\n",
       "      <th>1</th>\n",
       "      <td>0.0</td>\n",
       "      <td>0.0</td>\n",
       "      <td>0.0</td>\n",
       "      <td>0.0</td>\n",
       "      <td>0.0</td>\n",
       "      <td>0.0</td>\n",
       "      <td>0.0</td>\n",
       "      <td>0.0</td>\n",
       "      <td>0.0</td>\n",
       "      <td>0.0</td>\n",
       "      <td>...</td>\n",
       "      <td>0.0</td>\n",
       "      <td>0.0</td>\n",
       "      <td>0.0</td>\n",
       "      <td>0.0</td>\n",
       "      <td>0.0</td>\n",
       "      <td>0.0</td>\n",
       "      <td>0.0</td>\n",
       "      <td>0.0</td>\n",
       "      <td>0.0</td>\n",
       "      <td>0.0</td>\n",
       "    </tr>\n",
       "    <tr>\n",
       "      <th>2</th>\n",
       "      <td>0.0</td>\n",
       "      <td>0.0</td>\n",
       "      <td>0.0</td>\n",
       "      <td>0.0</td>\n",
       "      <td>0.0</td>\n",
       "      <td>0.0</td>\n",
       "      <td>0.0</td>\n",
       "      <td>0.0</td>\n",
       "      <td>0.0</td>\n",
       "      <td>0.0</td>\n",
       "      <td>...</td>\n",
       "      <td>0.0</td>\n",
       "      <td>0.0</td>\n",
       "      <td>0.0</td>\n",
       "      <td>0.0</td>\n",
       "      <td>0.0</td>\n",
       "      <td>0.0</td>\n",
       "      <td>0.0</td>\n",
       "      <td>0.0</td>\n",
       "      <td>0.0</td>\n",
       "      <td>0.0</td>\n",
       "    </tr>\n",
       "  </tbody>\n",
       "</table>\n",
       "<p>3 rows × 322 columns</p>\n",
       "</div>"
      ],
      "text/plain": [
       "   강삼재  강성재  강용식  강재섭  강종희  강현욱  구천서  국창근  권기술  권수창  ...  홍문종  홍사덕  홍인길  홍준표  \\\n",
       "0  0.0  0.0  0.0  0.0  0.0  0.0  0.0  0.0  0.0  0.0  ...  0.0  0.0  0.0  0.0   \n",
       "1  0.0  0.0  0.0  0.0  0.0  0.0  0.0  0.0  0.0  0.0  ...  0.0  0.0  0.0  0.0   \n",
       "2  0.0  0.0  0.0  0.0  0.0  0.0  0.0  0.0  0.0  0.0  ...  0.0  0.0  0.0  0.0   \n",
       "\n",
       "   황규선  황낙주  황병태  황성균  황우여  황학수  \n",
       "0  0.0  0.0  0.0  0.0  0.0  0.0  \n",
       "1  0.0  0.0  0.0  0.0  0.0  0.0  \n",
       "2  0.0  0.0  0.0  0.0  0.0  0.0  \n",
       "\n",
       "[3 rows x 322 columns]"
      ]
     },
     "execution_count": 8,
     "metadata": {},
     "output_type": "execute_result"
    }
   ],
   "source": [
    "proposer_dummies.head(3)"
   ]
  },
  {
   "cell_type": "code",
   "execution_count": 9,
   "metadata": {},
   "outputs": [],
   "source": [
    "gender = pd.concat([gender, proposer_dummies], axis=1)"
   ]
  },
  {
   "cell_type": "code",
   "execution_count": 10,
   "metadata": {},
   "outputs": [],
   "source": [
    "gender = gender.drop(['제안자','의안번호'],1)"
   ]
  },
  {
   "cell_type": "code",
   "execution_count": 11,
   "metadata": {},
   "outputs": [
    {
     "data": {
      "text/html": [
       "<div>\n",
       "<style scoped>\n",
       "    .dataframe tbody tr th:only-of-type {\n",
       "        vertical-align: middle;\n",
       "    }\n",
       "\n",
       "    .dataframe tbody tr th {\n",
       "        vertical-align: top;\n",
       "    }\n",
       "\n",
       "    .dataframe thead th {\n",
       "        text-align: right;\n",
       "    }\n",
       "</style>\n",
       "<table border=\"1\" class=\"dataframe\">\n",
       "  <thead>\n",
       "    <tr style=\"text-align: right;\">\n",
       "      <th></th>\n",
       "      <th>강삼재</th>\n",
       "      <th>강성재</th>\n",
       "      <th>강용식</th>\n",
       "      <th>강재섭</th>\n",
       "      <th>강종희</th>\n",
       "      <th>강현욱</th>\n",
       "      <th>구천서</th>\n",
       "      <th>국창근</th>\n",
       "      <th>권기술</th>\n",
       "      <th>권수창</th>\n",
       "      <th>...</th>\n",
       "      <th>홍문종</th>\n",
       "      <th>홍사덕</th>\n",
       "      <th>홍인길</th>\n",
       "      <th>홍준표</th>\n",
       "      <th>황규선</th>\n",
       "      <th>황낙주</th>\n",
       "      <th>황병태</th>\n",
       "      <th>황성균</th>\n",
       "      <th>황우여</th>\n",
       "      <th>황학수</th>\n",
       "    </tr>\n",
       "  </thead>\n",
       "  <tbody>\n",
       "    <tr>\n",
       "      <th>0</th>\n",
       "      <td>0.0</td>\n",
       "      <td>0.0</td>\n",
       "      <td>0.0</td>\n",
       "      <td>0.0</td>\n",
       "      <td>0.0</td>\n",
       "      <td>0.0</td>\n",
       "      <td>0.0</td>\n",
       "      <td>0.0</td>\n",
       "      <td>0.0</td>\n",
       "      <td>0.0</td>\n",
       "      <td>...</td>\n",
       "      <td>0.0</td>\n",
       "      <td>0.0</td>\n",
       "      <td>0.0</td>\n",
       "      <td>0.0</td>\n",
       "      <td>0.0</td>\n",
       "      <td>0.0</td>\n",
       "      <td>0.0</td>\n",
       "      <td>0.0</td>\n",
       "      <td>0.0</td>\n",
       "      <td>0.0</td>\n",
       "    </tr>\n",
       "    <tr>\n",
       "      <th>1</th>\n",
       "      <td>0.0</td>\n",
       "      <td>0.0</td>\n",
       "      <td>0.0</td>\n",
       "      <td>0.0</td>\n",
       "      <td>0.0</td>\n",
       "      <td>0.0</td>\n",
       "      <td>0.0</td>\n",
       "      <td>0.0</td>\n",
       "      <td>0.0</td>\n",
       "      <td>0.0</td>\n",
       "      <td>...</td>\n",
       "      <td>0.0</td>\n",
       "      <td>0.0</td>\n",
       "      <td>0.0</td>\n",
       "      <td>0.0</td>\n",
       "      <td>0.0</td>\n",
       "      <td>0.0</td>\n",
       "      <td>0.0</td>\n",
       "      <td>0.0</td>\n",
       "      <td>0.0</td>\n",
       "      <td>0.0</td>\n",
       "    </tr>\n",
       "    <tr>\n",
       "      <th>2</th>\n",
       "      <td>0.0</td>\n",
       "      <td>0.0</td>\n",
       "      <td>0.0</td>\n",
       "      <td>0.0</td>\n",
       "      <td>0.0</td>\n",
       "      <td>0.0</td>\n",
       "      <td>0.0</td>\n",
       "      <td>0.0</td>\n",
       "      <td>0.0</td>\n",
       "      <td>0.0</td>\n",
       "      <td>...</td>\n",
       "      <td>0.0</td>\n",
       "      <td>0.0</td>\n",
       "      <td>0.0</td>\n",
       "      <td>0.0</td>\n",
       "      <td>0.0</td>\n",
       "      <td>0.0</td>\n",
       "      <td>0.0</td>\n",
       "      <td>0.0</td>\n",
       "      <td>0.0</td>\n",
       "      <td>0.0</td>\n",
       "    </tr>\n",
       "    <tr>\n",
       "      <th>3</th>\n",
       "      <td>0.0</td>\n",
       "      <td>0.0</td>\n",
       "      <td>0.0</td>\n",
       "      <td>0.0</td>\n",
       "      <td>0.0</td>\n",
       "      <td>0.0</td>\n",
       "      <td>0.0</td>\n",
       "      <td>0.0</td>\n",
       "      <td>0.0</td>\n",
       "      <td>0.0</td>\n",
       "      <td>...</td>\n",
       "      <td>0.0</td>\n",
       "      <td>0.0</td>\n",
       "      <td>0.0</td>\n",
       "      <td>0.0</td>\n",
       "      <td>0.0</td>\n",
       "      <td>0.0</td>\n",
       "      <td>0.0</td>\n",
       "      <td>0.0</td>\n",
       "      <td>0.0</td>\n",
       "      <td>0.0</td>\n",
       "    </tr>\n",
       "    <tr>\n",
       "      <th>4</th>\n",
       "      <td>0.0</td>\n",
       "      <td>0.0</td>\n",
       "      <td>0.0</td>\n",
       "      <td>0.0</td>\n",
       "      <td>0.0</td>\n",
       "      <td>0.0</td>\n",
       "      <td>0.0</td>\n",
       "      <td>0.0</td>\n",
       "      <td>0.0</td>\n",
       "      <td>0.0</td>\n",
       "      <td>...</td>\n",
       "      <td>0.0</td>\n",
       "      <td>0.0</td>\n",
       "      <td>0.0</td>\n",
       "      <td>0.0</td>\n",
       "      <td>0.0</td>\n",
       "      <td>0.0</td>\n",
       "      <td>0.0</td>\n",
       "      <td>0.0</td>\n",
       "      <td>0.0</td>\n",
       "      <td>0.0</td>\n",
       "    </tr>\n",
       "  </tbody>\n",
       "</table>\n",
       "<p>5 rows × 322 columns</p>\n",
       "</div>"
      ],
      "text/plain": [
       "   강삼재  강성재  강용식  강재섭  강종희  강현욱  구천서  국창근  권기술  권수창  ...  홍문종  홍사덕  홍인길  홍준표  \\\n",
       "0  0.0  0.0  0.0  0.0  0.0  0.0  0.0  0.0  0.0  0.0  ...  0.0  0.0  0.0  0.0   \n",
       "1  0.0  0.0  0.0  0.0  0.0  0.0  0.0  0.0  0.0  0.0  ...  0.0  0.0  0.0  0.0   \n",
       "2  0.0  0.0  0.0  0.0  0.0  0.0  0.0  0.0  0.0  0.0  ...  0.0  0.0  0.0  0.0   \n",
       "3  0.0  0.0  0.0  0.0  0.0  0.0  0.0  0.0  0.0  0.0  ...  0.0  0.0  0.0  0.0   \n",
       "4  0.0  0.0  0.0  0.0  0.0  0.0  0.0  0.0  0.0  0.0  ...  0.0  0.0  0.0  0.0   \n",
       "\n",
       "   황규선  황낙주  황병태  황성균  황우여  황학수  \n",
       "0  0.0  0.0  0.0  0.0  0.0  0.0  \n",
       "1  0.0  0.0  0.0  0.0  0.0  0.0  \n",
       "2  0.0  0.0  0.0  0.0  0.0  0.0  \n",
       "3  0.0  0.0  0.0  0.0  0.0  0.0  \n",
       "4  0.0  0.0  0.0  0.0  0.0  0.0  \n",
       "\n",
       "[5 rows x 322 columns]"
      ]
     },
     "execution_count": 11,
     "metadata": {},
     "output_type": "execute_result"
    }
   ],
   "source": [
    "gender.head()"
   ]
  },
  {
   "cell_type": "code",
   "execution_count": 31,
   "metadata": {},
   "outputs": [
    {
     "data": {
      "text/plain": [
       "322"
      ]
     },
     "execution_count": 31,
     "metadata": {},
     "output_type": "execute_result"
    }
   ],
   "source": [
    "len(gender.columns)"
   ]
  },
  {
   "cell_type": "code",
   "execution_count": 12,
   "metadata": {},
   "outputs": [],
   "source": [
    "gender.to_csv('15th-proposer-list.csv')"
   ]
  },
  {
   "cell_type": "code",
   "execution_count": null,
   "metadata": {},
   "outputs": [],
   "source": []
  },
  {
   "cell_type": "markdown",
   "metadata": {},
   "source": [
    "## 성별 평균 비교\n",
    "\n",
    "### 여성"
   ]
  },
  {
   "cell_type": "code",
   "execution_count": 48,
   "metadata": {},
   "outputs": [],
   "source": [
    "# 양창순, 박윤옥 제외 \n",
    "women_list = ['박근혜','권영자','오양순','김영선','추미애','정희경','신낙균','이미경','임진출']\n",
    "no_list_women = ['양창순','박윤옥']"
   ]
  },
  {
   "cell_type": "code",
   "execution_count": 49,
   "metadata": {},
   "outputs": [
    {
     "data": {
      "text/html": [
       "<div>\n",
       "<style scoped>\n",
       "    .dataframe tbody tr th:only-of-type {\n",
       "        vertical-align: middle;\n",
       "    }\n",
       "\n",
       "    .dataframe tbody tr th {\n",
       "        vertical-align: top;\n",
       "    }\n",
       "\n",
       "    .dataframe thead th {\n",
       "        text-align: right;\n",
       "    }\n",
       "</style>\n",
       "<table border=\"1\" class=\"dataframe\">\n",
       "  <thead>\n",
       "    <tr style=\"text-align: right;\">\n",
       "      <th></th>\n",
       "      <th>박근혜</th>\n",
       "      <th>권영자</th>\n",
       "      <th>오양순</th>\n",
       "      <th>김영선</th>\n",
       "      <th>추미애</th>\n",
       "      <th>정희경</th>\n",
       "      <th>신낙균</th>\n",
       "      <th>이미경</th>\n",
       "      <th>임진출</th>\n",
       "    </tr>\n",
       "  </thead>\n",
       "  <tbody>\n",
       "    <tr>\n",
       "      <th>0</th>\n",
       "      <td>0.0</td>\n",
       "      <td>0.0</td>\n",
       "      <td>0.0</td>\n",
       "      <td>0.0</td>\n",
       "      <td>0.0</td>\n",
       "      <td>0.0</td>\n",
       "      <td>0.0</td>\n",
       "      <td>0.0</td>\n",
       "      <td>0.0</td>\n",
       "    </tr>\n",
       "    <tr>\n",
       "      <th>1</th>\n",
       "      <td>0.0</td>\n",
       "      <td>0.0</td>\n",
       "      <td>0.0</td>\n",
       "      <td>0.0</td>\n",
       "      <td>0.0</td>\n",
       "      <td>0.0</td>\n",
       "      <td>0.0</td>\n",
       "      <td>0.0</td>\n",
       "      <td>0.0</td>\n",
       "    </tr>\n",
       "    <tr>\n",
       "      <th>2</th>\n",
       "      <td>0.0</td>\n",
       "      <td>0.0</td>\n",
       "      <td>0.0</td>\n",
       "      <td>0.0</td>\n",
       "      <td>0.0</td>\n",
       "      <td>0.0</td>\n",
       "      <td>0.0</td>\n",
       "      <td>0.0</td>\n",
       "      <td>0.0</td>\n",
       "    </tr>\n",
       "    <tr>\n",
       "      <th>3</th>\n",
       "      <td>1.0</td>\n",
       "      <td>1.0</td>\n",
       "      <td>1.0</td>\n",
       "      <td>1.0</td>\n",
       "      <td>0.0</td>\n",
       "      <td>1.0</td>\n",
       "      <td>0.0</td>\n",
       "      <td>0.0</td>\n",
       "      <td>1.0</td>\n",
       "    </tr>\n",
       "    <tr>\n",
       "      <th>4</th>\n",
       "      <td>1.0</td>\n",
       "      <td>1.0</td>\n",
       "      <td>1.0</td>\n",
       "      <td>1.0</td>\n",
       "      <td>0.0</td>\n",
       "      <td>1.0</td>\n",
       "      <td>0.0</td>\n",
       "      <td>0.0</td>\n",
       "      <td>1.0</td>\n",
       "    </tr>\n",
       "  </tbody>\n",
       "</table>\n",
       "</div>"
      ],
      "text/plain": [
       "   박근혜  권영자  오양순  김영선  추미애  정희경  신낙균  이미경  임진출\n",
       "0  0.0  0.0  0.0  0.0  0.0  0.0  0.0  0.0  0.0\n",
       "1  0.0  0.0  0.0  0.0  0.0  0.0  0.0  0.0  0.0\n",
       "2  0.0  0.0  0.0  0.0  0.0  0.0  0.0  0.0  0.0\n",
       "3  1.0  1.0  1.0  1.0  0.0  1.0  0.0  0.0  1.0\n",
       "4  1.0  1.0  1.0  1.0  0.0  1.0  0.0  0.0  1.0"
      ]
     },
     "execution_count": 49,
     "metadata": {},
     "output_type": "execute_result"
    }
   ],
   "source": [
    "women = gender[women_list]\n",
    "women.head()"
   ]
  },
  {
   "cell_type": "code",
   "execution_count": 50,
   "metadata": {},
   "outputs": [
    {
     "name": "stdout",
     "output_type": "stream",
     "text": [
      "[0, 0]\n",
      "2\n"
     ]
    }
   ],
   "source": [
    "add_list = [0 for n in range(len(no_list_women))]\n",
    "print(add_list)\n",
    "print(len(add_list))"
   ]
  },
  {
   "cell_type": "code",
   "execution_count": 51,
   "metadata": {},
   "outputs": [
    {
     "name": "stdout",
     "output_type": "stream",
     "text": [
      "11\n",
      "평균 여성 발의: 16.363636363636363\n"
     ]
    }
   ],
   "source": [
    "women_count = women.sum(axis=0).tolist() + add_list\n",
    "print(len(women_count))\n",
    "\n",
    "women_count = np.array(women_count)\n",
    "print('평균 여성 발의:', np.mean(women_count))"
   ]
  },
  {
   "cell_type": "markdown",
   "metadata": {},
   "source": [
    "### 남성\n",
    "\n",
    "- 보궐선거, 재보궐선거 등 국회의원 수를 정확히 책정할 수 없음. \n",
    "- 따라서 당시 국회의원수를 기준으로 (국회의원수 - 여성의원수)로 책정함. \n",
    "- 동명이인 있어도 함께 세므로 평균을 내는 데에는 상관 없음."
   ]
  },
  {
   "cell_type": "code",
   "execution_count": 52,
   "metadata": {},
   "outputs": [
    {
     "data": {
      "text/html": [
       "<div>\n",
       "<style scoped>\n",
       "    .dataframe tbody tr th:only-of-type {\n",
       "        vertical-align: middle;\n",
       "    }\n",
       "\n",
       "    .dataframe tbody tr th {\n",
       "        vertical-align: top;\n",
       "    }\n",
       "\n",
       "    .dataframe thead th {\n",
       "        text-align: right;\n",
       "    }\n",
       "</style>\n",
       "<table border=\"1\" class=\"dataframe\">\n",
       "  <thead>\n",
       "    <tr style=\"text-align: right;\">\n",
       "      <th></th>\n",
       "      <th>강삼재</th>\n",
       "      <th>강성재</th>\n",
       "      <th>강용식</th>\n",
       "      <th>강재섭</th>\n",
       "      <th>강종희</th>\n",
       "      <th>강현욱</th>\n",
       "      <th>구천서</th>\n",
       "      <th>국창근</th>\n",
       "      <th>권기술</th>\n",
       "      <th>권수창</th>\n",
       "      <th>...</th>\n",
       "      <th>홍문종</th>\n",
       "      <th>홍사덕</th>\n",
       "      <th>홍인길</th>\n",
       "      <th>홍준표</th>\n",
       "      <th>황규선</th>\n",
       "      <th>황낙주</th>\n",
       "      <th>황병태</th>\n",
       "      <th>황성균</th>\n",
       "      <th>황우여</th>\n",
       "      <th>황학수</th>\n",
       "    </tr>\n",
       "  </thead>\n",
       "  <tbody>\n",
       "    <tr>\n",
       "      <th>0</th>\n",
       "      <td>0.0</td>\n",
       "      <td>0.0</td>\n",
       "      <td>0.0</td>\n",
       "      <td>0.0</td>\n",
       "      <td>0.0</td>\n",
       "      <td>0.0</td>\n",
       "      <td>0.0</td>\n",
       "      <td>0.0</td>\n",
       "      <td>0.0</td>\n",
       "      <td>0.0</td>\n",
       "      <td>...</td>\n",
       "      <td>0.0</td>\n",
       "      <td>0.0</td>\n",
       "      <td>0.0</td>\n",
       "      <td>0.0</td>\n",
       "      <td>0.0</td>\n",
       "      <td>0.0</td>\n",
       "      <td>0.0</td>\n",
       "      <td>0.0</td>\n",
       "      <td>0.0</td>\n",
       "      <td>0.0</td>\n",
       "    </tr>\n",
       "    <tr>\n",
       "      <th>1</th>\n",
       "      <td>0.0</td>\n",
       "      <td>0.0</td>\n",
       "      <td>0.0</td>\n",
       "      <td>0.0</td>\n",
       "      <td>0.0</td>\n",
       "      <td>0.0</td>\n",
       "      <td>0.0</td>\n",
       "      <td>0.0</td>\n",
       "      <td>0.0</td>\n",
       "      <td>0.0</td>\n",
       "      <td>...</td>\n",
       "      <td>0.0</td>\n",
       "      <td>0.0</td>\n",
       "      <td>0.0</td>\n",
       "      <td>0.0</td>\n",
       "      <td>0.0</td>\n",
       "      <td>0.0</td>\n",
       "      <td>0.0</td>\n",
       "      <td>0.0</td>\n",
       "      <td>0.0</td>\n",
       "      <td>0.0</td>\n",
       "    </tr>\n",
       "    <tr>\n",
       "      <th>2</th>\n",
       "      <td>0.0</td>\n",
       "      <td>0.0</td>\n",
       "      <td>0.0</td>\n",
       "      <td>0.0</td>\n",
       "      <td>0.0</td>\n",
       "      <td>0.0</td>\n",
       "      <td>0.0</td>\n",
       "      <td>0.0</td>\n",
       "      <td>0.0</td>\n",
       "      <td>0.0</td>\n",
       "      <td>...</td>\n",
       "      <td>0.0</td>\n",
       "      <td>0.0</td>\n",
       "      <td>0.0</td>\n",
       "      <td>0.0</td>\n",
       "      <td>0.0</td>\n",
       "      <td>0.0</td>\n",
       "      <td>0.0</td>\n",
       "      <td>0.0</td>\n",
       "      <td>0.0</td>\n",
       "      <td>0.0</td>\n",
       "    </tr>\n",
       "    <tr>\n",
       "      <th>3</th>\n",
       "      <td>0.0</td>\n",
       "      <td>0.0</td>\n",
       "      <td>0.0</td>\n",
       "      <td>0.0</td>\n",
       "      <td>0.0</td>\n",
       "      <td>0.0</td>\n",
       "      <td>0.0</td>\n",
       "      <td>0.0</td>\n",
       "      <td>0.0</td>\n",
       "      <td>0.0</td>\n",
       "      <td>...</td>\n",
       "      <td>0.0</td>\n",
       "      <td>0.0</td>\n",
       "      <td>0.0</td>\n",
       "      <td>0.0</td>\n",
       "      <td>0.0</td>\n",
       "      <td>0.0</td>\n",
       "      <td>0.0</td>\n",
       "      <td>0.0</td>\n",
       "      <td>0.0</td>\n",
       "      <td>0.0</td>\n",
       "    </tr>\n",
       "    <tr>\n",
       "      <th>4</th>\n",
       "      <td>0.0</td>\n",
       "      <td>0.0</td>\n",
       "      <td>0.0</td>\n",
       "      <td>0.0</td>\n",
       "      <td>0.0</td>\n",
       "      <td>0.0</td>\n",
       "      <td>0.0</td>\n",
       "      <td>0.0</td>\n",
       "      <td>0.0</td>\n",
       "      <td>0.0</td>\n",
       "      <td>...</td>\n",
       "      <td>0.0</td>\n",
       "      <td>0.0</td>\n",
       "      <td>0.0</td>\n",
       "      <td>0.0</td>\n",
       "      <td>0.0</td>\n",
       "      <td>0.0</td>\n",
       "      <td>0.0</td>\n",
       "      <td>0.0</td>\n",
       "      <td>0.0</td>\n",
       "      <td>0.0</td>\n",
       "    </tr>\n",
       "  </tbody>\n",
       "</table>\n",
       "<p>5 rows × 313 columns</p>\n",
       "</div>"
      ],
      "text/plain": [
       "   강삼재  강성재  강용식  강재섭  강종희  강현욱  구천서  국창근  권기술  권수창  ...  홍문종  홍사덕  홍인길  홍준표  \\\n",
       "0  0.0  0.0  0.0  0.0  0.0  0.0  0.0  0.0  0.0  0.0  ...  0.0  0.0  0.0  0.0   \n",
       "1  0.0  0.0  0.0  0.0  0.0  0.0  0.0  0.0  0.0  0.0  ...  0.0  0.0  0.0  0.0   \n",
       "2  0.0  0.0  0.0  0.0  0.0  0.0  0.0  0.0  0.0  0.0  ...  0.0  0.0  0.0  0.0   \n",
       "3  0.0  0.0  0.0  0.0  0.0  0.0  0.0  0.0  0.0  0.0  ...  0.0  0.0  0.0  0.0   \n",
       "4  0.0  0.0  0.0  0.0  0.0  0.0  0.0  0.0  0.0  0.0  ...  0.0  0.0  0.0  0.0   \n",
       "\n",
       "   황규선  황낙주  황병태  황성균  황우여  황학수  \n",
       "0  0.0  0.0  0.0  0.0  0.0  0.0  \n",
       "1  0.0  0.0  0.0  0.0  0.0  0.0  \n",
       "2  0.0  0.0  0.0  0.0  0.0  0.0  \n",
       "3  0.0  0.0  0.0  0.0  0.0  0.0  \n",
       "4  0.0  0.0  0.0  0.0  0.0  0.0  \n",
       "\n",
       "[5 rows x 313 columns]"
      ]
     },
     "execution_count": 52,
     "metadata": {},
     "output_type": "execute_result"
    }
   ],
   "source": [
    "men = gender.drop(women_list, 1)\n",
    "men.head()"
   ]
  },
  {
   "cell_type": "code",
   "execution_count": 53,
   "metadata": {},
   "outputs": [
    {
     "name": "stdout",
     "output_type": "stream",
     "text": [
      "총 남자의원 수: 288\n"
     ]
    }
   ],
   "source": [
    "total_num = 299 \n",
    "total_men_num = total_num - len(women_list) - len(no_list_women)\n",
    "print('총 남자의원 수:', total_men_num)"
   ]
  },
  {
   "cell_type": "code",
   "execution_count": 54,
   "metadata": {},
   "outputs": [
    {
     "data": {
      "text/plain": [
       "3088.0"
      ]
     },
     "execution_count": 54,
     "metadata": {},
     "output_type": "execute_result"
    }
   ],
   "source": [
    "men_count = np.array(men.sum(axis=0).tolist())\n",
    "np.sum(men_count)"
   ]
  },
  {
   "cell_type": "code",
   "execution_count": 56,
   "metadata": {},
   "outputs": [
    {
     "name": "stdout",
     "output_type": "stream",
     "text": [
      "평균 남성발의: 10.722222222222221\n"
     ]
    }
   ],
   "source": [
    "print('평균 남성발의:', np.sum(men_count) / total_men_num)"
   ]
  },
  {
   "cell_type": "code",
   "execution_count": null,
   "metadata": {},
   "outputs": [],
   "source": []
  },
  {
   "cell_type": "markdown",
   "metadata": {},
   "source": [
    "## 정당 코딩"
   ]
  },
  {
   "cell_type": "code",
   "execution_count": 57,
   "metadata": {},
   "outputs": [
    {
     "data": {
      "text/html": [
       "<div>\n",
       "<style scoped>\n",
       "    .dataframe tbody tr th:only-of-type {\n",
       "        vertical-align: middle;\n",
       "    }\n",
       "\n",
       "    .dataframe tbody tr th {\n",
       "        vertical-align: top;\n",
       "    }\n",
       "\n",
       "    .dataframe thead th {\n",
       "        text-align: right;\n",
       "    }\n",
       "</style>\n",
       "<table border=\"1\" class=\"dataframe\">\n",
       "  <thead>\n",
       "    <tr style=\"text-align: right;\">\n",
       "      <th></th>\n",
       "      <th>의안번호</th>\n",
       "      <th>의안명</th>\n",
       "      <th>제안일자</th>\n",
       "      <th>제안자구분</th>\n",
       "      <th>의결일자</th>\n",
       "      <th>의결결과</th>\n",
       "      <th>발의자</th>\n",
       "      <th>제안회기</th>\n",
       "      <th>제안이유</th>\n",
       "      <th>소관위원회</th>\n",
       "      <th>제안자</th>\n",
       "      <th>제안정당</th>\n",
       "      <th>성별</th>\n",
       "      <th>여성의원 수</th>\n",
       "    </tr>\n",
       "  </thead>\n",
       "  <tbody>\n",
       "    <tr>\n",
       "      <th>0</th>\n",
       "      <td>152550</td>\n",
       "      <td>청소년의성보호에관한법률안</td>\n",
       "      <td>2000-01-13</td>\n",
       "      <td>위원장</td>\n",
       "      <td>2000-01-14</td>\n",
       "      <td>원안가결</td>\n",
       "      <td>위원장</td>\n",
       "      <td>제15대 (1996~2000) 제209회</td>\n",
       "      <td>1. 1999년 11월 4일 박상천·林채정·정세균·방용석의원외 101인이 발의한 아...</td>\n",
       "      <td>정무위원회</td>\n",
       "      <td>[]</td>\n",
       "      <td>위원장</td>\n",
       "      <td>NaN</td>\n",
       "      <td>0</td>\n",
       "    </tr>\n",
       "    <tr>\n",
       "      <th>1</th>\n",
       "      <td>152499</td>\n",
       "      <td>사립학교법중개정법률안</td>\n",
       "      <td>1999-12-17</td>\n",
       "      <td>위원장</td>\n",
       "      <td>1999-12-28</td>\n",
       "      <td>원안가결</td>\n",
       "      <td>위원장</td>\n",
       "      <td>제15대 (1996~2000) 제209회</td>\n",
       "      <td>1. 1999년 9월 10일 李미경의원외 23인이 발의하여 동일 우리 위원회에 회부...</td>\n",
       "      <td>교육위원회</td>\n",
       "      <td>[]</td>\n",
       "      <td>위원장</td>\n",
       "      <td>NaN</td>\n",
       "      <td>0</td>\n",
       "    </tr>\n",
       "    <tr>\n",
       "      <th>2</th>\n",
       "      <td>152498</td>\n",
       "      <td>교육공무원법중개정법률안</td>\n",
       "      <td>1999-12-17</td>\n",
       "      <td>위원장</td>\n",
       "      <td>1999-12-28</td>\n",
       "      <td>원안가결</td>\n",
       "      <td>위원장</td>\n",
       "      <td>제15대 (1996~2000) 제209회</td>\n",
       "      <td>1. 1999년 8월 16일 李미경의원외 23인이 발의하여 동년 9월 10일 우리 ...</td>\n",
       "      <td>교육위원회</td>\n",
       "      <td>[]</td>\n",
       "      <td>위원장</td>\n",
       "      <td>NaN</td>\n",
       "      <td>0</td>\n",
       "    </tr>\n",
       "    <tr>\n",
       "      <th>3</th>\n",
       "      <td>152488</td>\n",
       "      <td>남녀고용평등법중개정법률안</td>\n",
       "      <td>1999-12-16</td>\n",
       "      <td>의원</td>\n",
       "      <td>2000-05-29</td>\n",
       "      <td>임기만료폐기</td>\n",
       "      <td>김정숙</td>\n",
       "      <td>제15대 (1996~2000) 제208회</td>\n",
       "      <td>현재 무급인 육아휴직기간의 소득보장을 위하여 고용보험법에서 임金의 일부를 지급하도록...</td>\n",
       "      <td>환경노동위원회</td>\n",
       "      <td>['김정숙', '권영자', '김영선', '김영환', '김칠환', '박근혜', '박범...</td>\n",
       "      <td>신한국당</td>\n",
       "      <td>남성</td>\n",
       "      <td>6</td>\n",
       "    </tr>\n",
       "    <tr>\n",
       "      <th>4</th>\n",
       "      <td>152486</td>\n",
       "      <td>국민건강보험법중개정법률안</td>\n",
       "      <td>1999-12-16</td>\n",
       "      <td>의원</td>\n",
       "      <td>2000-05-29</td>\n",
       "      <td>임기만료폐기</td>\n",
       "      <td>김정숙</td>\n",
       "      <td>제15대 (1996~2000) 제208회</td>\n",
       "      <td>여성의 모성기능 보호의 일환으로 임산부가 태아건강검진을 받고 산전후 휴식을 취하는 ...</td>\n",
       "      <td>보건복지위원회</td>\n",
       "      <td>['김정숙', '권영자', '김영선', '김영환', '김칠환', '박근혜', '박범...</td>\n",
       "      <td>신한국당</td>\n",
       "      <td>남성</td>\n",
       "      <td>6</td>\n",
       "    </tr>\n",
       "  </tbody>\n",
       "</table>\n",
       "</div>"
      ],
      "text/plain": [
       "     의안번호              의안명        제안일자 제안자구분        의결일자    의결결과  발의자  \\\n",
       "0  152550    청소년의성보호에관한법률안  2000-01-13   위원장  2000-01-14    원안가결  위원장   \n",
       "1  152499      사립학교법중개정법률안  1999-12-17   위원장  1999-12-28    원안가결  위원장   \n",
       "2  152498     교육공무원법중개정법률안  1999-12-17   위원장  1999-12-28    원안가결  위원장   \n",
       "3  152488    남녀고용평등법중개정법률안  1999-12-16    의원  2000-05-29  임기만료폐기  김정숙   \n",
       "4  152486    국민건강보험법중개정법률안  1999-12-16    의원  2000-05-29  임기만료폐기  김정숙   \n",
       "\n",
       "                     제안회기                                               제안이유  \\\n",
       "0  제15대 (1996~2000) 제209회  1. 1999년 11월 4일 박상천·林채정·정세균·방용석의원외 101인이 발의한 아...   \n",
       "1  제15대 (1996~2000) 제209회  1. 1999년 9월 10일 李미경의원외 23인이 발의하여 동일 우리 위원회에 회부...   \n",
       "2  제15대 (1996~2000) 제209회  1. 1999년 8월 16일 李미경의원외 23인이 발의하여 동년 9월 10일 우리 ...   \n",
       "3  제15대 (1996~2000) 제208회  현재 무급인 육아휴직기간의 소득보장을 위하여 고용보험법에서 임金의 일부를 지급하도록...   \n",
       "4  제15대 (1996~2000) 제208회  여성의 모성기능 보호의 일환으로 임산부가 태아건강검진을 받고 산전후 휴식을 취하는 ...   \n",
       "\n",
       "     소관위원회                                                제안자  제안정당   성별  \\\n",
       "0    정무위원회                                                 []   위원장  NaN   \n",
       "1    교육위원회                                                 []   위원장  NaN   \n",
       "2    교육위원회                                                 []   위원장  NaN   \n",
       "3  환경노동위원회  ['김정숙', '권영자', '김영선', '김영환', '김칠환', '박근혜', '박범...  신한국당   남성   \n",
       "4  보건복지위원회  ['김정숙', '권영자', '김영선', '김영환', '김칠환', '박근혜', '박범...  신한국당   남성   \n",
       "\n",
       "   여성의원 수  \n",
       "0       0  \n",
       "1       0  \n",
       "2       0  \n",
       "3       6  \n",
       "4       6  "
      ]
     },
     "execution_count": 57,
     "metadata": {},
     "output_type": "execute_result"
    }
   ],
   "source": [
    "party = pd.read_csv('15th-gender-bill.csv', index_col=0, encoding='utf-8')\n",
    "party.head()"
   ]
  },
  {
   "cell_type": "code",
   "execution_count": 58,
   "metadata": {},
   "outputs": [
    {
     "data": {
      "text/plain": [
       "array(['위원장', '신한국당', '무소속', '새정치국민회의', '통합민주당', '정부', '자유민주연합'],\n",
       "      dtype=object)"
      ]
     },
     "execution_count": 58,
     "metadata": {},
     "output_type": "execute_result"
    }
   ],
   "source": [
    "party['제안정당'].unique()"
   ]
  },
  {
   "cell_type": "code",
   "execution_count": 23,
   "metadata": {},
   "outputs": [],
   "source": [
    "# party.loc[party['제안정당'] == '민주자유당', '제안정당'] = '신한국당'\n",
    "# party.loc[party['제안정당'] == '민주당', '제안정당'] = '통합민주당'"
   ]
  },
  {
   "cell_type": "code",
   "execution_count": 59,
   "metadata": {},
   "outputs": [],
   "source": [
    "conservative = ['신한국당','통합민주당','자유민주연합']\n",
    "progressive = ['새정치국민회의']\n",
    "\n",
    "party.loc[party['제안정당'].isin(conservative), '정당성향'] = '보수'\n",
    "party.loc[party['제안정당'].isin(progressive), '정당성향'] = '진보'"
   ]
  },
  {
   "cell_type": "code",
   "execution_count": 60,
   "metadata": {},
   "outputs": [
    {
     "data": {
      "text/plain": [
       "array([nan, '보수', '진보'], dtype=object)"
      ]
     },
     "execution_count": 60,
     "metadata": {},
     "output_type": "execute_result"
    }
   ],
   "source": [
    "party['정당성향'].unique()"
   ]
  },
  {
   "cell_type": "code",
   "execution_count": 63,
   "metadata": {},
   "outputs": [
    {
     "data": {
      "text/plain": [
       "보수    31\n",
       "진보    24\n",
       "Name: 정당성향, dtype: int64"
      ]
     },
     "execution_count": 63,
     "metadata": {},
     "output_type": "execute_result"
    }
   ],
   "source": [
    "party['정당성향'].value_counts()"
   ]
  },
  {
   "cell_type": "code",
   "execution_count": 62,
   "metadata": {},
   "outputs": [],
   "source": [
    "party.to_csv('15th-gender-bill-v3.csv', encoding='utf-8-sig')"
   ]
  },
  {
   "cell_type": "code",
   "execution_count": null,
   "metadata": {},
   "outputs": [],
   "source": []
  }
 ],
 "metadata": {
  "kernelspec": {
   "display_name": "Python 3",
   "language": "python",
   "name": "python3"
  },
  "language_info": {
   "codemirror_mode": {
    "name": "ipython",
    "version": 3
   },
   "file_extension": ".py",
   "mimetype": "text/x-python",
   "name": "python",
   "nbconvert_exporter": "python",
   "pygments_lexer": "ipython3",
   "version": "3.8.5"
  }
 },
 "nbformat": 4,
 "nbformat_minor": 4
}
