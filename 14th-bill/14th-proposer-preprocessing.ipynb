{
 "cells": [
  {
   "cell_type": "markdown",
   "metadata": {},
   "source": [
    "# 14대 제안자 칼럼 생성\n",
    "\n",
    "- 발의자"
   ]
  },
  {
   "cell_type": "code",
   "execution_count": 1,
   "metadata": {},
   "outputs": [],
   "source": [
    "import pandas as pd \n",
    "import numpy as np \n",
    "from ast import literal_eval\n",
    "from tqdm import tqdm \n",
    "import numpy as np"
   ]
  },
  {
   "cell_type": "code",
   "execution_count": 2,
   "metadata": {},
   "outputs": [
    {
     "data": {
      "text/html": [
       "<div>\n",
       "<style scoped>\n",
       "    .dataframe tbody tr th:only-of-type {\n",
       "        vertical-align: middle;\n",
       "    }\n",
       "\n",
       "    .dataframe tbody tr th {\n",
       "        vertical-align: top;\n",
       "    }\n",
       "\n",
       "    .dataframe thead th {\n",
       "        text-align: right;\n",
       "    }\n",
       "</style>\n",
       "<table border=\"1\" class=\"dataframe\">\n",
       "  <thead>\n",
       "    <tr style=\"text-align: right;\">\n",
       "      <th></th>\n",
       "      <th>의안번호</th>\n",
       "      <th>의안명</th>\n",
       "      <th>제안일자</th>\n",
       "      <th>제안자구분</th>\n",
       "      <th>의결일자</th>\n",
       "      <th>의결결과</th>\n",
       "      <th>발의자</th>\n",
       "      <th>제안정당</th>\n",
       "      <th>제안회기</th>\n",
       "      <th>제안이유</th>\n",
       "      <th>소관위원회</th>\n",
       "      <th>제안자</th>\n",
       "      <th>성별</th>\n",
       "      <th>여성의원 수</th>\n",
       "    </tr>\n",
       "  </thead>\n",
       "  <tbody>\n",
       "    <tr>\n",
       "      <th>0</th>\n",
       "      <td>141424</td>\n",
       "      <td>여성발전기본법안</td>\n",
       "      <td>1995-12-19</td>\n",
       "      <td>위원장</td>\n",
       "      <td>1995-12-19</td>\n",
       "      <td>원안가결</td>\n",
       "      <td>위원장</td>\n",
       "      <td>위원장</td>\n",
       "      <td>제14대 (1992~1996) 제177회</td>\n",
       "      <td>1. 여성발전기본법안은 주良자의원외 22인으로부터 1995년 12월 6일 발의되어 ...</td>\n",
       "      <td>행정위원회</td>\n",
       "      <td>[]</td>\n",
       "      <td>NaN</td>\n",
       "      <td>0</td>\n",
       "    </tr>\n",
       "    <tr>\n",
       "      <th>1</th>\n",
       "      <td>141410</td>\n",
       "      <td>남녀평등기본법안</td>\n",
       "      <td>1995-12-09</td>\n",
       "      <td>의원</td>\n",
       "      <td>1995-12-19</td>\n",
       "      <td>대안반영폐기</td>\n",
       "      <td>손세일</td>\n",
       "      <td>민주당</td>\n",
       "      <td>제14대 (1992~1996) 제177회</td>\n",
       "      <td>개인의 존엄과 남녀의 평등을 기초로 모든 영역에서 성에 대한 정형화를 소멸시키고 개...</td>\n",
       "      <td>행정위원회</td>\n",
       "      <td>['손세일', '강철선', '권노갑', '김덕규', '문희상', '이우정', '조세...</td>\n",
       "      <td>남성</td>\n",
       "      <td>1</td>\n",
       "    </tr>\n",
       "    <tr>\n",
       "      <th>2</th>\n",
       "      <td>141407</td>\n",
       "      <td>여성발전기본법안</td>\n",
       "      <td>1995-12-06</td>\n",
       "      <td>의원</td>\n",
       "      <td>1995-12-19</td>\n",
       "      <td>대안반영폐기</td>\n",
       "      <td>주양자</td>\n",
       "      <td>민주자유당</td>\n",
       "      <td>제14대 (1992~1996) 제177회</td>\n",
       "      <td>성차별적 관행이 뿌리깊은 우리 현실에서 헌법의 기본리념에 따라 사회 각 분야에서 남...</td>\n",
       "      <td>행정위원회</td>\n",
       "      <td>['주양자', '강선영', '정옥순', '김해석', '김형오', '류흥수', '박명...</td>\n",
       "      <td>여성</td>\n",
       "      <td>2</td>\n",
       "    </tr>\n",
       "  </tbody>\n",
       "</table>\n",
       "</div>"
      ],
      "text/plain": [
       "     의안번호       의안명        제안일자 제안자구분        의결일자    의결결과  발의자   제안정당  \\\n",
       "0  141424  여성발전기본법안  1995-12-19   위원장  1995-12-19    원안가결  위원장    위원장   \n",
       "1  141410  남녀평등기본법안  1995-12-09    의원  1995-12-19  대안반영폐기  손세일    민주당   \n",
       "2  141407  여성발전기본법안  1995-12-06    의원  1995-12-19  대안반영폐기  주양자  민주자유당   \n",
       "\n",
       "                     제안회기                                               제안이유  \\\n",
       "0  제14대 (1992~1996) 제177회  1. 여성발전기본법안은 주良자의원외 22인으로부터 1995년 12월 6일 발의되어 ...   \n",
       "1  제14대 (1992~1996) 제177회  개인의 존엄과 남녀의 평등을 기초로 모든 영역에서 성에 대한 정형화를 소멸시키고 개...   \n",
       "2  제14대 (1992~1996) 제177회  성차별적 관행이 뿌리깊은 우리 현실에서 헌법의 기본리념에 따라 사회 각 분야에서 남...   \n",
       "\n",
       "   소관위원회                                                제안자   성별  여성의원 수  \n",
       "0  행정위원회                                                 []  NaN       0  \n",
       "1  행정위원회  ['손세일', '강철선', '권노갑', '김덕규', '문희상', '이우정', '조세...   남성       1  \n",
       "2  행정위원회  ['주양자', '강선영', '정옥순', '김해석', '김형오', '류흥수', '박명...   여성       2  "
      ]
     },
     "execution_count": 2,
     "metadata": {},
     "output_type": "execute_result"
    }
   ],
   "source": [
    "gender = pd.read_csv('14th-gender-bill.csv', index_col=0, encoding='utf-8')\n",
    "print(gender.shape)\n",
    "gender.head(3)"
   ]
  },
  {
   "cell_type": "code",
   "execution_count": 3,
   "metadata": {},
   "outputs": [
    {
     "data": {
      "text/html": [
       "<div>\n",
       "<style scoped>\n",
       "    .dataframe tbody tr th:only-of-type {\n",
       "        vertical-align: middle;\n",
       "    }\n",
       "\n",
       "    .dataframe tbody tr th {\n",
       "        vertical-align: top;\n",
       "    }\n",
       "\n",
       "    .dataframe thead th {\n",
       "        text-align: right;\n",
       "    }\n",
       "</style>\n",
       "<table border=\"1\" class=\"dataframe\">\n",
       "  <thead>\n",
       "    <tr style=\"text-align: right;\">\n",
       "      <th></th>\n",
       "      <th>의안번호</th>\n",
       "      <th>제안자</th>\n",
       "    </tr>\n",
       "  </thead>\n",
       "  <tbody>\n",
       "    <tr>\n",
       "      <th>0</th>\n",
       "      <td>141424</td>\n",
       "      <td>[]</td>\n",
       "    </tr>\n",
       "    <tr>\n",
       "      <th>1</th>\n",
       "      <td>141410</td>\n",
       "      <td>['손세일', '강철선', '권노갑', '김덕규', '문희상', '이우정', '조세...</td>\n",
       "    </tr>\n",
       "    <tr>\n",
       "      <th>2</th>\n",
       "      <td>141407</td>\n",
       "      <td>['주양자', '강선영', '정옥순', '김해석', '김형오', '류흥수', '박명...</td>\n",
       "    </tr>\n",
       "  </tbody>\n",
       "</table>\n",
       "</div>"
      ],
      "text/plain": [
       "     의안번호                                                제안자\n",
       "0  141424                                                 []\n",
       "1  141410  ['손세일', '강철선', '권노갑', '김덕규', '문희상', '이우정', '조세...\n",
       "2  141407  ['주양자', '강선영', '정옥순', '김해석', '김형오', '류흥수', '박명..."
      ]
     },
     "execution_count": 3,
     "metadata": {},
     "output_type": "execute_result"
    }
   ],
   "source": [
    "gender = gender[['의안번호','제안자']]\n",
    "gender.head(3)"
   ]
  },
  {
   "cell_type": "code",
   "execution_count": 4,
   "metadata": {},
   "outputs": [
    {
     "name": "stdout",
     "output_type": "stream",
     "text": [
      "CPU times: user 2 ms, sys: 117 µs, total: 2.12 ms\n",
      "Wall time: 2.1 ms\n"
     ]
    }
   ],
   "source": [
    "%time gender['제안자'] = gender['제안자'].apply(literal_eval)"
   ]
  },
  {
   "cell_type": "code",
   "execution_count": null,
   "metadata": {},
   "outputs": [],
   "source": []
  },
  {
   "cell_type": "markdown",
   "metadata": {},
   "source": [
    "## 발의자 코딩"
   ]
  },
  {
   "cell_type": "code",
   "execution_count": 5,
   "metadata": {},
   "outputs": [
    {
     "data": {
      "text/plain": [
       "184"
      ]
     },
     "execution_count": 5,
     "metadata": {},
     "output_type": "execute_result"
    }
   ],
   "source": [
    "proposer_list = []\n",
    "\n",
    "for names in gender['제안자']: \n",
    "    proposer_set = set(proposer_list)\n",
    "    names_set = set(names)\n",
    "    minus = list(names_set.difference(proposer_set))\n",
    "    proposer_list.extend(minus)\n",
    "    \n",
    "len(proposer_list)"
   ]
  },
  {
   "cell_type": "code",
   "execution_count": 6,
   "metadata": {},
   "outputs": [],
   "source": [
    "def get_proposer_dummies(proposer): \n",
    "    for n in tqdm(range(proposer.shape[1])): \n",
    "        df = pd.get_dummies(proposer[n])\n",
    "        if n == 0: \n",
    "            final_df = df \n",
    "        else: \n",
    "            final_df = final_df.add(df, fill_value=0)\n",
    "    return final_df"
   ]
  },
  {
   "cell_type": "code",
   "execution_count": 7,
   "metadata": {},
   "outputs": [
    {
     "name": "stderr",
     "output_type": "stream",
     "text": [
      "<ipython-input-7-5cd51fc5867d>:1: DeprecationWarning: The default dtype for empty Series will be 'object' instead of 'float64' in a future version. Specify a dtype explicitly to silence this warning.\n",
      "  proposer = gender['제안자'].apply(lambda x: pd.Series(x))\n",
      "100%|██████████| 98/98 [00:44<00:00,  2.22it/s]"
     ]
    },
    {
     "name": "stdout",
     "output_type": "stream",
     "text": [
      "CPU times: user 42.5 s, sys: 1.1 s, total: 43.6 s\n",
      "Wall time: 44.2 s\n",
      "(22, 184)\n"
     ]
    },
    {
     "name": "stderr",
     "output_type": "stream",
     "text": [
      "\n"
     ]
    }
   ],
   "source": [
    "proposer = gender['제안자'].apply(lambda x: pd.Series(x))\n",
    "\n",
    "%time proposer_dummies = get_proposer_dummies(proposer)\n",
    "print(proposer_dummies.shape)"
   ]
  },
  {
   "cell_type": "code",
   "execution_count": 8,
   "metadata": {},
   "outputs": [
    {
     "data": {
      "text/html": [
       "<div>\n",
       "<style scoped>\n",
       "    .dataframe tbody tr th:only-of-type {\n",
       "        vertical-align: middle;\n",
       "    }\n",
       "\n",
       "    .dataframe tbody tr th {\n",
       "        vertical-align: top;\n",
       "    }\n",
       "\n",
       "    .dataframe thead th {\n",
       "        text-align: right;\n",
       "    }\n",
       "</style>\n",
       "<table border=\"1\" class=\"dataframe\">\n",
       "  <thead>\n",
       "    <tr style=\"text-align: right;\">\n",
       "      <th></th>\n",
       "      <th>강부자</th>\n",
       "      <th>강선영</th>\n",
       "      <th>강창성</th>\n",
       "      <th>강철선</th>\n",
       "      <th>강희찬</th>\n",
       "      <th>곽정출</th>\n",
       "      <th>국종남</th>\n",
       "      <th>권노갑</th>\n",
       "      <th>권해옥</th>\n",
       "      <th>김기도</th>\n",
       "      <th>...</th>\n",
       "      <th>함석재</th>\n",
       "      <th>허경만</th>\n",
       "      <th>허재홍</th>\n",
       "      <th>현경대</th>\n",
       "      <th>현경자</th>\n",
       "      <th>홍기훈</th>\n",
       "      <th>홍사덕</th>\n",
       "      <th>홍영기</th>\n",
       "      <th>황윤기</th>\n",
       "      <th>황의성</th>\n",
       "    </tr>\n",
       "  </thead>\n",
       "  <tbody>\n",
       "    <tr>\n",
       "      <th>0</th>\n",
       "      <td>0.0</td>\n",
       "      <td>0.0</td>\n",
       "      <td>0.0</td>\n",
       "      <td>0.0</td>\n",
       "      <td>0.0</td>\n",
       "      <td>0.0</td>\n",
       "      <td>0.0</td>\n",
       "      <td>0.0</td>\n",
       "      <td>0.0</td>\n",
       "      <td>0.0</td>\n",
       "      <td>...</td>\n",
       "      <td>0.0</td>\n",
       "      <td>0.0</td>\n",
       "      <td>0.0</td>\n",
       "      <td>0.0</td>\n",
       "      <td>0.0</td>\n",
       "      <td>0.0</td>\n",
       "      <td>0.0</td>\n",
       "      <td>0.0</td>\n",
       "      <td>0.0</td>\n",
       "      <td>0.0</td>\n",
       "    </tr>\n",
       "    <tr>\n",
       "      <th>1</th>\n",
       "      <td>0.0</td>\n",
       "      <td>0.0</td>\n",
       "      <td>0.0</td>\n",
       "      <td>1.0</td>\n",
       "      <td>0.0</td>\n",
       "      <td>0.0</td>\n",
       "      <td>0.0</td>\n",
       "      <td>1.0</td>\n",
       "      <td>0.0</td>\n",
       "      <td>0.0</td>\n",
       "      <td>...</td>\n",
       "      <td>0.0</td>\n",
       "      <td>0.0</td>\n",
       "      <td>0.0</td>\n",
       "      <td>0.0</td>\n",
       "      <td>0.0</td>\n",
       "      <td>0.0</td>\n",
       "      <td>0.0</td>\n",
       "      <td>0.0</td>\n",
       "      <td>0.0</td>\n",
       "      <td>0.0</td>\n",
       "    </tr>\n",
       "    <tr>\n",
       "      <th>2</th>\n",
       "      <td>0.0</td>\n",
       "      <td>1.0</td>\n",
       "      <td>0.0</td>\n",
       "      <td>0.0</td>\n",
       "      <td>0.0</td>\n",
       "      <td>0.0</td>\n",
       "      <td>0.0</td>\n",
       "      <td>0.0</td>\n",
       "      <td>0.0</td>\n",
       "      <td>0.0</td>\n",
       "      <td>...</td>\n",
       "      <td>0.0</td>\n",
       "      <td>0.0</td>\n",
       "      <td>0.0</td>\n",
       "      <td>0.0</td>\n",
       "      <td>0.0</td>\n",
       "      <td>0.0</td>\n",
       "      <td>0.0</td>\n",
       "      <td>0.0</td>\n",
       "      <td>0.0</td>\n",
       "      <td>0.0</td>\n",
       "    </tr>\n",
       "  </tbody>\n",
       "</table>\n",
       "<p>3 rows × 184 columns</p>\n",
       "</div>"
      ],
      "text/plain": [
       "   강부자  강선영  강창성  강철선  강희찬  곽정출  국종남  권노갑  권해옥  김기도  ...  함석재  허경만  허재홍  현경대  \\\n",
       "0  0.0  0.0  0.0  0.0  0.0  0.0  0.0  0.0  0.0  0.0  ...  0.0  0.0  0.0  0.0   \n",
       "1  0.0  0.0  0.0  1.0  0.0  0.0  0.0  1.0  0.0  0.0  ...  0.0  0.0  0.0  0.0   \n",
       "2  0.0  1.0  0.0  0.0  0.0  0.0  0.0  0.0  0.0  0.0  ...  0.0  0.0  0.0  0.0   \n",
       "\n",
       "   현경자  홍기훈  홍사덕  홍영기  황윤기  황의성  \n",
       "0  0.0  0.0  0.0  0.0  0.0  0.0  \n",
       "1  0.0  0.0  0.0  0.0  0.0  0.0  \n",
       "2  0.0  0.0  0.0  0.0  0.0  0.0  \n",
       "\n",
       "[3 rows x 184 columns]"
      ]
     },
     "execution_count": 8,
     "metadata": {},
     "output_type": "execute_result"
    }
   ],
   "source": [
    "proposer_dummies.head(3)"
   ]
  },
  {
   "cell_type": "code",
   "execution_count": 9,
   "metadata": {},
   "outputs": [],
   "source": [
    "gender = pd.concat([gender, proposer_dummies], axis=1)"
   ]
  },
  {
   "cell_type": "code",
   "execution_count": 10,
   "metadata": {},
   "outputs": [],
   "source": [
    "gender = gender.drop(['제안자','의안번호'],1)"
   ]
  },
  {
   "cell_type": "code",
   "execution_count": 11,
   "metadata": {},
   "outputs": [
    {
     "data": {
      "text/html": [
       "<div>\n",
       "<style scoped>\n",
       "    .dataframe tbody tr th:only-of-type {\n",
       "        vertical-align: middle;\n",
       "    }\n",
       "\n",
       "    .dataframe tbody tr th {\n",
       "        vertical-align: top;\n",
       "    }\n",
       "\n",
       "    .dataframe thead th {\n",
       "        text-align: right;\n",
       "    }\n",
       "</style>\n",
       "<table border=\"1\" class=\"dataframe\">\n",
       "  <thead>\n",
       "    <tr style=\"text-align: right;\">\n",
       "      <th></th>\n",
       "      <th>강부자</th>\n",
       "      <th>강선영</th>\n",
       "      <th>강창성</th>\n",
       "      <th>강철선</th>\n",
       "      <th>강희찬</th>\n",
       "      <th>곽정출</th>\n",
       "      <th>국종남</th>\n",
       "      <th>권노갑</th>\n",
       "      <th>권해옥</th>\n",
       "      <th>김기도</th>\n",
       "      <th>...</th>\n",
       "      <th>함석재</th>\n",
       "      <th>허경만</th>\n",
       "      <th>허재홍</th>\n",
       "      <th>현경대</th>\n",
       "      <th>현경자</th>\n",
       "      <th>홍기훈</th>\n",
       "      <th>홍사덕</th>\n",
       "      <th>홍영기</th>\n",
       "      <th>황윤기</th>\n",
       "      <th>황의성</th>\n",
       "    </tr>\n",
       "  </thead>\n",
       "  <tbody>\n",
       "    <tr>\n",
       "      <th>0</th>\n",
       "      <td>0.0</td>\n",
       "      <td>0.0</td>\n",
       "      <td>0.0</td>\n",
       "      <td>0.0</td>\n",
       "      <td>0.0</td>\n",
       "      <td>0.0</td>\n",
       "      <td>0.0</td>\n",
       "      <td>0.0</td>\n",
       "      <td>0.0</td>\n",
       "      <td>0.0</td>\n",
       "      <td>...</td>\n",
       "      <td>0.0</td>\n",
       "      <td>0.0</td>\n",
       "      <td>0.0</td>\n",
       "      <td>0.0</td>\n",
       "      <td>0.0</td>\n",
       "      <td>0.0</td>\n",
       "      <td>0.0</td>\n",
       "      <td>0.0</td>\n",
       "      <td>0.0</td>\n",
       "      <td>0.0</td>\n",
       "    </tr>\n",
       "    <tr>\n",
       "      <th>1</th>\n",
       "      <td>0.0</td>\n",
       "      <td>0.0</td>\n",
       "      <td>0.0</td>\n",
       "      <td>1.0</td>\n",
       "      <td>0.0</td>\n",
       "      <td>0.0</td>\n",
       "      <td>0.0</td>\n",
       "      <td>1.0</td>\n",
       "      <td>0.0</td>\n",
       "      <td>0.0</td>\n",
       "      <td>...</td>\n",
       "      <td>0.0</td>\n",
       "      <td>0.0</td>\n",
       "      <td>0.0</td>\n",
       "      <td>0.0</td>\n",
       "      <td>0.0</td>\n",
       "      <td>0.0</td>\n",
       "      <td>0.0</td>\n",
       "      <td>0.0</td>\n",
       "      <td>0.0</td>\n",
       "      <td>0.0</td>\n",
       "    </tr>\n",
       "    <tr>\n",
       "      <th>2</th>\n",
       "      <td>0.0</td>\n",
       "      <td>1.0</td>\n",
       "      <td>0.0</td>\n",
       "      <td>0.0</td>\n",
       "      <td>0.0</td>\n",
       "      <td>0.0</td>\n",
       "      <td>0.0</td>\n",
       "      <td>0.0</td>\n",
       "      <td>0.0</td>\n",
       "      <td>0.0</td>\n",
       "      <td>...</td>\n",
       "      <td>0.0</td>\n",
       "      <td>0.0</td>\n",
       "      <td>0.0</td>\n",
       "      <td>0.0</td>\n",
       "      <td>0.0</td>\n",
       "      <td>0.0</td>\n",
       "      <td>0.0</td>\n",
       "      <td>0.0</td>\n",
       "      <td>0.0</td>\n",
       "      <td>0.0</td>\n",
       "    </tr>\n",
       "    <tr>\n",
       "      <th>3</th>\n",
       "      <td>0.0</td>\n",
       "      <td>0.0</td>\n",
       "      <td>0.0</td>\n",
       "      <td>0.0</td>\n",
       "      <td>0.0</td>\n",
       "      <td>0.0</td>\n",
       "      <td>0.0</td>\n",
       "      <td>0.0</td>\n",
       "      <td>0.0</td>\n",
       "      <td>0.0</td>\n",
       "      <td>...</td>\n",
       "      <td>0.0</td>\n",
       "      <td>0.0</td>\n",
       "      <td>0.0</td>\n",
       "      <td>0.0</td>\n",
       "      <td>0.0</td>\n",
       "      <td>0.0</td>\n",
       "      <td>0.0</td>\n",
       "      <td>0.0</td>\n",
       "      <td>0.0</td>\n",
       "      <td>0.0</td>\n",
       "    </tr>\n",
       "    <tr>\n",
       "      <th>4</th>\n",
       "      <td>1.0</td>\n",
       "      <td>0.0</td>\n",
       "      <td>0.0</td>\n",
       "      <td>0.0</td>\n",
       "      <td>0.0</td>\n",
       "      <td>0.0</td>\n",
       "      <td>0.0</td>\n",
       "      <td>0.0</td>\n",
       "      <td>0.0</td>\n",
       "      <td>0.0</td>\n",
       "      <td>...</td>\n",
       "      <td>0.0</td>\n",
       "      <td>0.0</td>\n",
       "      <td>0.0</td>\n",
       "      <td>0.0</td>\n",
       "      <td>1.0</td>\n",
       "      <td>1.0</td>\n",
       "      <td>0.0</td>\n",
       "      <td>0.0</td>\n",
       "      <td>0.0</td>\n",
       "      <td>0.0</td>\n",
       "    </tr>\n",
       "  </tbody>\n",
       "</table>\n",
       "<p>5 rows × 184 columns</p>\n",
       "</div>"
      ],
      "text/plain": [
       "   강부자  강선영  강창성  강철선  강희찬  곽정출  국종남  권노갑  권해옥  김기도  ...  함석재  허경만  허재홍  현경대  \\\n",
       "0  0.0  0.0  0.0  0.0  0.0  0.0  0.0  0.0  0.0  0.0  ...  0.0  0.0  0.0  0.0   \n",
       "1  0.0  0.0  0.0  1.0  0.0  0.0  0.0  1.0  0.0  0.0  ...  0.0  0.0  0.0  0.0   \n",
       "2  0.0  1.0  0.0  0.0  0.0  0.0  0.0  0.0  0.0  0.0  ...  0.0  0.0  0.0  0.0   \n",
       "3  0.0  0.0  0.0  0.0  0.0  0.0  0.0  0.0  0.0  0.0  ...  0.0  0.0  0.0  0.0   \n",
       "4  1.0  0.0  0.0  0.0  0.0  0.0  0.0  0.0  0.0  0.0  ...  0.0  0.0  0.0  0.0   \n",
       "\n",
       "   현경자  홍기훈  홍사덕  홍영기  황윤기  황의성  \n",
       "0  0.0  0.0  0.0  0.0  0.0  0.0  \n",
       "1  0.0  0.0  0.0  0.0  0.0  0.0  \n",
       "2  0.0  0.0  0.0  0.0  0.0  0.0  \n",
       "3  0.0  0.0  0.0  0.0  0.0  0.0  \n",
       "4  1.0  1.0  0.0  0.0  0.0  0.0  \n",
       "\n",
       "[5 rows x 184 columns]"
      ]
     },
     "execution_count": 11,
     "metadata": {},
     "output_type": "execute_result"
    }
   ],
   "source": [
    "gender.head()"
   ]
  },
  {
   "cell_type": "code",
   "execution_count": 12,
   "metadata": {},
   "outputs": [],
   "source": [
    "gender.to_csv('14th-proposer-list.csv')"
   ]
  },
  {
   "cell_type": "code",
   "execution_count": null,
   "metadata": {},
   "outputs": [],
   "source": []
  },
  {
   "cell_type": "markdown",
   "metadata": {},
   "source": [
    "## 성별 평균 비교\n",
    "\n",
    "### 여성"
   ]
  },
  {
   "cell_type": "code",
   "execution_count": 13,
   "metadata": {},
   "outputs": [],
   "source": [
    "women_list = ['강선영','주양자','이우정','강부자']"
   ]
  },
  {
   "cell_type": "code",
   "execution_count": 14,
   "metadata": {},
   "outputs": [
    {
     "data": {
      "text/html": [
       "<div>\n",
       "<style scoped>\n",
       "    .dataframe tbody tr th:only-of-type {\n",
       "        vertical-align: middle;\n",
       "    }\n",
       "\n",
       "    .dataframe tbody tr th {\n",
       "        vertical-align: top;\n",
       "    }\n",
       "\n",
       "    .dataframe thead th {\n",
       "        text-align: right;\n",
       "    }\n",
       "</style>\n",
       "<table border=\"1\" class=\"dataframe\">\n",
       "  <thead>\n",
       "    <tr style=\"text-align: right;\">\n",
       "      <th></th>\n",
       "      <th>강선영</th>\n",
       "      <th>주양자</th>\n",
       "      <th>이우정</th>\n",
       "      <th>강부자</th>\n",
       "    </tr>\n",
       "  </thead>\n",
       "  <tbody>\n",
       "    <tr>\n",
       "      <th>0</th>\n",
       "      <td>0.0</td>\n",
       "      <td>0.0</td>\n",
       "      <td>0.0</td>\n",
       "      <td>0.0</td>\n",
       "    </tr>\n",
       "    <tr>\n",
       "      <th>1</th>\n",
       "      <td>0.0</td>\n",
       "      <td>0.0</td>\n",
       "      <td>1.0</td>\n",
       "      <td>0.0</td>\n",
       "    </tr>\n",
       "    <tr>\n",
       "      <th>2</th>\n",
       "      <td>1.0</td>\n",
       "      <td>1.0</td>\n",
       "      <td>0.0</td>\n",
       "      <td>0.0</td>\n",
       "    </tr>\n",
       "    <tr>\n",
       "      <th>3</th>\n",
       "      <td>0.0</td>\n",
       "      <td>0.0</td>\n",
       "      <td>0.0</td>\n",
       "      <td>0.0</td>\n",
       "    </tr>\n",
       "    <tr>\n",
       "      <th>4</th>\n",
       "      <td>0.0</td>\n",
       "      <td>0.0</td>\n",
       "      <td>1.0</td>\n",
       "      <td>1.0</td>\n",
       "    </tr>\n",
       "  </tbody>\n",
       "</table>\n",
       "</div>"
      ],
      "text/plain": [
       "   강선영  주양자  이우정  강부자\n",
       "0  0.0  0.0  0.0  0.0\n",
       "1  0.0  0.0  1.0  0.0\n",
       "2  1.0  1.0  0.0  0.0\n",
       "3  0.0  0.0  0.0  0.0\n",
       "4  0.0  0.0  1.0  1.0"
      ]
     },
     "execution_count": 14,
     "metadata": {},
     "output_type": "execute_result"
    }
   ],
   "source": [
    "women = gender[women_list]\n",
    "women.head()"
   ]
  },
  {
   "cell_type": "code",
   "execution_count": 15,
   "metadata": {},
   "outputs": [
    {
     "data": {
      "text/plain": [
       "강선영    2.0\n",
       "주양자    3.0\n",
       "이우정    6.0\n",
       "강부자    1.0\n",
       "dtype: float64"
      ]
     },
     "execution_count": 15,
     "metadata": {},
     "output_type": "execute_result"
    }
   ],
   "source": [
    "women.sum(axis=0)"
   ]
  },
  {
   "cell_type": "code",
   "execution_count": 16,
   "metadata": {},
   "outputs": [
    {
     "data": {
      "text/plain": [
       "3.0"
      ]
     },
     "execution_count": 16,
     "metadata": {},
     "output_type": "execute_result"
    }
   ],
   "source": [
    "women.sum(axis=0).mean()"
   ]
  },
  {
   "cell_type": "markdown",
   "metadata": {},
   "source": [
    "### 남성"
   ]
  },
  {
   "cell_type": "code",
   "execution_count": 17,
   "metadata": {},
   "outputs": [
    {
     "data": {
      "text/html": [
       "<div>\n",
       "<style scoped>\n",
       "    .dataframe tbody tr th:only-of-type {\n",
       "        vertical-align: middle;\n",
       "    }\n",
       "\n",
       "    .dataframe tbody tr th {\n",
       "        vertical-align: top;\n",
       "    }\n",
       "\n",
       "    .dataframe thead th {\n",
       "        text-align: right;\n",
       "    }\n",
       "</style>\n",
       "<table border=\"1\" class=\"dataframe\">\n",
       "  <thead>\n",
       "    <tr style=\"text-align: right;\">\n",
       "      <th></th>\n",
       "      <th>강창성</th>\n",
       "      <th>강철선</th>\n",
       "      <th>강희찬</th>\n",
       "      <th>곽정출</th>\n",
       "      <th>국종남</th>\n",
       "      <th>권노갑</th>\n",
       "      <th>권해옥</th>\n",
       "      <th>김기도</th>\n",
       "      <th>김대중</th>\n",
       "      <th>김덕규</th>\n",
       "      <th>...</th>\n",
       "      <th>함석재</th>\n",
       "      <th>허경만</th>\n",
       "      <th>허재홍</th>\n",
       "      <th>현경대</th>\n",
       "      <th>현경자</th>\n",
       "      <th>홍기훈</th>\n",
       "      <th>홍사덕</th>\n",
       "      <th>홍영기</th>\n",
       "      <th>황윤기</th>\n",
       "      <th>황의성</th>\n",
       "    </tr>\n",
       "  </thead>\n",
       "  <tbody>\n",
       "    <tr>\n",
       "      <th>0</th>\n",
       "      <td>0.0</td>\n",
       "      <td>0.0</td>\n",
       "      <td>0.0</td>\n",
       "      <td>0.0</td>\n",
       "      <td>0.0</td>\n",
       "      <td>0.0</td>\n",
       "      <td>0.0</td>\n",
       "      <td>0.0</td>\n",
       "      <td>0.0</td>\n",
       "      <td>0.0</td>\n",
       "      <td>...</td>\n",
       "      <td>0.0</td>\n",
       "      <td>0.0</td>\n",
       "      <td>0.0</td>\n",
       "      <td>0.0</td>\n",
       "      <td>0.0</td>\n",
       "      <td>0.0</td>\n",
       "      <td>0.0</td>\n",
       "      <td>0.0</td>\n",
       "      <td>0.0</td>\n",
       "      <td>0.0</td>\n",
       "    </tr>\n",
       "    <tr>\n",
       "      <th>1</th>\n",
       "      <td>0.0</td>\n",
       "      <td>1.0</td>\n",
       "      <td>0.0</td>\n",
       "      <td>0.0</td>\n",
       "      <td>0.0</td>\n",
       "      <td>1.0</td>\n",
       "      <td>0.0</td>\n",
       "      <td>0.0</td>\n",
       "      <td>0.0</td>\n",
       "      <td>1.0</td>\n",
       "      <td>...</td>\n",
       "      <td>0.0</td>\n",
       "      <td>0.0</td>\n",
       "      <td>0.0</td>\n",
       "      <td>0.0</td>\n",
       "      <td>0.0</td>\n",
       "      <td>0.0</td>\n",
       "      <td>0.0</td>\n",
       "      <td>0.0</td>\n",
       "      <td>0.0</td>\n",
       "      <td>0.0</td>\n",
       "    </tr>\n",
       "    <tr>\n",
       "      <th>2</th>\n",
       "      <td>0.0</td>\n",
       "      <td>0.0</td>\n",
       "      <td>0.0</td>\n",
       "      <td>0.0</td>\n",
       "      <td>0.0</td>\n",
       "      <td>0.0</td>\n",
       "      <td>0.0</td>\n",
       "      <td>0.0</td>\n",
       "      <td>0.0</td>\n",
       "      <td>0.0</td>\n",
       "      <td>...</td>\n",
       "      <td>0.0</td>\n",
       "      <td>0.0</td>\n",
       "      <td>0.0</td>\n",
       "      <td>0.0</td>\n",
       "      <td>0.0</td>\n",
       "      <td>0.0</td>\n",
       "      <td>0.0</td>\n",
       "      <td>0.0</td>\n",
       "      <td>0.0</td>\n",
       "      <td>0.0</td>\n",
       "    </tr>\n",
       "    <tr>\n",
       "      <th>3</th>\n",
       "      <td>0.0</td>\n",
       "      <td>0.0</td>\n",
       "      <td>0.0</td>\n",
       "      <td>0.0</td>\n",
       "      <td>0.0</td>\n",
       "      <td>0.0</td>\n",
       "      <td>0.0</td>\n",
       "      <td>0.0</td>\n",
       "      <td>0.0</td>\n",
       "      <td>0.0</td>\n",
       "      <td>...</td>\n",
       "      <td>0.0</td>\n",
       "      <td>0.0</td>\n",
       "      <td>0.0</td>\n",
       "      <td>0.0</td>\n",
       "      <td>0.0</td>\n",
       "      <td>0.0</td>\n",
       "      <td>0.0</td>\n",
       "      <td>0.0</td>\n",
       "      <td>0.0</td>\n",
       "      <td>0.0</td>\n",
       "    </tr>\n",
       "    <tr>\n",
       "      <th>4</th>\n",
       "      <td>0.0</td>\n",
       "      <td>0.0</td>\n",
       "      <td>0.0</td>\n",
       "      <td>0.0</td>\n",
       "      <td>0.0</td>\n",
       "      <td>0.0</td>\n",
       "      <td>0.0</td>\n",
       "      <td>0.0</td>\n",
       "      <td>0.0</td>\n",
       "      <td>0.0</td>\n",
       "      <td>...</td>\n",
       "      <td>0.0</td>\n",
       "      <td>0.0</td>\n",
       "      <td>0.0</td>\n",
       "      <td>0.0</td>\n",
       "      <td>1.0</td>\n",
       "      <td>1.0</td>\n",
       "      <td>0.0</td>\n",
       "      <td>0.0</td>\n",
       "      <td>0.0</td>\n",
       "      <td>0.0</td>\n",
       "    </tr>\n",
       "  </tbody>\n",
       "</table>\n",
       "<p>5 rows × 180 columns</p>\n",
       "</div>"
      ],
      "text/plain": [
       "   강창성  강철선  강희찬  곽정출  국종남  권노갑  권해옥  김기도  김대중  김덕규  ...  함석재  허경만  허재홍  현경대  \\\n",
       "0  0.0  0.0  0.0  0.0  0.0  0.0  0.0  0.0  0.0  0.0  ...  0.0  0.0  0.0  0.0   \n",
       "1  0.0  1.0  0.0  0.0  0.0  1.0  0.0  0.0  0.0  1.0  ...  0.0  0.0  0.0  0.0   \n",
       "2  0.0  0.0  0.0  0.0  0.0  0.0  0.0  0.0  0.0  0.0  ...  0.0  0.0  0.0  0.0   \n",
       "3  0.0  0.0  0.0  0.0  0.0  0.0  0.0  0.0  0.0  0.0  ...  0.0  0.0  0.0  0.0   \n",
       "4  0.0  0.0  0.0  0.0  0.0  0.0  0.0  0.0  0.0  0.0  ...  0.0  0.0  0.0  0.0   \n",
       "\n",
       "   현경자  홍기훈  홍사덕  홍영기  황윤기  황의성  \n",
       "0  0.0  0.0  0.0  0.0  0.0  0.0  \n",
       "1  0.0  0.0  0.0  0.0  0.0  0.0  \n",
       "2  0.0  0.0  0.0  0.0  0.0  0.0  \n",
       "3  0.0  0.0  0.0  0.0  0.0  0.0  \n",
       "4  1.0  1.0  0.0  0.0  0.0  0.0  \n",
       "\n",
       "[5 rows x 180 columns]"
      ]
     },
     "execution_count": 17,
     "metadata": {},
     "output_type": "execute_result"
    }
   ],
   "source": [
    "men = gender.drop(women_list, 1)\n",
    "men.head()"
   ]
  },
  {
   "cell_type": "code",
   "execution_count": 18,
   "metadata": {},
   "outputs": [
    {
     "data": {
      "text/plain": [
       "(17, 236)"
      ]
     },
     "execution_count": 18,
     "metadata": {},
     "output_type": "execute_result"
    }
   ],
   "source": [
    "men.shape"
   ]
  },
  {
   "cell_type": "code",
   "execution_count": 18,
   "metadata": {},
   "outputs": [
    {
     "name": "stdout",
     "output_type": "stream",
     "text": [
      "총 남자의원 수: 295\n",
      "리스트에 없는 남자의원수: 115\n",
      "[0, 0, 0, 0, 0, 0, 0, 0, 0, 0, 0, 0, 0, 0, 0, 0, 0, 0, 0, 0, 0, 0, 0, 0, 0, 0, 0, 0, 0, 0, 0, 0, 0, 0, 0, 0, 0, 0, 0, 0, 0, 0, 0, 0, 0, 0, 0, 0, 0, 0, 0, 0, 0, 0, 0, 0, 0, 0, 0, 0, 0, 0, 0, 0, 0, 0, 0, 0, 0, 0, 0, 0, 0, 0, 0, 0, 0, 0, 0, 0, 0, 0, 0, 0, 0, 0, 0, 0, 0, 0, 0, 0, 0, 0, 0, 0, 0, 0, 0, 0, 0, 0, 0, 0, 0, 0, 0, 0, 0, 0, 0, 0, 0, 0, 0]\n",
      "115\n"
     ]
    }
   ],
   "source": [
    "total_num = 299 \n",
    "total_men_num = total_num - len(women_list)\n",
    "print('총 남자의원 수:', total_men_num)\n",
    "no_list_men = total_men_num - men.shape[1]\n",
    "print('리스트에 없는 남자의원수:', no_list_men)\n",
    "\n",
    "add_list = [0 for n in range(no_list_men)]\n",
    "print(add_list)\n",
    "print(len(add_list))"
   ]
  },
  {
   "cell_type": "code",
   "execution_count": 19,
   "metadata": {},
   "outputs": [
    {
     "data": {
      "text/plain": [
       "295"
      ]
     },
     "execution_count": 19,
     "metadata": {},
     "output_type": "execute_result"
    }
   ],
   "source": [
    "men_count = men.sum(axis=0).tolist() + add_list\n",
    "len(men_count)"
   ]
  },
  {
   "cell_type": "code",
   "execution_count": 20,
   "metadata": {},
   "outputs": [
    {
     "data": {
      "text/plain": [
       "1.806779661016949"
      ]
     },
     "execution_count": 20,
     "metadata": {},
     "output_type": "execute_result"
    }
   ],
   "source": [
    "men_count = np.array(men_count)\n",
    "np.mean(men_count)"
   ]
  },
  {
   "cell_type": "code",
   "execution_count": null,
   "metadata": {},
   "outputs": [],
   "source": []
  },
  {
   "cell_type": "markdown",
   "metadata": {},
   "source": [
    "## 정당 코딩"
   ]
  },
  {
   "cell_type": "code",
   "execution_count": 21,
   "metadata": {},
   "outputs": [
    {
     "data": {
      "text/html": [
       "<div>\n",
       "<style scoped>\n",
       "    .dataframe tbody tr th:only-of-type {\n",
       "        vertical-align: middle;\n",
       "    }\n",
       "\n",
       "    .dataframe tbody tr th {\n",
       "        vertical-align: top;\n",
       "    }\n",
       "\n",
       "    .dataframe thead th {\n",
       "        text-align: right;\n",
       "    }\n",
       "</style>\n",
       "<table border=\"1\" class=\"dataframe\">\n",
       "  <thead>\n",
       "    <tr style=\"text-align: right;\">\n",
       "      <th></th>\n",
       "      <th>의안번호</th>\n",
       "      <th>의안명</th>\n",
       "      <th>제안일자</th>\n",
       "      <th>제안자구분</th>\n",
       "      <th>의결일자</th>\n",
       "      <th>의결결과</th>\n",
       "      <th>발의자</th>\n",
       "      <th>제안정당</th>\n",
       "      <th>제안회기</th>\n",
       "      <th>제안이유</th>\n",
       "      <th>소관위원회</th>\n",
       "      <th>제안자</th>\n",
       "      <th>성별</th>\n",
       "      <th>여성의원 수</th>\n",
       "    </tr>\n",
       "  </thead>\n",
       "  <tbody>\n",
       "    <tr>\n",
       "      <th>0</th>\n",
       "      <td>141424</td>\n",
       "      <td>여성발전기본법안</td>\n",
       "      <td>1995-12-19</td>\n",
       "      <td>위원장</td>\n",
       "      <td>1995-12-19</td>\n",
       "      <td>원안가결</td>\n",
       "      <td>위원장</td>\n",
       "      <td>위원장</td>\n",
       "      <td>제14대 (1992~1996) 제177회</td>\n",
       "      <td>1. 여성발전기본법안은 주良자의원외 22인으로부터 1995년 12월 6일 발의되어 ...</td>\n",
       "      <td>행정위원회</td>\n",
       "      <td>[]</td>\n",
       "      <td>NaN</td>\n",
       "      <td>0</td>\n",
       "    </tr>\n",
       "    <tr>\n",
       "      <th>1</th>\n",
       "      <td>141410</td>\n",
       "      <td>남녀평등기본법안</td>\n",
       "      <td>1995-12-09</td>\n",
       "      <td>의원</td>\n",
       "      <td>1995-12-19</td>\n",
       "      <td>대안반영폐기</td>\n",
       "      <td>손세일</td>\n",
       "      <td>민주당</td>\n",
       "      <td>제14대 (1992~1996) 제177회</td>\n",
       "      <td>개인의 존엄과 남녀의 평등을 기초로 모든 영역에서 성에 대한 정형화를 소멸시키고 개...</td>\n",
       "      <td>행정위원회</td>\n",
       "      <td>['손세일', '강철선', '권노갑', '김덕규', '문희상', '이우정', '조세...</td>\n",
       "      <td>남성</td>\n",
       "      <td>1</td>\n",
       "    </tr>\n",
       "    <tr>\n",
       "      <th>2</th>\n",
       "      <td>141407</td>\n",
       "      <td>여성발전기본법안</td>\n",
       "      <td>1995-12-06</td>\n",
       "      <td>의원</td>\n",
       "      <td>1995-12-19</td>\n",
       "      <td>대안반영폐기</td>\n",
       "      <td>주양자</td>\n",
       "      <td>민주자유당</td>\n",
       "      <td>제14대 (1992~1996) 제177회</td>\n",
       "      <td>성차별적 관행이 뿌리깊은 우리 현실에서 헌법의 기본리념에 따라 사회 각 분야에서 남...</td>\n",
       "      <td>행정위원회</td>\n",
       "      <td>['주양자', '강선영', '정옥순', '김해석', '김형오', '류흥수', '박명...</td>\n",
       "      <td>여성</td>\n",
       "      <td>2</td>\n",
       "    </tr>\n",
       "    <tr>\n",
       "      <th>3</th>\n",
       "      <td>141388</td>\n",
       "      <td>형법중개정법률안</td>\n",
       "      <td>1995-12-01</td>\n",
       "      <td>위원장</td>\n",
       "      <td>1995-12-02</td>\n",
       "      <td>원안가결</td>\n",
       "      <td>위원장</td>\n",
       "      <td>위원장</td>\n",
       "      <td>제14대 (1992~1996) 제177회</td>\n",
       "      <td>1. 정부에서는 1985년 6월 형사법개정특별심의위원회를 구성·발족한 이후 1992...</td>\n",
       "      <td>법제사법위원회</td>\n",
       "      <td>[]</td>\n",
       "      <td>NaN</td>\n",
       "      <td>0</td>\n",
       "    </tr>\n",
       "    <tr>\n",
       "      <th>4</th>\n",
       "      <td>141332</td>\n",
       "      <td>남녀고용평등법중개정법률안</td>\n",
       "      <td>1995-11-10</td>\n",
       "      <td>의원</td>\n",
       "      <td>1996-05-29</td>\n",
       "      <td>임기만료폐기</td>\n",
       "      <td>이우정</td>\n",
       "      <td>민주당</td>\n",
       "      <td>제14대 (1992~1996) 제177회</td>\n",
       "      <td>근로자의 고용 및 제반근무환경에 있어서의 남녀평등을 확보하기 위하여 성별 등을 사유...</td>\n",
       "      <td>환경노동위원회</td>\n",
       "      <td>['이우정', '강부자', '김말룡', '김해석', '박세직', '신계륜', '원혜...</td>\n",
       "      <td>여성</td>\n",
       "      <td>2</td>\n",
       "    </tr>\n",
       "  </tbody>\n",
       "</table>\n",
       "</div>"
      ],
      "text/plain": [
       "     의안번호            의안명        제안일자 제안자구분        의결일자    의결결과  발의자   제안정당  \\\n",
       "0  141424       여성발전기본법안  1995-12-19   위원장  1995-12-19    원안가결  위원장    위원장   \n",
       "1  141410       남녀평등기본법안  1995-12-09    의원  1995-12-19  대안반영폐기  손세일    민주당   \n",
       "2  141407       여성발전기본법안  1995-12-06    의원  1995-12-19  대안반영폐기  주양자  민주자유당   \n",
       "3  141388       형법중개정법률안  1995-12-01   위원장  1995-12-02    원안가결  위원장    위원장   \n",
       "4  141332  남녀고용평등법중개정법률안  1995-11-10    의원  1996-05-29  임기만료폐기  이우정    민주당   \n",
       "\n",
       "                     제안회기                                               제안이유  \\\n",
       "0  제14대 (1992~1996) 제177회  1. 여성발전기본법안은 주良자의원외 22인으로부터 1995년 12월 6일 발의되어 ...   \n",
       "1  제14대 (1992~1996) 제177회  개인의 존엄과 남녀의 평등을 기초로 모든 영역에서 성에 대한 정형화를 소멸시키고 개...   \n",
       "2  제14대 (1992~1996) 제177회  성차별적 관행이 뿌리깊은 우리 현실에서 헌법의 기본리념에 따라 사회 각 분야에서 남...   \n",
       "3  제14대 (1992~1996) 제177회  1. 정부에서는 1985년 6월 형사법개정특별심의위원회를 구성·발족한 이후 1992...   \n",
       "4  제14대 (1992~1996) 제177회  근로자의 고용 및 제반근무환경에 있어서의 남녀평등을 확보하기 위하여 성별 등을 사유...   \n",
       "\n",
       "     소관위원회                                                제안자   성별  여성의원 수  \n",
       "0    행정위원회                                                 []  NaN       0  \n",
       "1    행정위원회  ['손세일', '강철선', '권노갑', '김덕규', '문희상', '이우정', '조세...   남성       1  \n",
       "2    행정위원회  ['주양자', '강선영', '정옥순', '김해석', '김형오', '류흥수', '박명...   여성       2  \n",
       "3  법제사법위원회                                                 []  NaN       0  \n",
       "4  환경노동위원회  ['이우정', '강부자', '김말룡', '김해석', '박세직', '신계륜', '원혜...   여성       2  "
      ]
     },
     "execution_count": 21,
     "metadata": {},
     "output_type": "execute_result"
    }
   ],
   "source": [
    "party = pd.read_csv('14th-gender-bill.csv', index_col=0, encoding='utf-8')\n",
    "party.head()"
   ]
  },
  {
   "cell_type": "code",
   "execution_count": 23,
   "metadata": {},
   "outputs": [],
   "source": [
    "party.loc[party['제안정당'] == '민주자유당', '제안정당'] = '신한국당'\n",
    "party.loc[party['제안정당'] == '민주당', '제안정당'] = '통합민주당'"
   ]
  },
  {
   "cell_type": "code",
   "execution_count": 24,
   "metadata": {},
   "outputs": [
    {
     "data": {
      "text/plain": [
       "array(['위원장', '통합민주당', '신한국당', '정부'], dtype=object)"
      ]
     },
     "execution_count": 24,
     "metadata": {},
     "output_type": "execute_result"
    }
   ],
   "source": [
    "party['제안정당'].unique()"
   ]
  },
  {
   "cell_type": "code",
   "execution_count": 25,
   "metadata": {},
   "outputs": [],
   "source": [
    "# conservative = ['민주정의당','신민주공화당','통일민주당']\n",
    "# progressive = ['평화민주당']\n",
    "\n",
    "party.loc[party['제안정당'] == '신한국당', '정당성향'] = '보수'\n",
    "party.loc[party['제안정당'] == '통합민주당', '정당성향'] = '진보'"
   ]
  },
  {
   "cell_type": "code",
   "execution_count": 26,
   "metadata": {},
   "outputs": [
    {
     "data": {
      "text/plain": [
       "array([nan, '진보', '보수'], dtype=object)"
      ]
     },
     "execution_count": 26,
     "metadata": {},
     "output_type": "execute_result"
    }
   ],
   "source": [
    "party['정당성향'].unique()"
   ]
  },
  {
   "cell_type": "code",
   "execution_count": 27,
   "metadata": {},
   "outputs": [],
   "source": [
    "party.to_csv('14th-gender-bill-v3.csv', encoding='utf-8-sig')"
   ]
  },
  {
   "cell_type": "code",
   "execution_count": null,
   "metadata": {},
   "outputs": [],
   "source": []
  }
 ],
 "metadata": {
  "kernelspec": {
   "display_name": "Python 3",
   "language": "python",
   "name": "python3"
  },
  "language_info": {
   "codemirror_mode": {
    "name": "ipython",
    "version": 3
   },
   "file_extension": ".py",
   "mimetype": "text/x-python",
   "name": "python",
   "nbconvert_exporter": "python",
   "pygments_lexer": "ipython3",
   "version": "3.8.5"
  }
 },
 "nbformat": 4,
 "nbformat_minor": 4
}
